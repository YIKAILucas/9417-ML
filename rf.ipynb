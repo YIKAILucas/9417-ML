{
 "cells": [
  {
   "cell_type": "code",
   "execution_count": 5,
   "id": "b3ce5049-e7c4-4ca8-bb68-f4ad7c092c6e",
   "metadata": {},
   "outputs": [],
   "source": [
    "from sklearn.model_selection import GridSearchCV\n",
    "\n",
    "from sklearn import model_selection  \n",
    "import pandas as pd\n",
    "import matplotlib.pyplot as plt\n",
    "import seaborn as sns\n",
    "import numpy as np\n",
    "from sklearn.preprocessing import LabelEncoder\n",
    "from sklearn.ensemble import RandomForestClassifier\n",
    "from sklearn.metrics import accuracy_score\n",
    "from sklearn.metrics import hamming_loss"
   ]
  },
  {
   "cell_type": "code",
   "execution_count": 14,
   "id": "2aefc21a-6cdd-4379-90b1-3ef2f49c15c0",
   "metadata": {},
   "outputs": [
    {
     "name": "stdout",
     "output_type": "stream",
     "text": [
      "df.shape (49406, 44)\n"
     ]
    }
   ],
   "source": [
    "\n",
    "# HAN YIKAI\n",
    "feature4rf = ['ind_empleado', 'pais_residencia', 'sexo', 'age', 'ind_nuevo',\n",
    "              'antiguedad', 'indrel', 'indrel_1mes', 'tiprel_1mes', 'indresi', 'indext', 'indfall', 'cod_prov',\n",
    "              'nomprov', 'ind_actividad_cliente', 'renta']\n",
    "# feature4rf = ['age',\n",
    "#               'antiguedad', 'renta']\n",
    "feature4rf = [\"ind_empleado\", \"pais_residencia\", \"sexo\",\n",
    "              \"age\", \"ind_nuevo\", \"antiguedad\", \"nomprov\",\n",
    "              \"segmento\"]\n",
    "\n",
    "file = './input/featured_data.csv'\n",
    "df = pd.read_csv(file,  low_memory=False)\n",
    "# df = df.sample(n=200000)\n",
    "\n",
    "print(f'df.shape {df.shape}')\n"
   ]
  },
  {
   "cell_type": "code",
   "execution_count": 15,
   "id": "0322d903-d1b8-4ae6-b152-a4caa255a8b7",
   "metadata": {},
   "outputs": [],
   "source": [
    "rm_cols = ['ncodpers', 'ind_ahor_fin_ult1', 'ind_aval_fin_ult1', 'ind_cco_fin_ult1',\n",
    "           'ind_cder_fin_ult1', 'ind_cno_fin_ult1', 'ind_ctju_fin_ult1',\n",
    "           'ind_ctma_fin_ult1', 'ind_ctop_fin_ult1', 'ind_ctpp_fin_ult1',\n",
    "           'ind_deco_fin_ult1', 'ind_deme_fin_ult1', 'ind_dela_fin_ult1',\n",
    "           'ind_ecue_fin_ult1', 'ind_fond_fin_ult1', 'ind_hip_fin_ult1',\n",
    "           'ind_plan_fin_ult1', 'ind_pres_fin_ult1', 'ind_reca_fin_ult1',\n",
    "           'ind_tjcr_fin_ult1', 'ind_valo_fin_ult1', 'ind_viv_fin_ult1',\n",
    "           'ind_nomina_ult1', 'ind_nom_pens_ult1', 'ind_recibo_ult1']\n",
    "\n",
    "targetcols = ['ind_ahor_fin_ult1', 'ind_aval_fin_ult1', 'ind_cco_fin_ult1',\n",
    "              'ind_cder_fin_ult1', 'ind_cno_fin_ult1', 'ind_ctju_fin_ult1',\n",
    "              'ind_ctma_fin_ult1', 'ind_ctop_fin_ult1', 'ind_ctpp_fin_ult1',\n",
    "              'ind_deco_fin_ult1', 'ind_deme_fin_ult1', 'ind_dela_fin_ult1',\n",
    "              'ind_ecue_fin_ult1', 'ind_fond_fin_ult1', 'ind_hip_fin_ult1',\n",
    "              'ind_plan_fin_ult1', 'ind_pres_fin_ult1', 'ind_reca_fin_ult1',\n",
    "              'ind_tjcr_fin_ult1', 'ind_valo_fin_ult1', 'ind_viv_fin_ult1',\n",
    "              'ind_nomina_ult1', 'ind_nom_pens_ult1', 'ind_recibo_ult1']"
   ]
  },
  {
   "cell_type": "code",
   "execution_count": 16,
   "id": "63802414-be22-4c14-978d-e95720049b3f",
   "metadata": {},
   "outputs": [],
   "source": [
    "def split_label(data):\n",
    "    train_data = data.drop(rm_cols, axis=1)\n",
    "    train_label = data[targetcols]\n",
    "\n",
    "    return train_data, train_label\n",
    "\n"
   ]
  },
  {
   "cell_type": "code",
   "execution_count": 17,
   "id": "92a53810-294b-4025-a455-a3e3e841fe36",
   "metadata": {},
   "outputs": [],
   "source": [
    "\n",
    "train_set, test_set = split_label(df)\n",
    "train_x, test_x, train_y, test_y = model_selection.train_test_split(train_set, test_set, test_size=0.2)\n",
    "\n",
    "train_x_4_rf = train_x[feature4rf]\n",
    "test_x_4_rf = test_x[feature4rf]\n",
    "\n"
   ]
  },
  {
   "cell_type": "code",
   "execution_count": null,
   "id": "1500df57-955a-4168-bfe6-2562c07c6eaf",
   "metadata": {},
   "outputs": [],
   "source": []
  },
  {
   "cell_type": "code",
   "execution_count": 18,
   "id": "fd761d9b-1979-40a9-8906-3708dfdbf19b",
   "metadata": {},
   "outputs": [
    {
     "data": {
      "text/plain": [
       "0.0    38133\n",
       "1.0     1391\n",
       "Name: ind_nomina_ult1, dtype: int64"
      ]
     },
     "execution_count": 18,
     "metadata": {},
     "output_type": "execute_result"
    }
   ],
   "source": [
    "train_y['ind_nomina_ult1'].value_counts()"
   ]
  },
  {
   "cell_type": "code",
   "execution_count": null,
   "id": "f371b94b-7c78-4ce8-be8e-bdc6f667f499",
   "metadata": {},
   "outputs": [],
   "source": []
  },
  {
   "cell_type": "code",
   "execution_count": 19,
   "id": "566f1a47-3537-418c-ad45-6d3a4ca2dbd3",
   "metadata": {},
   "outputs": [],
   "source": [
    "train_y['ind_nomina_ult1'] = train_y['ind_nomina_ult1'].astype(np.int64)"
   ]
  },
  {
   "cell_type": "code",
   "execution_count": null,
   "id": "71f0461c-95de-4531-8a35-2002b9c37981",
   "metadata": {},
   "outputs": [],
   "source": []
  },
  {
   "cell_type": "code",
   "execution_count": 20,
   "id": "4deac498-e189-4946-b44e-8a2cc44be1e4",
   "metadata": {},
   "outputs": [
    {
     "data": {
      "text/plain": [
       "dtype('int64')"
      ]
     },
     "execution_count": 20,
     "metadata": {},
     "output_type": "execute_result"
    }
   ],
   "source": [
    "train_y['ind_nomina_ult1'].dtype"
   ]
  },
  {
   "cell_type": "code",
   "execution_count": 21,
   "id": "89d648a1-36ec-4dea-88f6-072fb89e7b57",
   "metadata": {},
   "outputs": [],
   "source": [
    "\n",
    "\n",
    "\"\"\"\n",
    "plot result fig to evaluate model performance \n",
    "\"\"\"\n",
    "\n",
    "\n",
    "def plot_result(x, y, name='rf', save=False):\n",
    "    plt.cla()\n",
    "    plt.xlabel('number of min_samples_leaf', fontsize=12)\n",
    "    plt.ylabel(name, fontsize=12)\n",
    "    fig = sns.lineplot(x=x, y=y)\n",
    "    if not save:\n",
    "        plt.show()\n",
    "    if save:\n",
    "        pic = fig.get_figure()\n",
    "        pic.savefig(f'{name}.png', dpi=150)\n",
    "\n",
    "\n",
    "\"\"\"\n",
    "select useful features with impact\n",
    "\"\"\"\n",
    "\n",
    "\n",
    "def select_features(model):\n",
    "    features = []\n",
    "    thresh_hold = 0.15\n",
    "    importance = model.feature_importances_\n",
    "    index_num = np.argsort(importance)[::-1]\n",
    "\n",
    "    for f in range(train_x_4_rf.shape[1]):\n",
    "        print(\"%2d) %-*s %f\" % (f + 1, 30, feature4rf[index_num[f]], importance[index_num[f]]))\n",
    "        if importance[index_num[f]] >= thresh_hold:\n",
    "            features.append(feature4rf[index_num[f]])\n",
    "    print(f'features selected {features}')\n",
    "\n",
    "    return features\n"
   ]
  },
  {
   "cell_type": "code",
   "execution_count": 34,
   "id": "ea2a839b-22ed-4801-a43e-7a8cff3dddca",
   "metadata": {},
   "outputs": [
    {
     "data": {
      "text/html": [
       "<div>\n",
       "<style scoped>\n",
       "    .dataframe tbody tr th:only-of-type {\n",
       "        vertical-align: middle;\n",
       "    }\n",
       "\n",
       "    .dataframe tbody tr th {\n",
       "        vertical-align: top;\n",
       "    }\n",
       "\n",
       "    .dataframe thead th {\n",
       "        text-align: right;\n",
       "    }\n",
       "</style>\n",
       "<table border=\"1\" class=\"dataframe\">\n",
       "  <thead>\n",
       "    <tr style=\"text-align: right;\">\n",
       "      <th></th>\n",
       "      <th>ind_empleado</th>\n",
       "      <th>pais_residencia</th>\n",
       "      <th>sexo</th>\n",
       "      <th>age</th>\n",
       "      <th>ind_nuevo</th>\n",
       "      <th>antiguedad</th>\n",
       "      <th>nomprov</th>\n",
       "      <th>segmento</th>\n",
       "    </tr>\n",
       "  </thead>\n",
       "  <tbody>\n",
       "    <tr>\n",
       "      <th>27051</th>\n",
       "      <td>0</td>\n",
       "      <td>0</td>\n",
       "      <td>1</td>\n",
       "      <td>23.0</td>\n",
       "      <td>0</td>\n",
       "      <td>36.0</td>\n",
       "      <td>51</td>\n",
       "      <td>3.0</td>\n",
       "    </tr>\n",
       "    <tr>\n",
       "      <th>9611</th>\n",
       "      <td>0</td>\n",
       "      <td>0</td>\n",
       "      <td>0</td>\n",
       "      <td>52.0</td>\n",
       "      <td>0</td>\n",
       "      <td>12.0</td>\n",
       "      <td>12</td>\n",
       "      <td>2.0</td>\n",
       "    </tr>\n",
       "    <tr>\n",
       "      <th>49243</th>\n",
       "      <td>0</td>\n",
       "      <td>0</td>\n",
       "      <td>0</td>\n",
       "      <td>23.0</td>\n",
       "      <td>0</td>\n",
       "      <td>32.0</td>\n",
       "      <td>30</td>\n",
       "      <td>3.0</td>\n",
       "    </tr>\n",
       "    <tr>\n",
       "      <th>14325</th>\n",
       "      <td>0</td>\n",
       "      <td>0</td>\n",
       "      <td>1</td>\n",
       "      <td>32.0</td>\n",
       "      <td>0</td>\n",
       "      <td>37.0</td>\n",
       "      <td>24</td>\n",
       "      <td>3.0</td>\n",
       "    </tr>\n",
       "    <tr>\n",
       "      <th>13189</th>\n",
       "      <td>0</td>\n",
       "      <td>0</td>\n",
       "      <td>0</td>\n",
       "      <td>24.0</td>\n",
       "      <td>0</td>\n",
       "      <td>32.0</td>\n",
       "      <td>37</td>\n",
       "      <td>3.0</td>\n",
       "    </tr>\n",
       "    <tr>\n",
       "      <th>...</th>\n",
       "      <td>...</td>\n",
       "      <td>...</td>\n",
       "      <td>...</td>\n",
       "      <td>...</td>\n",
       "      <td>...</td>\n",
       "      <td>...</td>\n",
       "      <td>...</td>\n",
       "      <td>...</td>\n",
       "    </tr>\n",
       "    <tr>\n",
       "      <th>30170</th>\n",
       "      <td>0</td>\n",
       "      <td>0</td>\n",
       "      <td>0</td>\n",
       "      <td>22.0</td>\n",
       "      <td>0</td>\n",
       "      <td>12.0</td>\n",
       "      <td>28</td>\n",
       "      <td>3.0</td>\n",
       "    </tr>\n",
       "    <tr>\n",
       "      <th>13837</th>\n",
       "      <td>0</td>\n",
       "      <td>0</td>\n",
       "      <td>1</td>\n",
       "      <td>23.0</td>\n",
       "      <td>0</td>\n",
       "      <td>36.0</td>\n",
       "      <td>13</td>\n",
       "      <td>3.0</td>\n",
       "    </tr>\n",
       "    <tr>\n",
       "      <th>20971</th>\n",
       "      <td>0</td>\n",
       "      <td>0</td>\n",
       "      <td>1</td>\n",
       "      <td>27.0</td>\n",
       "      <td>0</td>\n",
       "      <td>47.0</td>\n",
       "      <td>6</td>\n",
       "      <td>3.0</td>\n",
       "    </tr>\n",
       "    <tr>\n",
       "      <th>24123</th>\n",
       "      <td>0</td>\n",
       "      <td>0</td>\n",
       "      <td>1</td>\n",
       "      <td>31.0</td>\n",
       "      <td>0</td>\n",
       "      <td>35.0</td>\n",
       "      <td>14</td>\n",
       "      <td>3.0</td>\n",
       "    </tr>\n",
       "    <tr>\n",
       "      <th>32150</th>\n",
       "      <td>0</td>\n",
       "      <td>0</td>\n",
       "      <td>1</td>\n",
       "      <td>31.0</td>\n",
       "      <td>0</td>\n",
       "      <td>45.0</td>\n",
       "      <td>30</td>\n",
       "      <td>3.0</td>\n",
       "    </tr>\n",
       "  </tbody>\n",
       "</table>\n",
       "<p>9882 rows × 8 columns</p>\n",
       "</div>"
      ],
      "text/plain": [
       "       ind_empleado  pais_residencia  sexo   age  ind_nuevo  antiguedad  \\\n",
       "27051             0                0     1  23.0          0        36.0   \n",
       "9611              0                0     0  52.0          0        12.0   \n",
       "49243             0                0     0  23.0          0        32.0   \n",
       "14325             0                0     1  32.0          0        37.0   \n",
       "13189             0                0     0  24.0          0        32.0   \n",
       "...             ...              ...   ...   ...        ...         ...   \n",
       "30170             0                0     0  22.0          0        12.0   \n",
       "13837             0                0     1  23.0          0        36.0   \n",
       "20971             0                0     1  27.0          0        47.0   \n",
       "24123             0                0     1  31.0          0        35.0   \n",
       "32150             0                0     1  31.0          0        45.0   \n",
       "\n",
       "       nomprov  segmento  \n",
       "27051       51       3.0  \n",
       "9611        12       2.0  \n",
       "49243       30       3.0  \n",
       "14325       24       3.0  \n",
       "13189       37       3.0  \n",
       "...        ...       ...  \n",
       "30170       28       3.0  \n",
       "13837       13       3.0  \n",
       "20971        6       3.0  \n",
       "24123       14       3.0  \n",
       "32150       30       3.0  \n",
       "\n",
       "[9882 rows x 8 columns]"
      ]
     },
     "execution_count": 34,
     "metadata": {},
     "output_type": "execute_result"
    }
   ],
   "source": [
    "test_x_4_rf"
   ]
  },
  {
   "cell_type": "code",
   "execution_count": 35,
   "id": "02a0db91-6bee-4845-adfe-17706d0f2478",
   "metadata": {},
   "outputs": [
    {
     "name": "stdout",
     "output_type": "stream",
     "text": [
      "Training....\n",
      "Predicting....\n"
     ]
    },
    {
     "name": "stderr",
     "output_type": "stream",
     "text": [
      "/home/lucas/anaconda3/envs/ML/lib/python3.10/site-packages/pandas/core/internals/construction.py:568: VisibleDeprecationWarning: Creating an ndarray from ragged nested sequences (which is a list-or-tuple of lists-or-tuples-or ndarrays with different lengths or shapes) is deprecated. If you meant to do this, you must specify 'dtype=object' when creating the ndarray.\n",
      "  values = np.array([convert(v) for v in values])\n"
     ]
    },
    {
     "ename": "ValueError",
     "evalue": "could not broadcast input array from shape (9882,1) into shape (9882,)",
     "output_type": "error",
     "traceback": [
      "\u001b[0;31m---------------------------------------------------------------------------\u001b[0m",
      "\u001b[0;31mValueError\u001b[0m                                Traceback (most recent call last)",
      "Cell \u001b[0;32mIn [35], line 33\u001b[0m\n\u001b[1;32m     29\u001b[0m predict_v \u001b[38;5;241m=\u001b[39m clf\u001b[38;5;241m.\u001b[39mpredict_proba(test_x_4_rf)\n\u001b[1;32m     31\u001b[0m \u001b[38;5;66;03m# print('acc:', accuracy_score(test_y, predict_v))\u001b[39;00m\n\u001b[0;32m---> 33\u001b[0m res \u001b[38;5;241m=\u001b[39m \u001b[43mpd\u001b[49m\u001b[38;5;241;43m.\u001b[39;49m\u001b[43mDataFrame\u001b[49m\u001b[43m(\u001b[49m\u001b[43mpredict_v\u001b[49m\u001b[43m)\u001b[49m\n\u001b[1;32m     35\u001b[0m h_loss \u001b[38;5;241m=\u001b[39m hamming_loss(test_y, predict_v)\n\u001b[1;32m     36\u001b[0m \u001b[38;5;28mprint\u001b[39m(\u001b[38;5;124mf\u001b[39m\u001b[38;5;124m'\u001b[39m\u001b[38;5;124mhamming_loss is : \u001b[39m\u001b[38;5;132;01m{\u001b[39;00mh_loss\u001b[38;5;132;01m}\u001b[39;00m\u001b[38;5;124m'\u001b[39m)\n",
      "File \u001b[0;32m~/anaconda3/envs/ML/lib/python3.10/site-packages/pandas/core/frame.py:760\u001b[0m, in \u001b[0;36mDataFrame.__init__\u001b[0;34m(self, data, index, columns, dtype, copy)\u001b[0m\n\u001b[1;32m    752\u001b[0m         mgr \u001b[38;5;241m=\u001b[39m arrays_to_mgr(\n\u001b[1;32m    753\u001b[0m             arrays,\n\u001b[1;32m    754\u001b[0m             columns,\n\u001b[0;32m   (...)\u001b[0m\n\u001b[1;32m    757\u001b[0m             typ\u001b[38;5;241m=\u001b[39mmanager,\n\u001b[1;32m    758\u001b[0m         )\n\u001b[1;32m    759\u001b[0m     \u001b[38;5;28;01melse\u001b[39;00m:\n\u001b[0;32m--> 760\u001b[0m         mgr \u001b[38;5;241m=\u001b[39m \u001b[43mndarray_to_mgr\u001b[49m\u001b[43m(\u001b[49m\n\u001b[1;32m    761\u001b[0m \u001b[43m            \u001b[49m\u001b[43mdata\u001b[49m\u001b[43m,\u001b[49m\n\u001b[1;32m    762\u001b[0m \u001b[43m            \u001b[49m\u001b[43mindex\u001b[49m\u001b[43m,\u001b[49m\n\u001b[1;32m    763\u001b[0m \u001b[43m            \u001b[49m\u001b[43mcolumns\u001b[49m\u001b[43m,\u001b[49m\n\u001b[1;32m    764\u001b[0m \u001b[43m            \u001b[49m\u001b[43mdtype\u001b[49m\u001b[38;5;241;43m=\u001b[39;49m\u001b[43mdtype\u001b[49m\u001b[43m,\u001b[49m\n\u001b[1;32m    765\u001b[0m \u001b[43m            \u001b[49m\u001b[43mcopy\u001b[49m\u001b[38;5;241;43m=\u001b[39;49m\u001b[43mcopy\u001b[49m\u001b[43m,\u001b[49m\n\u001b[1;32m    766\u001b[0m \u001b[43m            \u001b[49m\u001b[43mtyp\u001b[49m\u001b[38;5;241;43m=\u001b[39;49m\u001b[43mmanager\u001b[49m\u001b[43m,\u001b[49m\n\u001b[1;32m    767\u001b[0m \u001b[43m        \u001b[49m\u001b[43m)\u001b[49m\n\u001b[1;32m    768\u001b[0m \u001b[38;5;28;01melse\u001b[39;00m:\n\u001b[1;32m    769\u001b[0m     mgr \u001b[38;5;241m=\u001b[39m dict_to_mgr(\n\u001b[1;32m    770\u001b[0m         {},\n\u001b[1;32m    771\u001b[0m         index,\n\u001b[0;32m   (...)\u001b[0m\n\u001b[1;32m    774\u001b[0m         typ\u001b[38;5;241m=\u001b[39mmanager,\n\u001b[1;32m    775\u001b[0m     )\n",
      "File \u001b[0;32m~/anaconda3/envs/ML/lib/python3.10/site-packages/pandas/core/internals/construction.py:329\u001b[0m, in \u001b[0;36mndarray_to_mgr\u001b[0;34m(values, index, columns, dtype, copy, typ)\u001b[0m\n\u001b[1;32m    324\u001b[0m         values \u001b[38;5;241m=\u001b[39m values\u001b[38;5;241m.\u001b[39mreshape(\u001b[38;5;241m-\u001b[39m\u001b[38;5;241m1\u001b[39m, \u001b[38;5;241m1\u001b[39m)\n\u001b[1;32m    326\u001b[0m \u001b[38;5;28;01melse\u001b[39;00m:\n\u001b[1;32m    327\u001b[0m     \u001b[38;5;66;03m# by definition an array here\u001b[39;00m\n\u001b[1;32m    328\u001b[0m     \u001b[38;5;66;03m# the dtypes will be coerced to a single dtype\u001b[39;00m\n\u001b[0;32m--> 329\u001b[0m     values \u001b[38;5;241m=\u001b[39m \u001b[43m_prep_ndarraylike\u001b[49m\u001b[43m(\u001b[49m\u001b[43mvalues\u001b[49m\u001b[43m,\u001b[49m\u001b[43m \u001b[49m\u001b[43mcopy\u001b[49m\u001b[38;5;241;43m=\u001b[39;49m\u001b[43mcopy_on_sanitize\u001b[49m\u001b[43m)\u001b[49m\n\u001b[1;32m    331\u001b[0m \u001b[38;5;28;01mif\u001b[39;00m dtype \u001b[38;5;129;01mis\u001b[39;00m \u001b[38;5;129;01mnot\u001b[39;00m \u001b[38;5;28;01mNone\u001b[39;00m \u001b[38;5;129;01mand\u001b[39;00m \u001b[38;5;129;01mnot\u001b[39;00m is_dtype_equal(values\u001b[38;5;241m.\u001b[39mdtype, dtype):\n\u001b[1;32m    332\u001b[0m     \u001b[38;5;66;03m# GH#40110 see similar check inside sanitize_array\u001b[39;00m\n\u001b[1;32m    333\u001b[0m     rcf \u001b[38;5;241m=\u001b[39m \u001b[38;5;129;01mnot\u001b[39;00m (is_integer_dtype(dtype) \u001b[38;5;129;01mand\u001b[39;00m values\u001b[38;5;241m.\u001b[39mdtype\u001b[38;5;241m.\u001b[39mkind \u001b[38;5;241m==\u001b[39m \u001b[38;5;124m\"\u001b[39m\u001b[38;5;124mf\u001b[39m\u001b[38;5;124m\"\u001b[39m)\n",
      "File \u001b[0;32m~/anaconda3/envs/ML/lib/python3.10/site-packages/pandas/core/internals/construction.py:568\u001b[0m, in \u001b[0;36m_prep_ndarraylike\u001b[0;34m(values, copy)\u001b[0m\n\u001b[1;32m    564\u001b[0m \u001b[38;5;66;03m# we could have a 1-dim or 2-dim list here\u001b[39;00m\n\u001b[1;32m    565\u001b[0m \u001b[38;5;66;03m# this is equiv of np.asarray, but does object conversion\u001b[39;00m\n\u001b[1;32m    566\u001b[0m \u001b[38;5;66;03m# and platform dtype preservation\u001b[39;00m\n\u001b[1;32m    567\u001b[0m \u001b[38;5;28;01mif\u001b[39;00m is_list_like(values[\u001b[38;5;241m0\u001b[39m]):\n\u001b[0;32m--> 568\u001b[0m     values \u001b[38;5;241m=\u001b[39m \u001b[43mnp\u001b[49m\u001b[38;5;241;43m.\u001b[39;49m\u001b[43marray\u001b[49m\u001b[43m(\u001b[49m\u001b[43m[\u001b[49m\u001b[43mconvert\u001b[49m\u001b[43m(\u001b[49m\u001b[43mv\u001b[49m\u001b[43m)\u001b[49m\u001b[43m \u001b[49m\u001b[38;5;28;43;01mfor\u001b[39;49;00m\u001b[43m \u001b[49m\u001b[43mv\u001b[49m\u001b[43m \u001b[49m\u001b[38;5;129;43;01min\u001b[39;49;00m\u001b[43m \u001b[49m\u001b[43mvalues\u001b[49m\u001b[43m]\u001b[49m\u001b[43m)\u001b[49m\n\u001b[1;32m    569\u001b[0m \u001b[38;5;28;01melif\u001b[39;00m \u001b[38;5;28misinstance\u001b[39m(values[\u001b[38;5;241m0\u001b[39m], np\u001b[38;5;241m.\u001b[39mndarray) \u001b[38;5;129;01mand\u001b[39;00m values[\u001b[38;5;241m0\u001b[39m]\u001b[38;5;241m.\u001b[39mndim \u001b[38;5;241m==\u001b[39m \u001b[38;5;241m0\u001b[39m:\n\u001b[1;32m    570\u001b[0m     \u001b[38;5;66;03m# GH#21861 see test_constructor_list_of_lists\u001b[39;00m\n\u001b[1;32m    571\u001b[0m     values \u001b[38;5;241m=\u001b[39m np\u001b[38;5;241m.\u001b[39marray([convert(v) \u001b[38;5;28;01mfor\u001b[39;00m v \u001b[38;5;129;01min\u001b[39;00m values])\n",
      "\u001b[0;31mValueError\u001b[0m: could not broadcast input array from shape (9882,1) into shape (9882,)"
     ]
    }
   ],
   "source": [
    "\n",
    "\n",
    "# n_estimators = list(range(10, 200, 10))\n",
    "# max_depth = list(range(15, 60, 5))\n",
    "# min_weight_fraction_leaf = list(range(0, 10, 2))\n",
    "# param_grid = {'n_estimators': n_estimators,\n",
    "#               'oob_score': [True],\n",
    "#               # 'min_samples_split': [5],\n",
    "#               # 'min_samples_leaf': [30],\n",
    "#             #   'min_weight_fraction_leaf': min_weight_fraction_leaf,\n",
    "#               'max_depth': [20]\n",
    "#               }\n",
    "\n",
    "# grid_search = GridSearchCV(estimator=RandomForestClassifier(), param_grid=param_grid,\n",
    "#                            cv=3)\n",
    "# clf = grid_search\n",
    "clf = RandomForestClassifier(n_estimators=20,\n",
    "                             max_depth=None,\n",
    "                             n_jobs=-1,\n",
    "                             random_state=2021,\n",
    "                             # class_weight='balanced'\n",
    "                             )\n",
    "print('Training....')\n",
    "# grid_search.fit(train_x_4_rf, train_y)\n",
    "clf.fit(train_x_4_rf, train_y)\n",
    "grid_search= clf\n",
    "h_loss_l = []\n",
    "acc_l = []\n",
    "best_score_l = []\n",
    "print('Predicting....')\n",
    "predict_v = clf.predict(test_x_4_rf)\n",
    "\n",
    "# print('acc:', accuracy_score(test_y, predict_v))\n",
    "\n",
    "res = pd.DataFrame(predict_v)\n",
    "\n",
    "h_loss = hamming_loss(test_y, predict_v)\n",
    "print(f'hamming_loss is : {h_loss}')\n",
    "# print(res.iloc[11])\n",
    "\n",
    "# select features in first time, clf have been annotation\n",
    "# selected_features = select_features(clf)\n",
    "\n",
    "# mean_test_score = grid_search.cv_results_['mean_test_score']\n",
    "# print(f'cv {mean_test_score}')\n",
    "# print(f'type {type(mean_test_score)}')\n",
    "\n",
    "# use grid search to determine the best params in this model\n",
    "# print(f'best params {grid_search.best_params_}')\n",
    "# print(f'best score {grid_search.best_score_}')\n",
    "x_columns_indices = []\n",
    "# plot_result(test_x_4_rf, predict_v)\n",
    "# filter features\n",
    "# x_selected = train_x[:, importances > threshold]\n",
    "# print(x_selected)\n",
    "\n",
    "# plot_result(n_estimators, mean_test_score, name='accuracy of Random forest')\n",
    "# plot_result(n_estimators, l_hamming, name='hamming.png')\n"
   ]
  },
  {
   "cell_type": "code",
   "execution_count": 23,
   "id": "17efff8e-6c3b-4659-ac20-9f5b06782d84",
   "metadata": {},
   "outputs": [
    {
     "data": {
      "text/plain": [
       "(9882, 24)"
      ]
     },
     "execution_count": 23,
     "metadata": {},
     "output_type": "execute_result"
    }
   ],
   "source": [
    "res.shape"
   ]
  },
  {
   "cell_type": "code",
   "execution_count": 24,
   "id": "a662dd46-3a5c-4f22-b92f-fcf0cc373fef",
   "metadata": {},
   "outputs": [],
   "source": [
    "def show_f1(y_true, y_pred):\n",
    "\n",
    "    from sklearn.metrics import f1_score\n",
    "\n",
    "\n",
    "    print(f1_score(y_true, y_pred, average='macro')) \n",
    "    print(f1_score(y_true, y_pred, average='micro')) \n",
    "    print(f1_score(y_true, y_pred, average='weighted'))\n",
    "    print(f1_score(y_true, y_pred, average=None))\n"
   ]
  },
  {
   "cell_type": "code",
   "execution_count": 25,
   "id": "be9c6803-2cf8-40f6-8292-cf1079d4ce22",
   "metadata": {},
   "outputs": [
    {
     "name": "stdout",
     "output_type": "stream",
     "text": [
      "0.1626588074566583\n",
      "0.7487410440122824\n",
      "0.6954454614295155\n",
      "[0.         0.         0.93350369 0.         0.11386139 0.98203593\n",
      " 0.42994242 0.         0.22429907 0.         0.         0.37430168\n",
      " 0.32792485 0.         0.         0.         0.         0.03546099\n",
      " 0.08727273 0.         0.         0.0875     0.08778626 0.21992238]\n"
     ]
    },
    {
     "name": "stderr",
     "output_type": "stream",
     "text": [
      "/home/lucas/anaconda3/envs/ML/lib/python3.10/site-packages/sklearn/metrics/_classification.py:1599: UndefinedMetricWarning: F-score is ill-defined and being set to 0.0 in labels with no true nor predicted samples. Use `zero_division` parameter to control this behavior.\n",
      "  _warn_prf(average, \"true nor predicted\", \"F-score is\", len(true_sum))\n",
      "/home/lucas/anaconda3/envs/ML/lib/python3.10/site-packages/sklearn/metrics/_classification.py:1599: UndefinedMetricWarning: F-score is ill-defined and being set to 0.0 in labels with no true nor predicted samples. Use `zero_division` parameter to control this behavior.\n",
      "  _warn_prf(average, \"true nor predicted\", \"F-score is\", len(true_sum))\n",
      "/home/lucas/anaconda3/envs/ML/lib/python3.10/site-packages/sklearn/metrics/_classification.py:1599: UndefinedMetricWarning: F-score is ill-defined and being set to 0.0 in labels with no true nor predicted samples. Use `zero_division` parameter to control this behavior.\n",
      "  _warn_prf(average, \"true nor predicted\", \"F-score is\", len(true_sum))\n"
     ]
    }
   ],
   "source": [
    "show_f1(test_y, predict_v)\n"
   ]
  },
  {
   "cell_type": "code",
   "execution_count": 26,
   "id": "1c434b66-a4f3-4d71-9fdd-f51dc119ba07",
   "metadata": {},
   "outputs": [],
   "source": [
    "import graphviz\n",
    "from sklearn import tree\n",
    "\n",
    "dot_data = tree.export_graphviz(clf.estimators_[0],\n",
    "                                feature_names=feature4rf,\n",
    "                                filled=True,\n",
    "                                rounded=True)\n",
    "\n",
    "graph = graphviz.Source(dot_data)\n"
   ]
  },
  {
   "cell_type": "code",
   "execution_count": null,
   "id": "a3f769cd-612d-4b2f-818b-2bfabdfaab65",
   "metadata": {},
   "outputs": [],
   "source": []
  }
 ],
 "metadata": {
  "kernelspec": {
   "display_name": "Python 3 (ipykernel)",
   "language": "python",
   "name": "python3"
  },
  "language_info": {
   "codemirror_mode": {
    "name": "ipython",
    "version": 3
   },
   "file_extension": ".py",
   "mimetype": "text/x-python",
   "name": "python",
   "nbconvert_exporter": "python",
   "pygments_lexer": "ipython3",
   "version": "3.10.8"
  },
  "widgets": {
   "application/vnd.jupyter.widget-state+json": {
    "state": {},
    "version_major": 2,
    "version_minor": 0
   }
  }
 },
 "nbformat": 4,
 "nbformat_minor": 5
}
