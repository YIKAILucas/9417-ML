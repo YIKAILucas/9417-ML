{
 "cells": [
  {
   "cell_type": "code",
   "execution_count": 7,
   "id": "9bfc8afc-46f6-46fc-9dac-cd500bee20f5",
   "metadata": {},
   "outputs": [],
   "source": [
    "import pandas as pd\n",
    "import matplotlib.pyplot as plt\n",
    "import seaborn as sns\n",
    "import numpy as np\n"
   ]
  },
  {
   "cell_type": "code",
   "execution_count": 8,
   "id": "a02661bd",
   "metadata": {
    "collapsed": false,
    "jupyter": {
     "outputs_hidden": false
    }
   },
   "outputs": [],
   "source": [
    "from IPython.core.interactiveshell import InteractiveShell\n",
    "InteractiveShell.ast_node_interactivity = 'all'"
   ]
  },
  {
   "cell_type": "code",
   "execution_count": 9,
   "id": "873190b3",
   "metadata": {
    "collapsed": false,
    "jupyter": {
     "outputs_hidden": false
    }
   },
   "outputs": [],
   "source": [
    "to_show = True\n",
    "to_save = False\n",
    "is_sample = False\n",
    "# limit_rows = 10000000\n"
   ]
  },
  {
   "cell_type": "code",
   "execution_count": 11,
   "id": "5f80f075",
   "metadata": {
    "collapsed": false,
    "jupyter": {
     "outputs_hidden": false
    }
   },
   "outputs": [],
   "source": [
    "# This data cleaning part gets ideas from https://www.kaggle.com/apryor6/detailed-cleaning-visualization-python\n",
    "# HAN YIKAI takes charge of feature 1-9\n",
    "# official file\n",
    "train_file = '../input/train_ver2.csv'\n",
    "test_file = '../input/test_ver2.csv'\n",
    "\n",
    "out_path = '../output/EDAed.csv'\n",
    "# sns.set(rc = {'figure.figsize':(20,18)})\n"
   ]
  },
  {
   "cell_type": "code",
   "execution_count": 12,
   "id": "8ff50493",
   "metadata": {
    "collapsed": false,
    "jupyter": {
     "outputs_hidden": false
    }
   },
   "outputs": [],
   "source": [
    "# test_df = pd.read_csv(test_file,\n",
    "#                       dtype={'sexo': str,\n",
    "#                              'ind_nuevo': str,\n",
    "#                              'ult_fec_cli_1t': str,\n",
    "#                              'indext': str},\n",
    "#                       # nrows=limit_rows,\n",
    "#                       low_memory=False\n",
    "#                       )"
   ]
  },
  {
   "cell_type": "code",
   "execution_count": 13,
   "id": "e8b56e18",
   "metadata": {
    "collapsed": false,
    "jupyter": {
     "outputs_hidden": false
    }
   },
   "outputs": [
    {
     "name": "stdout",
     "output_type": "stream",
     "text": [
      "<class 'pandas.core.frame.DataFrame'>\n",
      "RangeIndex: 13647309 entries, 0 to 13647308\n",
      "Data columns (total 48 columns):\n",
      " #   Column                 Dtype  \n",
      "---  ------                 -----  \n",
      " 0   fecha_dato             object \n",
      " 1   ncodpers               int64  \n",
      " 2   ind_empleado           object \n",
      " 3   pais_residencia        object \n",
      " 4   sexo                   object \n",
      " 5   age                    object \n",
      " 6   fecha_alta             object \n",
      " 7   ind_nuevo              object \n",
      " 8   antiguedad             object \n",
      " 9   indrel                 float64\n",
      " 10  ult_fec_cli_1t         object \n",
      " 11  indrel_1mes            object \n",
      " 12  tiprel_1mes            object \n",
      " 13  indresi                object \n",
      " 14  indext                 object \n",
      " 15  conyuemp               object \n",
      " 16  canal_entrada          object \n",
      " 17  indfall                object \n",
      " 18  tipodom                float64\n",
      " 19  cod_prov               float64\n",
      " 20  nomprov                object \n",
      " 21  ind_actividad_cliente  float64\n",
      " 22  renta                  float64\n",
      " 23  segmento               object \n",
      " 24  ind_ahor_fin_ult1      int64  \n",
      " 25  ind_aval_fin_ult1      int64  \n",
      " 26  ind_cco_fin_ult1       int64  \n",
      " 27  ind_cder_fin_ult1      int64  \n",
      " 28  ind_cno_fin_ult1       int64  \n",
      " 29  ind_ctju_fin_ult1      int64  \n",
      " 30  ind_ctma_fin_ult1      int64  \n",
      " 31  ind_ctop_fin_ult1      int64  \n",
      " 32  ind_ctpp_fin_ult1      int64  \n",
      " 33  ind_deco_fin_ult1      int64  \n",
      " 34  ind_deme_fin_ult1      int64  \n",
      " 35  ind_dela_fin_ult1      int64  \n",
      " 36  ind_ecue_fin_ult1      int64  \n",
      " 37  ind_fond_fin_ult1      int64  \n",
      " 38  ind_hip_fin_ult1       int64  \n",
      " 39  ind_plan_fin_ult1      int64  \n",
      " 40  ind_pres_fin_ult1      int64  \n",
      " 41  ind_reca_fin_ult1      int64  \n",
      " 42  ind_tjcr_fin_ult1      int64  \n",
      " 43  ind_valo_fin_ult1      int64  \n",
      " 44  ind_viv_fin_ult1       int64  \n",
      " 45  ind_nomina_ult1        float64\n",
      " 46  ind_nom_pens_ult1      float64\n",
      " 47  ind_recibo_ult1        int64  \n",
      "dtypes: float64(7), int64(23), object(18)\n",
      "memory usage: 4.9+ GB\n"
     ]
    }
   ],
   "source": [
    "base_df = pd.read_csv(train_file,\n",
    "                      dtype={'sexo': str,\n",
    "                             'ind_nuevo': str,\n",
    "                             'ult_fec_cli_1t': str,\n",
    "                             'indext': str},\n",
    "                      # nrows=limit_rows,\n",
    "                      low_memory=False\n",
    "                      )\n",
    "\n",
    "# resample the data for saving memory and shuffle the dataset\n",
    "if is_sample:\n",
    "    base_df = base_df.sample(frac=0.5)\n",
    "base_df.info()"
   ]
  },
  {
   "cell_type": "code",
   "execution_count": 14,
   "id": "89732cb5",
   "metadata": {
    "collapsed": false,
    "jupyter": {
     "outputs_hidden": false
    }
   },
   "outputs": [],
   "source": [
    "df = base_df"
   ]
  },
  {
   "cell_type": "code",
   "execution_count": 15,
   "id": "57817ed5",
   "metadata": {
    "collapsed": false,
    "jupyter": {
     "outputs_hidden": false
    }
   },
   "outputs": [
    {
     "data": {
      "text/html": [
       "<div>\n",
       "<style scoped>\n",
       "    .dataframe tbody tr th:only-of-type {\n",
       "        vertical-align: middle;\n",
       "    }\n",
       "\n",
       "    .dataframe tbody tr th {\n",
       "        vertical-align: top;\n",
       "    }\n",
       "\n",
       "    .dataframe thead th {\n",
       "        text-align: right;\n",
       "    }\n",
       "</style>\n",
       "<table border=\"1\" class=\"dataframe\">\n",
       "  <thead>\n",
       "    <tr style=\"text-align: right;\">\n",
       "      <th></th>\n",
       "      <th>ncodpers</th>\n",
       "      <th>indrel</th>\n",
       "      <th>tipodom</th>\n",
       "      <th>cod_prov</th>\n",
       "      <th>ind_actividad_cliente</th>\n",
       "      <th>renta</th>\n",
       "      <th>ind_ahor_fin_ult1</th>\n",
       "      <th>ind_aval_fin_ult1</th>\n",
       "      <th>ind_cco_fin_ult1</th>\n",
       "      <th>ind_cder_fin_ult1</th>\n",
       "      <th>...</th>\n",
       "      <th>ind_hip_fin_ult1</th>\n",
       "      <th>ind_plan_fin_ult1</th>\n",
       "      <th>ind_pres_fin_ult1</th>\n",
       "      <th>ind_reca_fin_ult1</th>\n",
       "      <th>ind_tjcr_fin_ult1</th>\n",
       "      <th>ind_valo_fin_ult1</th>\n",
       "      <th>ind_viv_fin_ult1</th>\n",
       "      <th>ind_nomina_ult1</th>\n",
       "      <th>ind_nom_pens_ult1</th>\n",
       "      <th>ind_recibo_ult1</th>\n",
       "    </tr>\n",
       "  </thead>\n",
       "  <tbody>\n",
       "    <tr>\n",
       "      <th>count</th>\n",
       "      <td>1.364731e+07</td>\n",
       "      <td>1.361958e+07</td>\n",
       "      <td>13619574.0</td>\n",
       "      <td>1.355372e+07</td>\n",
       "      <td>1.361958e+07</td>\n",
       "      <td>1.085293e+07</td>\n",
       "      <td>1.364731e+07</td>\n",
       "      <td>1.364731e+07</td>\n",
       "      <td>1.364731e+07</td>\n",
       "      <td>1.364731e+07</td>\n",
       "      <td>...</td>\n",
       "      <td>1.364731e+07</td>\n",
       "      <td>1.364731e+07</td>\n",
       "      <td>1.364731e+07</td>\n",
       "      <td>1.364731e+07</td>\n",
       "      <td>1.364731e+07</td>\n",
       "      <td>1.364731e+07</td>\n",
       "      <td>1.364731e+07</td>\n",
       "      <td>1.363125e+07</td>\n",
       "      <td>1.363125e+07</td>\n",
       "      <td>1.364731e+07</td>\n",
       "    </tr>\n",
       "    <tr>\n",
       "      <th>mean</th>\n",
       "      <td>8.349042e+05</td>\n",
       "      <td>1.178399e+00</td>\n",
       "      <td>1.0</td>\n",
       "      <td>2.657147e+01</td>\n",
       "      <td>4.578105e-01</td>\n",
       "      <td>1.342543e+05</td>\n",
       "      <td>1.022912e-04</td>\n",
       "      <td>2.315475e-05</td>\n",
       "      <td>6.554837e-01</td>\n",
       "      <td>3.939238e-04</td>\n",
       "      <td>...</td>\n",
       "      <td>5.886582e-03</td>\n",
       "      <td>9.170965e-03</td>\n",
       "      <td>2.627404e-03</td>\n",
       "      <td>5.253636e-02</td>\n",
       "      <td>4.438868e-02</td>\n",
       "      <td>2.560761e-02</td>\n",
       "      <td>3.847718e-03</td>\n",
       "      <td>5.472434e-02</td>\n",
       "      <td>5.942854e-02</td>\n",
       "      <td>1.279162e-01</td>\n",
       "    </tr>\n",
       "    <tr>\n",
       "      <th>std</th>\n",
       "      <td>4.315650e+05</td>\n",
       "      <td>4.177469e+00</td>\n",
       "      <td>0.0</td>\n",
       "      <td>1.278402e+01</td>\n",
       "      <td>4.982169e-01</td>\n",
       "      <td>2.306202e+05</td>\n",
       "      <td>1.011340e-02</td>\n",
       "      <td>4.811883e-03</td>\n",
       "      <td>4.752103e-01</td>\n",
       "      <td>1.984361e-02</td>\n",
       "      <td>...</td>\n",
       "      <td>7.649791e-02</td>\n",
       "      <td>9.532502e-02</td>\n",
       "      <td>5.119083e-02</td>\n",
       "      <td>2.231060e-01</td>\n",
       "      <td>2.059571e-01</td>\n",
       "      <td>1.579616e-01</td>\n",
       "      <td>6.191053e-02</td>\n",
       "      <td>2.274414e-01</td>\n",
       "      <td>2.364250e-01</td>\n",
       "      <td>3.339965e-01</td>\n",
       "    </tr>\n",
       "    <tr>\n",
       "      <th>min</th>\n",
       "      <td>1.588900e+04</td>\n",
       "      <td>1.000000e+00</td>\n",
       "      <td>1.0</td>\n",
       "      <td>1.000000e+00</td>\n",
       "      <td>0.000000e+00</td>\n",
       "      <td>1.202730e+03</td>\n",
       "      <td>0.000000e+00</td>\n",
       "      <td>0.000000e+00</td>\n",
       "      <td>0.000000e+00</td>\n",
       "      <td>0.000000e+00</td>\n",
       "      <td>...</td>\n",
       "      <td>0.000000e+00</td>\n",
       "      <td>0.000000e+00</td>\n",
       "      <td>0.000000e+00</td>\n",
       "      <td>0.000000e+00</td>\n",
       "      <td>0.000000e+00</td>\n",
       "      <td>0.000000e+00</td>\n",
       "      <td>0.000000e+00</td>\n",
       "      <td>0.000000e+00</td>\n",
       "      <td>0.000000e+00</td>\n",
       "      <td>0.000000e+00</td>\n",
       "    </tr>\n",
       "    <tr>\n",
       "      <th>25%</th>\n",
       "      <td>4.528130e+05</td>\n",
       "      <td>1.000000e+00</td>\n",
       "      <td>1.0</td>\n",
       "      <td>1.500000e+01</td>\n",
       "      <td>0.000000e+00</td>\n",
       "      <td>6.871098e+04</td>\n",
       "      <td>0.000000e+00</td>\n",
       "      <td>0.000000e+00</td>\n",
       "      <td>0.000000e+00</td>\n",
       "      <td>0.000000e+00</td>\n",
       "      <td>...</td>\n",
       "      <td>0.000000e+00</td>\n",
       "      <td>0.000000e+00</td>\n",
       "      <td>0.000000e+00</td>\n",
       "      <td>0.000000e+00</td>\n",
       "      <td>0.000000e+00</td>\n",
       "      <td>0.000000e+00</td>\n",
       "      <td>0.000000e+00</td>\n",
       "      <td>0.000000e+00</td>\n",
       "      <td>0.000000e+00</td>\n",
       "      <td>0.000000e+00</td>\n",
       "    </tr>\n",
       "    <tr>\n",
       "      <th>50%</th>\n",
       "      <td>9.318930e+05</td>\n",
       "      <td>1.000000e+00</td>\n",
       "      <td>1.0</td>\n",
       "      <td>2.800000e+01</td>\n",
       "      <td>0.000000e+00</td>\n",
       "      <td>1.018500e+05</td>\n",
       "      <td>0.000000e+00</td>\n",
       "      <td>0.000000e+00</td>\n",
       "      <td>1.000000e+00</td>\n",
       "      <td>0.000000e+00</td>\n",
       "      <td>...</td>\n",
       "      <td>0.000000e+00</td>\n",
       "      <td>0.000000e+00</td>\n",
       "      <td>0.000000e+00</td>\n",
       "      <td>0.000000e+00</td>\n",
       "      <td>0.000000e+00</td>\n",
       "      <td>0.000000e+00</td>\n",
       "      <td>0.000000e+00</td>\n",
       "      <td>0.000000e+00</td>\n",
       "      <td>0.000000e+00</td>\n",
       "      <td>0.000000e+00</td>\n",
       "    </tr>\n",
       "    <tr>\n",
       "      <th>75%</th>\n",
       "      <td>1.199286e+06</td>\n",
       "      <td>1.000000e+00</td>\n",
       "      <td>1.0</td>\n",
       "      <td>3.500000e+01</td>\n",
       "      <td>1.000000e+00</td>\n",
       "      <td>1.559560e+05</td>\n",
       "      <td>0.000000e+00</td>\n",
       "      <td>0.000000e+00</td>\n",
       "      <td>1.000000e+00</td>\n",
       "      <td>0.000000e+00</td>\n",
       "      <td>...</td>\n",
       "      <td>0.000000e+00</td>\n",
       "      <td>0.000000e+00</td>\n",
       "      <td>0.000000e+00</td>\n",
       "      <td>0.000000e+00</td>\n",
       "      <td>0.000000e+00</td>\n",
       "      <td>0.000000e+00</td>\n",
       "      <td>0.000000e+00</td>\n",
       "      <td>0.000000e+00</td>\n",
       "      <td>0.000000e+00</td>\n",
       "      <td>0.000000e+00</td>\n",
       "    </tr>\n",
       "    <tr>\n",
       "      <th>max</th>\n",
       "      <td>1.553689e+06</td>\n",
       "      <td>9.900000e+01</td>\n",
       "      <td>1.0</td>\n",
       "      <td>5.200000e+01</td>\n",
       "      <td>1.000000e+00</td>\n",
       "      <td>2.889440e+07</td>\n",
       "      <td>1.000000e+00</td>\n",
       "      <td>1.000000e+00</td>\n",
       "      <td>1.000000e+00</td>\n",
       "      <td>1.000000e+00</td>\n",
       "      <td>...</td>\n",
       "      <td>1.000000e+00</td>\n",
       "      <td>1.000000e+00</td>\n",
       "      <td>1.000000e+00</td>\n",
       "      <td>1.000000e+00</td>\n",
       "      <td>1.000000e+00</td>\n",
       "      <td>1.000000e+00</td>\n",
       "      <td>1.000000e+00</td>\n",
       "      <td>1.000000e+00</td>\n",
       "      <td>1.000000e+00</td>\n",
       "      <td>1.000000e+00</td>\n",
       "    </tr>\n",
       "  </tbody>\n",
       "</table>\n",
       "<p>8 rows × 30 columns</p>\n",
       "</div>"
      ],
      "text/plain": [
       "           ncodpers        indrel     tipodom      cod_prov  \\\n",
       "count  1.364731e+07  1.361958e+07  13619574.0  1.355372e+07   \n",
       "mean   8.349042e+05  1.178399e+00         1.0  2.657147e+01   \n",
       "std    4.315650e+05  4.177469e+00         0.0  1.278402e+01   \n",
       "min    1.588900e+04  1.000000e+00         1.0  1.000000e+00   \n",
       "25%    4.528130e+05  1.000000e+00         1.0  1.500000e+01   \n",
       "50%    9.318930e+05  1.000000e+00         1.0  2.800000e+01   \n",
       "75%    1.199286e+06  1.000000e+00         1.0  3.500000e+01   \n",
       "max    1.553689e+06  9.900000e+01         1.0  5.200000e+01   \n",
       "\n",
       "       ind_actividad_cliente         renta  ind_ahor_fin_ult1  \\\n",
       "count           1.361958e+07  1.085293e+07       1.364731e+07   \n",
       "mean            4.578105e-01  1.342543e+05       1.022912e-04   \n",
       "std             4.982169e-01  2.306202e+05       1.011340e-02   \n",
       "min             0.000000e+00  1.202730e+03       0.000000e+00   \n",
       "25%             0.000000e+00  6.871098e+04       0.000000e+00   \n",
       "50%             0.000000e+00  1.018500e+05       0.000000e+00   \n",
       "75%             1.000000e+00  1.559560e+05       0.000000e+00   \n",
       "max             1.000000e+00  2.889440e+07       1.000000e+00   \n",
       "\n",
       "       ind_aval_fin_ult1  ind_cco_fin_ult1  ind_cder_fin_ult1  ...  \\\n",
       "count       1.364731e+07      1.364731e+07       1.364731e+07  ...   \n",
       "mean        2.315475e-05      6.554837e-01       3.939238e-04  ...   \n",
       "std         4.811883e-03      4.752103e-01       1.984361e-02  ...   \n",
       "min         0.000000e+00      0.000000e+00       0.000000e+00  ...   \n",
       "25%         0.000000e+00      0.000000e+00       0.000000e+00  ...   \n",
       "50%         0.000000e+00      1.000000e+00       0.000000e+00  ...   \n",
       "75%         0.000000e+00      1.000000e+00       0.000000e+00  ...   \n",
       "max         1.000000e+00      1.000000e+00       1.000000e+00  ...   \n",
       "\n",
       "       ind_hip_fin_ult1  ind_plan_fin_ult1  ind_pres_fin_ult1  \\\n",
       "count      1.364731e+07       1.364731e+07       1.364731e+07   \n",
       "mean       5.886582e-03       9.170965e-03       2.627404e-03   \n",
       "std        7.649791e-02       9.532502e-02       5.119083e-02   \n",
       "min        0.000000e+00       0.000000e+00       0.000000e+00   \n",
       "25%        0.000000e+00       0.000000e+00       0.000000e+00   \n",
       "50%        0.000000e+00       0.000000e+00       0.000000e+00   \n",
       "75%        0.000000e+00       0.000000e+00       0.000000e+00   \n",
       "max        1.000000e+00       1.000000e+00       1.000000e+00   \n",
       "\n",
       "       ind_reca_fin_ult1  ind_tjcr_fin_ult1  ind_valo_fin_ult1  \\\n",
       "count       1.364731e+07       1.364731e+07       1.364731e+07   \n",
       "mean        5.253636e-02       4.438868e-02       2.560761e-02   \n",
       "std         2.231060e-01       2.059571e-01       1.579616e-01   \n",
       "min         0.000000e+00       0.000000e+00       0.000000e+00   \n",
       "25%         0.000000e+00       0.000000e+00       0.000000e+00   \n",
       "50%         0.000000e+00       0.000000e+00       0.000000e+00   \n",
       "75%         0.000000e+00       0.000000e+00       0.000000e+00   \n",
       "max         1.000000e+00       1.000000e+00       1.000000e+00   \n",
       "\n",
       "       ind_viv_fin_ult1  ind_nomina_ult1  ind_nom_pens_ult1  ind_recibo_ult1  \n",
       "count      1.364731e+07     1.363125e+07       1.363125e+07     1.364731e+07  \n",
       "mean       3.847718e-03     5.472434e-02       5.942854e-02     1.279162e-01  \n",
       "std        6.191053e-02     2.274414e-01       2.364250e-01     3.339965e-01  \n",
       "min        0.000000e+00     0.000000e+00       0.000000e+00     0.000000e+00  \n",
       "25%        0.000000e+00     0.000000e+00       0.000000e+00     0.000000e+00  \n",
       "50%        0.000000e+00     0.000000e+00       0.000000e+00     0.000000e+00  \n",
       "75%        0.000000e+00     0.000000e+00       0.000000e+00     0.000000e+00  \n",
       "max        1.000000e+00     1.000000e+00       1.000000e+00     1.000000e+00  \n",
       "\n",
       "[8 rows x 30 columns]"
      ]
     },
     "execution_count": 15,
     "metadata": {},
     "output_type": "execute_result"
    }
   ],
   "source": [
    "df.describe()"
   ]
  },
  {
   "cell_type": "code",
   "execution_count": 16,
   "id": "2606e7a9-1a42-4e34-9d78-4cb63e56d88a",
   "metadata": {},
   "outputs": [],
   "source": [
    "# modify data type to save memory\n",
    "df.iloc[:, 24:] = df.iloc[:, 24:].astype(bool)"
   ]
  },
  {
   "cell_type": "code",
   "execution_count": 17,
   "id": "a21c41a6",
   "metadata": {
    "collapsed": false,
    "jupyter": {
     "outputs_hidden": false
    }
   },
   "outputs": [
    {
     "name": "stdout",
     "output_type": "stream",
     "text": [
      "<class 'pandas.core.frame.DataFrame'>\n",
      "RangeIndex: 13647309 entries, 0 to 13647308\n",
      "Data columns (total 24 columns):\n",
      " #   Column                 Dtype  \n",
      "---  ------                 -----  \n",
      " 0   fecha_dato             object \n",
      " 1   ncodpers               int64  \n",
      " 2   ind_empleado           object \n",
      " 3   pais_residencia        object \n",
      " 4   sexo                   object \n",
      " 5   age                    object \n",
      " 6   fecha_alta             object \n",
      " 7   ind_nuevo              object \n",
      " 8   antiguedad             object \n",
      " 9   indrel                 float64\n",
      " 10  ult_fec_cli_1t         object \n",
      " 11  indrel_1mes            object \n",
      " 12  tiprel_1mes            object \n",
      " 13  indresi                object \n",
      " 14  indext                 object \n",
      " 15  conyuemp               object \n",
      " 16  canal_entrada          object \n",
      " 17  indfall                object \n",
      " 18  tipodom                float64\n",
      " 19  cod_prov               float64\n",
      " 20  nomprov                object \n",
      " 21  ind_actividad_cliente  float64\n",
      " 22  renta                  float64\n",
      " 23  segmento               object \n",
      "dtypes: float64(5), int64(1), object(18)\n",
      "memory usage: 2.4+ GB\n"
     ]
    }
   ],
   "source": [
    "df.iloc[:, :24].info()"
   ]
  },
  {
   "cell_type": "code",
   "execution_count": 11,
   "id": "c4451f94",
   "metadata": {
    "collapsed": false,
    "jupyter": {
     "outputs_hidden": false
    }
   },
   "outputs": [
    {
     "data": {
      "text/plain": [
       "fecha_dato                      0\n",
       "ncodpers                        0\n",
       "ind_empleado                27734\n",
       "pais_residencia             27734\n",
       "sexo                        27804\n",
       "age                             0\n",
       "fecha_alta                  27734\n",
       "ind_nuevo                   27734\n",
       "antiguedad                      0\n",
       "indrel                      27734\n",
       "ult_fec_cli_1t           13622516\n",
       "indrel_1mes                149781\n",
       "tiprel_1mes                149781\n",
       "indresi                     27734\n",
       "indext                      27734\n",
       "conyuemp                 13645501\n",
       "canal_entrada              186126\n",
       "indfall                     27734\n",
       "tipodom                     27735\n",
       "cod_prov                    93591\n",
       "nomprov                     93591\n",
       "ind_actividad_cliente       27734\n",
       "renta                     2794375\n",
       "segmento                   189368\n",
       "dtype: int64"
      ]
     },
     "execution_count": 11,
     "metadata": {},
     "output_type": "execute_result"
    }
   ],
   "source": [
    "loss_value = df.iloc[:, :24].isnull().sum()\n",
    "loss_value\n",
    "# fecha_dato 日期\n",
    "# ncodpers 客户代码\n",
    "# ind_empleado 员工\n",
    "# pais_residencia 国藉\n",
    "# sexo 性别,\n",
    "# age 年龄\n",
    "# fecha_alta 注册日期,\n",
    "# ind_nuevo 新的,\n",
    "# antiguedad 古代,\n",
    "# indrel 最后访问日期, 一个月indrel\n",
    "# ult_fec_cli_1t\n",
    "# indrel_1mes\n",
    "# tiprel_1mes\n",
    "# indresi\n",
    "# indext\n",
    "# conyuemp\n",
    "# canal_entrada\n",
    "# indfall\n",
    "# tipodom\n",
    "# cod_prov\n",
    "# nomprov\n",
    "# ind_actividad_cliente\n",
    "# renta\n",
    "# segmento"
   ]
  },
  {
   "cell_type": "code",
   "execution_count": 12,
   "id": "e40c9c5e",
   "metadata": {
    "collapsed": false,
    "jupyter": {
     "outputs_hidden": false
    }
   },
   "outputs": [
    {
     "data": {
      "text/plain": [
       "['fecha_dato',\n",
       " 'ncodpers',\n",
       " 'ind_empleado',\n",
       " 'pais_residencia',\n",
       " 'sexo',\n",
       " 'age',\n",
       " 'fecha_alta',\n",
       " 'ind_nuevo',\n",
       " 'antiguedad',\n",
       " 'indrel',\n",
       " 'ult_fec_cli_1t',\n",
       " 'indrel_1mes',\n",
       " 'tiprel_1mes',\n",
       " 'indresi',\n",
       " 'indext',\n",
       " 'conyuemp',\n",
       " 'canal_entrada',\n",
       " 'indfall',\n",
       " 'tipodom',\n",
       " 'cod_prov',\n",
       " 'nomprov',\n",
       " 'ind_actividad_cliente',\n",
       " 'renta',\n",
       " 'segmento']"
      ]
     },
     "execution_count": 12,
     "metadata": {},
     "output_type": "execute_result"
    }
   ],
   "source": [
    "df.iloc[:, 0:24].columns.values.tolist()"
   ]
  },
  {
   "cell_type": "code",
   "execution_count": 13,
   "id": "0c57ccbf",
   "metadata": {
    "collapsed": false,
    "jupyter": {
     "outputs_hidden": false
    }
   },
   "outputs": [],
   "source": [
    "df = df.drop(df[df['ind_empleado'].isnull()].index)"
   ]
  },
  {
   "cell_type": "code",
   "execution_count": 14,
   "id": "78a05d00",
   "metadata": {
    "collapsed": false,
    "jupyter": {
     "outputs_hidden": false
    }
   },
   "outputs": [
    {
     "data": {
      "text/plain": [
       "<AxesSubplot: >"
      ]
     },
     "execution_count": 14,
     "metadata": {},
     "output_type": "execute_result"
    },
    {
     "data": {
      "image/png": "[encoded data removed]",
      "text/plain": [
       "<Figure size 640x480 with 1 Axes>"
      ]
     },
     "metadata": {},
     "output_type": "display_data"
    }
   ],
   "source": [
    "# 0. fecha_dato 日期\n",
    "df.fecha_dato.value_counts(dropna=False).plot(kind='bar')"
   ]
  },
  {
   "cell_type": "code",
   "execution_count": 15,
   "id": "1a7ccbb0",
   "metadata": {
    "collapsed": false,
    "jupyter": {
     "outputs_hidden": false
    }
   },
   "outputs": [
    {
     "data": {
      "text/plain": [
       "1375586    17\n",
       "36383      17\n",
       "36333      17\n",
       "36388      17\n",
       "36324      17\n",
       "           ..\n",
       "1524805     1\n",
       "1521777     1\n",
       "1521049     1\n",
       "1521045     1\n",
       "1550586     1\n",
       "Name: ncodpers, Length: 949614, dtype: int64"
      ]
     },
     "execution_count": 15,
     "metadata": {},
     "output_type": "execute_result"
    }
   ],
   "source": [
    "# 1. ncodpers 客户代码, 弃用\n",
    "df.ncodpers.value_counts(dropna=False)\n"
   ]
  },
  {
   "cell_type": "code",
   "execution_count": 16,
   "id": "42509a88",
   "metadata": {
    "collapsed": false,
    "jupyter": {
     "outputs_hidden": false
    }
   },
   "outputs": [
    {
     "data": {
      "text/plain": [
       "N    13610977\n",
       "B        3566\n",
       "F        2523\n",
       "A        2492\n",
       "S          17\n",
       "Name: ind_empleado, dtype: int64"
      ]
     },
     "execution_count": 16,
     "metadata": {},
     "output_type": "execute_result"
    }
   ],
   "source": [
    "# 2. ind_empleado 员工指标,\n",
    "# Nan = unknown\n",
    "# one-hot\n",
    "# A active 活跃, B ex employed 前雇员, F filial 子女, N not employee 非雇员, P pasive 被动, 目前没有寻找新工作, 但是对新工作持开放态度\n",
    "\n",
    "df.ind_empleado.value_counts(dropna=False)"
   ]
  },
  {
   "cell_type": "code",
   "execution_count": 42,
   "id": "f9a30725",
   "metadata": {
    "collapsed": false,
    "jupyter": {
     "outputs_hidden": false
    }
   },
   "outputs": [
    {
     "data": {
      "text/plain": [
       "ES    13553710\n",
       "FR        5161\n",
       "AR        4835\n",
       "DE        4625\n",
       "GB        4605\n",
       "        ...   \n",
       "ZW          11\n",
       "DJ          11\n",
       "JM          11\n",
       "BM           6\n",
       "MT           2\n",
       "Name: pais_residencia, Length: 118, dtype: int64"
      ]
     },
     "execution_count": 42,
     "metadata": {},
     "output_type": "execute_result"
    }
   ],
   "source": [
    "# 3. pais_residencia 客户国籍 ES占比巨大\n",
    "# Nan 作为unknown\n",
    "# TODO 计算占比\n",
    "# df.pais_residencia.value_counts(dropna=False)\n",
    "# df.pais_residencia.unique()\n",
    "\n",
    "new  = df.pais_residencia.value_counts(dropna=False)\n",
    "# df[df['pais_residencia']=='ES'].sum()\n",
    "# new.shape\n",
    "new"
   ]
  },
  {
   "cell_type": "code",
   "execution_count": 63,
   "id": "3e3821e9",
   "metadata": {
    "collapsed": false,
    "jupyter": {
     "outputs_hidden": false
    }
   },
   "outputs": [
    {
     "name": "stdout",
     "output_type": "stream",
     "text": [
      "ES     True\n",
      "FR     True\n",
      "AR     True\n",
      "DE     True\n",
      "GB     True\n",
      "      ...  \n",
      "ZW    False\n",
      "DJ    False\n",
      "JM    False\n",
      "BM    False\n",
      "MT    False\n",
      "Name: pais_residencia, Length: 118, dtype: bool\n"
     ]
    }
   ],
   "source": [
    "print(100* round(new/df.shape[0],8)>0.02)"
   ]
  },
  {
   "cell_type": "code",
   "execution_count": 27,
   "id": "9f342db8",
   "metadata": {
    "collapsed": false,
    "jupyter": {
     "outputs_hidden": false
    }
   },
   "outputs": [
    {
     "data": {
      "text/plain": [
       "13619575"
      ]
     },
     "execution_count": 27,
     "metadata": {},
     "output_type": "execute_result"
    }
   ],
   "source": [
    "df.shape[0]"
   ]
  },
  {
   "cell_type": "code",
   "execution_count": 22,
   "id": "a89f21d5",
   "metadata": {
    "collapsed": false,
    "jupyter": {
     "outputs_hidden": false
    }
   },
   "outputs": [
    {
     "data": {
      "text/plain": [
       "0           ES\n",
       "1           ES\n",
       "2           ES\n",
       "3           ES\n",
       "4           ES\n",
       "            ..\n",
       "13647304    ES\n",
       "13647305    ES\n",
       "13647306    ES\n",
       "13647307    ES\n",
       "13647308    ES\n",
       "Name: pais_residencia, Length: 13619575, dtype: object"
      ]
     },
     "execution_count": 22,
     "metadata": {},
     "output_type": "execute_result"
    }
   ],
   "source": [
    "df.pais_residencia"
   ]
  },
  {
   "cell_type": "code",
   "execution_count": null,
   "id": "aa238766",
   "metadata": {
    "collapsed": false,
    "jupyter": {
     "outputs_hidden": false
    }
   },
   "outputs": [],
   "source": [
    "new =  df['pais_residencia'].sum()\n",
    "new"
   ]
  },
  {
   "cell_type": "code",
   "execution_count": null,
   "id": "a7adc63d",
   "metadata": {
    "collapsed": false,
    "jupyter": {
     "outputs_hidden": false
    }
   },
   "outputs": [],
   "source": [
    "df['pais_residencia']"
   ]
  },
  {
   "cell_type": "code",
   "execution_count": null,
   "id": "2067adb5",
   "metadata": {
    "collapsed": false,
    "jupyter": {
     "outputs_hidden": false
    }
   },
   "outputs": [],
   "source": [
    "# 4. sexo\n",
    "# Nan = unknown\n",
    "# 编码 one-hot\n",
    "df.sexo.value_counts(dropna=False)\n",
    "df.sexo.unique()"
   ]
  },
  {
   "cell_type": "code",
   "execution_count": null,
   "id": "c5abe504",
   "metadata": {
    "collapsed": false,
    "jupyter": {
     "outputs_hidden": false
    }
   },
   "outputs": [],
   "source": [
    "# 5. age 年龄\n",
    "# 不需要处理\n",
    "df.age.value_counts(dropna=False)\n",
    "\n",
    "df['age'].unique()"
   ]
  },
  {
   "cell_type": "code",
   "execution_count": null,
   "id": "4edfe204",
   "metadata": {
    "collapsed": false,
    "jupyter": {
     "outputs_hidden": false
    }
   },
   "outputs": [],
   "source": [
    "# 6.fecha_alta 客户首次签订合同的日期, 可以用距今差值表示, 月份\n",
    "df.fecha_alta.value_counts(dropna=False)\n",
    "df.fecha_alta.isnull().sum()"
   ]
  },
  {
   "cell_type": "code",
   "execution_count": null,
   "id": "6fed58e8",
   "metadata": {
    "collapsed": false,
    "jupyter": {
     "outputs_hidden": false
    }
   },
   "outputs": [],
   "source": [
    "months_active = df.loc[df[\"ind_nuevo\"].isnull(),:].groupby(\"ncodpers\", sort=False).size()\n",
    "months_active.max()"
   ]
  },
  {
   "cell_type": "code",
   "execution_count": null,
   "id": "97f152b6",
   "metadata": {
    "collapsed": false,
    "jupyter": {
     "outputs_hidden": false
    }
   },
   "outputs": [],
   "source": [
    "# 7.ind_nuevo 新客户指数, 如果是6个月内注册的客户, 则为1\n",
    "# Nan = -1\n",
    "df.ind_nuevo.value_counts(dropna=False)\n",
    "df.ind_nuevo.isnull().sum()\n"
   ]
  },
  {
   "cell_type": "code",
   "execution_count": null,
   "id": "9eca2ff5",
   "metadata": {
    "collapsed": false,
    "jupyter": {
     "outputs_hidden": false
    }
   },
   "outputs": [],
   "source": [
    "# 8. antiguedad 客户资历, 单位是月\n",
    "df.antiguedad.value_counts(dropna=False)\n",
    "df.ind_nuevo.isnull().sum()\n",
    "# 6,7,8 缺失值数量相等"
   ]
  },
  {
   "cell_type": "code",
   "execution_count": null,
   "id": "9a26485e",
   "metadata": {
    "collapsed": false,
    "jupyter": {
     "outputs_hidden": false
    }
   },
   "outputs": [],
   "source": [
    "# 9. indrel 1表示primary, 99表示当月primary,但不是月末?\n",
    "# Nan =unknown\n",
    "# one-hot label编码?\n",
    "df.indrel.value_counts(dropna=False)"
   ]
  },
  {
   "cell_type": "code",
   "execution_count": null,
   "id": "ecdfdbc3",
   "metadata": {
    "collapsed": false,
    "jupyter": {
     "outputs_hidden": false
    }
   },
   "outputs": [],
   "source": [
    "# 10. ult_fec_cli_1t 作为主要客户的日期\n",
    "# 缺失值太多, 丢弃\n",
    "df.ult_fec_cli_1t.value_counts(dropna=False)\n",
    "df.ult_fec_cli_1t.isnull().sum()"
   ]
  },
  {
   "cell_type": "code",
   "execution_count": null,
   "id": "fcff4931",
   "metadata": {
    "collapsed": false,
    "jupyter": {
     "outputs_hidden": false
    }
   },
   "outputs": [],
   "source": [
    "# 11.indrel_1mes 1 (First/Primary customer), 2 (co-owner ),P (Potential),3 (former primary), 4(former co-owner)\n",
    "# 要把1.0转成1, 2.0-2\n",
    "# Nan = 0\n",
    "df.indrel_1mes.value_counts(dropna=False)"
   ]
  },
  {
   "cell_type": "code",
   "execution_count": null,
   "id": "1d621155",
   "metadata": {
    "collapsed": false,
    "jupyter": {
     "outputs_hidden": false
    }
   },
   "outputs": [],
   "source": [
    "# 12.tiprel_1mes 月初客户关系类型 A (active), I (inactive), P (former customer 前客户),R (Potential 潜在客户)\n",
    "# Nan = unknown\n",
    "# label 编码\n",
    "df.tiprel_1mes.value_counts(dropna=False)"
   ]
  },
  {
   "cell_type": "code",
   "execution_count": null,
   "id": "ca0bc371",
   "metadata": {
    "collapsed": false,
    "jupyter": {
     "outputs_hidden": false
    }
   },
   "outputs": [],
   "source": [
    "# 13. indresi 居住指数S (Yes) 银行和居住国相同 N (No) 不同国家\n",
    "# label编码, S=1, N=0\n",
    "df.indresi.value_counts(dropna=False)"
   ]
  },
  {
   "cell_type": "code",
   "execution_count": null,
   "id": "6aac428c",
   "metadata": {
    "collapsed": false,
    "jupyter": {
     "outputs_hidden": false
    }
   },
   "outputs": [],
   "source": [
    "# 14. indext 外国人指数, S 本国出生, N 非本国\n",
    "# label 编码\n",
    "df.indext.value_counts(dropna=False)"
   ]
  },
  {
   "cell_type": "code",
   "execution_count": null,
   "id": "46837123",
   "metadata": {
    "collapsed": false,
    "jupyter": {
     "outputs_hidden": false
    }
   },
   "outputs": [],
   "source": [
    "# 15. conyuemp 配偶指数, S 客户是员工配偶\n",
    "# 缺失太多, 废弃\n",
    "df.conyuemp.value_counts(dropna=False)"
   ]
  },
  {
   "cell_type": "code",
   "execution_count": 66,
   "id": "65776e0e",
   "metadata": {
    "collapsed": false,
    "jupyter": {
     "outputs_hidden": false
    }
   },
   "outputs": [
    {
     "data": {
      "text/plain": [
       "KHE    4055270\n",
       "KAT    3268209\n",
       "KFC    3098360\n",
       "KHQ     591039\n",
       "KFA     409669\n",
       "        ...   \n",
       "KDI         17\n",
       "KDL         11\n",
       "025         11\n",
       "KHS          5\n",
       "KHR          1\n",
       "Name: canal_entrada, Length: 163, dtype: int64"
      ]
     },
     "execution_count": 66,
     "metadata": {},
     "output_type": "execute_result"
    },
    {
     "data": {
      "text/plain": [
       "158392"
      ]
     },
     "execution_count": 66,
     "metadata": {},
     "output_type": "execute_result"
    },
    {
     "name": "stdout",
     "output_type": "stream",
     "text": [
      "KHE    29.775305\n",
      "KAT    23.996410\n",
      "KFC    22.749315\n",
      "KHQ     4.339629\n",
      "KFA     3.007943\n",
      "         ...    \n",
      "KDI     0.000125\n",
      "KDL     0.000081\n",
      "025     0.000081\n",
      "KHS     0.000037\n",
      "KHR     0.000007\n",
      "Name: canal_entrada, Length: 163, dtype: float64\n"
     ]
    }
   ],
   "source": [
    "# 16. canal_entrada\t客户渠道 (拉新渠道)\n",
    "# Nan = unknown, 占比小于3%都是other\n",
    "# 用占比, 占比低的作为others\n",
    "df.canal_entrada.value_counts(dropna=False)\n",
    "df.canal_entrada.isnull().sum()\n",
    "print(100* round(df.canal_entrada.value_counts(dropna=False)/df.shape[0],8))"
   ]
  },
  {
   "cell_type": "code",
   "execution_count": null,
   "id": "d4681ceb",
   "metadata": {
    "collapsed": false,
    "jupyter": {
     "outputs_hidden": false
    }
   },
   "outputs": [],
   "source": [
    "# 17. indfall 已故索引 N/S\n",
    "df.indfall.value_counts(dropna=False)"
   ]
  },
  {
   "cell_type": "markdown",
   "id": "65fe7969",
   "metadata": {},
   "source": []
  },
  {
   "cell_type": "code",
   "execution_count": null,
   "id": "33cbb4e3",
   "metadata": {
    "collapsed": false,
    "jupyter": {
     "outputs_hidden": false
    }
   },
   "outputs": [],
   "source": [
    "# 18. tipodom 地址类型. 1, primary address 弃用\n",
    "# Nan dropna\n",
    "# label编码\n",
    "df.tipodom.value_counts(dropna=False)"
   ]
  },
  {
   "cell_type": "code",
   "execution_count": null,
   "id": "2d0394bc",
   "metadata": {
    "collapsed": false,
    "jupyter": {
     "outputs_hidden": false
    }
   },
   "outputs": [],
   "source": [
    "# 19.cod_prov 省份编码\n",
    "# 转成int\n",
    "# Nan = 0?\n",
    "# number\n",
    "df.cod_prov.value_counts(dropna=False)"
   ]
  },
  {
   "cell_type": "code",
   "execution_count": null,
   "id": "0d3232c0",
   "metadata": {
    "collapsed": false,
    "jupyter": {
     "outputs_hidden": false
    }
   },
   "outputs": [],
   "source": [
    "# 20. nomprov 省份名称 弃用\n",
    "df.nomprov.value_counts(dropna=False)"
   ]
  },
  {
   "cell_type": "code",
   "execution_count": null,
   "id": "807b3264",
   "metadata": {
    "collapsed": false,
    "jupyter": {
     "outputs_hidden": false
    }
   },
   "outputs": [],
   "source": [
    "# 21. ind_actividad_cliente\t活跃指数 1, active customer; 0, inactive customer)\n",
    "df.ind_actividad_cliente.value_counts(dropna=False)"
   ]
  },
  {
   "cell_type": "code",
   "execution_count": 67,
   "id": "dc6fdb64",
   "metadata": {
    "collapsed": false,
    "jupyter": {
     "outputs_hidden": false
    }
   },
   "outputs": [
    {
     "data": {
      "text/plain": [
       "NaN          2766641\n",
       "451931.22       5582\n",
       "463625.16       1743\n",
       "181042.20       1493\n",
       "128318.52       1404\n",
       "              ...   \n",
       "100303.05          1\n",
       "119497.38          1\n",
       "74566.20           1\n",
       "78719.40           1\n",
       "133142.67          1\n",
       "Name: renta, Length: 520995, dtype: int64"
      ]
     },
     "execution_count": 67,
     "metadata": {},
     "output_type": "execute_result"
    }
   ],
   "source": [
    "# 22.renta 家庭总收入 number型\n",
    "# Nan 太多, 写成-1, 做归一化\n",
    "df.renta.value_counts(dropna=False)"
   ]
  },
  {
   "cell_type": "code",
   "execution_count": null,
   "id": "dc72bfe7",
   "metadata": {
    "collapsed": false,
    "jupyter": {
     "outputs_hidden": false
    }
   },
   "outputs": [],
   "source": [
    "# 23. segmento : 01 - VIP, 02 - 个人 03 - 大学毕业\n",
    "# Nan = unknown\n",
    "# label编码\n",
    "df.segmento.value_counts(dropna=False)"
   ]
  },
  {
   "cell_type": "code",
   "execution_count": null,
   "id": "d6405ed8",
   "metadata": {
    "collapsed": false,
    "jupyter": {
     "outputs_hidden": false
    }
   },
   "outputs": [],
   "source": [
    "df.boxplot(column='fecha_dato',by = 'Pclass')\n",
    "plt.hist(df['fecha_dato'])\n",
    "plt.xlabel('date')\n",
    "plt.ylabel('count')"
   ]
  },
  {
   "cell_type": "code",
   "execution_count": null,
   "id": "3a41b0f6",
   "metadata": {
    "collapsed": false,
    "jupyter": {
     "outputs_hidden": false
    }
   },
   "outputs": [],
   "source": [
    "df[np.isnan(df['open'])].index\n"
   ]
  },
  {
   "cell_type": "code",
   "execution_count": null,
   "id": "b39698dc",
   "metadata": {
    "collapsed": false,
    "jupyter": {
     "outputs_hidden": false
    }
   },
   "outputs": [],
   "source": [
    "df = df.loc[:, 'ind_empleado'].dropna()\n"
   ]
  },
  {
   "cell_type": "code",
   "execution_count": null,
   "id": "98e73e3b",
   "metadata": {
    "collapsed": false,
    "jupyter": {
     "outputs_hidden": false
    }
   },
   "outputs": [],
   "source": [
    "df.shape"
   ]
  },
  {
   "cell_type": "code",
   "execution_count": null,
   "id": "dc000731",
   "metadata": {
    "collapsed": false,
    "jupyter": {
     "outputs_hidden": false
    }
   },
   "outputs": [],
   "source": [
    "df.iloc[:, :24].isnull().sum()\n"
   ]
  },
  {
   "cell_type": "code",
   "execution_count": null,
   "id": "fa17a5df",
   "metadata": {
    "collapsed": false,
    "jupyter": {
     "outputs_hidden": false
    }
   },
   "outputs": [],
   "source": [
    "df.iloc[:, 0:12]"
   ]
  },
  {
   "cell_type": "code",
   "execution_count": null,
   "id": "2f5c0792-662c-473a-8308-64e6cd78988e",
   "metadata": {},
   "outputs": [],
   "source": [
    "df.iloc[:, 12:24]\n",
    "# tiprel_1mes 一月  indext=指数 canal_entrada= 输入通道  tipodom=域名类型"
   ]
  },
  {
   "cell_type": "code",
   "execution_count": null,
   "id": "5b40778c-b630-4725-8c56-13a94dd56fbe",
   "metadata": {},
   "outputs": [],
   "source": [
    "df.iloc[:, 24:]"
   ]
  },
  {
   "cell_type": "code",
   "execution_count": null,
   "id": "dee6e2e2-d67c-4e6c-9cc5-82e0d66c61bf",
   "metadata": {},
   "outputs": [],
   "source": [
    "df.info()"
   ]
  },
  {
   "cell_type": "code",
   "execution_count": null,
   "id": "3dc26250",
   "metadata": {
    "collapsed": false,
    "jupyter": {
     "outputs_hidden": false
    }
   },
   "outputs": [],
   "source": [
    "def show_save(is_show=False, is_save=False, name=None):\n",
    "    if is_show:\n",
    "        plt.show()\n",
    "    if is_save:\n",
    "        plt.savefig(name)"
   ]
  },
  {
   "cell_type": "code",
   "execution_count": null,
   "id": "3ab85ccc-bb2f-4819-a206-d754cc0700ee",
   "metadata": {},
   "outputs": [],
   "source": [
    "# for 'age' :\n",
    "df['age'] = pd.to_numeric(df['age'], errors='coerce')\n",
    "\n",
    "plt.figure(dpi=300, figsize=(24, 8))\n",
    "sns.displot(df['age'],\n",
    "            bins=np.arange(0, 121, 2),\n",
    "            kde=False)\n",
    "plt.ylabel('Customers', fontsize=12)\n",
    "plt.xlabel('Age', fontsize=12)\n",
    "\n",
    "show_save(is_show=False, is_save=True, name='test')\n"
   ]
  },
  {
   "cell_type": "code",
   "execution_count": null,
   "id": "53c9fae4-aaa2-4657-b0c5-ccf8288d5636",
   "metadata": {},
   "outputs": [],
   "source": [
    "# find mean of age in different stage\n",
    "low_mean_age = df.loc[(df.age >= 18) & (df.age <= 30), 'age'].mean(skipna=True)\n",
    "high_mean_age = df.loc[(df.age >= 30) & (df.age <= 100), 'age'].mean(skipna=True)\n",
    "total_mean_age = df['age'].mean()\n",
    "# fill age values\n",
    "df.loc[df.age > 100, 'age'] = high_mean_age\n",
    "df.loc[df.age < 18, 'age'] = low_mean_age\n",
    "df['age'].fillna(total_mean_age, inplace=True)\n",
    "plt.figure(dpi=300, figsize=(24, 8))\n",
    "sns.displot(df['age'],\n",
    "            bins=np.arange(0, 101, 2),\n",
    "            kde=False)\n",
    "plt.ylabel('Customers', fontsize=12)\n",
    "plt.xlabel('Age', fontsize=12)\n",
    "show_save(to_show, to_save)"
   ]
  },
  {
   "cell_type": "code",
   "execution_count": null,
   "id": "0a1d07d0-b3ff-4683-82f0-3127a050d79b",
   "metadata": {},
   "outputs": [],
   "source": [
    "\n",
    "# for nomprov\n",
    "# fix special value\n",
    "df.loc[df.nomprov == \"CORU\\xc3\\x91A, A\", \"nomprov\"] = \"CORUNA, A\"\n",
    "\n",
    "# for 'ind_nuevo' : because the max of months_active is 6, so we fill ind_nuevo by 1\n",
    "months_active = df.loc[df['ind_nuevo'].isnull(), :].groupby('ncodpers', sort=False).size()\n",
    "# the result is 6 which means all missing values of customers are new.\n",
    "months_active.max()\n",
    "# 1 means new customer\n",
    "df.loc[df['ind_nuevo'].isnull(), 'ind_nuevo'] = 1\n",
    "\n",
    "# for 'fecha_alta' : sort dates and use index to find median_date\n",
    "dates = df.loc[:, 'fecha_alta'].sort_values().reset_index()\n",
    "median_date = int(np.median(dates.index.values))\n",
    "dates = df.loc[:, 'fecha_alta'].sort_values().reset_index()\n",
    "df.loc[df.fecha_alta.isnull(), 'fecha_alta'] = dates.loc[median_date, 'fecha_alta']\n",
    "df['fecha_alta'].describe()\n"
   ]
  },
  {
   "cell_type": "code",
   "execution_count": null,
   "id": "a6e697f1-09d4-4cce-8e9d-7b34d44ebe23",
   "metadata": {},
   "outputs": [],
   "source": [
    "\n",
    "# for 'pais_residencia', 'sexo', 'ind_empleado' and 'indresi' :\n",
    "df.loc[df['pais_residencia'].isnull(), 'pais_residencia'] = 'NA'\n",
    "df.loc[df['sexo'].isnull(), 'sexo'] = 'NA'\n",
    "df.loc[df['ind_empleado'].isnull(), 'ind_empleado'] = 'NA'\n",
    "df.loc[df['indresi'].isnull(), 'indresi'] = 'NA'\n",
    "\n"
   ]
  },
  {
   "cell_type": "code",
   "execution_count": null,
   "id": "3440d110-6c9a-4a84-a2b8-83cae8ee577c",
   "metadata": {},
   "outputs": [],
   "source": [
    "# for antiguedad\n",
    "df['antiguedad'] = pd.to_numeric(df['antiguedad'], errors='coerce')\n",
    "df.loc[df['antiguedad'].isnull(), 'antiguedad'] = df['antiguedad'].min()\n",
    "# treat for -999999 outliers\n",
    "df.loc[df['antiguedad'] < 0, 'antiguedad'] = 0"
   ]
  },
  {
   "cell_type": "code",
   "execution_count": null,
   "id": "82e05254-24bf-44ac-8546-a622157bf7e2",
   "metadata": {},
   "outputs": [],
   "source": [
    "\n",
    "\n",
    "# LIU JIAYU takes charge of feature 15-19\n",
    "# for 'indext' : most of the customers have their birth country different than the bank country\n",
    "# for 'conyuemp' : huge missing values, drop it.\n",
    "# for 'tipodom' : not seem to be useful, the value of it almost be '1', drop it.\n",
    "df.drop(['conyuemp', 'tipodom'], axis=1, inplace=True)\n",
    "# for 'indfall' : deceased index, set missing value to be 'N' means not deceased.\n",
    "df.loc[df.indfall.isnull(), 'indfall'] = 'N'\n",
    "# drop all missing values of else features 'indext' and 'canal_entrada'.\n",
    "# draw two figures for 'canal_entrada'\n",
    "plt.figure(figsize=(20, 14))\n",
    "df['canal_entrada'].value_counts(dropna=False)(dropna=False)().plot(x=None, y=None, kind='pie')\n",
    "plt.show()\n",
    "\n",
    "# extract the necessary columns\n",
    "canal_label = df.loc[:, ['canal_entrada']].join(df.iloc[:, 24:])\n",
    "# in five major channels\n",
    "canal_subset = ['KHE', 'KAT', 'KFC', 'KFA', 'KHK']\n",
    "canal_label = canal_label.loc[canal_label['canal_entrada'].isin(canal_subset)]\n",
    "canal_label = canal_label.groupby('canal_entrada').agg('sum')\n",
    "canal_label.T.plot(kind='barh', stacked=True, fontsize=14, figsize=[16, 12])\n",
    "plt.title('Major join channels associated with products')\n",
    "plt.xlabel('Total number of customers')\n",
    "plt.ylabel('Products')\n",
    "plt.legend()\n",
    "plt.show()\n"
   ]
  },
  {
   "cell_type": "code",
   "execution_count": null,
   "id": "022d5e72-b50d-4a14-bce3-3e982a4fb8fe",
   "metadata": {},
   "outputs": [],
   "source": [
    "\n",
    "# WU SHANSHAN takes charge of feature 10-14\n",
    "# for 'indrel' : fill in the missing value with common status 1\n",
    "unique_ids = pd.Series(df['ncodpers'].unique())\n",
    "pd.Series([i for i in df.indrel]).value_counts()\n",
    "df.loc[df.indrel.isnull(), 'indrel'] = 1\n",
    "# for 'tiprel_1mes' : fill in the missing value with common status 'A'\n",
    "df.loc[df.tiprel_1mes.isnull(), 'tiprel_1mes'] = 'A'\n",
    "df.tiprel_1mes = df.tiprel_1mes.astype(\"category\")\n",
    "# for 'indrel_1mes' : fill in the missing value with common status 'P'\n",
    "map_dict = {1.0: \"1\",\n",
    "            \"1.0\": \"1\",\n",
    "            \"1\": \"1\",\n",
    "            \"3.0\": \"3\",\n",
    "            \"P\": \"P\",\n",
    "            3.0: \"3\",\n",
    "            2.0: \"2\",\n",
    "            \"3\": \"3\",\n",
    "            \"2.0\": \"2\",\n",
    "            \"4.0\": \"4\",\n",
    "            \"4\": \"4\",\n",
    "            \"2\": \"2\"}\n",
    "df.indrel_1mes.fillna('P', inplace=True)\n",
    "df.indrel_1mes = df.indrel_1mes.apply(lambda x: map_dict.get(x, x))\n",
    "df.indrel_1mes = df.indrel_1mes.astype('category')\n",
    "\n",
    "# LU YUCHENG takes charge of feature 20-24\n",
    "# for 'cod_prov' : assign a new category(the value is 0)\n",
    "df.loc[df['cod_prov'].isnull(), 'cod_prov'] = 0\n",
    "# for 'renta' : replace missing values with the median of gross income by province\n",
    "#               if all values in one province are missing values, replace them with the median of all incomes\n",
    "total_median = df.loc[df['renta'].notnull(), 'renta'].median()\n",
    "df.loc[df['renta'].isnull(), 'renta'] = 0\n",
    "renta_by_province = df.groupby('cod_prov').agg({'renta': lambda x: x.median(skipna=True)}).reset_index()\n",
    "renta_by_province = renta_by_province.replace(0, total_median)\n",
    "for i in range(len(renta_by_province)):\n",
    "    province_data = df[(df['cod_prov'] == i) & (df['renta'] == 0)]\n",
    "    df.loc[(df['cod_prov'] == i) & (df['renta'] == 0), 'renta'] = renta_by_province.loc[i, 'renta']\n",
    "# for 'segmento' : map string value with int value and assign a new category(the value is 0)\n",
    "mapping = {'01 - TOP': 1, '02 - PARTICULARES': 2, '03 - UNIVERSITARIO': 3}\n",
    "df['segmento'] = df['segmento'].map(mapping)\n",
    "df.loc[df['segmento'].isnull(), 'segmento'] = 0\n",
    "# df.drop(['nomprov'], axis=1, inplace=True)\n",
    "\n",
    "# Drop the columns with majority of missing values\n",
    "df.drop([\"ult_fec_cli_1t\"], axis=1, inplace=True)\n",
    "df.dropna(inplace=True)\n",
    "print(df.isnull().any())\n",
    "print(df.info())\n",
    "\n",
    "# resample for memory\n",
    "if is_sample is True:\n",
    "    # df = df.sample(n=50000)\n",
    "    df = df.sample(frac=0.5)\n",
    "if to_save:\n",
    "    df.to_csv(out_path)"
   ]
  },
  {
   "cell_type": "code",
   "execution_count": null,
   "id": "2bfdcadf",
   "metadata": {
    "collapsed": false,
    "jupyter": {
     "outputs_hidden": false
    }
   },
   "outputs": [],
   "source": []
  }
 ],
 "metadata": {
  "kernelspec": {
   "display_name": "Python 3 (ipykernel)",
   "language": "python",
   "name": "python3"
  },
  "language_info": {
   "codemirror_mode": {
    "name": "ipython",
    "version": 3
   },
   "file_extension": ".py",
   "mimetype": "text/x-python",
   "name": "python",
   "nbconvert_exporter": "python",
   "pygments_lexer": "ipython3",
   "version": "3.10.8"
  },
  "widgets": {
   "application/vnd.jupyter.widget-state+json": {
    "state": {},
    "version_major": 2,
    "version_minor": 0
   }
  }
 },
 "nbformat": 4,
 "nbformat_minor": 5
}
