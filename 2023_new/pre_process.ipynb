{
 "cells": [
  {
   "cell_type": "code",
   "execution_count": 1,
   "id": "9bfc8afc-46f6-46fc-9dac-cd500bee20f5",
   "metadata": {},
   "outputs": [],
   "source": [
    "import pandas as pd\n",
    "import matplotlib.pyplot as plt\n",
    "import seaborn as sns\n",
    "import numpy as np\n",
    "\n",
    "import sklearn.preprocessing as preprocessing\n",
    "from IPython.core.interactiveshell import InteractiveShell\n",
    "from sklearn.pipeline import Pipeline\n",
    "from sklearn.model_selection import train_test_split, GridSearchCV\n",
    "from sklearn.feature_selection import SelectKBest, SelectFromModel\n",
    "\n",
    "InteractiveShell.ast_node_interactivity = 'all'\n",
    "\n",
    "to_show = True\n",
    "to_save = False\n",
    "is_sample = False\n",
    "is_sample = True\n",
    "limit_rows = 1000"
   ]
  },
  {
   "cell_type": "code",
   "execution_count": 2,
   "id": "5f80f075",
   "metadata": {
    "collapsed": false,
    "jupyter": {
     "outputs_hidden": false
    }
   },
   "outputs": [],
   "source": [
    "# This data cleaning part gets ideas from https://www.kaggle.com/apryor6/detailed-cleaning-visualization-python\n",
    "# HAN YIKAI takes charge of feature 1-9\n",
    "# official file\n",
    "train_file = '../input/train_ver2.csv'\n",
    "test_file = '../input/test_ver2.csv'\n",
    "\n",
    "out_path = '../output/'\n",
    "\n",
    "\n",
    "def save_df2file(data_frame: pd.DataFrame, name: str):\n",
    "    data_frame.to_csv(f'{out_path}{name}.csv')\n",
    "\n",
    "# sns.set(rc = {'figure.figsize':(20,18)})\n"
   ]
  },
  {
   "cell_type": "code",
   "execution_count": 3,
   "id": "e8b56e18",
   "metadata": {
    "collapsed": false,
    "jupyter": {
     "outputs_hidden": false
    }
   },
   "outputs": [
    {
     "name": "stdout",
     "output_type": "stream",
     "text": [
      "<class 'pandas.core.frame.DataFrame'>\n",
      "Int64Index: 942171 entries, 9249467 to 2839387\n",
      "Data columns (total 48 columns):\n",
      " #   Column                 Non-Null Count   Dtype  \n",
      "---  ------                 --------------   -----  \n",
      " 0   fecha_dato             942171 non-null  object \n",
      " 1   ncodpers               942171 non-null  int64  \n",
      " 2   ind_empleado           936587 non-null  object \n",
      " 3   pais_residencia        936587 non-null  object \n",
      " 4   sexo                   936582 non-null  object \n",
      " 5   age                    942171 non-null  object \n",
      " 6   fecha_alta             936587 non-null  object \n",
      " 7   ind_nuevo              936587 non-null  object \n",
      " 8   antiguedad             942171 non-null  object \n",
      " 9   indrel                 936587 non-null  float64\n",
      " 10  ult_fec_cli_1t         4931 non-null    object \n",
      " 11  indrel_1mes            917374 non-null  object \n",
      " 12  tiprel_1mes            917374 non-null  object \n",
      " 13  indresi                936587 non-null  object \n",
      " 14  indext                 936587 non-null  object \n",
      " 15  conyuemp               135 non-null     object \n",
      " 16  canal_entrada          912882 non-null  object \n",
      " 17  indfall                936587 non-null  object \n",
      " 18  tipodom                936587 non-null  float64\n",
      " 19  cod_prov               932594 non-null  float64\n",
      " 20  nomprov                932594 non-null  object \n",
      " 21  ind_actividad_cliente  936587 non-null  float64\n",
      " 22  renta                  708322 non-null  float64\n",
      " 23  segmento               912530 non-null  object \n",
      " 24  ind_ahor_fin_ult1      942171 non-null  int64  \n",
      " 25  ind_aval_fin_ult1      942171 non-null  int64  \n",
      " 26  ind_cco_fin_ult1       942171 non-null  int64  \n",
      " 27  ind_cder_fin_ult1      942171 non-null  int64  \n",
      " 28  ind_cno_fin_ult1       942171 non-null  int64  \n",
      " 29  ind_ctju_fin_ult1      942171 non-null  int64  \n",
      " 30  ind_ctma_fin_ult1      942171 non-null  int64  \n",
      " 31  ind_ctop_fin_ult1      942171 non-null  int64  \n",
      " 32  ind_ctpp_fin_ult1      942171 non-null  int64  \n",
      " 33  ind_deco_fin_ult1      942171 non-null  int64  \n",
      " 34  ind_deme_fin_ult1      942171 non-null  int64  \n",
      " 35  ind_dela_fin_ult1      942171 non-null  int64  \n",
      " 36  ind_ecue_fin_ult1      942171 non-null  int64  \n",
      " 37  ind_fond_fin_ult1      942171 non-null  int64  \n",
      " 38  ind_hip_fin_ult1       942171 non-null  int64  \n",
      " 39  ind_plan_fin_ult1      942171 non-null  int64  \n",
      " 40  ind_pres_fin_ult1      942171 non-null  int64  \n",
      " 41  ind_reca_fin_ult1      942171 non-null  int64  \n",
      " 42  ind_tjcr_fin_ult1      942171 non-null  int64  \n",
      " 43  ind_valo_fin_ult1      942171 non-null  int64  \n",
      " 44  ind_viv_fin_ult1       942171 non-null  int64  \n",
      " 45  ind_nomina_ult1        939024 non-null  float64\n",
      " 46  ind_nom_pens_ult1      939024 non-null  float64\n",
      " 47  ind_recibo_ult1        942171 non-null  int64  \n",
      "dtypes: float64(7), int64(23), object(18)\n",
      "memory usage: 352.2+ MB\n"
     ]
    }
   ],
   "source": [
    "df = pd.read_csv(train_file,\n",
    "                 dtype={'sexo': str,\n",
    "                        'ind_nuevo': str,\n",
    "                        'ult_fec_cli_1t': str,\n",
    "                        'indext': str},\n",
    "                 # nrows=limit_rows,\n",
    "                 low_memory=False\n",
    "                 )\n",
    "# test_df = pd.read_csv(test_file,\n",
    "#                       dtype={'sexo': str,\n",
    "#                              'ind_nuevo': str,\n",
    "#                              'ult_fec_cli_1t': str,\n",
    "#                              'indext': str},\n",
    "#                       low_memory=False\n",
    "#                       )\n",
    "# resample the data for saving memory and shuffle the dataset\n",
    "if is_sample:\n",
    "    df = df.sample(frac=0.4)\n",
    "\n",
    "df = df.drop_duplicates(['ncodpers'], keep='last')\n",
    "\n",
    "y_name_list = list(df.iloc[:, 24:].columns)\n",
    "x_name_list = list(df.iloc[:, :24].columns)\n",
    "# df = df[order]\n",
    "df.info()"
   ]
  },
  {
   "cell_type": "code",
   "execution_count": 4,
   "id": "ca2bdce7",
   "metadata": {
    "collapsed": false
   },
   "outputs": [
    {
     "data": {
      "text/plain": [
       "ind_ahor_fin_ult1       0\n",
       "ind_aval_fin_ult1       0\n",
       "ind_cco_fin_ult1        0\n",
       "ind_cder_fin_ult1       0\n",
       "ind_cno_fin_ult1        0\n",
       "ind_ctju_fin_ult1       0\n",
       "ind_ctma_fin_ult1       0\n",
       "ind_ctop_fin_ult1       0\n",
       "ind_ctpp_fin_ult1       0\n",
       "ind_deco_fin_ult1       0\n",
       "ind_deme_fin_ult1       0\n",
       "ind_dela_fin_ult1       0\n",
       "ind_ecue_fin_ult1       0\n",
       "ind_fond_fin_ult1       0\n",
       "ind_hip_fin_ult1        0\n",
       "ind_plan_fin_ult1       0\n",
       "ind_pres_fin_ult1       0\n",
       "ind_reca_fin_ult1       0\n",
       "ind_tjcr_fin_ult1       0\n",
       "ind_valo_fin_ult1       0\n",
       "ind_viv_fin_ult1        0\n",
       "ind_nomina_ult1      3147\n",
       "ind_nom_pens_ult1    3147\n",
       "ind_recibo_ult1         0\n",
       "dtype: int64"
      ]
     },
     "execution_count": 4,
     "metadata": {},
     "output_type": "execute_result"
    }
   ],
   "source": [
    "df.loc[:, y_name_list].isna().sum()"
   ]
  },
  {
   "cell_type": "code",
   "execution_count": 5,
   "id": "d0b3fef4",
   "metadata": {
    "collapsed": false
   },
   "outputs": [
    {
     "data": {
      "text/plain": [
       "['ind_ahor_fin_ult1',\n",
       " 'ind_aval_fin_ult1',\n",
       " 'ind_cco_fin_ult1',\n",
       " 'ind_cder_fin_ult1',\n",
       " 'ind_cno_fin_ult1',\n",
       " 'ind_ctju_fin_ult1',\n",
       " 'ind_ctma_fin_ult1',\n",
       " 'ind_ctop_fin_ult1',\n",
       " 'ind_ctpp_fin_ult1',\n",
       " 'ind_deco_fin_ult1',\n",
       " 'ind_deme_fin_ult1',\n",
       " 'ind_dela_fin_ult1',\n",
       " 'ind_ecue_fin_ult1',\n",
       " 'ind_fond_fin_ult1',\n",
       " 'ind_hip_fin_ult1',\n",
       " 'ind_plan_fin_ult1',\n",
       " 'ind_pres_fin_ult1',\n",
       " 'ind_reca_fin_ult1',\n",
       " 'ind_tjcr_fin_ult1',\n",
       " 'ind_valo_fin_ult1',\n",
       " 'ind_viv_fin_ult1',\n",
       " 'ind_nomina_ult1',\n",
       " 'ind_nom_pens_ult1',\n",
       " 'ind_recibo_ult1']"
      ]
     },
     "execution_count": 5,
     "metadata": {},
     "output_type": "execute_result"
    }
   ],
   "source": [
    "y_name_list"
   ]
  },
  {
   "cell_type": "code",
   "execution_count": 6,
   "id": "2b7cbd41",
   "metadata": {
    "collapsed": false
   },
   "outputs": [],
   "source": [
    "# 复用函数\n",
    "\n",
    "# 统计缺失值的列\n",
    "def cal_loss(data):\n",
    "    fil = data.iloc[:, :24].isnull().any()\n",
    "    loss_column = fil[fil == True].index\n",
    "    res = data.loc[:, loss_column].isnull().sum()\n",
    "    print(res)\n",
    "\n",
    "#\n",
    "# def renew_df(base_df: pd.DataFrame):\n",
    "#     new_df = base_df\n",
    "#     base_df = df.copy(deep=True)\n",
    "#     return new_df"
   ]
  },
  {
   "cell_type": "code",
   "execution_count": 7,
   "id": "32ce7750",
   "metadata": {
    "collapsed": false
   },
   "outputs": [
    {
     "name": "stderr",
     "output_type": "stream",
     "text": [
      "/tmp/ipykernel_705974/2941718919.py:5: FutureWarning: In a future version, `df.iloc[:, i] = newvals` will attempt to set the values inplace instead of always setting a new array. To retain the old behavior, use either `df[df.columns[i]] = newvals` or, if columns are non-unique, `df.isetitem(i, newvals)`\n",
      "  df.loc[:, y_name_list] = df.loc[:, y_name_list].astype('uint8')\n"
     ]
    },
    {
     "data": {
      "text/plain": [
       "ind_ahor_fin_ult1  ind_aval_fin_ult1  ind_cco_fin_ult1  ind_cder_fin_ult1  ind_cno_fin_ult1  ind_ctju_fin_ult1  ind_ctma_fin_ult1  ind_ctop_fin_ult1  ind_ctpp_fin_ult1  ind_deco_fin_ult1  ind_deme_fin_ult1  ind_dela_fin_ult1  ind_ecue_fin_ult1  ind_fond_fin_ult1  ind_hip_fin_ult1  ind_plan_fin_ult1  ind_pres_fin_ult1  ind_reca_fin_ult1  ind_tjcr_fin_ult1  ind_valo_fin_ult1  ind_viv_fin_ult1  ind_nomina_ult1  ind_nom_pens_ult1  ind_recibo_ult1\n",
       "0                  0                  1                 0                  0                 0                  0                  0                  0                  0                  0                  0                  0                  0                  0                 0                  0                  0                  0                  0                  0                 0                0                  0                  396909\n",
       "                                      0                 0                  0                 0                  0                  0                  0                  0                  0                  0                  0                  0                  0                 0                  0                  0                  0                  0                  0                 0                0                  0                  235013\n",
       "                                      1                 0                  0                 0                  0                  1                  0                  0                  0                  0                  0                  0                  0                 0                  0                  0                  0                  0                  0                 0                0                  0                   40541\n",
       "                                                                                                                                   0                  0                  0                  0                  0                  0                  0                  0                 0                  0                  0                  0                  0                  0                 0                0                  1                   27281\n",
       "                                      0                 0                  0                 0                  0                  1                  0                  0                  0                  0                  0                  0                  0                 0                  0                  0                  0                  0                  0                 0                0                  0                   23958\n",
       "                                                                                                                                                                                                                                                                                                                                                                                                                                                                   ...  \n",
       "                                                                           1                 0                  0                  0                  0                  0                  1                  0                  0                  0                  0                 0                  0                  1                  1                  0                  0                 1                1                  1                       1\n",
       "                                                                                                                                                                                                                                                                                                                                                                                                                                               0                       1\n",
       "                                      1                 0                  0                 0                  0                  0                  1                  0                  0                  0                  1                  0                  0                 0                  0                  0                  0                  0                  1                 0                0                  1                       1\n",
       "                                                                                                                                                                                                                                                                                                                                                                                                           1                1                  0                       1\n",
       "1                  0                  1                 0                  1                 0                  1                  0                  1                  0                  0                  1                  1                  0                  0                 0                  0                  1                  1                  0                  1                 1                1                  1                       1\n",
       "Length: 6793, dtype: int64"
      ]
     },
     "execution_count": 7,
     "metadata": {},
     "output_type": "execute_result"
    }
   ],
   "source": [
    "# 删除y空缺的行\n",
    "df.drop(df[df['ind_nomina_ult1'].isnull()].index, inplace=True)\n",
    "\n",
    "# 调整label的格式节省空间, 能节约2.1G 空间, 将近一半\n",
    "df.loc[:, y_name_list] = df.loc[:, y_name_list].astype('uint8')\n",
    "df.loc[:, y_name_list].value_counts(dropna=False)"
   ]
  },
  {
   "cell_type": "code",
   "execution_count": 8,
   "id": "a21c41a6",
   "metadata": {
    "collapsed": false,
    "jupyter": {
     "outputs_hidden": false
    }
   },
   "outputs": [
    {
     "name": "stdout",
     "output_type": "stream",
     "text": [
      "<class 'pandas.core.frame.DataFrame'>\n",
      "Int64Index: 939024 entries, 9249467 to 2839387\n",
      "Data columns (total 48 columns):\n",
      " #   Column                 Non-Null Count   Dtype  \n",
      "---  ------                 --------------   -----  \n",
      " 0   fecha_dato             939024 non-null  object \n",
      " 1   ncodpers               939024 non-null  int64  \n",
      " 2   ind_empleado           936570 non-null  object \n",
      " 3   pais_residencia        936570 non-null  object \n",
      " 4   sexo                   936565 non-null  object \n",
      " 5   age                    939024 non-null  object \n",
      " 6   fecha_alta             936570 non-null  object \n",
      " 7   ind_nuevo              936570 non-null  object \n",
      " 8   antiguedad             939024 non-null  object \n",
      " 9   indrel                 936570 non-null  float64\n",
      " 10  ult_fec_cli_1t         4931 non-null    object \n",
      " 11  indrel_1mes            917357 non-null  object \n",
      " 12  tiprel_1mes            917357 non-null  object \n",
      " 13  indresi                936570 non-null  object \n",
      " 14  indext                 936570 non-null  object \n",
      " 15  conyuemp               135 non-null     object \n",
      " 16  canal_entrada          912870 non-null  object \n",
      " 17  indfall                936570 non-null  object \n",
      " 18  tipodom                936570 non-null  float64\n",
      " 19  cod_prov               932577 non-null  float64\n",
      " 20  nomprov                932577 non-null  object \n",
      " 21  ind_actividad_cliente  936570 non-null  float64\n",
      " 22  renta                  708308 non-null  float64\n",
      " 23  segmento               912520 non-null  object \n",
      " 24  ind_ahor_fin_ult1      939024 non-null  uint8  \n",
      " 25  ind_aval_fin_ult1      939024 non-null  uint8  \n",
      " 26  ind_cco_fin_ult1       939024 non-null  uint8  \n",
      " 27  ind_cder_fin_ult1      939024 non-null  uint8  \n",
      " 28  ind_cno_fin_ult1       939024 non-null  uint8  \n",
      " 29  ind_ctju_fin_ult1      939024 non-null  uint8  \n",
      " 30  ind_ctma_fin_ult1      939024 non-null  uint8  \n",
      " 31  ind_ctop_fin_ult1      939024 non-null  uint8  \n",
      " 32  ind_ctpp_fin_ult1      939024 non-null  uint8  \n",
      " 33  ind_deco_fin_ult1      939024 non-null  uint8  \n",
      " 34  ind_deme_fin_ult1      939024 non-null  uint8  \n",
      " 35  ind_dela_fin_ult1      939024 non-null  uint8  \n",
      " 36  ind_ecue_fin_ult1      939024 non-null  uint8  \n",
      " 37  ind_fond_fin_ult1      939024 non-null  uint8  \n",
      " 38  ind_hip_fin_ult1       939024 non-null  uint8  \n",
      " 39  ind_plan_fin_ult1      939024 non-null  uint8  \n",
      " 40  ind_pres_fin_ult1      939024 non-null  uint8  \n",
      " 41  ind_reca_fin_ult1      939024 non-null  uint8  \n",
      " 42  ind_tjcr_fin_ult1      939024 non-null  uint8  \n",
      " 43  ind_valo_fin_ult1      939024 non-null  uint8  \n",
      " 44  ind_viv_fin_ult1       939024 non-null  uint8  \n",
      " 45  ind_nomina_ult1        939024 non-null  uint8  \n",
      " 46  ind_nom_pens_ult1      939024 non-null  uint8  \n",
      " 47  ind_recibo_ult1        939024 non-null  uint8  \n",
      "dtypes: float64(5), int64(1), object(18), uint8(24)\n",
      "memory usage: 200.6+ MB\n"
     ]
    }
   ],
   "source": [
    "df.info()"
   ]
  },
  {
   "cell_type": "code",
   "execution_count": 9,
   "id": "c4451f94",
   "metadata": {
    "collapsed": false,
    "jupyter": {
     "outputs_hidden": false
    }
   },
   "outputs": [],
   "source": [
    "# fecha_dato 日期\n",
    "# ncodpers 客户代码\n",
    "# ind_empleado 员工\n",
    "# pais_residencia 国藉\n",
    "# sexo 性别,\n",
    "# age 年龄\n",
    "# fecha_alta 注册日期,\n",
    "# ind_nuevo 新的,\n",
    "# antiguedad 客户资历,\n",
    "# indrel 最后访问日期, 一个月indrel\n",
    "# ult_fec_cli_1t  作为主要客户的日期\n",
    "# indrel_1mes  1 (First/Primary customer), 2 (co-owner ),P (Potential),3 (former primary), 4(former co-owner)\n",
    "# tiprel_1mes  月初客户关系类型 A (active), I (inactive), P (former customer 前客户),R (Potential 潜在客户)\n",
    "# indresi 居住指数S (Yes) 银行和居住国相同 N (No) 不同国家\n",
    "# indext  外国人指数, S 本国出生, N 非本国\n",
    "# conyuemp 配偶指数, S 客户是员工配偶\n",
    "# canal_entrada\n",
    "# indfall\n",
    "# tipodom\n",
    "# cod_prov 省份编码\n",
    "# nomprov 省份名称\n",
    "# ind_actividad_cliente\n",
    "# renta 家庭总收入\n",
    "# segmento segmentation: 01 - VIP, 02 - Individuals 03 - college graduated"
   ]
  },
  {
   "cell_type": "code",
   "execution_count": 10,
   "id": "e551abec",
   "metadata": {
    "collapsed": false
   },
   "outputs": [],
   "source": [
    "# cal_loss(df)"
   ]
  },
  {
   "cell_type": "code",
   "execution_count": 11,
   "id": "0c57ccbf",
   "metadata": {
    "collapsed": false,
    "jupyter": {
     "outputs_hidden": false
    }
   },
   "outputs": [],
   "source": [
    "# 删除27734条空行, 所有全空\n",
    "df.drop(df[df['ind_empleado'].isnull()].index, inplace=True)\n",
    "# 删除全other的空行, 所有全空\n",
    "df.drop(df[df['pais_residencia'] == 'others'].index, inplace=True)"
   ]
  },
  {
   "cell_type": "code",
   "execution_count": 12,
   "id": "ab2a825b",
   "metadata": {
    "collapsed": false
   },
   "outputs": [],
   "source": [
    "# 缺失值很少的删除行\n",
    "df.drop(df[df['sexo'].isnull()].index, inplace=True)\n",
    "df.drop(df[df['tipodom'].isnull()].index, inplace=True)"
   ]
  },
  {
   "cell_type": "code",
   "execution_count": 13,
   "id": "b4a95ae6",
   "metadata": {
    "collapsed": false
   },
   "outputs": [],
   "source": [
    "# 缺失值很多的删除列\n",
    "df.drop('ult_fec_cli_1t', axis=1, inplace=True)\n",
    "df.drop('conyuemp', axis=1, inplace=True)"
   ]
  },
  {
   "cell_type": "code",
   "execution_count": 14,
   "id": "be016cdc",
   "metadata": {
    "collapsed": false
   },
   "outputs": [],
   "source": [
    "# 省份名称直接删除, 省份编码缺失值用-1填充\n",
    "df.drop('nomprov', axis=1, inplace=True)\n",
    "df.cod_prov.fillna(-1, inplace=True)"
   ]
  },
  {
   "cell_type": "code",
   "execution_count": 15,
   "id": "6737bdd7",
   "metadata": {
    "collapsed": false
   },
   "outputs": [
    {
     "data": {
      "text/plain": [
       "KHE    254049\n",
       "KAT    208199\n",
       "KFC    202739\n",
       "KHQ     66115\n",
       "KFA     26077\n",
       "        ...  \n",
       "KDI         1\n",
       "KDL         1\n",
       "KGN         1\n",
       "025         1\n",
       "KDB         1\n",
       "Name: canal_entrada, Length: 160, dtype: int64"
      ]
     },
     "execution_count": 15,
     "metadata": {},
     "output_type": "execute_result"
    }
   ],
   "source": [
    "# canal_entrada 用户加入渠道非常多162种 而且比较平衡, 还是用unknown填充, 考虑KNN填充\n",
    "df.canal_entrada.value_counts()\n",
    "df.canal_entrada.fillna('unknown', inplace=True)"
   ]
  },
  {
   "cell_type": "code",
   "execution_count": 16,
   "id": "3b21ceda",
   "metadata": {
    "collapsed": false
   },
   "outputs": [],
   "source": [
    "df.indrel_1mes.fillna('unknown', inplace=True)\n",
    "df.tiprel_1mes.fillna('unknown', inplace=True)"
   ]
  },
  {
   "cell_type": "code",
   "execution_count": 17,
   "id": "22163543",
   "metadata": {
    "collapsed": false
   },
   "outputs": [],
   "source": [
    "# 23. segmento : 01 - VIP, 02 - 个人 03 - 大学毕业\n",
    "df.segmento.fillna('00', inplace=True)"
   ]
  },
  {
   "cell_type": "code",
   "execution_count": 18,
   "id": "5d8a37ae",
   "metadata": {
    "collapsed": false
   },
   "outputs": [
    {
     "name": "stdout",
     "output_type": "stream",
     "text": [
      "<class 'pandas.core.frame.DataFrame'>\n",
      "Int64Index: 936565 entries, 9249467 to 2839387\n",
      "Data columns (total 45 columns):\n",
      " #   Column                 Non-Null Count   Dtype  \n",
      "---  ------                 --------------   -----  \n",
      " 0   fecha_dato             936565 non-null  object \n",
      " 1   ncodpers               936565 non-null  int64  \n",
      " 2   ind_empleado           936565 non-null  object \n",
      " 3   pais_residencia        936565 non-null  object \n",
      " 4   sexo                   936565 non-null  object \n",
      " 5   age                    936565 non-null  object \n",
      " 6   fecha_alta             936565 non-null  object \n",
      " 7   ind_nuevo              936565 non-null  object \n",
      " 8   antiguedad             936565 non-null  object \n",
      " 9   indrel                 936565 non-null  float64\n",
      " 10  indrel_1mes            936565 non-null  object \n",
      " 11  tiprel_1mes            936565 non-null  object \n",
      " 12  indresi                936565 non-null  object \n",
      " 13  indext                 936565 non-null  object \n",
      " 14  canal_entrada          936565 non-null  object \n",
      " 15  indfall                936565 non-null  object \n",
      " 16  tipodom                936565 non-null  float64\n",
      " 17  cod_prov               936565 non-null  float64\n",
      " 18  ind_actividad_cliente  936565 non-null  float64\n",
      " 19  renta                  708305 non-null  float64\n",
      " 20  segmento               936565 non-null  object \n",
      " 21  ind_ahor_fin_ult1      936565 non-null  uint8  \n",
      " 22  ind_aval_fin_ult1      936565 non-null  uint8  \n",
      " 23  ind_cco_fin_ult1       936565 non-null  uint8  \n",
      " 24  ind_cder_fin_ult1      936565 non-null  uint8  \n",
      " 25  ind_cno_fin_ult1       936565 non-null  uint8  \n",
      " 26  ind_ctju_fin_ult1      936565 non-null  uint8  \n",
      " 27  ind_ctma_fin_ult1      936565 non-null  uint8  \n",
      " 28  ind_ctop_fin_ult1      936565 non-null  uint8  \n",
      " 29  ind_ctpp_fin_ult1      936565 non-null  uint8  \n",
      " 30  ind_deco_fin_ult1      936565 non-null  uint8  \n",
      " 31  ind_deme_fin_ult1      936565 non-null  uint8  \n",
      " 32  ind_dela_fin_ult1      936565 non-null  uint8  \n",
      " 33  ind_ecue_fin_ult1      936565 non-null  uint8  \n",
      " 34  ind_fond_fin_ult1      936565 non-null  uint8  \n",
      " 35  ind_hip_fin_ult1       936565 non-null  uint8  \n",
      " 36  ind_plan_fin_ult1      936565 non-null  uint8  \n",
      " 37  ind_pres_fin_ult1      936565 non-null  uint8  \n",
      " 38  ind_reca_fin_ult1      936565 non-null  uint8  \n",
      " 39  ind_tjcr_fin_ult1      936565 non-null  uint8  \n",
      " 40  ind_valo_fin_ult1      936565 non-null  uint8  \n",
      " 41  ind_viv_fin_ult1       936565 non-null  uint8  \n",
      " 42  ind_nomina_ult1        936565 non-null  uint8  \n",
      " 43  ind_nom_pens_ult1      936565 non-null  uint8  \n",
      " 44  ind_recibo_ult1        936565 non-null  uint8  \n",
      "dtypes: float64(5), int64(1), object(15), uint8(24)\n",
      "memory usage: 178.6+ MB\n"
     ]
    }
   ],
   "source": [
    "df.info()"
   ]
  },
  {
   "cell_type": "code",
   "execution_count": 19,
   "id": "d9e274e7",
   "metadata": {
    "collapsed": false
   },
   "outputs": [
    {
     "name": "stdout",
     "output_type": "stream",
     "text": [
      "renta    228260\n",
      "dtype: int64\n"
     ]
    }
   ],
   "source": [
    "cal_loss(df)"
   ]
  },
  {
   "cell_type": "markdown",
   "id": "f531f43c",
   "metadata": {
    "collapsed": false
   },
   "source": [
    "# 编码"
   ]
  },
  {
   "cell_type": "code",
   "execution_count": 20,
   "id": "bc510239",
   "metadata": {
    "collapsed": false
   },
   "outputs": [],
   "source": [
    "# 0. fecha_dato 日期\n",
    "# df.fecha_dato.value_counts(dropna=False).plot(kind='bar')\n",
    "# 1. ncodpers 客户代码, 弃用\n",
    "# df.ncodpers.value_counts(dropna=False)"
   ]
  },
  {
   "cell_type": "code",
   "execution_count": 21,
   "id": "49798697",
   "metadata": {
    "collapsed": false
   },
   "outputs": [],
   "source": [
    "# 日期和客户代码删除\n",
    "df.drop(['fecha_dato', 'ncodpers'], axis=1, inplace=True)"
   ]
  },
  {
   "cell_type": "code",
   "execution_count": 22,
   "id": "46255b0d",
   "metadata": {
    "collapsed": false
   },
   "outputs": [],
   "source": [
    "def label_enc(data):\n",
    "    label_enc = preprocessing.LabelEncoder()  #获取一个LabelEncoder\n",
    "    # label_enc = preprocessing.OrdinalEncoder()  #获取一个LabelEncoder\n",
    "    label_data = label_enc.fit_transform(data)\n",
    "    return np.array(label_data).reshape(-1, 1)\n",
    "\n",
    "\n",
    "# def concat_encoder(df):\n",
    "#     data = pd.concat([data, pd.DataFrame(arrays, columns=names)],axis=1)\n",
    "#     data = data.drop(['hour'],axis=1)\n",
    "#     return df\n",
    "\n",
    "# 对单列编码\n",
    "def oh_enc(data):\n",
    "    label_data = label_enc(data)\n",
    "    # 2. 再用onehot\n",
    "    oh_enc = preprocessing.OneHotEncoder()\n",
    "    name_list = []\n",
    "    for i in range(label_data.classes_.shape[0]):\n",
    "        name = f'{data.name}_{i}'\n",
    "        name_list.append(name)\n",
    "    # 给fit_transform传递的X一定要是 2D的，即（samples，features），否则会报错`\n",
    "    onehot_data = oh_enc.fit_transform(label_data)\n",
    "    # 转成numpy array格式\n",
    "    onehot_data = onehot_data.toarray()\n",
    "    enc_df = pd.DataFrame(onehot_data, columns=name_list)\n",
    "    return enc_df"
   ]
  },
  {
   "cell_type": "code",
   "execution_count": 23,
   "id": "ba33b668",
   "metadata": {
    "collapsed": false
   },
   "outputs": [],
   "source": [
    "# 2. 5 ind_empleado 员工指标,\n",
    "# 树模型直接不处理\n",
    "# A active 活跃, B ex employed 前雇员, F filial 子女, N not employee 非雇员, P pasive 被动, 目前没有寻找新工作, 但是对新工作持开放态度\n",
    "\n",
    "# df.ind_empleado.value_counts(dropna=False)\n",
    "# enc_array = label_enc(df.ind_empleado)\n",
    "def get_ordinal_name(data) -> list:\n",
    "    return [f'{data.name}_enc']\n",
    "\n",
    "\n",
    "def get_onehot_name(data) -> list:\n",
    "    length = data.unique().shape[0]\n",
    "    l = []\n",
    "    for i in range(length):\n",
    "        l.append(f'{data.name}_oh_{i}')\n",
    "    return l\n",
    "\n",
    "\n",
    "def new_ordinal_df(data: pd.Series, array):\n",
    "    name: list = get_ordinal_name(data)\n",
    "    return pd.DataFrame(array, index=data.index, columns=name)\n",
    "\n",
    "\n",
    "# TODO\n",
    "def new_onehot_df(data: pd.Series, array):\n",
    "    name: list = get_ordinal_name(data)\n",
    "    return pd.DataFrame(array, index=data.index, columns=name)\n",
    "\n",
    "\n",
    "# TODO\n",
    "def show_value_counts(df, od_set: set, oh_set: set):\n",
    "    df[get_ordinal_name(df.ind_empleado)].value_counts(dropna=False)\n",
    "\n",
    "\n",
    "od_set = set()\n",
    "oh_set = set()"
   ]
  },
  {
   "cell_type": "code",
   "execution_count": 24,
   "id": "b6c606d3",
   "metadata": {
    "collapsed": false
   },
   "outputs": [
    {
     "data": {
      "text/plain": [
       "['ind_empleado_oh_0',\n",
       " 'ind_empleado_oh_1',\n",
       " 'ind_empleado_oh_2',\n",
       " 'ind_empleado_oh_3',\n",
       " 'ind_empleado_oh_4']"
      ]
     },
     "execution_count": 24,
     "metadata": {},
     "output_type": "execute_result"
    },
    {
     "data": {
      "text/plain": [
       "['ind_empleado_enc']"
      ]
     },
     "execution_count": 24,
     "metadata": {},
     "output_type": "execute_result"
    }
   ],
   "source": [
    "l = get_onehot_name(df.ind_empleado)\n",
    "e = get_ordinal_name(df.ind_empleado)\n",
    "l\n",
    "e"
   ]
  },
  {
   "cell_type": "code",
   "execution_count": 25,
   "id": "e20d9c85",
   "metadata": {
    "collapsed": false
   },
   "outputs": [],
   "source": [
    "# df.drop(get_ordinal_name(df.ind_empleado), axis=1, inplace=True)"
   ]
  },
  {
   "cell_type": "code",
   "execution_count": 26,
   "id": "c812f22e",
   "metadata": {
    "collapsed": false
   },
   "outputs": [
    {
     "data": {
      "text/plain": [
       "N    936045\n",
       "B       219\n",
       "F       152\n",
       "A       148\n",
       "S         1\n",
       "Name: ind_empleado, dtype: int64"
      ]
     },
     "execution_count": 26,
     "metadata": {},
     "output_type": "execute_result"
    }
   ],
   "source": [
    "# df[get_ordinal_name(df.ind_empleado)].value_counts()\n",
    "\n",
    "df.ind_empleado.value_counts(dropna=False)"
   ]
  },
  {
   "cell_type": "code",
   "execution_count": 27,
   "id": "1380f438",
   "metadata": {
    "collapsed": false
   },
   "outputs": [],
   "source": [
    "# 单列编码\n",
    "# df = pd.concat([df, new_ordinal_df(df.ind_empleado, label_enc(df.ind_empleado))], axis=1)\n",
    "# df[get_ordinal_name(df.ind_empleado)].value_counts(dropna=False)\n",
    "\n",
    "# 用list收集, 统一进行编码处理\n",
    "od_set.add(df.ind_empleado.name)"
   ]
  },
  {
   "cell_type": "code",
   "execution_count": 28,
   "id": "f4f0449b",
   "metadata": {
    "collapsed": false
   },
   "outputs": [
    {
     "data": {
      "text/plain": [
       "ES        932572\n",
       "others      3993\n",
       "Name: pais_residencia, dtype: int64"
      ]
     },
     "execution_count": 28,
     "metadata": {},
     "output_type": "execute_result"
    }
   ],
   "source": [
    "# 3. 118 pais_residencia 客户国籍 ES占比巨大\n",
    "# 发现others国家的人所有数据都是others\n",
    "# 继续处理\n",
    "# Nan unknown\n",
    "# TODO 计算占比\n",
    "# df.pais_residencia.value_counts(dropna=False)\n",
    "# df.pais_residencia.unique()\n",
    "\n",
    "# 用others替换其他\n",
    "df.loc[(df['pais_residencia'] != 'ES'), 'pais_residencia'] = 'others'\n",
    "\n",
    "# df[df['pais_residencia']=='ES'].sum()\n",
    "df.pais_residencia.value_counts(dropna=False)\n",
    "\n",
    "od_set.add(df.pais_residencia.name)"
   ]
  },
  {
   "cell_type": "markdown",
   "id": "0b52f8d5",
   "metadata": {
    "collapsed": false
   },
   "source": []
  },
  {
   "cell_type": "code",
   "execution_count": 29,
   "id": "9626cbc4",
   "metadata": {
    "collapsed": false
   },
   "outputs": [
    {
     "data": {
      "text/plain": [
       "V    508174\n",
       "H    428391\n",
       "Name: sexo, dtype: int64"
      ]
     },
     "execution_count": 29,
     "metadata": {},
     "output_type": "execute_result"
    }
   ],
   "source": [
    "# 4. sexo\n",
    "# Nan = unknown\n",
    "# 无序类别\n",
    "df.sexo.value_counts(dropna=False)\n",
    "od_set.add(df.sexo.name)"
   ]
  },
  {
   "cell_type": "code",
   "execution_count": 30,
   "id": "998f4721",
   "metadata": {
    "collapsed": false
   },
   "outputs": [],
   "source": [
    "def sd_scale(data):\n",
    "    scaler = preprocessing.StandardScaler()\n",
    "    data = np.array(data).reshape(-1, 1)\n",
    "    return scaler.fit_transform(data)\n",
    "\n",
    "\n",
    "def mm_scale(data):\n",
    "    scaler = preprocessing.MinMaxScaler()\n",
    "    data = np.array(data).reshape(-1, 1)\n",
    "    return scaler.fit_transform(data)\n"
   ]
  },
  {
   "cell_type": "code",
   "execution_count": 31,
   "id": "4ff5752a",
   "metadata": {
    "collapsed": false
   },
   "outputs": [],
   "source": [
    "# 5. age 年龄\n",
    "df.age = df.age.astype('int8')\n",
    "\n",
    "# 清洗>100和<18的异常值, 西班牙银行18岁可以开户\n",
    "df.loc[df.age < 18, \"age\"] = df.loc[(df.age >= 18) & (df.age <= 30), \"age\"].mean(skipna=True)\n",
    "df.loc[df.age > 100, \"age\"] = df.loc[(df.age >= 30) & (df.age <= 100), \"age\"].mean(skipna=True)\n",
    "df[\"age\"].fillna(df[\"age\"].mean(), inplace=True)\n",
    "# df.age.value_counts(dropna=False)\n"
   ]
  },
  {
   "cell_type": "code",
   "execution_count": 32,
   "id": "56890839",
   "metadata": {
    "collapsed": false
   },
   "outputs": [
    {
     "data": {
      "text/plain": [
       "0"
      ]
     },
     "execution_count": 32,
     "metadata": {},
     "output_type": "execute_result"
    },
    {
     "data": {
      "text/plain": [
       "228260"
      ]
     },
     "execution_count": 32,
     "metadata": {},
     "output_type": "execute_result"
    }
   ],
   "source": [
    "df.age.isna().sum()\n",
    "df.renta.isna().sum()\n",
    "# cal_loss(df)"
   ]
  },
  {
   "cell_type": "code",
   "execution_count": 33,
   "id": "46c77345",
   "metadata": {
    "collapsed": false
   },
   "outputs": [
    {
     "data": {
      "text/plain": [
       "<seaborn.axisgrid.FacetGrid at 0x7fb4c7de95a0>"
      ]
     },
     "execution_count": 33,
     "metadata": {},
     "output_type": "execute_result"
    },
    {
     "data": {
      "text/plain": [
       "Text(-15.690694444444444, 0.5, 'Count')"
      ]
     },
     "execution_count": 33,
     "metadata": {},
     "output_type": "execute_result"
    },
    {
     "data": {
      "image/png": "[encoded data removed]",
      "text/plain": [
       "<Figure size 558.75x500 with 1 Axes>"
      ]
     },
     "metadata": {},
     "output_type": "display_data"
    }
   ],
   "source": [
    "# TODO renta 数值型填充\n",
    "# TODO\n",
    "df.renta.fillna(df.renta.mean(), inplace=True)\n",
    "df.renta = round(df.renta)\n",
    "df.renta = df.renta.astype('int32')\n",
    "# sns.scatterplot(df.renta, df.renta.value_counts())\n",
    "# df.renta.plot.scatter(x='renta', y=df.renta.value_counts())\n",
    "sns.set_style(\"whitegrid\")\n",
    "\n",
    "data = np.log(df.renta)\n",
    "data = sd_scale(data)\n",
    "df['log_renta'] = data\n",
    "sns.displot(data,\n",
    "            bins=10,\n",
    "            kde=False,\n",
    "            color=\"tomato\")\n",
    "plt.ylabel(\"Count\")"
   ]
  },
  {
   "cell_type": "code",
   "execution_count": 34,
   "id": "2afa07f5",
   "metadata": {
    "collapsed": false
   },
   "outputs": [
    {
     "data": {
      "text/plain": [
       "-8.03"
      ]
     },
     "execution_count": 34,
     "metadata": {},
     "output_type": "execute_result"
    },
    {
     "data": {
      "text/plain": [
       "-0.0"
      ]
     },
     "execution_count": 34,
     "metadata": {},
     "output_type": "execute_result"
    },
    {
     "data": {
      "text/plain": [
       "9.85"
      ]
     },
     "execution_count": 34,
     "metadata": {},
     "output_type": "execute_result"
    },
    {
     "data": {
      "text/plain": [
       "(936565, 1)"
      ]
     },
     "execution_count": 34,
     "metadata": {},
     "output_type": "execute_result"
    }
   ],
   "source": [
    "round(data.min(), 2)\n",
    "round(data.mean(), 2)\n",
    "round(data.max(), 2)\n",
    "data.shape"
   ]
  },
  {
   "cell_type": "markdown",
   "id": "54388541",
   "metadata": {
    "collapsed": false
   },
   "source": []
  },
  {
   "cell_type": "code",
   "execution_count": 35,
   "id": "3946c7af",
   "metadata": {
    "collapsed": false
   },
   "outputs": [
    {
     "data": {
      "text/plain": [
       "2014-07-28    3467\n",
       "2014-10-03    3421\n",
       "2014-08-04    2816\n",
       "2013-10-14    2651\n",
       "2013-08-03    2024\n",
       "              ... \n",
       "2014-09-20       1\n",
       "1995-03-06       1\n",
       "2011-08-28       1\n",
       "2014-06-21       1\n",
       "2014-01-18       1\n",
       "Name: fecha_alta, Length: 6756, dtype: int64"
      ]
     },
     "execution_count": 35,
     "metadata": {},
     "output_type": "execute_result"
    }
   ],
   "source": [
    "df.fecha_alta.value_counts(dropna=False)"
   ]
  },
  {
   "cell_type": "code",
   "execution_count": 36,
   "id": "933a5049",
   "metadata": {
    "collapsed": false
   },
   "outputs": [
    {
     "data": {
      "text/plain": [
       "10    154944\n",
       "9     110771\n",
       "11    107397\n",
       "7      97635\n",
       "8      91770\n",
       "12     70474\n",
       "1      59015\n",
       "2      53373\n",
       "3      52420\n",
       "4      49286\n",
       "5      45792\n",
       "6      43688\n",
       "Name: fecha_alta, dtype: int64"
      ]
     },
     "execution_count": 36,
     "metadata": {},
     "output_type": "execute_result"
    }
   ],
   "source": [
    "pd.DatetimeIndex(df[\"fecha_alta\"]).month.value_counts()"
   ]
  },
  {
   "cell_type": "code",
   "execution_count": 37,
   "id": "ba9d63a8",
   "metadata": {
    "collapsed": false
   },
   "outputs": [
    {
     "data": {
      "text/plain": [
       "2015-10-01    27120\n",
       "2013-10-01    24266\n",
       "2015-09-01    22685\n",
       "2014-10-01    22177\n",
       "2012-10-01    19377\n",
       "              ...  \n",
       "1995-08-01      243\n",
       "1995-04-01      136\n",
       "1995-03-01      106\n",
       "1995-01-01       78\n",
       "1995-02-01       69\n",
       "Name: fecha_alta, Length: 257, dtype: int64"
      ]
     },
     "execution_count": 37,
     "metadata": {},
     "output_type": "execute_result"
    }
   ],
   "source": [
    "temp = df.fecha_alta.astype('datetime64[M]')\n",
    "temp.value_counts()"
   ]
  },
  {
   "cell_type": "code",
   "execution_count": 38,
   "id": "15da77e2",
   "metadata": {
    "collapsed": false
   },
   "outputs": [
    {
     "data": {
      "text/plain": [
       "      0    21654\n",
       "      1    18328\n",
       "      2    16645\n",
       "      3    16072\n",
       "     12    15495\n",
       "           ...  \n",
       "    253       22\n",
       "    254       10\n",
       "    255        8\n",
       "    256        7\n",
       "-999999        3\n",
       "Name: antiguedad, Length: 258, dtype: int64"
      ]
     },
     "execution_count": 38,
     "metadata": {},
     "output_type": "execute_result"
    }
   ],
   "source": [
    "df.antiguedad.value_counts(dropna=False)\n",
    "od_set.add(df.antiguedad.name)"
   ]
  },
  {
   "cell_type": "code",
   "execution_count": 39,
   "id": "e17e4b7e",
   "metadata": {
    "collapsed": false
   },
   "outputs": [
    {
     "name": "stdout",
     "output_type": "stream",
     "text": [
      "<class 'pandas.core.series.Series'>\n",
      "Int64Index: 936565 entries, 9249467 to 2839387\n",
      "Series name: fecha_alta\n",
      "Non-Null Count   Dtype \n",
      "--------------   ----- \n",
      "936565 non-null  object\n",
      "dtypes: object(1)\n",
      "memory usage: 14.3+ MB\n"
     ]
    }
   ],
   "source": [
    "df.fecha_alta.info()"
   ]
  },
  {
   "cell_type": "code",
   "execution_count": 40,
   "id": "05e91570",
   "metadata": {
    "collapsed": false
   },
   "outputs": [
    {
     "name": "stdout",
     "output_type": "stream",
     "text": [
      "<class 'pandas.core.series.Series'>\n",
      "Int64Index: 936565 entries, 9249467 to 2839387\n",
      "Series name: fecha_alta\n",
      "Non-Null Count   Dtype         \n",
      "--------------   -----         \n",
      "936565 non-null  datetime64[ns]\n",
      "dtypes: datetime64[ns](1)\n",
      "memory usage: 14.3 MB\n"
     ]
    }
   ],
   "source": [
    "x = pd.to_datetime(df.fecha_alta)\n",
    "x.info()"
   ]
  },
  {
   "cell_type": "code",
   "execution_count": 41,
   "id": "f8c2c1b4",
   "metadata": {
    "collapsed": false
   },
   "outputs": [
    {
     "data": {
      "text/plain": [
       "      0    21654\n",
       "      1    18328\n",
       "      2    16645\n",
       "      3    16072\n",
       "     12    15495\n",
       "           ...  \n",
       "    253       22\n",
       "    254       10\n",
       "    255        8\n",
       "    256        7\n",
       "-999999        3\n",
       "Name: antiguedad, Length: 258, dtype: int64"
      ]
     },
     "execution_count": 41,
     "metadata": {},
     "output_type": "execute_result"
    },
    {
     "name": "stdout",
     "output_type": "stream",
     "text": [
      "<class 'pandas.core.series.Series'>\n",
      "Int64Index: 936565 entries, 9249467 to 2839387\n",
      "Series name: antiguedad\n",
      "Non-Null Count   Dtype \n",
      "--------------   ----- \n",
      "936565 non-null  object\n",
      "dtypes: object(1)\n",
      "memory usage: 14.3+ MB\n"
     ]
    }
   ],
   "source": [
    "# 6.fecha_alta 客户首次签订合同的日期, 可以用距今差值表示, 总结成月份, 然后判断和 antiguedad客户资历的关系\n",
    "df.antiguedad.value_counts(dropna=False)\n",
    "df.antiguedad.info()\n",
    "\n",
    "# TODO 暂时先删除\n",
    "df.drop('fecha_alta', inplace=True, axis=1)\n",
    "# df.fecha_alta.isnull().sum()\n",
    "# months_active = df.loc[df[\"ind_nuevo\"].isnull(), :].groupby(\"ncodpers\", sort=False).size()\n",
    "# months_active.max()"
   ]
  },
  {
   "cell_type": "code",
   "execution_count": 42,
   "id": "65692630",
   "metadata": {
    "collapsed": false
   },
   "outputs": [
    {
     "data": {
      "text/plain": [
       "0    833326\n",
       "1    103239\n",
       "Name: ind_nuevo, dtype: int64"
      ]
     },
     "execution_count": 42,
     "metadata": {},
     "output_type": "execute_result"
    }
   ],
   "source": [
    "\n",
    "# 7.ind_nuevo 新客户指数 2. 如果是6个月内注册的客户, 则为1\n",
    "df.ind_nuevo = df.ind_nuevo.astype('int8')\n",
    "df.ind_nuevo.value_counts(dropna=False)\n",
    "\n",
    "od_set.add(df.ind_nuevo.name)"
   ]
  },
  {
   "cell_type": "code",
   "execution_count": 43,
   "id": "a60407ea",
   "metadata": {
    "collapsed": false
   },
   "outputs": [
    {
     "data": {
      "text/plain": [
       "      0    21654\n",
       "      1    18328\n",
       "      2    16645\n",
       "      3    16072\n",
       "     12    15495\n",
       "           ...  \n",
       "    253       22\n",
       "    254       10\n",
       "    255        8\n",
       "    256        7\n",
       "-999999        3\n",
       "Name: antiguedad, Length: 258, dtype: int64"
      ]
     },
     "execution_count": 43,
     "metadata": {},
     "output_type": "execute_result"
    }
   ],
   "source": [
    "# 8. antiguedad 客户资历, 单位是月\n",
    "df.antiguedad.value_counts(dropna=False)\n",
    "od_set.add(df.antiguedad.name)"
   ]
  },
  {
   "cell_type": "code",
   "execution_count": 44,
   "id": "8339ad69",
   "metadata": {
    "collapsed": false
   },
   "outputs": [],
   "source": [
    "# 6,7,8 缺失值数量相等已经删除"
   ]
  },
  {
   "cell_type": "code",
   "execution_count": 45,
   "id": "20748349",
   "metadata": {
    "collapsed": false
   },
   "outputs": [
    {
     "data": {
      "text/plain": [
       "1     931634\n",
       "99      4931\n",
       "Name: indrel, dtype: int64"
      ]
     },
     "execution_count": 45,
     "metadata": {},
     "output_type": "execute_result"
    }
   ],
   "source": [
    "# 9.indrel  2:  1表示primary, 99表示当月primary,但不是月末?\n",
    "# Nan =unknown\n",
    "# one-hot label编码?\n",
    "df.indrel = df.indrel.astype('int8')\n",
    "df.indrel.value_counts(dropna=False)\n",
    "od_set.add(df.indrel.name)"
   ]
  },
  {
   "cell_type": "code",
   "execution_count": 46,
   "id": "7006a61d",
   "metadata": {
    "collapsed": false
   },
   "outputs": [],
   "source": [
    "# 10. ult_fec_cli_1t 作为主要客户的日期\n",
    "# 缺失值太多, 丢弃\n",
    "# df.ult_fec_cli_1t.value_counts(dropna=False)\n",
    "# df.ult_fec_cli_1t.isnull().sum()"
   ]
  },
  {
   "cell_type": "code",
   "execution_count": 47,
   "id": "76772c8d",
   "metadata": {
    "collapsed": false
   },
   "outputs": [
    {
     "data": {
      "text/plain": [
       "1          916049\n",
       "unknown     19213\n",
       "3             844\n",
       "2             248\n",
       "P             158\n",
       "4              53\n",
       "Name: indrel_1mes, dtype: int64"
      ]
     },
     "execution_count": 47,
     "metadata": {},
     "output_type": "execute_result"
    }
   ],
   "source": [
    "# df.replace('unknown', -2, inplace=True)\n",
    "# df.replace('P', -3, inplace=True)\n",
    "# 必须先修改类型, 不然replace匹配不上\n",
    "# df.indrel_1mes = df.indrel_1mes.astype('float')\n",
    "df.indrel_1mes.replace({'1.0': '1', '2.0': '2', '3.0': '3', '4.0': '4'}, inplace=True)  # 不同key用不同value替换\n",
    "df.indrel_1mes.value_counts(dropna=False)\n",
    "od_set.add(df.indrel_1mes.name)"
   ]
  },
  {
   "cell_type": "code",
   "execution_count": 48,
   "id": "5f8482cf",
   "metadata": {
    "collapsed": false
   },
   "outputs": [
    {
     "data": {
      "text/plain": [
       "I          514645\n",
       "A          401652\n",
       "unknown     19213\n",
       "P             897\n",
       "R             158\n",
       "Name: tiprel_1mes, dtype: int64"
      ]
     },
     "execution_count": 48,
     "metadata": {},
     "output_type": "execute_result"
    }
   ],
   "source": [
    "# 12.tiprel_1mes 月初客户关系类型 A (active), I (inactive), P (former customer 前客户),R (Potential 潜在客户)\n",
    "# Nan = unknown\n",
    "# label 编码\n",
    "df.tiprel_1mes.value_counts(dropna=False)\n",
    "od_set.add(df.tiprel_1mes.name)"
   ]
  },
  {
   "cell_type": "code",
   "execution_count": 49,
   "id": "4ee25026",
   "metadata": {
    "collapsed": false
   },
   "outputs": [
    {
     "data": {
      "text/plain": [
       "S    932574\n",
       "N      3991\n",
       "Name: indresi, dtype: int64"
      ]
     },
     "execution_count": 49,
     "metadata": {},
     "output_type": "execute_result"
    }
   ],
   "source": [
    "# 13. indresi 居住指数S (Yes) 银行和居住国相同 N (No) 不同国家\n",
    "# label编码, S=1, N=0\n",
    "df.indresi.value_counts(dropna=False)\n",
    "od_set.add(df.indresi.name)\n"
   ]
  },
  {
   "cell_type": "code",
   "execution_count": 50,
   "id": "88880c63",
   "metadata": {
    "collapsed": false
   },
   "outputs": [
    {
     "data": {
      "text/plain": [
       "N    890030\n",
       "S     46535\n",
       "Name: indext, dtype: int64"
      ]
     },
     "execution_count": 50,
     "metadata": {},
     "output_type": "execute_result"
    }
   ],
   "source": [
    "# 14. indext 外国人指数, S 本国出生, N 非本国\n",
    "# label 编码\n",
    "df.indext.value_counts(dropna=False)\n",
    "od_set.add(df.indext.name)\n"
   ]
  },
  {
   "cell_type": "code",
   "execution_count": 51,
   "id": "765510f6",
   "metadata": {
    "collapsed": false
   },
   "outputs": [],
   "source": [
    "# 15. conyuemp 配偶指数, S 客户是员工配偶\n",
    "# 缺失太多, 删除列\n",
    "# df.conyuemp.value_counts(dropna=False)"
   ]
  },
  {
   "cell_type": "code",
   "execution_count": 52,
   "id": "50a2942b",
   "metadata": {
    "collapsed": false
   },
   "outputs": [
    {
     "data": {
      "text/plain": [
       "KHE    254049\n",
       "KAT    208199\n",
       "KFC    202739\n",
       "KHQ     66115\n",
       "KFA     26077\n",
       "        ...  \n",
       "KDL         1\n",
       "025         1\n",
       "KGN         1\n",
       "KDI         1\n",
       "KDB         1\n",
       "Name: canal_entrada, Length: 161, dtype: int64"
      ]
     },
     "execution_count": 52,
     "metadata": {},
     "output_type": "execute_result"
    }
   ],
   "source": [
    "# 16. canal_entrada\t客户渠道 (拉新渠道)\n",
    "# Nan = unknown, 占比小于3%都是other\n",
    "# 用占比, 占比低的作为others\n",
    "df.canal_entrada.value_counts(dropna=False)\n",
    "# df.canal_entrada.isnull().sum()\n",
    "# print(100 * round(df.canal_entrada.value_counts(dropna=False) / df.shape[0], 8))\n",
    "od_set.add(df.canal_entrada.name)"
   ]
  },
  {
   "cell_type": "code",
   "execution_count": 53,
   "id": "ad529262",
   "metadata": {
    "collapsed": false
   },
   "outputs": [
    {
     "data": {
      "text/plain": [
       "N    934174\n",
       "S      2391\n",
       "Name: indfall, dtype: int64"
      ]
     },
     "execution_count": 53,
     "metadata": {},
     "output_type": "execute_result"
    }
   ],
   "source": [
    "# 17. indfall 已故索引 N/S\n",
    "df.indfall.value_counts(dropna=False)\n",
    "od_set.add(df.indfall.name)\n"
   ]
  },
  {
   "cell_type": "code",
   "execution_count": 54,
   "id": "2776eb7e",
   "metadata": {
    "collapsed": false
   },
   "outputs": [
    {
     "data": {
      "text/plain": [
       "1.0    936565\n",
       "Name: tipodom, dtype: int64"
      ]
     },
     "execution_count": 54,
     "metadata": {},
     "output_type": "execute_result"
    }
   ],
   "source": [
    "# 18. tipodom 地址类型. 1, primary address 弃用\n",
    "# Nan dropna\n",
    "# 没有区分度, 删除列\n",
    "# label编码\n",
    "df.tipodom.value_counts(dropna=False)\n",
    "df.drop('tipodom', axis=1, inplace=True)"
   ]
  },
  {
   "cell_type": "code",
   "execution_count": 55,
   "id": "cfdc19e5",
   "metadata": {
    "collapsed": false
   },
   "outputs": [
    {
     "data": {
      "text/plain": [
       " 28    300728\n",
       " 8      89223\n",
       " 46     48323\n",
       " 41     40782\n",
       " 15     28990\n",
       " 30     27766\n",
       " 29     24676\n",
       " 50     23315\n",
       " 3      22298\n",
       " 11     19895\n",
       " 36     19085\n",
       " 33     18455\n",
       " 35     16441\n",
       " 47     16186\n",
       " 6      13071\n",
       " 45     12743\n",
       " 48     12639\n",
       " 18     12474\n",
       " 37     11124\n",
       " 39     10871\n",
       " 14      9884\n",
       " 7       9187\n",
       " 10      8646\n",
       " 13      8120\n",
       " 21      8080\n",
       " 2       7854\n",
       " 43      7668\n",
       " 12      7198\n",
       " 9       6709\n",
       " 17      6352\n",
       " 31      6055\n",
       " 26      5846\n",
       " 24      5798\n",
       " 27      5716\n",
       " 32      5658\n",
       " 25      5477\n",
       " 38      5138\n",
       " 20      4916\n",
       " 19      4716\n",
       " 23      4515\n",
       " 4       4332\n",
       "-1       3993\n",
       " 16      3826\n",
       " 49      3441\n",
       " 34      3366\n",
       " 40      2907\n",
       " 22      2808\n",
       " 5       2665\n",
       " 1       2625\n",
       " 44      1561\n",
       " 42      1269\n",
       " 52       641\n",
       " 51       513\n",
       "Name: cod_prov, dtype: int64"
      ]
     },
     "execution_count": 55,
     "metadata": {},
     "output_type": "execute_result"
    }
   ],
   "source": [
    "# 19.cod_prov 省份编码\n",
    "# 转成int\n",
    "# Nan = 0?\n",
    "# number\n",
    "df.cod_prov = df.cod_prov.astype('int8')\n",
    "df.cod_prov.value_counts(dropna=False)\n",
    "od_set.add(df.cod_prov.name)\n"
   ]
  },
  {
   "cell_type": "code",
   "execution_count": 56,
   "id": "39b2893f",
   "metadata": {
    "collapsed": false
   },
   "outputs": [],
   "source": [
    "# 20. nomprov 省份名称 删除\n",
    "# df.nomprov.value_counts(dropna=False)"
   ]
  },
  {
   "cell_type": "code",
   "execution_count": 57,
   "id": "7f67fc43",
   "metadata": {
    "collapsed": false
   },
   "outputs": [
    {
     "data": {
      "text/plain": [
       "0    537620\n",
       "1    398945\n",
       "Name: ind_actividad_cliente, dtype: int64"
      ]
     },
     "execution_count": 57,
     "metadata": {},
     "output_type": "execute_result"
    }
   ],
   "source": [
    "# 21. ind_actividad_cliente\t活跃指数 1, active customer; 0, inactive customer)\n",
    "df.ind_actividad_cliente = df.ind_actividad_cliente.astype('int8')\n",
    "df.ind_actividad_cliente.value_counts(dropna=False)\n",
    "od_set.add(df.ind_actividad_cliente.name)\n"
   ]
  },
  {
   "cell_type": "code",
   "execution_count": 58,
   "id": "cbf967fe",
   "metadata": {
    "collapsed": false
   },
   "outputs": [
    {
     "data": {
      "text/plain": [
       "02 - PARTICULARES     538245\n",
       "03 - UNIVERSITARIO    339238\n",
       "01 - TOP               35032\n",
       "00                     24050\n",
       "Name: segmento, dtype: int64"
      ]
     },
     "execution_count": 58,
     "metadata": {},
     "output_type": "execute_result"
    }
   ],
   "source": [
    "# 23. segmento : 01 - VIP, 02 - 个人 03 - 大学毕业\n",
    "# Nan = unknown\n",
    "# ordinal 编码\n",
    "df.segmento.value_counts()\n",
    "od_set.add(df.segmento.name)\n"
   ]
  },
  {
   "cell_type": "code",
   "execution_count": 59,
   "id": "99476b20",
   "metadata": {
    "collapsed": false
   },
   "outputs": [
    {
     "data": {
      "text/plain": [
       "{'age', 'log_renta', 'renta'}"
      ]
     },
     "execution_count": 59,
     "metadata": {},
     "output_type": "execute_result"
    },
    {
     "data": {
      "text/plain": [
       "{'antiguedad',\n",
       " 'canal_entrada',\n",
       " 'cod_prov',\n",
       " 'ind_actividad_cliente',\n",
       " 'ind_empleado',\n",
       " 'ind_nuevo',\n",
       " 'indext',\n",
       " 'indfall',\n",
       " 'indrel',\n",
       " 'indrel_1mes',\n",
       " 'indresi',\n",
       " 'pais_residencia',\n",
       " 'segmento',\n",
       " 'sexo',\n",
       " 'tiprel_1mes'}"
      ]
     },
     "execution_count": 59,
     "metadata": {},
     "output_type": "execute_result"
    },
    {
     "data": {
      "text/plain": [
       "set()"
      ]
     },
     "execution_count": 59,
     "metadata": {},
     "output_type": "execute_result"
    }
   ],
   "source": [
    "# 未编码的列, 就是数值特征\n",
    "continuous_set = set(df.columns) - od_set - oh_set - set(y_name_list)\n",
    "# 数值集合\n",
    "continuous_set\n",
    "# 序号编码\n",
    "od_set\n",
    "# onehot编码\n",
    "oh_set"
   ]
  },
  {
   "cell_type": "code",
   "execution_count": 60,
   "id": "b34a8bac",
   "metadata": {
    "collapsed": false
   },
   "outputs": [],
   "source": [
    "from sklearn.preprocessing import QuantileTransformer\n",
    "\n",
    "# QuantileTransformer(df.age, n_quantiles=300, output_distribution='normal', random_state=0)\n"
   ]
  },
  {
   "cell_type": "code",
   "execution_count": 61,
   "id": "efc3ad61",
   "metadata": {
    "collapsed": false
   },
   "outputs": [
    {
     "data": {
      "text/plain": [
       "15"
      ]
     },
     "execution_count": 61,
     "metadata": {},
     "output_type": "execute_result"
    }
   ],
   "source": [
    "# 编码流程\n",
    "len(od_set)\n"
   ]
  },
  {
   "cell_type": "code",
   "execution_count": 62,
   "id": "3660bcf6",
   "metadata": {
    "collapsed": false
   },
   "outputs": [
    {
     "name": "stdout",
     "output_type": "stream",
     "text": [
      "indext\n",
      "indfall\n",
      "pais_residencia\n",
      "ind_actividad_cliente\n",
      "indrel\n",
      "ind_empleado\n",
      "canal_entrada\n",
      "sexo\n",
      "indresi\n",
      "indrel_1mes\n",
      "cod_prov\n",
      "antiguedad\n",
      "segmento\n",
      "tiprel_1mes\n",
      "ind_nuevo\n"
     ]
    }
   ],
   "source": [
    "finished = []\n",
    "for name in od_set:\n",
    "    print(name)\n",
    "    df = pd.concat([df, new_ordinal_df(df[name], label_enc(df[name]))], axis=1)\n",
    "    finished.append(name)\n",
    "df.drop(finished, inplace=True, axis=1)\n"
   ]
  },
  {
   "cell_type": "code",
   "execution_count": 63,
   "id": "d7037ca1",
   "metadata": {
    "collapsed": false
   },
   "outputs": [],
   "source": [
    "# 删除原renta, 保留log_renta\n",
    "df.drop('renta', axis=1, inplace=True)"
   ]
  },
  {
   "cell_type": "code",
   "execution_count": 64,
   "id": "a19e7787",
   "metadata": {
    "collapsed": false
   },
   "outputs": [],
   "source": [
    "X = df.drop(y_name_list, axis=1)\n",
    "y = df.loc[:, y_name_list]\n",
    "Xtrain, Xvalidation, Ytrain, Yvalidation = train_test_split(X, y, test_size=0.3)\n"
   ]
  },
  {
   "cell_type": "markdown",
   "id": "e99f6cd2",
   "metadata": {
    "collapsed": false
   },
   "source": [
    "# 模型选择"
   ]
  },
  {
   "cell_type": "code",
   "execution_count": 65,
   "id": "ce15b041",
   "metadata": {
    "collapsed": false
   },
   "outputs": [
    {
     "data": {
      "text/html": [
       "<style>#sk-container-id-1 {color: black;background-color: white;}#sk-container-id-1 pre{padding: 0;}#sk-container-id-1 div.sk-toggleable {background-color: white;}#sk-container-id-1 label.sk-toggleable__label {cursor: pointer;display: block;width: 100%;margin-bottom: 0;padding: 0.3em;box-sizing: border-box;text-align: center;}#sk-container-id-1 label.sk-toggleable__label-arrow:before {content: \"▸\";float: left;margin-right: 0.25em;color: #696969;}#sk-container-id-1 label.sk-toggleable__label-arrow:hover:before {color: black;}#sk-container-id-1 div.sk-estimator:hover label.sk-toggleable__label-arrow:before {color: black;}#sk-container-id-1 div.sk-toggleable__content {max-height: 0;max-width: 0;overflow: hidden;text-align: left;background-color: #f0f8ff;}#sk-container-id-1 div.sk-toggleable__content pre {margin: 0.2em;color: black;border-radius: 0.25em;background-color: #f0f8ff;}#sk-container-id-1 input.sk-toggleable__control:checked~div.sk-toggleable__content {max-height: 200px;max-width: 100%;overflow: auto;}#sk-container-id-1 input.sk-toggleable__control:checked~label.sk-toggleable__label-arrow:before {content: \"▾\";}#sk-container-id-1 div.sk-estimator input.sk-toggleable__control:checked~label.sk-toggleable__label {background-color: #d4ebff;}#sk-container-id-1 div.sk-label input.sk-toggleable__control:checked~label.sk-toggleable__label {background-color: #d4ebff;}#sk-container-id-1 input.sk-hidden--visually {border: 0;clip: rect(1px 1px 1px 1px);clip: rect(1px, 1px, 1px, 1px);height: 1px;margin: -1px;overflow: hidden;padding: 0;position: absolute;width: 1px;}#sk-container-id-1 div.sk-estimator {font-family: monospace;background-color: #f0f8ff;border: 1px dotted black;border-radius: 0.25em;box-sizing: border-box;margin-bottom: 0.5em;}#sk-container-id-1 div.sk-estimator:hover {background-color: #d4ebff;}#sk-container-id-1 div.sk-parallel-item::after {content: \"\";width: 100%;border-bottom: 1px solid gray;flex-grow: 1;}#sk-container-id-1 div.sk-label:hover label.sk-toggleable__label {background-color: #d4ebff;}#sk-container-id-1 div.sk-serial::before {content: \"\";position: absolute;border-left: 1px solid gray;box-sizing: border-box;top: 0;bottom: 0;left: 50%;z-index: 0;}#sk-container-id-1 div.sk-serial {display: flex;flex-direction: column;align-items: center;background-color: white;padding-right: 0.2em;padding-left: 0.2em;position: relative;}#sk-container-id-1 div.sk-item {position: relative;z-index: 1;}#sk-container-id-1 div.sk-parallel {display: flex;align-items: stretch;justify-content: center;background-color: white;position: relative;}#sk-container-id-1 div.sk-item::before, #sk-container-id-1 div.sk-parallel-item::before {content: \"\";position: absolute;border-left: 1px solid gray;box-sizing: border-box;top: 0;bottom: 0;left: 50%;z-index: -1;}#sk-container-id-1 div.sk-parallel-item {display: flex;flex-direction: column;z-index: 1;position: relative;background-color: white;}#sk-container-id-1 div.sk-parallel-item:first-child::after {align-self: flex-end;width: 50%;}#sk-container-id-1 div.sk-parallel-item:last-child::after {align-self: flex-start;width: 50%;}#sk-container-id-1 div.sk-parallel-item:only-child::after {width: 0;}#sk-container-id-1 div.sk-dashed-wrapped {border: 1px dashed gray;margin: 0 0.4em 0.5em 0.4em;box-sizing: border-box;padding-bottom: 0.4em;background-color: white;}#sk-container-id-1 div.sk-label label {font-family: monospace;font-weight: bold;display: inline-block;line-height: 1.2em;}#sk-container-id-1 div.sk-label-container {text-align: center;}#sk-container-id-1 div.sk-container {/* jupyter's `normalize.less` sets `[hidden] { display: none; }` but bootstrap.min.css set `[hidden] { display: none !important; }` so we also need the `!important` here to be able to override the default hidden behavior on the sphinx rendered scikit-learn.org. See: https://github.com/scikit-learn/scikit-learn/issues/21755 */display: inline-block !important;position: relative;}#sk-container-id-1 div.sk-text-repr-fallback {display: none;}</style><div id=\"sk-container-id-1\" class=\"sk-top-container\"><div class=\"sk-text-repr-fallback\"><pre>XGBClassifier(base_score=0.5, booster=&#x27;gbtree&#x27;, callbacks=None,\n",
       "              colsample_bylevel=1, colsample_bynode=1, colsample_bytree=1,\n",
       "              early_stopping_rounds=None, enable_categorical=False,\n",
       "              eval_metric=None, feature_types=None, gamma=0, gpu_id=-1,\n",
       "              grow_policy=&#x27;depthwise&#x27;, importance_type=None,\n",
       "              interaction_constraints=&#x27;&#x27;, learning_rate=0.300000012,\n",
       "              max_bin=256, max_cat_threshold=64, max_cat_to_onehot=4,\n",
       "              max_delta_step=0, max_depth=6, max_leaves=0, min_child_weight=1,\n",
       "              missing=nan, monotone_constraints=&#x27;()&#x27;, n_estimators=100,\n",
       "              n_jobs=0, num_parallel_tree=1, predictor=&#x27;auto&#x27;, random_state=0, ...)</pre><b>In a Jupyter environment, please rerun this cell to show the HTML representation or trust the notebook. <br />On GitHub, the HTML representation is unable to render, please try loading this page with nbviewer.org.</b></div><div class=\"sk-container\" hidden><div class=\"sk-item\"><div class=\"sk-estimator sk-toggleable\"><input class=\"sk-toggleable__control sk-hidden--visually\" id=\"sk-estimator-id-1\" type=\"checkbox\" checked><label for=\"sk-estimator-id-1\" class=\"sk-toggleable__label sk-toggleable__label-arrow\">XGBClassifier</label><div class=\"sk-toggleable__content\"><pre>XGBClassifier(base_score=0.5, booster=&#x27;gbtree&#x27;, callbacks=None,\n",
       "              colsample_bylevel=1, colsample_bynode=1, colsample_bytree=1,\n",
       "              early_stopping_rounds=None, enable_categorical=False,\n",
       "              eval_metric=None, feature_types=None, gamma=0, gpu_id=-1,\n",
       "              grow_policy=&#x27;depthwise&#x27;, importance_type=None,\n",
       "              interaction_constraints=&#x27;&#x27;, learning_rate=0.300000012,\n",
       "              max_bin=256, max_cat_threshold=64, max_cat_to_onehot=4,\n",
       "              max_delta_step=0, max_depth=6, max_leaves=0, min_child_weight=1,\n",
       "              missing=nan, monotone_constraints=&#x27;()&#x27;, n_estimators=100,\n",
       "              n_jobs=0, num_parallel_tree=1, predictor=&#x27;auto&#x27;, random_state=0, ...)</pre></div></div></div></div></div>"
      ],
      "text/plain": [
       "XGBClassifier(base_score=0.5, booster='gbtree', callbacks=None,\n",
       "              colsample_bylevel=1, colsample_bynode=1, colsample_bytree=1,\n",
       "              early_stopping_rounds=None, enable_categorical=False,\n",
       "              eval_metric=None, feature_types=None, gamma=0, gpu_id=-1,\n",
       "              grow_policy='depthwise', importance_type=None,\n",
       "              interaction_constraints='', learning_rate=0.300000012,\n",
       "              max_bin=256, max_cat_threshold=64, max_cat_to_onehot=4,\n",
       "              max_delta_step=0, max_depth=6, max_leaves=0, min_child_weight=1,\n",
       "              missing=nan, monotone_constraints='()', n_estimators=100,\n",
       "              n_jobs=0, num_parallel_tree=1, predictor='auto', random_state=0, ...)"
      ]
     },
     "execution_count": 65,
     "metadata": {},
     "output_type": "execute_result"
    },
    {
     "data": {
      "text/plain": [
       "<Figure size 5000x3000 with 0 Axes>"
      ]
     },
     "execution_count": 65,
     "metadata": {},
     "output_type": "execute_result"
    },
    {
     "data": {
      "text/plain": [
       "<AxesSubplot: title={'center': 'Feature importance'}, xlabel='F score', ylabel='Features'>"
      ]
     },
     "execution_count": 65,
     "metadata": {},
     "output_type": "execute_result"
    },
    {
     "data": {
      "text/plain": [
       "<Figure size 5000x3000 with 0 Axes>"
      ]
     },
     "metadata": {},
     "output_type": "display_data"
    },
    {
     "data": {
      "image/png": "[encoded data removed]",
      "text/plain": [
       "<Figure size 640x480 with 1 Axes>"
      ]
     },
     "metadata": {},
     "output_type": "display_data"
    }
   ],
   "source": [
    "import xgboost\n",
    "\n",
    "xb = xgboost.XGBClassifier()\n",
    "xb.fit(Xtrain, Ytrain)\n",
    "\n",
    "plt.figure(figsize=(50, 30))\n",
    "selected_features = xb.feature_importances_\n",
    "xgboost.plot_importance(xb)\n",
    "plt.show()"
   ]
  },
  {
   "cell_type": "code",
   "execution_count": 66,
   "id": "36f0016c",
   "metadata": {
    "collapsed": false
   },
   "outputs": [
    {
     "data": {
      "text/plain": [
       "[('log_renta', 20760.0),\n",
       " ('antiguedad_enc', 16883.0),\n",
       " ('age', 14306.0),\n",
       " ('cod_prov_enc', 7729.0),\n",
       " ('canal_entrada_enc', 7009.0),\n",
       " ('segmento_enc', 2622.0),\n",
       " ('sexo_enc', 1849.0),\n",
       " ('ind_actividad_cliente_enc', 1541.0),\n",
       " ('tiprel_1mes_enc', 1528.0),\n",
       " ('indext_enc', 701.0),\n",
       " ('ind_empleado_enc', 294.0),\n",
       " ('indrel_enc', 252.0),\n",
       " ('indfall_enc', 183.0),\n",
       " ('indrel_1mes_enc', 131.0),\n",
       " ('pais_residencia_enc', 123.0),\n",
       " ('ind_nuevo_enc', 99.0),\n",
       " ('indresi_enc', 10.0)]"
      ]
     },
     "execution_count": 66,
     "metadata": {},
     "output_type": "execute_result"
    }
   ],
   "source": [
    "\n",
    "importance = xb.get_booster().get_score()\n",
    "importance_dict = sorted(importance.items(), key=lambda k: k[1], reverse=True)\n",
    "importance_dict"
   ]
  },
  {
   "cell_type": "code",
   "execution_count": 67,
   "id": "8e4597c5",
   "metadata": {
    "collapsed": false
   },
   "outputs": [],
   "source": [
    "for i in Xtrain.columns.to_list():\n",
    "    if i not in [im[0] for im in importance_dict]:\n",
    "        print(i)"
   ]
  },
  {
   "cell_type": "markdown",
   "id": "ad47fb22",
   "metadata": {
    "collapsed": false
   },
   "source": [
    "# 模型搭建"
   ]
  },
  {
   "cell_type": "code",
   "execution_count": 68,
   "id": "e56d514d",
   "metadata": {
    "collapsed": false
   },
   "outputs": [],
   "source": [
    "\n",
    "from sklearn.metrics import classification_report, roc_auc_score, ConfusionMatrixDisplay\n",
    "from sklearn.metrics import plot_roc_curve\n",
    "\n",
    "import sklearn.metrics as metrics\n",
    "\n",
    "\n",
    "def print_evaluation(y_true, y_pred, target_names=None, average='micro'):\n",
    "    acc = metrics.accuracy_score(y_true, y_pred)\n",
    "    report = classification_report(y_true, y_pred)\n",
    "\n",
    "    # precision = metrics.precision_score(y_true, y_pred, average=average)\n",
    "    # metrics.recall_score(y_true, y_pred, average=average)\n",
    "    # metrics.f1_score(y_true, y_pred, average=average)\n",
    "\n",
    "    # 统一precision+recall+f1\n",
    "    prf = metrics.precision_recall_fscore_support(y_true, y_pred, average=average)\n",
    "    hamming = metrics.hamming_loss(y_true, y_pred)\n",
    "    # kappa不支持多标签\n",
    "    # kappa = metrics.cohen_kappa_score(y_true, y_pred)\n",
    "\n",
    "    print(f\"acc \\n{acc}\")\n",
    "    print(f\"report \\n{report}\")\n",
    "    print(f'precision_recall_fscore_support\\n{prf}\\n')\n",
    "    # print(f'multilabel_confusion_matrix\\n{confusion_mat}')\n",
    "    # print(f'auc\\n{auc}')\n",
    "    print(f'hamming\\n{hamming}\\n')\n",
    "    # print(f'kappa\\n{kappa}\\n')\n",
    "\n",
    "\n",
    "# 混淆矩阵\n",
    "def show_matrix(y_true, y_pred):\n",
    "    fig = plt.figure(figsize=(16, 20))\n",
    "\n",
    "    mat = metrics.multilabel_confusion_matrix(y_true, y_pred)\n",
    "    for i in range(24):\n",
    "        ax = fig.add_subplot(6, 4, i + 1)\n",
    "        sns.heatmap(mat[i], annot=True, fmt='.20g', ax=ax)\n",
    "        ax.set_title(f'{Yvalidation.iloc[:, i].name}')\n",
    "        plt.subplots_adjust(wspace=0.3, hspace=0.3)\n",
    "        # point = int(f'9{left}{right}')\n",
    "        # print(point)\n",
    "        # f.add_subplot(point)\n",
    "        # break\n",
    "    # plt.tight_layout()\n",
    "    plt.show();\n",
    "\n",
    "\n",
    "# roc曲线绘制\n",
    "def show_roc(y_true, y_proba, plot=True):\n",
    "    plt.figure(figsize=(5, 5), dpi=100)\n",
    "    aucs = []\n",
    "    for c in range(y_true.shape[1]):\n",
    "        if y_proba[c].shape[0] == 24:\n",
    "            fpr, tpr, thresholds = metrics.roc_curve(np.array(y_true.iloc[:, c]).ravel(), y_proba[:, c].ravel())\n",
    "        else:\n",
    "            fpr, tpr, thresholds = metrics.roc_curve(np.array(y_true.iloc[:, c]).ravel(),\n",
    "                                                     y_proba[c][:, 1].ravel())\n",
    "        auc = metrics.auc(fpr, tpr)\n",
    "        if plot:\n",
    "            plt.plot(fpr, tpr, label='AUC = %0.2f')  #生成ROC曲线\n",
    "        # g = sns.FacetGrid(tips, col='time', row='smoker')  # 按行和列的分类做N个图\n",
    "        # g.map(plt.hist, 'total_bill', bins=10)  # 指定做图方式\n",
    "        # break\n",
    "        print(f'auc : {auc}')\n",
    "        aucs.append(auc)\n",
    "    avg_auc = f'average auc {np.mean(aucs)}'\n",
    "    # print(avg_auc)\n",
    "    if plot:\n",
    "        plt.show();\n",
    "    return np.mean(aucs)\n",
    "\n",
    "# print_evaluation(Yvalidation, y_pred, average='micro')\n"
   ]
  },
  {
   "cell_type": "code",
   "execution_count": 128,
   "id": "01cbc3e1",
   "metadata": {
    "collapsed": false
   },
   "outputs": [
    {
     "data": {
      "text/plain": [
       "{'rfc': RandomForestClassifier(max_depth=10, min_samples_leaf=10, min_samples_split=50,\n",
       "                        n_estimators=80, n_jobs=-1, random_state=0, verbose=1),\n",
       " 'gbdt': GradientBoostingClassifier(criterion='gini', loss='deviance', max_depth=8,\n",
       "                            max_features=10)}"
      ]
     },
     "execution_count": 128,
     "metadata": {},
     "output_type": "execute_result"
    }
   ],
   "source": [
    "from sklearn.multiclass import OneVsRestClassifier\n",
    "from sklearn.naive_bayes import GaussianNB\n",
    "from sklearn.neighbors import KNeighborsClassifier\n",
    "\n",
    "from sklearn.ensemble import RandomForestClassifier, GradientBoostingClassifier\n",
    "from sklearn.linear_model import LogisticRegression\n",
    "from sklearn.linear_model import SGDClassifier\n",
    "from sklearn.svm import SVC, LinearSVC\n",
    "from sklearn.tree import DecisionTreeClassifier\n",
    "from xgboost import XGBClassifier\n",
    "from lightgbm import LGBMClassifier\n",
    "\n",
    "# GBDT\n",
    "cpu_threads = 18\n",
    "gbdt = GradientBoostingClassifier(\n",
    "    n_estimators=100,  # 树的数量\n",
    "    max_depth=8,  # 树的最大深度\n",
    "    ccp_alpha=0.0,\n",
    "    criterion='gini',  # gini, entropy, log_loss\n",
    "    init=None,\n",
    "    learning_rate=0.1,\n",
    "    loss='deviance',\n",
    "    max_features=10,\n",
    "    max_leaf_nodes=None,\n",
    "    min_impurity_decrease=0.0,\n",
    "    min_samples_leaf=1,\n",
    "    min_samples_split=2,\n",
    "    min_weight_fraction_leaf=0.0,\n",
    "    n_iter_no_change=None,\n",
    "    random_state=None,\n",
    "    subsample=1.0,\n",
    "    tol=0.0001,\n",
    "    validation_fraction=0.1,\n",
    "    verbose=0,\n",
    "    warm_start=False\n",
    ")\n",
    "# RF\n",
    "rfc = RandomForestClassifier(\n",
    "    n_estimators=80,  # 树的个数\n",
    "    criterion='gini',  #\n",
    "    max_depth=10,  # 最大深度\n",
    "    min_samples_split=50,  # 样本最小分裂\n",
    "    min_samples_leaf=10,  # 叶子最小样本数\n",
    "    max_features='sqrt',\n",
    "    max_leaf_nodes=None,\n",
    "    n_jobs=-1,\n",
    "    # 以下是不重要参数\n",
    "    min_impurity_decrease=0.0,\n",
    "    min_weight_fraction_leaf=0.0,\n",
    "    bootstrap=True,\n",
    "    oob_score=False,\n",
    "    random_state=0,\n",
    "    verbose=1,\n",
    "    warm_start=False,\n",
    "    class_weight=None,\n",
    "    ccp_alpha=0.0,\n",
    "    max_samples=None,\n",
    ")\n",
    "\n",
    "knn = KNeighborsClassifier(\n",
    "    n_neighbors=Ytrain.shape[1],  # k的个数\n",
    "    weights=\"distance\",  # distance, uniform, callable 权重判断方式\n",
    "    n_jobs=cpu_threads,\n",
    "    algorithm='auto',\n",
    "    p=2,  # 明可夫距离, 2就是欧式距离, >=3 其他明氏距离\n",
    ")\n",
    "\n",
    "svc = OneVsRestClassifier(\n",
    "    LinearSVC(\n",
    "        C='',\n",
    "        # kernel='RBF'\n",
    "    ),\n",
    "    n_jobs=cpu_threads\n",
    ")\n",
    "\n",
    "lr = OneVsRestClassifier(LogisticRegression(\n",
    "    penalty='l2',  # 正则项, l1, l2\n",
    "    solver='sag',  # 最优化求解方法 liblinear, newton-cg, lbfgs, sag\n",
    "    class_weight='auto',  # 类别权重\n",
    "    # sample_weight = 'auto', # 样本权重, 最终权重是类别权重*样本权重\n",
    "    n_jobs=cpu_threads,\n",
    "    multi_class='ovr',  # multinomial, ovr, 多类别ovr和mvm\n",
    "    # 以下不常用\n",
    "    dual=False,  # 对偶或者原始方法。Dual只适用于正则化相为l2的‘liblinear’的情况，通常样本数大于特征数的情况下，默认为False。\n",
    "    fit_intercept=True,  # 是否存在截距，默认存在。\n",
    "    intercept_scaling=1,  # 仅在正则化项为‘liblinear’，且fit_intercept设置为True时有用。\n",
    "    max_iter=20,  # 算法收敛的最大迭代次数。\n",
    "    tol=0.0001,  # 迭代终止判据的误差范围。\n",
    "    verbose=0,  # 日志冗长度int：冗长度；0：不输出训练过程；1：偶尔输出； >1：对每个子模型都输出\n",
    "    warm_start=False,  # 是否热启动，如果是，则下一次训练是以追加树的形式进行（重新使用上一次的调用作为初始化）。布尔型，默认False。\n",
    "))\n",
    "\n",
    "# XGBoost\n",
    "xgb = OneVsRestClassifier(XGBClassifier(\n",
    "    booster='gbtree',  # gbtree, gblinear, dart选择模型, 常用树模型, 性能好\n",
    "    num_class=Ytrain.shape[1],\n",
    "    n_estimators=200,  # 生成的最大树的数目，也是最大的迭代次数\n",
    "    max_depth=5,  # 最大深度 3-10常用\n",
    "    max_leaves=100,\n",
    "    learning_rate=0.1,  #学习率, 0.01-0.3\n",
    "    objective='multi:softmax',  # 目标\n",
    "\n",
    "    verbosity=1,\n",
    "    tree_method='auto',\n",
    "    # 正则化\n",
    "    reg_alpha=0.1,  # l1正则参数\n",
    "    reg_lambda=0.4,  # l2正则参数\n",
    "    min_child_weight=5,\n",
    "    max_delta_step=0,\n",
    "    subsample=0.8,\n",
    "    # n_jobs=cpu_threads,\n",
    "    colsample_bytree=0.7,\n",
    "    # scale_pos_weight=0.8,\n",
    "    # eval_metric='auc',\n",
    "    seed=0,\n",
    "    gamma=0,\n",
    "    random_state=0,\n",
    "    # 在节点分裂时，只有分裂后损失函数的值下降了，才会分裂这个节点。gamma指定了节点分裂所需的最小损失函数下降值。 这个参数的值越大，算法越保守。因为gamma值越大的时候，损失函数下降更多才可以分裂节点。所以树生成的时候更不容易分裂节点。范围: [0,∞]\n",
    "),n_jobs=-1\n",
    ")\n",
    "\n",
    "# LightGBM\n",
    "lgb = OneVsRestClassifier(LGBMClassifier(\n",
    "    # 先固定的参数\n",
    "    boosting_type='gbdt',  # gbdt, rf, dart, goss\n",
    "    objective='multiclass',\n",
    "    # regression，使用L2正则项的回归模型\n",
    "    # regression_l1，使用L1正则项的回归模型。\n",
    "    # mape，平均绝对百分比误差。\n",
    "    # binary，二分类。\n",
    "    # multiclass，多分类\n",
    "    num_class=24,  # 多分类类别数\n",
    "    n_estimators=100,  # 子树数量\n",
    "    learning_rate=0.1,  # 学习率\n",
    "    metric='multi_logloss',\n",
    "    num_leaves=150, # 单颗树的叶子数, 对模型影响很大\n",
    "    min_child_samples=50,  # 叶节点样本的最少数量, 防止过拟合\n",
    "    min_child_weight=1,  # 指定孩子节点中最小的样本权重和，如果一个叶子节点的样本权重和小于min_child_weight则拆分过程结束，默认值为1。\n",
    "    min_split_gain=0, # 增大会使树变矮, 指定叶节点进行分支所需的损失减少的最小值，默认值为0。设置的值越大，模型就越保守。\n",
    "    # 需要调节的参数\n",
    "    max_depth=8,\n",
    "    # num_leaves=200,  # 叶子数量, 应该小于 2^max_depth\n",
    "    # 评估指标\n",
    "    subsample=1,  # 行采样, 小于1就有一部分不会被采样, 防止过拟合, 需要bagging_freq=0生效\n",
    "    bagging_freq=0,  # 生效subsample\n",
    "    # 正则化\n",
    "    reg_alpha=0,  # l1正则\n",
    "    reg_lambda=0.3,  # l2正则系数\n",
    "    # 以下不常用\n",
    "    # subsample_for_bin=200000,\n",
    "    # feature_fraction=1,  # 对特征随机采样的比例, 列采样\n",
    "    random_state=0,\n",
    "    # class_weight='is_unbalance', # 类别权重\n",
    "    # subsample_freq=\n",
    "    verbose_eval=100,\n",
    "    missing=1,\n",
    "\n",
    "\n",
    "), n_jobs=-1\n",
    ")\n",
    "\n",
    "models = {'rfc': rfc, 'gbdt': gbdt}\n",
    "models\n",
    "pred_dict = {}\n",
    "# for name, model in models.items():\n",
    "#     model.fit(Xtrain, Ytrain)\n",
    "#     # y_pred = model.predict(Xvalidation)\n",
    "#     # gbm.fit(Xtrain, Ytrain, eval_set=[(Xvalidation, Yvalidation)], eval_metric='l1', early_stopping_rounds=5)\n",
    "#\n",
    "# for name, m in models.items():\n",
    "#     m.fit(Xtrain, Ytrain)\n",
    "#     y_pred = m.predict(Xvalidation)\n",
    "#     y_pred_proba = m.predict_proba(Xvalidation)\n",
    "#     pred_dict[name] = (y_pred, y_pred_proba)"
   ]
  },
  {
   "cell_type": "code",
   "execution_count": null,
   "id": "7f8506a4",
   "metadata": {
    "collapsed": false,
    "pycharm": {
     "is_executing": true
    }
   },
   "outputs": [],
   "source": [
    "from sklearn.model_selection import KFold, LeaveOneOut, LeavePOut\n",
    "\n",
    "cv = False\n",
    "# cv = True\n",
    "kf = KFold(n_splits=6)\n",
    "m = lgb\n",
    "if cv:\n",
    "    train_auc_list = []\n",
    "    validation_auc_list = []\n",
    "    print(Xtrain.shape)\n",
    "    for train, test in kf.split(X):\n",
    "        print(\"k折划分：%s %s\" % (train.shape, test.shape))\n",
    "        train\n",
    "        # m = lgb\n",
    "        # m.fit(train, test)\n",
    "        # y_pred_proba = m.predict_proba(Xvalidation)\n",
    "        # train_pred_proba = m.predict_proba(Xtrain)\n",
    "        # train_auc_list.append(show_roc(Ytrain, train_pred_proba, False))\n",
    "        # validation_auc_list.append(show_roc(Yvalidation, y_pred_proba, False))\n",
    "        break\n",
    "    print(f'训练平均auc {np.mean(train_auc_list)}')\n",
    "    print(f'验证平均auc {np.mean(validation_auc_list)}')\n",
    "else:\n",
    "    m.fit(Xtrain, Ytrain)"
   ]
  },
  {
   "cell_type": "code",
   "execution_count": null,
   "id": "77a7b23c",
   "metadata": {
    "collapsed": false,
    "pycharm": {
     "is_executing": true
    }
   },
   "outputs": [],
   "source": [
    "if not cv:\n",
    "    y_pred = m.predict(Xvalidation)\n",
    "    y_pred_proba = m.predict_proba(Xvalidation)\n",
    "    train_pred = m.predict(Xtrain)\n",
    "    train_pred_proba = m.predict_proba(Xtrain)"
   ]
  },
  {
   "cell_type": "code",
   "execution_count": null,
   "id": "7feffbb2",
   "metadata": {
    "collapsed": false,
    "pycharm": {
     "is_executing": true
    }
   },
   "outputs": [],
   "source": [
    "# bst = xgb.Booster()\n",
    "# bst.load_model('xgb.model')\n",
    "# plot\n",
    "# xgboost.to_graphviz(xgb)\n",
    "# plot_tree(bst,fmap='', num_trees=0, rankdir='UT', ax=None)\n",
    "# plt.show()"
   ]
  },
  {
   "cell_type": "code",
   "execution_count": null,
   "id": "ff847941",
   "metadata": {
    "collapsed": false,
    "pycharm": {
     "is_executing": true
    }
   },
   "outputs": [],
   "source": [
    "# 验证集\n",
    "print_evaluation(y_true=Yvalidation, y_pred=y_pred)\n"
   ]
  },
  {
   "cell_type": "code",
   "execution_count": null,
   "id": "e4cf3fbc",
   "metadata": {
    "collapsed": false,
    "pycharm": {
     "is_executing": true
    }
   },
   "outputs": [],
   "source": [
    "# 训练集\n",
    "print_evaluation(Ytrain, train_pred)"
   ]
  },
  {
   "cell_type": "code",
   "execution_count": 126,
   "id": "d18f10a8",
   "metadata": {
    "collapsed": false
   },
   "outputs": [
    {
     "name": "stdout",
     "output_type": "stream",
     "text": [
      "auc : 0.8927051071835059\n",
      "auc : 0.9599565510638448\n",
      "auc : 0.8056605918036854\n",
      "auc : 0.9145843375601413\n",
      "auc : 0.8942156198469058\n",
      "auc : 0.9997382671597712\n",
      "auc : 0.9575720758668438\n",
      "auc : 0.9263947149867358\n",
      "auc : 0.9157213534644589\n",
      "auc : 0.9508966907315757\n",
      "auc : 0.9280774911863117\n",
      "auc : 0.9388796189563114\n",
      "auc : 0.8991783241133398\n",
      "auc : 0.9364950681642504\n",
      "auc : 0.9568878937342719\n",
      "auc : 0.9401405376597504\n",
      "auc : 0.959106652151598\n",
      "auc : 0.8841725299955178\n",
      "auc : 0.9165003295558258\n",
      "auc : 0.9298775094888648\n",
      "auc : 0.9029989373557784\n",
      "auc : 0.9024772810819663\n",
      "auc : 0.8957076245717024\n",
      "auc : 0.9063553427418294\n",
      "average auc0.9214291854343662\n"
     ]
    },
    {
     "data": {
      "image/png": "[encoded data removed]",
      "text/plain": [
       "<Figure size 500x500 with 1 Axes>"
      ]
     },
     "metadata": {},
     "output_type": "display_data"
    },
    {
     "data": {
      "text/plain": [
       "'average auc0.9214291854343662'"
      ]
     },
     "execution_count": 126,
     "metadata": {},
     "output_type": "execute_result"
    },
    {
     "name": "stdout",
     "output_type": "stream",
     "text": [
      "auc : 0.9660771564023991\n",
      "auc : 0.9914041733440375\n",
      "auc : 0.8075043450677919\n",
      "auc : 0.942196814668325\n",
      "auc : 0.898072685950601\n",
      "auc : 0.9997569307984151\n",
      "auc : 0.9583120513558454\n",
      "auc : 0.9276015056860577\n",
      "auc : 0.9198167211467894\n",
      "auc : 0.9608751048317269\n",
      "auc : 0.9369332837831466\n",
      "auc : 0.9399126271988496\n",
      "auc : 0.9003641573522041\n",
      "auc : 0.9369651323919457\n",
      "auc : 0.9553154863524882\n",
      "auc : 0.9389170170914553\n",
      "auc : 0.965629461713049\n",
      "auc : 0.8877382828863688\n",
      "auc : 0.9178986945016233\n",
      "auc : 0.932092210138914\n",
      "auc : 0.9103742463571065\n",
      "auc : 0.9059801010675134\n",
      "auc : 0.8994284935407203\n",
      "auc : 0.9075170204765325\n",
      "average auc0.9294451543376628\n"
     ]
    },
    {
     "data": {
      "image/png": "[encoded data removed]",
      "text/plain": [
       "<Figure size 500x500 with 1 Axes>"
      ]
     },
     "metadata": {},
     "output_type": "display_data"
    },
    {
     "data": {
      "text/plain": [
       "'average auc0.9294451543376628'"
      ]
     },
     "execution_count": 126,
     "metadata": {},
     "output_type": "execute_result"
    }
   ],
   "source": [
    "# show_matrix()\n",
    "# show_matrix(Yvalidation, y_pred)\n",
    "show_roc(Yvalidation, y_pred_proba)\n",
    "show_roc(Ytrain, train_pred_proba)"
   ]
  },
  {
   "cell_type": "code",
   "execution_count": null,
   "id": "6cd4de8e",
   "metadata": {
    "collapsed": false
   },
   "outputs": [],
   "source": [
    " # GridSearch 寻找超参\n",
    "\n",
    "param_test = {\n",
    "    'max_depth': (5, 10),\n",
    "    # 'num_leaves': range(10, 40, 5),\n",
    "}\n",
    "\n",
    "clf = GridSearchCV(m, param_grid=param_test, cv=3, scoring='roc_auc', n_jobs=-1)\n",
    "clf.fit(Xtrain, Ytrain)\n",
    "best_model = clf.best_estimator_\n",
    "\n",
    "# 最优超参\n",
    "print(clf.best_params_)\n"
   ]
  },
  {
   "cell_type": "code",
   "execution_count": 87,
   "id": "e316b7b5",
   "metadata": {
    "collapsed": false
   },
   "outputs": [],
   "source": [
    "sample_raw = pd.read_csv('../input/sample_submission.csv')\n",
    "df_proba = pd.DataFrame(y_pred_proba)\n",
    "df_proba.columns = Ytrain.columns\n",
    "\n",
    "sample_raw['added_products'] = df_proba.idxmax(axis=1)\n",
    "sample_raw.index = sample_raw.index + 1\n",
    "\n",
    "sample_raw.to_csv('xgb.csv', index=False)"
   ]
  },
  {
   "cell_type": "code",
   "execution_count": null,
   "id": "f69f23f8",
   "metadata": {
    "collapsed": false
   },
   "outputs": [],
   "source": [
    "Xtrain.shape"
   ]
  },
  {
   "cell_type": "code",
   "execution_count": 92,
   "id": "a79eeb3d",
   "metadata": {
    "collapsed": false
   },
   "outputs": [
    {
     "data": {
      "text/plain": [
       "['joblib_model.pkl']"
      ]
     },
     "execution_count": 92,
     "metadata": {},
     "output_type": "execute_result"
    }
   ],
   "source": [
    "import joblib\n",
    "# Save to file in the current working directory\n",
    "joblib_file = \"joblib_model.pkl\"\n",
    "joblib.dump(m, joblib_file)"
   ]
  },
  {
   "cell_type": "code",
   "execution_count": 94,
   "id": "1bac14ac",
   "metadata": {
    "collapsed": false
   },
   "outputs": [],
   "source": [
    "load_model = joblib.load(\"joblib_model.pkl\")"
   ]
  },
  {
   "cell_type": "code",
   "execution_count": null,
   "id": "82599329",
   "metadata": {
    "collapsed": false
   },
   "outputs": [],
   "source": []
  }
 ],
 "metadata": {
  "kernelspec": {
   "display_name": "Python 3 (ipykernel)",
   "language": "python",
   "name": "python3"
  },
  "language_info": {
   "codemirror_mode": {
    "name": "ipython",
    "version": 3
   },
   "file_extension": ".py",
   "mimetype": "text/x-python",
   "name": "python",
   "nbconvert_exporter": "python",
   "pygments_lexer": "ipython3",
   "version": "3.10.8"
  },
  "widgets": {
   "application/vnd.jupyter.widget-state+json": {
    "state": {},
    "version_major": 2,
    "version_minor": 0
   }
  }
 },
 "nbformat": 4,
 "nbformat_minor": 5
}
