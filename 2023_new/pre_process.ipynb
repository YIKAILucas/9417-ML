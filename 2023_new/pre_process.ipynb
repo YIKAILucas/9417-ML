{
 "cells": [
  {
   "cell_type": "code",
   "execution_count": 322,
   "id": "9bfc8afc-46f6-46fc-9dac-cd500bee20f5",
   "metadata": {},
   "outputs": [],
   "source": [
    "import pandas as pd\n",
    "import matplotlib.pyplot as plt\n",
    "import seaborn as sns\n",
    "import numpy as np\n",
    "from sklearn.naive_bayes import GaussianNB\n",
    "from sklearn.neighbors import KNeighborsClassifier\n",
    "from sklearn.pipeline import Pipeline\n",
    "import sklearn.preprocessing as preprocessing\n",
    "from IPython.core.interactiveshell import InteractiveShell\n",
    "\n",
    "from sklearn.model_selection import train_test_split\n",
    "from sklearn.ensemble import RandomForestClassifier, GradientBoostingClassifier\n",
    "from sklearn.linear_model import LogisticRegression\n",
    "from sklearn.linear_model import SGDClassifier\n",
    "from sklearn.svm import SVC\n",
    "from sklearn.feature_selection import SelectKBest, SelectFromModel\n",
    "from sklearn.tree import DecisionTreeClassifier\n",
    "from xgboost import XGBClassifier\n",
    "from lightgbm import LGBMClassifier\n",
    "\n",
    "from sklearn.metrics import classification_report, roc_auc_score, ConfusionMatrixDisplay\n",
    "from sklearn.metrics import plot_roc_curve\n",
    "\n",
    "from sklearn.metrics import ConfusionMatrixDisplay\n",
    "import sklearn.metrics as metrics\n",
    "\n",
    "InteractiveShell.ast_node_interactivity = 'all'\n",
    "\n",
    "to_show = True\n",
    "to_save = False\n",
    "is_sample = False\n",
    "is_sample = True\n",
    "limit_rows = 1000"
   ]
  },
  {
   "cell_type": "code",
   "execution_count": 323,
   "id": "5f80f075",
   "metadata": {
    "collapsed": false,
    "jupyter": {
     "outputs_hidden": false
    }
   },
   "outputs": [],
   "source": [
    "# This data cleaning part gets ideas from https://www.kaggle.com/apryor6/detailed-cleaning-visualization-python\n",
    "# HAN YIKAI takes charge of feature 1-9\n",
    "# official file\n",
    "train_file = '../input/train_ver2.csv'\n",
    "test_file = '../input/test_ver2.csv'\n",
    "\n",
    "out_path = '../output/'\n",
    "\n",
    "\n",
    "def save_df2file(data_frame: pd.DataFrame, name: str):\n",
    "    data_frame.to_csv(f'{out_path}{name}.csv')\n",
    "\n",
    "# sns.set(rc = {'figure.figsize':(20,18)})\n"
   ]
  },
  {
   "cell_type": "code",
   "execution_count": 324,
   "id": "8ff50493",
   "metadata": {
    "collapsed": false,
    "jupyter": {
     "outputs_hidden": false
    }
   },
   "outputs": [],
   "source": [
    "# test_df = pd.read_csv(test_file,\n",
    "#                       dtype={'sexo': str,\n",
    "#                              'ind_nuevo': str,\n",
    "#                              'ult_fec_cli_1t': str,\n",
    "#                              'indext': str},\n",
    "#                       # nrows=limit_rows,\n",
    "#                       low_memory=False\n",
    "#                       )"
   ]
  },
  {
   "cell_type": "code",
   "execution_count": 325,
   "id": "e8b56e18",
   "metadata": {
    "collapsed": false,
    "jupyter": {
     "outputs_hidden": false
    }
   },
   "outputs": [
    {
     "name": "stdout",
     "output_type": "stream",
     "text": [
      "<class 'pandas.core.frame.DataFrame'>\n",
      "Int64Index: 136473 entries, 716072 to 142099\n",
      "Data columns (total 48 columns):\n",
      " #   Column                 Non-Null Count   Dtype  \n",
      "---  ------                 --------------   -----  \n",
      " 0   fecha_dato             136473 non-null  object \n",
      " 1   ncodpers               136473 non-null  int64  \n",
      " 2   ind_empleado           136184 non-null  object \n",
      " 3   pais_residencia        136184 non-null  object \n",
      " 4   sexo                   136183 non-null  object \n",
      " 5   age                    136473 non-null  object \n",
      " 6   fecha_alta             136184 non-null  object \n",
      " 7   ind_nuevo              136184 non-null  object \n",
      " 8   antiguedad             136473 non-null  object \n",
      " 9   indrel                 136184 non-null  float64\n",
      " 10  ult_fec_cli_1t         237 non-null     object \n",
      " 11  indrel_1mes            134905 non-null  object \n",
      " 12  tiprel_1mes            134905 non-null  object \n",
      " 13  indresi                136184 non-null  object \n",
      " 14  indext                 136184 non-null  object \n",
      " 15  conyuemp               16 non-null      object \n",
      " 16  canal_entrada          134531 non-null  object \n",
      " 17  indfall                136184 non-null  object \n",
      " 18  tipodom                136184 non-null  float64\n",
      " 19  cod_prov               135538 non-null  float64\n",
      " 20  nomprov                135538 non-null  object \n",
      " 21  ind_actividad_cliente  136184 non-null  float64\n",
      " 22  renta                  108311 non-null  float64\n",
      " 23  segmento               134491 non-null  object \n",
      " 24  ind_ahor_fin_ult1      136473 non-null  int64  \n",
      " 25  ind_aval_fin_ult1      136473 non-null  int64  \n",
      " 26  ind_cco_fin_ult1       136473 non-null  int64  \n",
      " 27  ind_cder_fin_ult1      136473 non-null  int64  \n",
      " 28  ind_cno_fin_ult1       136473 non-null  int64  \n",
      " 29  ind_ctju_fin_ult1      136473 non-null  int64  \n",
      " 30  ind_ctma_fin_ult1      136473 non-null  int64  \n",
      " 31  ind_ctop_fin_ult1      136473 non-null  int64  \n",
      " 32  ind_ctpp_fin_ult1      136473 non-null  int64  \n",
      " 33  ind_deco_fin_ult1      136473 non-null  int64  \n",
      " 34  ind_deme_fin_ult1      136473 non-null  int64  \n",
      " 35  ind_dela_fin_ult1      136473 non-null  int64  \n",
      " 36  ind_ecue_fin_ult1      136473 non-null  int64  \n",
      " 37  ind_fond_fin_ult1      136473 non-null  int64  \n",
      " 38  ind_hip_fin_ult1       136473 non-null  int64  \n",
      " 39  ind_plan_fin_ult1      136473 non-null  int64  \n",
      " 40  ind_pres_fin_ult1      136473 non-null  int64  \n",
      " 41  ind_reca_fin_ult1      136473 non-null  int64  \n",
      " 42  ind_tjcr_fin_ult1      136473 non-null  int64  \n",
      " 43  ind_valo_fin_ult1      136473 non-null  int64  \n",
      " 44  ind_viv_fin_ult1       136473 non-null  int64  \n",
      " 45  ind_nomina_ult1        136329 non-null  float64\n",
      " 46  ind_nom_pens_ult1      136329 non-null  float64\n",
      " 47  ind_recibo_ult1        136473 non-null  int64  \n",
      "dtypes: float64(7), int64(23), object(18)\n",
      "memory usage: 51.0+ MB\n"
     ]
    }
   ],
   "source": [
    "df = pd.read_csv(train_file,\n",
    "                 dtype={'sexo': str,\n",
    "                        'ind_nuevo': str,\n",
    "                        'ult_fec_cli_1t': str,\n",
    "                        'indext': str},\n",
    "                 # nrows=limit_rows,\n",
    "                 low_memory=False\n",
    "                 )\n",
    "\n",
    "# resample the data for saving memory and shuffle the dataset\n",
    "if is_sample:\n",
    "    df = df.sample(frac=0.01)\n",
    "\n",
    "y_name_list = list(df.iloc[:, 24:].columns)\n",
    "x_name_list = list(df.iloc[:, :24].columns)\n",
    "# df = df[order]\n",
    "df.info()"
   ]
  },
  {
   "cell_type": "code",
   "execution_count": 326,
   "id": "ca2bdce7",
   "metadata": {
    "collapsed": false
   },
   "outputs": [
    {
     "data": {
      "text/plain": [
       "ind_ahor_fin_ult1      0\n",
       "ind_aval_fin_ult1      0\n",
       "ind_cco_fin_ult1       0\n",
       "ind_cder_fin_ult1      0\n",
       "ind_cno_fin_ult1       0\n",
       "ind_ctju_fin_ult1      0\n",
       "ind_ctma_fin_ult1      0\n",
       "ind_ctop_fin_ult1      0\n",
       "ind_ctpp_fin_ult1      0\n",
       "ind_deco_fin_ult1      0\n",
       "ind_deme_fin_ult1      0\n",
       "ind_dela_fin_ult1      0\n",
       "ind_ecue_fin_ult1      0\n",
       "ind_fond_fin_ult1      0\n",
       "ind_hip_fin_ult1       0\n",
       "ind_plan_fin_ult1      0\n",
       "ind_pres_fin_ult1      0\n",
       "ind_reca_fin_ult1      0\n",
       "ind_tjcr_fin_ult1      0\n",
       "ind_valo_fin_ult1      0\n",
       "ind_viv_fin_ult1       0\n",
       "ind_nomina_ult1      144\n",
       "ind_nom_pens_ult1    144\n",
       "ind_recibo_ult1        0\n",
       "dtype: int64"
      ]
     },
     "execution_count": 326,
     "metadata": {},
     "output_type": "execute_result"
    }
   ],
   "source": [
    "df.loc[:, y_name_list].isna().sum()"
   ]
  },
  {
   "cell_type": "code",
   "execution_count": 327,
   "id": "d0b3fef4",
   "metadata": {
    "collapsed": false
   },
   "outputs": [
    {
     "data": {
      "text/plain": [
       "['ind_ahor_fin_ult1',\n",
       " 'ind_aval_fin_ult1',\n",
       " 'ind_cco_fin_ult1',\n",
       " 'ind_cder_fin_ult1',\n",
       " 'ind_cno_fin_ult1',\n",
       " 'ind_ctju_fin_ult1',\n",
       " 'ind_ctma_fin_ult1',\n",
       " 'ind_ctop_fin_ult1',\n",
       " 'ind_ctpp_fin_ult1',\n",
       " 'ind_deco_fin_ult1',\n",
       " 'ind_deme_fin_ult1',\n",
       " 'ind_dela_fin_ult1',\n",
       " 'ind_ecue_fin_ult1',\n",
       " 'ind_fond_fin_ult1',\n",
       " 'ind_hip_fin_ult1',\n",
       " 'ind_plan_fin_ult1',\n",
       " 'ind_pres_fin_ult1',\n",
       " 'ind_reca_fin_ult1',\n",
       " 'ind_tjcr_fin_ult1',\n",
       " 'ind_valo_fin_ult1',\n",
       " 'ind_viv_fin_ult1',\n",
       " 'ind_nomina_ult1',\n",
       " 'ind_nom_pens_ult1',\n",
       " 'ind_recibo_ult1']"
      ]
     },
     "execution_count": 327,
     "metadata": {},
     "output_type": "execute_result"
    }
   ],
   "source": [
    "y_name_list"
   ]
  },
  {
   "cell_type": "code",
   "execution_count": 328,
   "id": "34ce9a38",
   "metadata": {
    "collapsed": false
   },
   "outputs": [],
   "source": [
    "# 评估\n",
    "def print_evaluation(y_true, y_pred):\n",
    "    pass\n"
   ]
  },
  {
   "cell_type": "code",
   "execution_count": 329,
   "id": "2b7cbd41",
   "metadata": {
    "collapsed": false
   },
   "outputs": [],
   "source": [
    "# 复用函数\n",
    "\n",
    "# 统计缺失值的列\n",
    "def cal_loss(data):\n",
    "    fil = data.iloc[:, :24].isnull().any()\n",
    "    loss_column = fil[fil == True].index\n",
    "    res = data.loc[:, loss_column].isnull().sum()\n",
    "    print(res)\n",
    "\n",
    "#\n",
    "# def renew_df(base_df: pd.DataFrame):\n",
    "#     new_df = base_df\n",
    "#     base_df = df.copy(deep=True)\n",
    "#     return new_df"
   ]
  },
  {
   "cell_type": "code",
   "execution_count": 329,
   "id": "e12ba162",
   "metadata": {
    "collapsed": false
   },
   "outputs": [],
   "source": []
  },
  {
   "cell_type": "code",
   "execution_count": 330,
   "id": "32ce7750",
   "metadata": {
    "collapsed": false
   },
   "outputs": [
    {
     "name": "stderr",
     "output_type": "stream",
     "text": [
      "/tmp/ipykernel_19543/3066333033.py:5: FutureWarning: In a future version, `df.iloc[:, i] = newvals` will attempt to set the values inplace instead of always setting a new array. To retain the old behavior, use either `df[df.columns[i]] = newvals` or, if columns are non-unique, `df.isetitem(i, newvals)`\n",
      "  df.loc[:, y_name_list] = df.loc[:, y_name_list].astype('uint8')\n"
     ]
    },
    {
     "data": {
      "text/plain": [
       "ind_ahor_fin_ult1  ind_aval_fin_ult1  ind_cco_fin_ult1  ind_cder_fin_ult1  ind_cno_fin_ult1  ind_ctju_fin_ult1  ind_ctma_fin_ult1  ind_ctop_fin_ult1  ind_ctpp_fin_ult1  ind_deco_fin_ult1  ind_deme_fin_ult1  ind_dela_fin_ult1  ind_ecue_fin_ult1  ind_fond_fin_ult1  ind_hip_fin_ult1  ind_plan_fin_ult1  ind_pres_fin_ult1  ind_reca_fin_ult1  ind_tjcr_fin_ult1  ind_valo_fin_ult1  ind_viv_fin_ult1  ind_nomina_ult1  ind_nom_pens_ult1  ind_recibo_ult1\n",
       "0                  0                  1                 0                  0                 0                  0                  0                  0                  0                  0                  0                  0                  0                  0                 0                  0                  0                  0                  0                  0                 0                0                  0                  60635\n",
       "                                      0                 0                  0                 0                  0                  0                  0                  0                  0                  0                  0                  0                  0                 0                  0                  0                  0                  0                  0                 0                0                  0                  26001\n",
       "                                      1                 0                  0                 0                  0                  1                  0                  0                  0                  0                  0                  0                  0                 0                  0                  0                  0                  0                  0                 0                0                  0                   6819\n",
       "                                                                                                                                   0                  0                  0                  0                  0                  0                  0                  0                 0                  0                  0                  0                  0                  0                 0                0                  1                   4045\n",
       "                                      0                 0                  0                 0                  0                  1                  0                  0                  0                  0                  0                  0                  0                 0                  0                  0                  0                  0                  0                 0                0                  0                   4001\n",
       "                                                                                                                                                                                                                                                                                                                                                                                                                                                                  ...  \n",
       "                                                                           1                 0                  0                  1                  1                  0                  0                  0                  0                  0                  0                 0                  0                  0                  1                  1                  0                 0                0                  1                      1\n",
       "                                                                                                                                                                                                                                                                                                                                                                      0                  1                 1                1                  1                      1\n",
       "                                                                                                                                                                                                                                                                                                                                                                                                           0                0                  0                      1\n",
       "                                                                                                                                                                                                                                                                                                                                                                                         0                 0                1                  1                      1\n",
       "1                  0                  1                 0                  1                 0                  0                  0                  0                  0                  0                  0                  1                  0                  0                 0                  0                  1                  1                  0                  0                 0                0                  1                      1\n",
       "Length: 2736, dtype: int64"
      ]
     },
     "execution_count": 330,
     "metadata": {},
     "output_type": "execute_result"
    }
   ],
   "source": [
    "# 删除y值空缺的行\n",
    "df.drop(df[df['ind_nomina_ult1'].isnull()].index, inplace=True)\n",
    "\n",
    "# 调整label的格式节省空间, 能节约2.1G 空间, 将近一半\n",
    "df.loc[:, y_name_list] = df.loc[:, y_name_list].astype('uint8')\n",
    "df.loc[:, y_name_list].value_counts(dropna=False)"
   ]
  },
  {
   "cell_type": "code",
   "execution_count": 331,
   "id": "a21c41a6",
   "metadata": {
    "collapsed": false,
    "jupyter": {
     "outputs_hidden": false
    }
   },
   "outputs": [
    {
     "name": "stdout",
     "output_type": "stream",
     "text": [
      "<class 'pandas.core.frame.DataFrame'>\n",
      "Int64Index: 136329 entries, 716072 to 142099\n",
      "Data columns (total 48 columns):\n",
      " #   Column                 Non-Null Count   Dtype  \n",
      "---  ------                 --------------   -----  \n",
      " 0   fecha_dato             136329 non-null  object \n",
      " 1   ncodpers               136329 non-null  int64  \n",
      " 2   ind_empleado           136183 non-null  object \n",
      " 3   pais_residencia        136183 non-null  object \n",
      " 4   sexo                   136182 non-null  object \n",
      " 5   age                    136329 non-null  object \n",
      " 6   fecha_alta             136183 non-null  object \n",
      " 7   ind_nuevo              136183 non-null  object \n",
      " 8   antiguedad             136329 non-null  object \n",
      " 9   indrel                 136183 non-null  float64\n",
      " 10  ult_fec_cli_1t         237 non-null     object \n",
      " 11  indrel_1mes            134904 non-null  object \n",
      " 12  tiprel_1mes            134904 non-null  object \n",
      " 13  indresi                136183 non-null  object \n",
      " 14  indext                 136183 non-null  object \n",
      " 15  conyuemp               16 non-null      object \n",
      " 16  canal_entrada          134530 non-null  object \n",
      " 17  indfall                136183 non-null  object \n",
      " 18  tipodom                136183 non-null  float64\n",
      " 19  cod_prov               135537 non-null  float64\n",
      " 20  nomprov                135537 non-null  object \n",
      " 21  ind_actividad_cliente  136183 non-null  float64\n",
      " 22  renta                  108310 non-null  float64\n",
      " 23  segmento               134490 non-null  object \n",
      " 24  ind_ahor_fin_ult1      136329 non-null  uint8  \n",
      " 25  ind_aval_fin_ult1      136329 non-null  uint8  \n",
      " 26  ind_cco_fin_ult1       136329 non-null  uint8  \n",
      " 27  ind_cder_fin_ult1      136329 non-null  uint8  \n",
      " 28  ind_cno_fin_ult1       136329 non-null  uint8  \n",
      " 29  ind_ctju_fin_ult1      136329 non-null  uint8  \n",
      " 30  ind_ctma_fin_ult1      136329 non-null  uint8  \n",
      " 31  ind_ctop_fin_ult1      136329 non-null  uint8  \n",
      " 32  ind_ctpp_fin_ult1      136329 non-null  uint8  \n",
      " 33  ind_deco_fin_ult1      136329 non-null  uint8  \n",
      " 34  ind_deme_fin_ult1      136329 non-null  uint8  \n",
      " 35  ind_dela_fin_ult1      136329 non-null  uint8  \n",
      " 36  ind_ecue_fin_ult1      136329 non-null  uint8  \n",
      " 37  ind_fond_fin_ult1      136329 non-null  uint8  \n",
      " 38  ind_hip_fin_ult1       136329 non-null  uint8  \n",
      " 39  ind_plan_fin_ult1      136329 non-null  uint8  \n",
      " 40  ind_pres_fin_ult1      136329 non-null  uint8  \n",
      " 41  ind_reca_fin_ult1      136329 non-null  uint8  \n",
      " 42  ind_tjcr_fin_ult1      136329 non-null  uint8  \n",
      " 43  ind_valo_fin_ult1      136329 non-null  uint8  \n",
      " 44  ind_viv_fin_ult1       136329 non-null  uint8  \n",
      " 45  ind_nomina_ult1        136329 non-null  uint8  \n",
      " 46  ind_nom_pens_ult1      136329 non-null  uint8  \n",
      " 47  ind_recibo_ult1        136329 non-null  uint8  \n",
      "dtypes: float64(5), int64(1), object(18), uint8(24)\n",
      "memory usage: 29.1+ MB\n"
     ]
    }
   ],
   "source": [
    "df.info()"
   ]
  },
  {
   "cell_type": "code",
   "execution_count": 332,
   "id": "c4451f94",
   "metadata": {
    "collapsed": false,
    "jupyter": {
     "outputs_hidden": false
    }
   },
   "outputs": [],
   "source": [
    "# fecha_dato 日期\n",
    "# ncodpers 客户代码\n",
    "# ind_empleado 员工\n",
    "# pais_residencia 国藉\n",
    "# sexo 性别,\n",
    "# age 年龄\n",
    "# fecha_alta 注册日期,\n",
    "# ind_nuevo 新的,\n",
    "# antiguedad 古代,\n",
    "# indrel 最后访问日期, 一个月indrel\n",
    "# ult_fec_cli_1t  作为主要客户的日期\n",
    "# indrel_1mes  1 (First/Primary customer), 2 (co-owner ),P (Potential),3 (former primary), 4(former co-owner)\n",
    "# tiprel_1mes  月初客户关系类型 A (active), I (inactive), P (former customer 前客户),R (Potential 潜在客户)\n",
    "# indresi 居住指数S (Yes) 银行和居住国相同 N (No) 不同国家\n",
    "# indext  外国人指数, S 本国出生, N 非本国\n",
    "# conyuemp 配偶指数, S 客户是员工配偶\n",
    "# canal_entrada\n",
    "# indfall\n",
    "# tipodom\n",
    "# cod_prov 省份编码\n",
    "# nomprov 省份名称\n",
    "# ind_actividad_cliente\n",
    "# renta 家庭总收入\n",
    "# segmento segmentation: 01 - VIP, 02 - Individuals 03 - college graduated"
   ]
  },
  {
   "cell_type": "code",
   "execution_count": 333,
   "id": "e551abec",
   "metadata": {
    "collapsed": false
   },
   "outputs": [],
   "source": [
    "# cal_loss(df)"
   ]
  },
  {
   "cell_type": "code",
   "execution_count": 334,
   "id": "0c57ccbf",
   "metadata": {
    "collapsed": false,
    "jupyter": {
     "outputs_hidden": false
    }
   },
   "outputs": [],
   "source": [
    "# 删除27734条空行, 所有全空\n",
    "df.drop(df[df['ind_empleado'].isnull()].index, inplace=True)\n",
    "# 删除全other的空行, 所有全空\n",
    "df.drop(df[df['pais_residencia'] == 'others'].index, inplace=True)"
   ]
  },
  {
   "cell_type": "code",
   "execution_count": 335,
   "id": "ab2a825b",
   "metadata": {
    "collapsed": false
   },
   "outputs": [],
   "source": [
    "# 缺失值很少的删除行\n",
    "df.drop(df[df['sexo'].isnull()].index, inplace=True)\n",
    "df.drop(df[df['tipodom'].isnull()].index, inplace=True)"
   ]
  },
  {
   "cell_type": "code",
   "execution_count": 336,
   "id": "b4a95ae6",
   "metadata": {
    "collapsed": false
   },
   "outputs": [],
   "source": [
    "# 缺失值很多的删除列\n",
    "df.drop('ult_fec_cli_1t', axis=1, inplace=True)\n",
    "df.drop('conyuemp', axis=1, inplace=True)"
   ]
  },
  {
   "cell_type": "code",
   "execution_count": 337,
   "id": "be016cdc",
   "metadata": {
    "collapsed": false
   },
   "outputs": [],
   "source": [
    "# 省份名称直接删除, 省份编码缺失值用-1填充\n",
    "df.drop('nomprov', axis=1, inplace=True)\n",
    "df.cod_prov.fillna(-1, inplace=True)"
   ]
  },
  {
   "cell_type": "code",
   "execution_count": 338,
   "id": "5044d0f6",
   "metadata": {
    "collapsed": false
   },
   "outputs": [],
   "source": [
    "# df.loc[(df.ind_nomina_ult1.isna()) | (df.ind_nom_pens_ult1.isna()), y_name_list]"
   ]
  },
  {
   "cell_type": "code",
   "execution_count": 339,
   "id": "a9f76e10",
   "metadata": {
    "collapsed": false
   },
   "outputs": [],
   "source": [
    "# df.loc[(df.ind_nomina_ult1.isna()) & (df.ind_nom_pens_ult1.isna()), y_name_list].sum(axis=1)"
   ]
  },
  {
   "cell_type": "code",
   "execution_count": 340,
   "id": "688540b1",
   "metadata": {
    "collapsed": false
   },
   "outputs": [],
   "source": [
    "# (df.loc[:, y_name_list].sum(axis=1)==0).sum()"
   ]
  },
  {
   "cell_type": "code",
   "execution_count": 340,
   "id": "b58ab300",
   "metadata": {
    "collapsed": false
   },
   "outputs": [],
   "source": []
  },
  {
   "cell_type": "code",
   "execution_count": 341,
   "id": "2b5fae57",
   "metadata": {
    "collapsed": false
   },
   "outputs": [],
   "source": [
    "# df[df['indrel_1mes'].isna()].iloc[:, :df.shape[1] - 24]"
   ]
  },
  {
   "cell_type": "code",
   "execution_count": 342,
   "id": "6737bdd7",
   "metadata": {
    "collapsed": false
   },
   "outputs": [
    {
     "data": {
      "text/plain": [
       "KHE    40376\n",
       "KAT    32511\n",
       "KFC    31170\n",
       "KHQ     5995\n",
       "KFA     3987\n",
       "       ...  \n",
       "KEM        1\n",
       "KCO        1\n",
       "KBD        1\n",
       "KFE        1\n",
       "KCP        1\n",
       "Name: canal_entrada, Length: 149, dtype: int64"
      ]
     },
     "execution_count": 342,
     "metadata": {},
     "output_type": "execute_result"
    }
   ],
   "source": [
    "# canal_entrada 用户加入渠道非常多162种 而且比较平衡, 还是用unknown填充, 考虑KNN填充\n",
    "df.canal_entrada.value_counts()\n",
    "df.canal_entrada.fillna('unknown', inplace=True)"
   ]
  },
  {
   "cell_type": "code",
   "execution_count": 343,
   "id": "77b9cb6a",
   "metadata": {
    "collapsed": false
   },
   "outputs": [
    {
     "data": {
      "text/plain": [
       "716072     112382.52\n",
       "3911706     25455.24\n",
       "4052549    102087.96\n",
       "8547423     88364.73\n",
       "284254           NaN\n",
       "             ...    \n",
       "2972494     99161.43\n",
       "3010483    125177.16\n",
       "7113655    120442.80\n",
       "1021394     80309.79\n",
       "142099           NaN\n",
       "Name: renta, Length: 136182, dtype: float64"
      ]
     },
     "execution_count": 343,
     "metadata": {},
     "output_type": "execute_result"
    }
   ],
   "source": [
    "df.renta"
   ]
  },
  {
   "cell_type": "code",
   "execution_count": 344,
   "id": "18c1206a",
   "metadata": {
    "collapsed": false
   },
   "outputs": [],
   "source": [
    "# renta 数值型填充\n",
    "# sns.scatterplot(df.renta, df.renta.value_counts())\n",
    "# df.renta.plot.scatter(x='renta', y=df.renta.value_counts())"
   ]
  },
  {
   "cell_type": "code",
   "execution_count": 345,
   "id": "4ac4274b",
   "metadata": {
    "collapsed": false
   },
   "outputs": [],
   "source": [
    "# TODO\n",
    "df.renta.fillna(df.renta.mean(), inplace=True)"
   ]
  },
  {
   "cell_type": "code",
   "execution_count": 346,
   "id": "3b21ceda",
   "metadata": {
    "collapsed": false
   },
   "outputs": [],
   "source": [
    "df.indrel_1mes.fillna('unknown', inplace=True)\n",
    "df.tiprel_1mes.fillna('unknown', inplace=True)"
   ]
  },
  {
   "cell_type": "code",
   "execution_count": 347,
   "id": "22163543",
   "metadata": {
    "collapsed": false
   },
   "outputs": [],
   "source": [
    "# 23. segmento : 01 - VIP, 02 - 个人 03 - 大学毕业\n",
    "df.segmento.fillna('00', inplace=True)"
   ]
  },
  {
   "cell_type": "code",
   "execution_count": 348,
   "id": "5d8a37ae",
   "metadata": {
    "collapsed": false
   },
   "outputs": [
    {
     "name": "stdout",
     "output_type": "stream",
     "text": [
      "<class 'pandas.core.frame.DataFrame'>\n",
      "Int64Index: 136182 entries, 716072 to 142099\n",
      "Data columns (total 45 columns):\n",
      " #   Column                 Non-Null Count   Dtype  \n",
      "---  ------                 --------------   -----  \n",
      " 0   fecha_dato             136182 non-null  object \n",
      " 1   ncodpers               136182 non-null  int64  \n",
      " 2   ind_empleado           136182 non-null  object \n",
      " 3   pais_residencia        136182 non-null  object \n",
      " 4   sexo                   136182 non-null  object \n",
      " 5   age                    136182 non-null  object \n",
      " 6   fecha_alta             136182 non-null  object \n",
      " 7   ind_nuevo              136182 non-null  object \n",
      " 8   antiguedad             136182 non-null  object \n",
      " 9   indrel                 136182 non-null  float64\n",
      " 10  indrel_1mes            136182 non-null  object \n",
      " 11  tiprel_1mes            136182 non-null  object \n",
      " 12  indresi                136182 non-null  object \n",
      " 13  indext                 136182 non-null  object \n",
      " 14  canal_entrada          136182 non-null  object \n",
      " 15  indfall                136182 non-null  object \n",
      " 16  tipodom                136182 non-null  float64\n",
      " 17  cod_prov               136182 non-null  float64\n",
      " 18  ind_actividad_cliente  136182 non-null  float64\n",
      " 19  renta                  136182 non-null  float64\n",
      " 20  segmento               136182 non-null  object \n",
      " 21  ind_ahor_fin_ult1      136182 non-null  uint8  \n",
      " 22  ind_aval_fin_ult1      136182 non-null  uint8  \n",
      " 23  ind_cco_fin_ult1       136182 non-null  uint8  \n",
      " 24  ind_cder_fin_ult1      136182 non-null  uint8  \n",
      " 25  ind_cno_fin_ult1       136182 non-null  uint8  \n",
      " 26  ind_ctju_fin_ult1      136182 non-null  uint8  \n",
      " 27  ind_ctma_fin_ult1      136182 non-null  uint8  \n",
      " 28  ind_ctop_fin_ult1      136182 non-null  uint8  \n",
      " 29  ind_ctpp_fin_ult1      136182 non-null  uint8  \n",
      " 30  ind_deco_fin_ult1      136182 non-null  uint8  \n",
      " 31  ind_deme_fin_ult1      136182 non-null  uint8  \n",
      " 32  ind_dela_fin_ult1      136182 non-null  uint8  \n",
      " 33  ind_ecue_fin_ult1      136182 non-null  uint8  \n",
      " 34  ind_fond_fin_ult1      136182 non-null  uint8  \n",
      " 35  ind_hip_fin_ult1       136182 non-null  uint8  \n",
      " 36  ind_plan_fin_ult1      136182 non-null  uint8  \n",
      " 37  ind_pres_fin_ult1      136182 non-null  uint8  \n",
      " 38  ind_reca_fin_ult1      136182 non-null  uint8  \n",
      " 39  ind_tjcr_fin_ult1      136182 non-null  uint8  \n",
      " 40  ind_valo_fin_ult1      136182 non-null  uint8  \n",
      " 41  ind_viv_fin_ult1       136182 non-null  uint8  \n",
      " 42  ind_nomina_ult1        136182 non-null  uint8  \n",
      " 43  ind_nom_pens_ult1      136182 non-null  uint8  \n",
      " 44  ind_recibo_ult1        136182 non-null  uint8  \n",
      "dtypes: float64(5), int64(1), object(15), uint8(24)\n",
      "memory usage: 26.0+ MB\n"
     ]
    }
   ],
   "source": [
    "df.info()"
   ]
  },
  {
   "cell_type": "code",
   "execution_count": 349,
   "id": "d9e274e7",
   "metadata": {
    "collapsed": false
   },
   "outputs": [
    {
     "name": "stdout",
     "output_type": "stream",
     "text": [
      "Series([], dtype: float64)\n"
     ]
    }
   ],
   "source": [
    "cal_loss(df)"
   ]
  },
  {
   "cell_type": "markdown",
   "id": "f531f43c",
   "metadata": {
    "collapsed": false
   },
   "source": [
    "# 编码"
   ]
  },
  {
   "cell_type": "code",
   "execution_count": 350,
   "id": "bc510239",
   "metadata": {
    "collapsed": false
   },
   "outputs": [],
   "source": [
    "# 0. fecha_dato 日期\n",
    "# df.fecha_dato.value_counts(dropna=False).plot(kind='bar')\n",
    "# 1. ncodpers 客户代码, 弃用\n",
    "# df.ncodpers.value_counts(dropna=False)"
   ]
  },
  {
   "cell_type": "code",
   "execution_count": 351,
   "id": "49798697",
   "metadata": {
    "collapsed": false
   },
   "outputs": [],
   "source": [
    "# 日期和客户代码删除\n",
    "df.drop(['fecha_dato', 'ncodpers'], axis=1, inplace=True)"
   ]
  },
  {
   "cell_type": "code",
   "execution_count": 352,
   "id": "46255b0d",
   "metadata": {
    "collapsed": false
   },
   "outputs": [],
   "source": [
    "def label_enc(data):\n",
    "    label_enc = preprocessing.LabelEncoder()  #获取一个LabelEncoder\n",
    "    # label_enc = preprocessing.OrdinalEncoder()  #获取一个LabelEncoder\n",
    "    label_data = label_enc.fit_transform(data)\n",
    "    return np.array(label_data).reshape(-1, 1)\n",
    "\n",
    "\n",
    "# def concat_encoder(df):\n",
    "#     data = pd.concat([data, pd.DataFrame(arrays, columns=names)],axis=1)\n",
    "#     data = data.drop(['hour'],axis=1)\n",
    "#     return df\n",
    "\n",
    "# 对单列编码\n",
    "def oh_enc(data):\n",
    "    label_data = label_enc(data)\n",
    "    # 2. 再用onehot\n",
    "    oh_enc = preprocessing.OneHotEncoder()\n",
    "    name_list = []\n",
    "    for i in range(label_data.classes_.shape[0]):\n",
    "        name = f'{data.name}_{i}'\n",
    "        name_list.append(name)\n",
    "    # 给fit_transform传递的X一定要是 2D的，即（samples，features），否则会报错`\n",
    "    onehot_data = oh_enc.fit_transform(label_data)\n",
    "    # 转成numpy array格式\n",
    "    onehot_data = onehot_data.toarray()\n",
    "    enc_df = pd.DataFrame(onehot_data, columns=name_list)\n",
    "    return enc_df"
   ]
  },
  {
   "cell_type": "code",
   "execution_count": 353,
   "id": "ba33b668",
   "metadata": {
    "collapsed": false
   },
   "outputs": [],
   "source": [
    "\n",
    "# 2. 5 ind_empleado 员工指标,\n",
    "# 树模型直接不处理\n",
    "# A active 活跃, B ex employed 前雇员, F filial 子女, N not employee 非雇员, P pasive 被动, 目前没有寻找新工作, 但是对新工作持开放态度\n",
    "\n",
    "# df.ind_empleado.value_counts(dropna=False)\n",
    "# enc_array = label_enc(df.ind_empleado)\n",
    "def get_ordinal_name(data) -> list:\n",
    "    return [f'{data.name}_enc']\n",
    "\n",
    "\n",
    "def get_onehot_name(data) -> list:\n",
    "    length = data.unique().shape[0]\n",
    "    l = []\n",
    "    for i in range(length):\n",
    "        l.append(f'{data.name}_oh_{i}')\n",
    "    return l\n",
    "\n",
    "\n",
    "def new_ordinal_df(data: pd.Series, array):\n",
    "    name: list = get_ordinal_name(data)\n",
    "    return pd.DataFrame(array, index=data.index, columns=name)\n",
    "\n",
    "\n",
    "# TODO\n",
    "def new_onehot_df(data: pd.Series, array):\n",
    "    name: list = get_ordinal_name(data)\n",
    "    return pd.DataFrame(array, index=data.index, columns=name)\n",
    "\n",
    "\n",
    "# TODO\n",
    "def show_value_counts(df, od_set: set, oh_set: set):\n",
    "    df[get_ordinal_name(df.ind_empleado)].value_counts(dropna=False)\n",
    "\n",
    "\n",
    "od_set = set()\n",
    "oh_set = set()"
   ]
  },
  {
   "cell_type": "code",
   "execution_count": 354,
   "id": "b6c606d3",
   "metadata": {
    "collapsed": false
   },
   "outputs": [
    {
     "data": {
      "text/plain": [
       "['ind_empleado_oh_0',\n",
       " 'ind_empleado_oh_1',\n",
       " 'ind_empleado_oh_2',\n",
       " 'ind_empleado_oh_3']"
      ]
     },
     "execution_count": 354,
     "metadata": {},
     "output_type": "execute_result"
    },
    {
     "data": {
      "text/plain": [
       "['ind_empleado_enc']"
      ]
     },
     "execution_count": 354,
     "metadata": {},
     "output_type": "execute_result"
    }
   ],
   "source": [
    "l = get_onehot_name(df.ind_empleado)\n",
    "e = get_ordinal_name(df.ind_empleado)\n",
    "l\n",
    "e"
   ]
  },
  {
   "cell_type": "code",
   "execution_count": 355,
   "id": "e20d9c85",
   "metadata": {
    "collapsed": false
   },
   "outputs": [],
   "source": [
    "# df.drop(get_ordinal_name(df.ind_empleado), axis=1, inplace=True)"
   ]
  },
  {
   "cell_type": "code",
   "execution_count": 356,
   "id": "c812f22e",
   "metadata": {
    "collapsed": false
   },
   "outputs": [
    {
     "data": {
      "text/plain": [
       "N    136098\n",
       "A        28\n",
       "B        28\n",
       "F        28\n",
       "Name: ind_empleado, dtype: int64"
      ]
     },
     "execution_count": 356,
     "metadata": {},
     "output_type": "execute_result"
    }
   ],
   "source": [
    "# df[get_ordinal_name(df.ind_empleado)].value_counts()\n",
    "\n",
    "df.ind_empleado.value_counts(dropna=False)"
   ]
  },
  {
   "cell_type": "code",
   "execution_count": 357,
   "id": "1380f438",
   "metadata": {
    "collapsed": false
   },
   "outputs": [],
   "source": [
    "# 单列编码\n",
    "# df = pd.concat([df, new_ordinal_df(df.ind_empleado, label_enc(df.ind_empleado))], axis=1)\n",
    "# df[get_ordinal_name(df.ind_empleado)].value_counts(dropna=False)\n",
    "\n",
    "# 用list收集, 统一进行编码处理\n",
    "od_set.add(df.ind_empleado.name)"
   ]
  },
  {
   "cell_type": "code",
   "execution_count": 358,
   "id": "f4f0449b",
   "metadata": {
    "collapsed": false
   },
   "outputs": [
    {
     "data": {
      "text/plain": [
       "ES        135536\n",
       "others       646\n",
       "Name: pais_residencia, dtype: int64"
      ]
     },
     "execution_count": 358,
     "metadata": {},
     "output_type": "execute_result"
    }
   ],
   "source": [
    "# 3. 118 pais_residencia 客户国籍 ES占比巨大\n",
    "# 发现others国家的人所有数据都是others\n",
    "# 继续处理\n",
    "# Nan unknown\n",
    "# TODO 计算占比\n",
    "# df.pais_residencia.value_counts(dropna=False)\n",
    "# df.pais_residencia.unique()\n",
    "\n",
    "# 用others替换其他\n",
    "df.loc[(df['pais_residencia'] != 'ES'), 'pais_residencia'] = 'others'\n",
    "\n",
    "# df[df['pais_residencia']=='ES'].sum()\n",
    "df.pais_residencia.value_counts(dropna=False)\n",
    "\n",
    "od_set.add(df.pais_residencia.name)"
   ]
  },
  {
   "cell_type": "markdown",
   "id": "0b52f8d5",
   "metadata": {
    "collapsed": false
   },
   "source": []
  },
  {
   "cell_type": "code",
   "execution_count": 359,
   "id": "9626cbc4",
   "metadata": {
    "collapsed": false
   },
   "outputs": [
    {
     "data": {
      "text/plain": [
       "V    74156\n",
       "H    62026\n",
       "Name: sexo, dtype: int64"
      ]
     },
     "execution_count": 359,
     "metadata": {},
     "output_type": "execute_result"
    }
   ],
   "source": [
    "# 4. sexo\n",
    "# Nan = unknown\n",
    "# 无序类别\n",
    "df.sexo.value_counts(dropna=False)\n",
    "od_set.add(df.sexo.name)"
   ]
  },
  {
   "cell_type": "code",
   "execution_count": 360,
   "id": "22b52740",
   "metadata": {
    "collapsed": false
   },
   "outputs": [],
   "source": [
    "df.age = df.age.astype('int8')"
   ]
  },
  {
   "cell_type": "code",
   "execution_count": 361,
   "id": "4ff5752a",
   "metadata": {
    "collapsed": false
   },
   "outputs": [
    {
     "data": {
      "text/plain": [
       "11.059782608695652"
      ]
     },
     "execution_count": 361,
     "metadata": {},
     "output_type": "execute_result"
    }
   ],
   "source": [
    "# 5. age 年龄\n",
    "# 清洗>100的异常值\n",
    "# df.age.value_counts(dropna=False)\n",
    "low_age = df.loc[df.age < 16, 'age']\n",
    "low_age.mean()\n",
    "\n",
    "# df['age'].unique()"
   ]
  },
  {
   "cell_type": "markdown",
   "id": "54388541",
   "metadata": {
    "collapsed": false
   },
   "source": []
  },
  {
   "cell_type": "code",
   "execution_count": 362,
   "id": "3946c7af",
   "metadata": {
    "collapsed": false
   },
   "outputs": [
    {
     "data": {
      "text/plain": [
       "2014-10-03    534\n",
       "2014-07-28    510\n",
       "2014-08-04    476\n",
       "2013-10-14    427\n",
       "2013-08-03    329\n",
       "             ... \n",
       "2007-12-08      1\n",
       "2001-07-15      1\n",
       "2016-04-30      1\n",
       "1997-08-14      1\n",
       "1996-08-20      1\n",
       "Name: fecha_alta, Length: 6290, dtype: int64"
      ]
     },
     "execution_count": 362,
     "metadata": {},
     "output_type": "execute_result"
    }
   ],
   "source": [
    "df.fecha_alta.value_counts(dropna=False)"
   ]
  },
  {
   "cell_type": "code",
   "execution_count": 362,
   "id": "6949fe97",
   "metadata": {
    "collapsed": false
   },
   "outputs": [],
   "source": []
  },
  {
   "cell_type": "code",
   "execution_count": 363,
   "id": "933a5049",
   "metadata": {
    "collapsed": false
   },
   "outputs": [
    {
     "data": {
      "text/plain": [
       "10    22155\n",
       "9     16074\n",
       "11    15293\n",
       "7     14711\n",
       "8     13618\n",
       "12    10137\n",
       "1      8296\n",
       "2      7712\n",
       "3      7475\n",
       "4      7303\n",
       "5      6760\n",
       "6      6648\n",
       "Name: fecha_alta, dtype: int64"
      ]
     },
     "execution_count": 363,
     "metadata": {},
     "output_type": "execute_result"
    }
   ],
   "source": [
    "pd.DatetimeIndex(df[\"fecha_alta\"]).month.value_counts()"
   ]
  },
  {
   "cell_type": "code",
   "execution_count": 364,
   "id": "ba9d63a8",
   "metadata": {
    "collapsed": false
   },
   "outputs": [
    {
     "data": {
      "text/plain": [
       "2013-10-01    3836\n",
       "2014-10-01    3353\n",
       "2012-10-01    3052\n",
       "2014-09-01    2960\n",
       "2011-10-01    2685\n",
       "              ... \n",
       "1995-08-01      32\n",
       "1995-04-01      21\n",
       "1995-03-01      19\n",
       "1995-02-01      15\n",
       "1995-01-01      11\n",
       "Name: fecha_alta, Length: 257, dtype: int64"
      ]
     },
     "execution_count": 364,
     "metadata": {},
     "output_type": "execute_result"
    }
   ],
   "source": [
    "temp = df.fecha_alta.astype('datetime64[M]')\n",
    "temp.value_counts()"
   ]
  },
  {
   "cell_type": "code",
   "execution_count": 365,
   "id": "15da77e2",
   "metadata": {
    "collapsed": false
   },
   "outputs": [
    {
     "data": {
      "text/plain": [
       "     12    2431\n",
       "     21    2127\n",
       "     10    2067\n",
       "     23    1766\n",
       "     45    1698\n",
       "           ... \n",
       "    252       5\n",
       "    254       2\n",
       "-999999       2\n",
       "    255       2\n",
       "    256       1\n",
       "Name: antiguedad, Length: 258, dtype: int64"
      ]
     },
     "execution_count": 365,
     "metadata": {},
     "output_type": "execute_result"
    }
   ],
   "source": [
    "df.antiguedad.value_counts(dropna=False)\n",
    "od_set.add(df.antiguedad.name)"
   ]
  },
  {
   "cell_type": "code",
   "execution_count": 366,
   "id": "e17e4b7e",
   "metadata": {
    "collapsed": false
   },
   "outputs": [
    {
     "name": "stdout",
     "output_type": "stream",
     "text": [
      "<class 'pandas.core.series.Series'>\n",
      "Int64Index: 136182 entries, 716072 to 142099\n",
      "Series name: fecha_alta\n",
      "Non-Null Count   Dtype \n",
      "--------------   ----- \n",
      "136182 non-null  object\n",
      "dtypes: object(1)\n",
      "memory usage: 2.1+ MB\n"
     ]
    }
   ],
   "source": [
    "df.fecha_alta.info()"
   ]
  },
  {
   "cell_type": "code",
   "execution_count": 367,
   "id": "05e91570",
   "metadata": {
    "collapsed": false
   },
   "outputs": [
    {
     "name": "stdout",
     "output_type": "stream",
     "text": [
      "<class 'pandas.core.series.Series'>\n",
      "Int64Index: 136182 entries, 716072 to 142099\n",
      "Series name: fecha_alta\n",
      "Non-Null Count   Dtype         \n",
      "--------------   -----         \n",
      "136182 non-null  datetime64[ns]\n",
      "dtypes: datetime64[ns](1)\n",
      "memory usage: 2.1 MB\n"
     ]
    }
   ],
   "source": [
    "x = pd.to_datetime(df.fecha_alta)\n",
    "x.info()"
   ]
  },
  {
   "cell_type": "code",
   "execution_count": 368,
   "id": "f8c2c1b4",
   "metadata": {
    "collapsed": false
   },
   "outputs": [
    {
     "data": {
      "text/plain": [
       "     12    2431\n",
       "     21    2127\n",
       "     10    2067\n",
       "     23    1766\n",
       "     45    1698\n",
       "           ... \n",
       "    252       5\n",
       "    254       2\n",
       "-999999       2\n",
       "    255       2\n",
       "    256       1\n",
       "Name: antiguedad, Length: 258, dtype: int64"
      ]
     },
     "execution_count": 368,
     "metadata": {},
     "output_type": "execute_result"
    },
    {
     "name": "stdout",
     "output_type": "stream",
     "text": [
      "<class 'pandas.core.series.Series'>\n",
      "Int64Index: 136182 entries, 716072 to 142099\n",
      "Series name: antiguedad\n",
      "Non-Null Count   Dtype \n",
      "--------------   ----- \n",
      "136182 non-null  object\n",
      "dtypes: object(1)\n",
      "memory usage: 2.1+ MB\n"
     ]
    }
   ],
   "source": [
    "# 6.fecha_alta 客户首次签订合同的日期, 可以用距今差值表示, 总结成月份, 然后判断和 antiguedad客户资历的关系\n",
    "df.antiguedad.value_counts(dropna=False)\n",
    "df.antiguedad.info()\n",
    "\n",
    "# TODO 暂时先删除\n",
    "df.drop('fecha_alta', inplace=True, axis=1)\n",
    "# df.fecha_alta.isnull().sum()\n",
    "# months_active = df.loc[df[\"ind_nuevo\"].isnull(), :].groupby(\"ncodpers\", sort=False).size()\n",
    "# months_active.max()"
   ]
  },
  {
   "cell_type": "code",
   "execution_count": 369,
   "id": "65692630",
   "metadata": {
    "collapsed": false
   },
   "outputs": [
    {
     "data": {
      "text/plain": [
       "0    128001\n",
       "1      8181\n",
       "Name: ind_nuevo, dtype: int64"
      ]
     },
     "execution_count": 369,
     "metadata": {},
     "output_type": "execute_result"
    }
   ],
   "source": [
    "\n",
    "# 7.ind_nuevo 新客户指数 2. 如果是6个月内注册的客户, 则为1\n",
    "df.ind_nuevo = df.ind_nuevo.astype('int8')\n",
    "df.ind_nuevo.value_counts(dropna=False)\n",
    "\n",
    "od_set.add(df.ind_nuevo.name)"
   ]
  },
  {
   "cell_type": "code",
   "execution_count": 370,
   "id": "a60407ea",
   "metadata": {
    "collapsed": false
   },
   "outputs": [
    {
     "data": {
      "text/plain": [
       "     12    2431\n",
       "     21    2127\n",
       "     10    2067\n",
       "     23    1766\n",
       "     45    1698\n",
       "           ... \n",
       "    252       5\n",
       "    254       2\n",
       "-999999       2\n",
       "    255       2\n",
       "    256       1\n",
       "Name: antiguedad, Length: 258, dtype: int64"
      ]
     },
     "execution_count": 370,
     "metadata": {},
     "output_type": "execute_result"
    }
   ],
   "source": [
    "# 8. antiguedad 客户资历, 单位是月\n",
    "df.antiguedad.value_counts(dropna=False)\n",
    "od_set.add(df.antiguedad.name)"
   ]
  },
  {
   "cell_type": "code",
   "execution_count": 371,
   "id": "8339ad69",
   "metadata": {
    "collapsed": false
   },
   "outputs": [],
   "source": [
    "# 6,7,8 缺失值数量相等已经删除"
   ]
  },
  {
   "cell_type": "code",
   "execution_count": 372,
   "id": "20748349",
   "metadata": {
    "collapsed": false
   },
   "outputs": [
    {
     "data": {
      "text/plain": [
       "1     135945\n",
       "99       237\n",
       "Name: indrel, dtype: int64"
      ]
     },
     "execution_count": 372,
     "metadata": {},
     "output_type": "execute_result"
    }
   ],
   "source": [
    "# 9.indrel  2:  1表示primary, 99表示当月primary,但不是月末?\n",
    "# Nan =unknown\n",
    "# one-hot label编码?\n",
    "df.indrel = df.indrel.astype('int8')\n",
    "df.indrel.value_counts(dropna=False)\n",
    "od_set.add(df.indrel.name)"
   ]
  },
  {
   "cell_type": "code",
   "execution_count": 373,
   "id": "7006a61d",
   "metadata": {
    "collapsed": false
   },
   "outputs": [],
   "source": [
    "# 10. ult_fec_cli_1t 作为主要客户的日期\n",
    "# 缺失值太多, 丢弃\n",
    "# df.ult_fec_cli_1t.value_counts(dropna=False)\n",
    "# df.ult_fec_cli_1t.isnull().sum()"
   ]
  },
  {
   "cell_type": "code",
   "execution_count": 373,
   "id": "072e19e3",
   "metadata": {
    "collapsed": false
   },
   "outputs": [],
   "source": []
  },
  {
   "cell_type": "code",
   "execution_count": 374,
   "id": "76772c8d",
   "metadata": {
    "collapsed": false
   },
   "outputs": [
    {
     "data": {
      "text/plain": [
       "1          134825\n",
       "unknown      1279\n",
       "3              58\n",
       "P              10\n",
       "2               7\n",
       "4               3\n",
       "Name: indrel_1mes, dtype: int64"
      ]
     },
     "execution_count": 374,
     "metadata": {},
     "output_type": "execute_result"
    }
   ],
   "source": [
    "# df.replace('unknown', -2, inplace=True)\n",
    "# df.replace('P', -3, inplace=True)\n",
    "# 必须先修改类型, 不然replace匹配不上\n",
    "# df.indrel_1mes = df.indrel_1mes.astype('float')\n",
    "df.indrel_1mes.replace({'1.0': '1', '2.0': '2', '3.0': '3', '4.0': '4'}, inplace=True)  # 不同key用不同value替换\n",
    "df.indrel_1mes.value_counts(dropna=False)\n",
    "od_set.add(df.indrel_1mes.name)"
   ]
  },
  {
   "cell_type": "code",
   "execution_count": 375,
   "id": "5f8482cf",
   "metadata": {
    "collapsed": false
   },
   "outputs": [
    {
     "data": {
      "text/plain": [
       "I          73235\n",
       "A          61597\n",
       "unknown     1279\n",
       "P             61\n",
       "R              9\n",
       "N              1\n",
       "Name: tiprel_1mes, dtype: int64"
      ]
     },
     "execution_count": 375,
     "metadata": {},
     "output_type": "execute_result"
    }
   ],
   "source": [
    "# 12.tiprel_1mes 月初客户关系类型 A (active), I (inactive), P (former customer 前客户),R (Potential 潜在客户)\n",
    "# Nan = unknown\n",
    "# label 编码\n",
    "df.tiprel_1mes.value_counts(dropna=False)\n",
    "od_set.add(df.tiprel_1mes.name)"
   ]
  },
  {
   "cell_type": "code",
   "execution_count": 376,
   "id": "4ee25026",
   "metadata": {
    "collapsed": false
   },
   "outputs": [
    {
     "data": {
      "text/plain": [
       "S    135536\n",
       "N       646\n",
       "Name: indresi, dtype: int64"
      ]
     },
     "execution_count": 376,
     "metadata": {},
     "output_type": "execute_result"
    }
   ],
   "source": [
    "# 13. indresi 居住指数S (Yes) 银行和居住国相同 N (No) 不同国家\n",
    "# label编码, S=1, N=0\n",
    "df.indresi.value_counts(dropna=False)\n",
    "od_set.add(df.indresi.name)\n"
   ]
  },
  {
   "cell_type": "code",
   "execution_count": 377,
   "id": "88880c63",
   "metadata": {
    "collapsed": false
   },
   "outputs": [
    {
     "data": {
      "text/plain": [
       "N    129669\n",
       "S      6513\n",
       "Name: indext, dtype: int64"
      ]
     },
     "execution_count": 377,
     "metadata": {},
     "output_type": "execute_result"
    }
   ],
   "source": [
    "# 14. indext 外国人指数, S 本国出生, N 非本国\n",
    "# label 编码\n",
    "df.indext.value_counts(dropna=False)\n",
    "od_set.add(df.indext.name)\n"
   ]
  },
  {
   "cell_type": "code",
   "execution_count": 378,
   "id": "765510f6",
   "metadata": {
    "collapsed": false
   },
   "outputs": [],
   "source": [
    "# 15. conyuemp 配偶指数, S 客户是员工配偶\n",
    "# 缺失太多, 删除列\n",
    "# df.conyuemp.value_counts(dropna=False)"
   ]
  },
  {
   "cell_type": "code",
   "execution_count": 379,
   "id": "50a2942b",
   "metadata": {
    "collapsed": false
   },
   "outputs": [
    {
     "data": {
      "text/plain": [
       "KHE    40376\n",
       "KAT    32511\n",
       "KFC    31170\n",
       "KHQ     5995\n",
       "KFA     3987\n",
       "       ...  \n",
       "KEM        1\n",
       "KCO        1\n",
       "KBD        1\n",
       "KFE        1\n",
       "KCP        1\n",
       "Name: canal_entrada, Length: 150, dtype: int64"
      ]
     },
     "execution_count": 379,
     "metadata": {},
     "output_type": "execute_result"
    }
   ],
   "source": [
    "# 16. canal_entrada\t客户渠道 (拉新渠道)\n",
    "# Nan = unknown, 占比小于3%都是other\n",
    "# 用占比, 占比低的作为others\n",
    "df.canal_entrada.value_counts(dropna=False)\n",
    "# df.canal_entrada.isnull().sum()\n",
    "# print(100 * round(df.canal_entrada.value_counts(dropna=False) / df.shape[0], 8))\n",
    "od_set.add(df.canal_entrada.name)"
   ]
  },
  {
   "cell_type": "code",
   "execution_count": 380,
   "id": "ad529262",
   "metadata": {
    "collapsed": false
   },
   "outputs": [
    {
     "data": {
      "text/plain": [
       "N    135836\n",
       "S       346\n",
       "Name: indfall, dtype: int64"
      ]
     },
     "execution_count": 380,
     "metadata": {},
     "output_type": "execute_result"
    }
   ],
   "source": [
    "# 17. indfall 已故索引 N/S\n",
    "df.indfall.value_counts(dropna=False)\n",
    "od_set.add(df.indfall.name)\n"
   ]
  },
  {
   "cell_type": "code",
   "execution_count": 381,
   "id": "2776eb7e",
   "metadata": {
    "collapsed": false
   },
   "outputs": [
    {
     "data": {
      "text/plain": [
       "1.0    136182\n",
       "Name: tipodom, dtype: int64"
      ]
     },
     "execution_count": 381,
     "metadata": {},
     "output_type": "execute_result"
    }
   ],
   "source": [
    "# 18. tipodom 地址类型. 1, primary address 弃用\n",
    "# Nan dropna\n",
    "# 没有区分度, 删除列\n",
    "# label编码\n",
    "df.tipodom.value_counts(dropna=False)\n",
    "df.drop('tipodom', axis=1, inplace=True)"
   ]
  },
  {
   "cell_type": "code",
   "execution_count": 382,
   "id": "cfdc19e5",
   "metadata": {
    "collapsed": false
   },
   "outputs": [
    {
     "data": {
      "text/plain": [
       " 28    44255\n",
       " 8     12862\n",
       " 46     6925\n",
       " 41     6017\n",
       " 15     4246\n",
       " 30     3915\n",
       " 29     3566\n",
       " 50     3381\n",
       " 3      3123\n",
       " 11     2848\n",
       " 36     2816\n",
       " 33     2621\n",
       " 35     2430\n",
       " 47     2391\n",
       " 6      1937\n",
       " 48     1872\n",
       " 45     1842\n",
       " 18     1740\n",
       " 37     1568\n",
       " 39     1547\n",
       " 14     1436\n",
       " 7      1274\n",
       " 10     1251\n",
       " 13     1236\n",
       " 21     1219\n",
       " 2      1189\n",
       " 12     1040\n",
       " 43     1029\n",
       " 9       936\n",
       " 17      886\n",
       " 31      882\n",
       " 26      866\n",
       " 27      823\n",
       " 24      822\n",
       " 25      804\n",
       " 32      793\n",
       " 20      734\n",
       " 38      683\n",
       " 23      670\n",
       " 19      659\n",
       "-1       646\n",
       " 4       586\n",
       " 16      573\n",
       " 34      525\n",
       " 49      515\n",
       " 40      454\n",
       " 22      407\n",
       " 5       391\n",
       " 1       385\n",
       " 44      245\n",
       " 42      176\n",
       " 52       84\n",
       " 51       61\n",
       "Name: cod_prov, dtype: int64"
      ]
     },
     "execution_count": 382,
     "metadata": {},
     "output_type": "execute_result"
    }
   ],
   "source": [
    "# 19.cod_prov 省份编码\n",
    "# 转成int\n",
    "# Nan = 0?\n",
    "# number\n",
    "df.cod_prov = df.cod_prov.astype('int8')\n",
    "df.cod_prov.value_counts(dropna=False)\n",
    "od_set.add(df.cod_prov.name)\n"
   ]
  },
  {
   "cell_type": "code",
   "execution_count": 383,
   "id": "39b2893f",
   "metadata": {
    "collapsed": false
   },
   "outputs": [],
   "source": [
    "# 20. nomprov 省份名称 删除\n",
    "# df.nomprov.value_counts(dropna=False)"
   ]
  },
  {
   "cell_type": "code",
   "execution_count": 384,
   "id": "7f67fc43",
   "metadata": {
    "collapsed": false
   },
   "outputs": [
    {
     "data": {
      "text/plain": [
       "0    74230\n",
       "1    61952\n",
       "Name: ind_actividad_cliente, dtype: int64"
      ]
     },
     "execution_count": 384,
     "metadata": {},
     "output_type": "execute_result"
    }
   ],
   "source": [
    "# 21. ind_actividad_cliente\t活跃指数 1, active customer; 0, inactive customer)\n",
    "df.ind_actividad_cliente = df.ind_actividad_cliente.astype('int8')\n",
    "df.ind_actividad_cliente.value_counts(dropna=False)\n",
    "od_set.add(df.ind_actividad_cliente.name)\n"
   ]
  },
  {
   "cell_type": "code",
   "execution_count": 385,
   "id": "389049fa",
   "metadata": {
    "collapsed": false
   },
   "outputs": [
    {
     "data": {
      "text/plain": [
       "28894395.51"
      ]
     },
     "execution_count": 385,
     "metadata": {},
     "output_type": "execute_result"
    }
   ],
   "source": [
    "df.renta.max()"
   ]
  },
  {
   "cell_type": "code",
   "execution_count": 386,
   "id": "5948f6d9",
   "metadata": {
    "collapsed": false
   },
   "outputs": [
    {
     "data": {
      "text/plain": [
       "2336.01"
      ]
     },
     "execution_count": 386,
     "metadata": {},
     "output_type": "execute_result"
    }
   ],
   "source": [
    "df.renta.min()"
   ]
  },
  {
   "cell_type": "code",
   "execution_count": 387,
   "id": "f32aed6b",
   "metadata": {
    "collapsed": false
   },
   "outputs": [],
   "source": [
    "df.renta = round(df.renta)\n",
    "df.renta = df.renta.astype('int32')"
   ]
  },
  {
   "cell_type": "code",
   "execution_count": 388,
   "id": "cbf967fe",
   "metadata": {
    "collapsed": false
   },
   "outputs": [
    {
     "data": {
      "text/plain": [
       "02 - PARTICULARES     79670\n",
       "03 - UNIVERSITARIO    49292\n",
       "01 - TOP               5527\n",
       "00                     1693\n",
       "Name: segmento, dtype: int64"
      ]
     },
     "execution_count": 388,
     "metadata": {},
     "output_type": "execute_result"
    }
   ],
   "source": [
    "# 23. segmento : 01 - VIP, 02 - 个人 03 - 大学毕业\n",
    "# Nan = unknown\n",
    "# ordinal 编码\n",
    "df.segmento.value_counts()\n",
    "od_set.add(df.segmento.name)\n"
   ]
  },
  {
   "cell_type": "code",
   "execution_count": 388,
   "id": "b4155178",
   "metadata": {
    "collapsed": false
   },
   "outputs": [],
   "source": []
  },
  {
   "cell_type": "code",
   "execution_count": 389,
   "id": "99476b20",
   "metadata": {
    "collapsed": false
   },
   "outputs": [
    {
     "data": {
      "text/plain": [
       "{'age', 'renta'}"
      ]
     },
     "execution_count": 389,
     "metadata": {},
     "output_type": "execute_result"
    }
   ],
   "source": [
    "# 未编码的列, 就是数值特征\n",
    "set(df.columns) - od_set - oh_set - set(y_name_list)"
   ]
  },
  {
   "cell_type": "code",
   "execution_count": 390,
   "id": "84c6e097",
   "metadata": {
    "collapsed": false
   },
   "outputs": [
    {
     "data": {
      "text/plain": [
       "5471845"
      ]
     },
     "execution_count": 390,
     "metadata": {},
     "output_type": "execute_result"
    }
   ],
   "source": [
    "df.age.sum()"
   ]
  },
  {
   "cell_type": "code",
   "execution_count": 391,
   "id": "77a7ec59",
   "metadata": {
    "collapsed": false
   },
   "outputs": [],
   "source": [
    "scaler = preprocessing.StandardScaler()\n",
    "data = np.array(df.age).reshape(-1, 1)\n",
    "\n",
    "tmp = scaler.fit_transform(data)"
   ]
  },
  {
   "cell_type": "code",
   "execution_count": 392,
   "id": "f26599ce",
   "metadata": {
    "collapsed": false
   },
   "outputs": [
    {
     "data": {
      "text/plain": [
       "40.180383604294256"
      ]
     },
     "execution_count": 392,
     "metadata": {},
     "output_type": "execute_result"
    }
   ],
   "source": [
    "# tmp\n",
    "df.age.mean()"
   ]
  },
  {
   "cell_type": "code",
   "execution_count": 393,
   "id": "5a1033ca",
   "metadata": {
    "collapsed": false
   },
   "outputs": [
    {
     "data": {
      "text/html": [
       "<div>\n",
       "<style scoped>\n",
       "    .dataframe tbody tr th:only-of-type {\n",
       "        vertical-align: middle;\n",
       "    }\n",
       "\n",
       "    .dataframe tbody tr th {\n",
       "        vertical-align: top;\n",
       "    }\n",
       "\n",
       "    .dataframe thead th {\n",
       "        text-align: right;\n",
       "    }\n",
       "</style>\n",
       "<table border=\"1\" class=\"dataframe\">\n",
       "  <thead>\n",
       "    <tr style=\"text-align: right;\">\n",
       "      <th></th>\n",
       "      <th>ind_empleado</th>\n",
       "      <th>pais_residencia</th>\n",
       "      <th>sexo</th>\n",
       "      <th>age</th>\n",
       "      <th>ind_nuevo</th>\n",
       "      <th>antiguedad</th>\n",
       "      <th>indrel</th>\n",
       "      <th>indrel_1mes</th>\n",
       "      <th>tiprel_1mes</th>\n",
       "      <th>indresi</th>\n",
       "      <th>...</th>\n",
       "      <th>ind_hip_fin_ult1</th>\n",
       "      <th>ind_plan_fin_ult1</th>\n",
       "      <th>ind_pres_fin_ult1</th>\n",
       "      <th>ind_reca_fin_ult1</th>\n",
       "      <th>ind_tjcr_fin_ult1</th>\n",
       "      <th>ind_valo_fin_ult1</th>\n",
       "      <th>ind_viv_fin_ult1</th>\n",
       "      <th>ind_nomina_ult1</th>\n",
       "      <th>ind_nom_pens_ult1</th>\n",
       "      <th>ind_recibo_ult1</th>\n",
       "    </tr>\n",
       "  </thead>\n",
       "  <tbody>\n",
       "    <tr>\n",
       "      <th>716072</th>\n",
       "      <td>N</td>\n",
       "      <td>ES</td>\n",
       "      <td>H</td>\n",
       "      <td>41</td>\n",
       "      <td>0</td>\n",
       "      <td>85</td>\n",
       "      <td>1</td>\n",
       "      <td>1</td>\n",
       "      <td>A</td>\n",
       "      <td>S</td>\n",
       "      <td>...</td>\n",
       "      <td>0</td>\n",
       "      <td>0</td>\n",
       "      <td>0</td>\n",
       "      <td>0</td>\n",
       "      <td>0</td>\n",
       "      <td>0</td>\n",
       "      <td>0</td>\n",
       "      <td>1</td>\n",
       "      <td>1</td>\n",
       "      <td>1</td>\n",
       "    </tr>\n",
       "    <tr>\n",
       "      <th>3911706</th>\n",
       "      <td>N</td>\n",
       "      <td>ES</td>\n",
       "      <td>H</td>\n",
       "      <td>53</td>\n",
       "      <td>0</td>\n",
       "      <td>60</td>\n",
       "      <td>1</td>\n",
       "      <td>1</td>\n",
       "      <td>I</td>\n",
       "      <td>S</td>\n",
       "      <td>...</td>\n",
       "      <td>0</td>\n",
       "      <td>0</td>\n",
       "      <td>0</td>\n",
       "      <td>0</td>\n",
       "      <td>0</td>\n",
       "      <td>0</td>\n",
       "      <td>0</td>\n",
       "      <td>0</td>\n",
       "      <td>0</td>\n",
       "      <td>0</td>\n",
       "    </tr>\n",
       "    <tr>\n",
       "      <th>4052549</th>\n",
       "      <td>N</td>\n",
       "      <td>ES</td>\n",
       "      <td>V</td>\n",
       "      <td>50</td>\n",
       "      <td>0</td>\n",
       "      <td>179</td>\n",
       "      <td>1</td>\n",
       "      <td>1</td>\n",
       "      <td>A</td>\n",
       "      <td>S</td>\n",
       "      <td>...</td>\n",
       "      <td>0</td>\n",
       "      <td>0</td>\n",
       "      <td>0</td>\n",
       "      <td>0</td>\n",
       "      <td>0</td>\n",
       "      <td>0</td>\n",
       "      <td>0</td>\n",
       "      <td>0</td>\n",
       "      <td>0</td>\n",
       "      <td>0</td>\n",
       "    </tr>\n",
       "    <tr>\n",
       "      <th>8547423</th>\n",
       "      <td>N</td>\n",
       "      <td>ES</td>\n",
       "      <td>V</td>\n",
       "      <td>35</td>\n",
       "      <td>0</td>\n",
       "      <td>151</td>\n",
       "      <td>1</td>\n",
       "      <td>1</td>\n",
       "      <td>A</td>\n",
       "      <td>S</td>\n",
       "      <td>...</td>\n",
       "      <td>0</td>\n",
       "      <td>0</td>\n",
       "      <td>0</td>\n",
       "      <td>0</td>\n",
       "      <td>0</td>\n",
       "      <td>0</td>\n",
       "      <td>0</td>\n",
       "      <td>0</td>\n",
       "      <td>0</td>\n",
       "      <td>0</td>\n",
       "    </tr>\n",
       "    <tr>\n",
       "      <th>284254</th>\n",
       "      <td>N</td>\n",
       "      <td>ES</td>\n",
       "      <td>H</td>\n",
       "      <td>33</td>\n",
       "      <td>0</td>\n",
       "      <td>16</td>\n",
       "      <td>1</td>\n",
       "      <td>1</td>\n",
       "      <td>A</td>\n",
       "      <td>S</td>\n",
       "      <td>...</td>\n",
       "      <td>0</td>\n",
       "      <td>0</td>\n",
       "      <td>0</td>\n",
       "      <td>0</td>\n",
       "      <td>0</td>\n",
       "      <td>0</td>\n",
       "      <td>0</td>\n",
       "      <td>0</td>\n",
       "      <td>0</td>\n",
       "      <td>0</td>\n",
       "    </tr>\n",
       "  </tbody>\n",
       "</table>\n",
       "<p>5 rows × 41 columns</p>\n",
       "</div>"
      ],
      "text/plain": [
       "        ind_empleado pais_residencia sexo  age  ind_nuevo antiguedad  indrel  \\\n",
       "716072             N              ES    H   41          0         85       1   \n",
       "3911706            N              ES    H   53          0         60       1   \n",
       "4052549            N              ES    V   50          0        179       1   \n",
       "8547423            N              ES    V   35          0        151       1   \n",
       "284254             N              ES    H   33          0         16       1   \n",
       "\n",
       "        indrel_1mes tiprel_1mes indresi  ... ind_hip_fin_ult1  \\\n",
       "716072            1           A       S  ...                0   \n",
       "3911706           1           I       S  ...                0   \n",
       "4052549           1           A       S  ...                0   \n",
       "8547423           1           A       S  ...                0   \n",
       "284254            1           A       S  ...                0   \n",
       "\n",
       "        ind_plan_fin_ult1 ind_pres_fin_ult1  ind_reca_fin_ult1  \\\n",
       "716072                  0                 0                  0   \n",
       "3911706                 0                 0                  0   \n",
       "4052549                 0                 0                  0   \n",
       "8547423                 0                 0                  0   \n",
       "284254                  0                 0                  0   \n",
       "\n",
       "         ind_tjcr_fin_ult1  ind_valo_fin_ult1 ind_viv_fin_ult1  \\\n",
       "716072                   0                  0                0   \n",
       "3911706                  0                  0                0   \n",
       "4052549                  0                  0                0   \n",
       "8547423                  0                  0                0   \n",
       "284254                   0                  0                0   \n",
       "\n",
       "         ind_nomina_ult1  ind_nom_pens_ult1  ind_recibo_ult1  \n",
       "716072                 1                  1                1  \n",
       "3911706                0                  0                0  \n",
       "4052549                0                  0                0  \n",
       "8547423                0                  0                0  \n",
       "284254                 0                  0                0  \n",
       "\n",
       "[5 rows x 41 columns]"
      ]
     },
     "execution_count": 393,
     "metadata": {},
     "output_type": "execute_result"
    }
   ],
   "source": [
    "df.head()"
   ]
  },
  {
   "cell_type": "code",
   "execution_count": 394,
   "id": "5fec918e",
   "metadata": {
    "collapsed": false
   },
   "outputs": [
    {
     "data": {
      "text/plain": [
       "ind_empleado                             N\n",
       "pais_residencia                         ES\n",
       "sexo                                     V\n",
       "age                                     50\n",
       "ind_nuevo                                0\n",
       "antiguedad                             179\n",
       "indrel                                   1\n",
       "indrel_1mes                              1\n",
       "tiprel_1mes                              A\n",
       "indresi                                  S\n",
       "indext                                   N\n",
       "canal_entrada                          KAT\n",
       "indfall                                  N\n",
       "cod_prov                                28\n",
       "ind_actividad_cliente                    1\n",
       "renta                               102088\n",
       "segmento                 02 - PARTICULARES\n",
       "ind_ahor_fin_ult1                        0\n",
       "ind_aval_fin_ult1                        0\n",
       "ind_cco_fin_ult1                         1\n",
       "ind_cder_fin_ult1                        0\n",
       "ind_cno_fin_ult1                         0\n",
       "ind_ctju_fin_ult1                        0\n",
       "ind_ctma_fin_ult1                        0\n",
       "ind_ctop_fin_ult1                        1\n",
       "ind_ctpp_fin_ult1                        0\n",
       "ind_deco_fin_ult1                        0\n",
       "ind_deme_fin_ult1                        0\n",
       "ind_dela_fin_ult1                        0\n",
       "ind_ecue_fin_ult1                        0\n",
       "ind_fond_fin_ult1                        0\n",
       "ind_hip_fin_ult1                         0\n",
       "ind_plan_fin_ult1                        0\n",
       "ind_pres_fin_ult1                        0\n",
       "ind_reca_fin_ult1                        0\n",
       "ind_tjcr_fin_ult1                        0\n",
       "ind_valo_fin_ult1                        0\n",
       "ind_viv_fin_ult1                         0\n",
       "ind_nomina_ult1                          0\n",
       "ind_nom_pens_ult1                        0\n",
       "ind_recibo_ult1                          0\n",
       "Name: 4052549, dtype: object"
      ]
     },
     "execution_count": 394,
     "metadata": {},
     "output_type": "execute_result"
    }
   ],
   "source": [
    "df.iloc[2, :]"
   ]
  },
  {
   "cell_type": "code",
   "execution_count": 395,
   "id": "b8dad25e",
   "metadata": {
    "collapsed": false
   },
   "outputs": [
    {
     "data": {
      "text/plain": [
       "0"
      ]
     },
     "execution_count": 395,
     "metadata": {},
     "output_type": "execute_result"
    }
   ],
   "source": [
    "round(tmp.mean())"
   ]
  },
  {
   "cell_type": "code",
   "execution_count": 396,
   "id": "d254cf93",
   "metadata": {
    "collapsed": false
   },
   "outputs": [
    {
     "data": {
      "text/plain": [
       "17.2047644656388"
      ]
     },
     "execution_count": 396,
     "metadata": {},
     "output_type": "execute_result"
    }
   ],
   "source": [
    "np.std(df.age)"
   ]
  },
  {
   "cell_type": "code",
   "execution_count": 397,
   "id": "7077c5de",
   "metadata": {
    "collapsed": false
   },
   "outputs": [
    {
     "data": {
      "text/plain": [
       "5471845.0"
      ]
     },
     "execution_count": 397,
     "metadata": {},
     "output_type": "execute_result"
    }
   ],
   "source": [
    "df.age.sum() - tmp.sum()"
   ]
  },
  {
   "cell_type": "code",
   "execution_count": 398,
   "id": "5cafa4e2",
   "metadata": {
    "collapsed": false
   },
   "outputs": [
    {
     "data": {
      "text/plain": [
       "(136182,)"
      ]
     },
     "execution_count": 398,
     "metadata": {},
     "output_type": "execute_result"
    }
   ],
   "source": [
    "df.age.shape"
   ]
  },
  {
   "cell_type": "code",
   "execution_count": 399,
   "id": "e5219abb",
   "metadata": {
    "collapsed": false
   },
   "outputs": [
    {
     "data": {
      "text/plain": [
       "(1, 136182)"
      ]
     },
     "execution_count": 399,
     "metadata": {},
     "output_type": "execute_result"
    }
   ],
   "source": [
    "np.array([df.age]).shape"
   ]
  },
  {
   "cell_type": "code",
   "execution_count": 400,
   "id": "efc3ad61",
   "metadata": {
    "collapsed": false
   },
   "outputs": [
    {
     "data": {
      "text/plain": [
       "15"
      ]
     },
     "execution_count": 400,
     "metadata": {},
     "output_type": "execute_result"
    }
   ],
   "source": [
    "# 编码流程\n",
    "len(od_set)\n"
   ]
  },
  {
   "cell_type": "code",
   "execution_count": 401,
   "id": "772d1c3d",
   "metadata": {
    "collapsed": false
   },
   "outputs": [
    {
     "name": "stdout",
     "output_type": "stream",
     "text": [
      "<class 'pandas.core.frame.DataFrame'>\n",
      "Int64Index: 136182 entries, 716072 to 142099\n",
      "Data columns (total 41 columns):\n",
      " #   Column                 Non-Null Count   Dtype \n",
      "---  ------                 --------------   ----- \n",
      " 0   ind_empleado           136182 non-null  object\n",
      " 1   pais_residencia        136182 non-null  object\n",
      " 2   sexo                   136182 non-null  object\n",
      " 3   age                    136182 non-null  int8  \n",
      " 4   ind_nuevo              136182 non-null  int8  \n",
      " 5   antiguedad             136182 non-null  object\n",
      " 6   indrel                 136182 non-null  int8  \n",
      " 7   indrel_1mes            136182 non-null  object\n",
      " 8   tiprel_1mes            136182 non-null  object\n",
      " 9   indresi                136182 non-null  object\n",
      " 10  indext                 136182 non-null  object\n",
      " 11  canal_entrada          136182 non-null  object\n",
      " 12  indfall                136182 non-null  object\n",
      " 13  cod_prov               136182 non-null  int8  \n",
      " 14  ind_actividad_cliente  136182 non-null  int8  \n",
      " 15  renta                  136182 non-null  int32 \n",
      " 16  segmento               136182 non-null  object\n",
      " 17  ind_ahor_fin_ult1      136182 non-null  uint8 \n",
      " 18  ind_aval_fin_ult1      136182 non-null  uint8 \n",
      " 19  ind_cco_fin_ult1       136182 non-null  uint8 \n",
      " 20  ind_cder_fin_ult1      136182 non-null  uint8 \n",
      " 21  ind_cno_fin_ult1       136182 non-null  uint8 \n",
      " 22  ind_ctju_fin_ult1      136182 non-null  uint8 \n",
      " 23  ind_ctma_fin_ult1      136182 non-null  uint8 \n",
      " 24  ind_ctop_fin_ult1      136182 non-null  uint8 \n",
      " 25  ind_ctpp_fin_ult1      136182 non-null  uint8 \n",
      " 26  ind_deco_fin_ult1      136182 non-null  uint8 \n",
      " 27  ind_deme_fin_ult1      136182 non-null  uint8 \n",
      " 28  ind_dela_fin_ult1      136182 non-null  uint8 \n",
      " 29  ind_ecue_fin_ult1      136182 non-null  uint8 \n",
      " 30  ind_fond_fin_ult1      136182 non-null  uint8 \n",
      " 31  ind_hip_fin_ult1       136182 non-null  uint8 \n",
      " 32  ind_plan_fin_ult1      136182 non-null  uint8 \n",
      " 33  ind_pres_fin_ult1      136182 non-null  uint8 \n",
      " 34  ind_reca_fin_ult1      136182 non-null  uint8 \n",
      " 35  ind_tjcr_fin_ult1      136182 non-null  uint8 \n",
      " 36  ind_valo_fin_ult1      136182 non-null  uint8 \n",
      " 37  ind_viv_fin_ult1       136182 non-null  uint8 \n",
      " 38  ind_nomina_ult1        136182 non-null  uint8 \n",
      " 39  ind_nom_pens_ult1      136182 non-null  uint8 \n",
      " 40  ind_recibo_ult1        136182 non-null  uint8 \n",
      "dtypes: int32(1), int8(5), object(11), uint8(24)\n",
      "memory usage: 16.8+ MB\n"
     ]
    }
   ],
   "source": [
    "df.info()"
   ]
  },
  {
   "cell_type": "code",
   "execution_count": 401,
   "id": "b360c196",
   "metadata": {
    "collapsed": false
   },
   "outputs": [],
   "source": []
  },
  {
   "cell_type": "code",
   "execution_count": 402,
   "id": "3660bcf6",
   "metadata": {
    "collapsed": false
   },
   "outputs": [
    {
     "name": "stdout",
     "output_type": "stream",
     "text": [
      "indrel_1mes\n",
      "indfall\n",
      "tiprel_1mes\n",
      "cod_prov\n",
      "sexo\n",
      "segmento\n",
      "indrel\n",
      "pais_residencia\n",
      "ind_empleado\n",
      "indresi\n",
      "indext\n",
      "canal_entrada\n",
      "ind_actividad_cliente\n",
      "antiguedad\n",
      "ind_nuevo\n"
     ]
    }
   ],
   "source": [
    "finished = []\n",
    "for name in od_set:\n",
    "    print(name)\n",
    "    df = pd.concat([df, new_ordinal_df(df[name], label_enc(df[name]))], axis=1)\n",
    "    finished.append(name)\n",
    "df.drop(finished, inplace=True, axis=1)\n"
   ]
  },
  {
   "cell_type": "code",
   "execution_count": 403,
   "id": "a19e7787",
   "metadata": {
    "collapsed": false
   },
   "outputs": [
    {
     "data": {
      "text/html": [
       "<div>\n",
       "<style scoped>\n",
       "    .dataframe tbody tr th:only-of-type {\n",
       "        vertical-align: middle;\n",
       "    }\n",
       "\n",
       "    .dataframe tbody tr th {\n",
       "        vertical-align: top;\n",
       "    }\n",
       "\n",
       "    .dataframe thead th {\n",
       "        text-align: right;\n",
       "    }\n",
       "</style>\n",
       "<table border=\"1\" class=\"dataframe\">\n",
       "  <thead>\n",
       "    <tr style=\"text-align: right;\">\n",
       "      <th></th>\n",
       "      <th>age</th>\n",
       "      <th>renta</th>\n",
       "      <th>indrel_1mes_enc</th>\n",
       "      <th>indfall_enc</th>\n",
       "      <th>tiprel_1mes_enc</th>\n",
       "      <th>cod_prov_enc</th>\n",
       "      <th>sexo_enc</th>\n",
       "      <th>segmento_enc</th>\n",
       "      <th>indrel_enc</th>\n",
       "      <th>pais_residencia_enc</th>\n",
       "      <th>ind_empleado_enc</th>\n",
       "      <th>indresi_enc</th>\n",
       "      <th>indext_enc</th>\n",
       "      <th>canal_entrada_enc</th>\n",
       "      <th>ind_actividad_cliente_enc</th>\n",
       "      <th>antiguedad_enc</th>\n",
       "      <th>ind_nuevo_enc</th>\n",
       "    </tr>\n",
       "  </thead>\n",
       "  <tbody>\n",
       "    <tr>\n",
       "      <th>716072</th>\n",
       "      <td>41</td>\n",
       "      <td>112383</td>\n",
       "      <td>0</td>\n",
       "      <td>0</td>\n",
       "      <td>0</td>\n",
       "      <td>28</td>\n",
       "      <td>0</td>\n",
       "      <td>2</td>\n",
       "      <td>0</td>\n",
       "      <td>0</td>\n",
       "      <td>3</td>\n",
       "      <td>1</td>\n",
       "      <td>0</td>\n",
       "      <td>114</td>\n",
       "      <td>1</td>\n",
       "      <td>85</td>\n",
       "      <td>0</td>\n",
       "    </tr>\n",
       "    <tr>\n",
       "      <th>3911706</th>\n",
       "      <td>53</td>\n",
       "      <td>25455</td>\n",
       "      <td>0</td>\n",
       "      <td>0</td>\n",
       "      <td>1</td>\n",
       "      <td>3</td>\n",
       "      <td>0</td>\n",
       "      <td>2</td>\n",
       "      <td>0</td>\n",
       "      <td>0</td>\n",
       "      <td>3</td>\n",
       "      <td>1</td>\n",
       "      <td>0</td>\n",
       "      <td>114</td>\n",
       "      <td>0</td>\n",
       "      <td>60</td>\n",
       "      <td>0</td>\n",
       "    </tr>\n",
       "    <tr>\n",
       "      <th>4052549</th>\n",
       "      <td>50</td>\n",
       "      <td>102088</td>\n",
       "      <td>0</td>\n",
       "      <td>0</td>\n",
       "      <td>0</td>\n",
       "      <td>28</td>\n",
       "      <td>1</td>\n",
       "      <td>2</td>\n",
       "      <td>0</td>\n",
       "      <td>0</td>\n",
       "      <td>3</td>\n",
       "      <td>1</td>\n",
       "      <td>0</td>\n",
       "      <td>23</td>\n",
       "      <td>1</td>\n",
       "      <td>179</td>\n",
       "      <td>0</td>\n",
       "    </tr>\n",
       "    <tr>\n",
       "      <th>8547423</th>\n",
       "      <td>35</td>\n",
       "      <td>88365</td>\n",
       "      <td>0</td>\n",
       "      <td>0</td>\n",
       "      <td>0</td>\n",
       "      <td>50</td>\n",
       "      <td>1</td>\n",
       "      <td>2</td>\n",
       "      <td>0</td>\n",
       "      <td>0</td>\n",
       "      <td>3</td>\n",
       "      <td>1</td>\n",
       "      <td>0</td>\n",
       "      <td>5</td>\n",
       "      <td>1</td>\n",
       "      <td>151</td>\n",
       "      <td>0</td>\n",
       "    </tr>\n",
       "    <tr>\n",
       "      <th>284254</th>\n",
       "      <td>33</td>\n",
       "      <td>133685</td>\n",
       "      <td>0</td>\n",
       "      <td>0</td>\n",
       "      <td>0</td>\n",
       "      <td>8</td>\n",
       "      <td>0</td>\n",
       "      <td>2</td>\n",
       "      <td>0</td>\n",
       "      <td>0</td>\n",
       "      <td>3</td>\n",
       "      <td>1</td>\n",
       "      <td>0</td>\n",
       "      <td>114</td>\n",
       "      <td>1</td>\n",
       "      <td>16</td>\n",
       "      <td>0</td>\n",
       "    </tr>\n",
       "    <tr>\n",
       "      <th>...</th>\n",
       "      <td>...</td>\n",
       "      <td>...</td>\n",
       "      <td>...</td>\n",
       "      <td>...</td>\n",
       "      <td>...</td>\n",
       "      <td>...</td>\n",
       "      <td>...</td>\n",
       "      <td>...</td>\n",
       "      <td>...</td>\n",
       "      <td>...</td>\n",
       "      <td>...</td>\n",
       "      <td>...</td>\n",
       "      <td>...</td>\n",
       "      <td>...</td>\n",
       "      <td>...</td>\n",
       "      <td>...</td>\n",
       "      <td>...</td>\n",
       "    </tr>\n",
       "    <tr>\n",
       "      <th>2972494</th>\n",
       "      <td>50</td>\n",
       "      <td>99161</td>\n",
       "      <td>0</td>\n",
       "      <td>0</td>\n",
       "      <td>1</td>\n",
       "      <td>28</td>\n",
       "      <td>1</td>\n",
       "      <td>2</td>\n",
       "      <td>0</td>\n",
       "      <td>0</td>\n",
       "      <td>3</td>\n",
       "      <td>1</td>\n",
       "      <td>0</td>\n",
       "      <td>23</td>\n",
       "      <td>0</td>\n",
       "      <td>197</td>\n",
       "      <td>0</td>\n",
       "    </tr>\n",
       "    <tr>\n",
       "      <th>3010483</th>\n",
       "      <td>40</td>\n",
       "      <td>125177</td>\n",
       "      <td>0</td>\n",
       "      <td>0</td>\n",
       "      <td>1</td>\n",
       "      <td>46</td>\n",
       "      <td>0</td>\n",
       "      <td>2</td>\n",
       "      <td>0</td>\n",
       "      <td>0</td>\n",
       "      <td>3</td>\n",
       "      <td>1</td>\n",
       "      <td>0</td>\n",
       "      <td>114</td>\n",
       "      <td>0</td>\n",
       "      <td>104</td>\n",
       "      <td>0</td>\n",
       "    </tr>\n",
       "    <tr>\n",
       "      <th>7113655</th>\n",
       "      <td>55</td>\n",
       "      <td>120443</td>\n",
       "      <td>0</td>\n",
       "      <td>0</td>\n",
       "      <td>0</td>\n",
       "      <td>28</td>\n",
       "      <td>0</td>\n",
       "      <td>2</td>\n",
       "      <td>0</td>\n",
       "      <td>0</td>\n",
       "      <td>3</td>\n",
       "      <td>1</td>\n",
       "      <td>0</td>\n",
       "      <td>23</td>\n",
       "      <td>1</td>\n",
       "      <td>119</td>\n",
       "      <td>0</td>\n",
       "    </tr>\n",
       "    <tr>\n",
       "      <th>1021394</th>\n",
       "      <td>21</td>\n",
       "      <td>80310</td>\n",
       "      <td>0</td>\n",
       "      <td>0</td>\n",
       "      <td>1</td>\n",
       "      <td>35</td>\n",
       "      <td>0</td>\n",
       "      <td>3</td>\n",
       "      <td>0</td>\n",
       "      <td>0</td>\n",
       "      <td>3</td>\n",
       "      <td>1</td>\n",
       "      <td>0</td>\n",
       "      <td>139</td>\n",
       "      <td>0</td>\n",
       "      <td>9</td>\n",
       "      <td>0</td>\n",
       "    </tr>\n",
       "    <tr>\n",
       "      <th>142099</th>\n",
       "      <td>26</td>\n",
       "      <td>133685</td>\n",
       "      <td>0</td>\n",
       "      <td>0</td>\n",
       "      <td>0</td>\n",
       "      <td>10</td>\n",
       "      <td>0</td>\n",
       "      <td>3</td>\n",
       "      <td>0</td>\n",
       "      <td>0</td>\n",
       "      <td>3</td>\n",
       "      <td>1</td>\n",
       "      <td>0</td>\n",
       "      <td>139</td>\n",
       "      <td>1</td>\n",
       "      <td>45</td>\n",
       "      <td>0</td>\n",
       "    </tr>\n",
       "  </tbody>\n",
       "</table>\n",
       "<p>136182 rows × 17 columns</p>\n",
       "</div>"
      ],
      "text/plain": [
       "         age   renta  indrel_1mes_enc  indfall_enc  tiprel_1mes_enc  \\\n",
       "716072    41  112383                0            0                0   \n",
       "3911706   53   25455                0            0                1   \n",
       "4052549   50  102088                0            0                0   \n",
       "8547423   35   88365                0            0                0   \n",
       "284254    33  133685                0            0                0   \n",
       "...      ...     ...              ...          ...              ...   \n",
       "2972494   50   99161                0            0                1   \n",
       "3010483   40  125177                0            0                1   \n",
       "7113655   55  120443                0            0                0   \n",
       "1021394   21   80310                0            0                1   \n",
       "142099    26  133685                0            0                0   \n",
       "\n",
       "         cod_prov_enc  sexo_enc  segmento_enc  indrel_enc  \\\n",
       "716072             28         0             2           0   \n",
       "3911706             3         0             2           0   \n",
       "4052549            28         1             2           0   \n",
       "8547423            50         1             2           0   \n",
       "284254              8         0             2           0   \n",
       "...               ...       ...           ...         ...   \n",
       "2972494            28         1             2           0   \n",
       "3010483            46         0             2           0   \n",
       "7113655            28         0             2           0   \n",
       "1021394            35         0             3           0   \n",
       "142099             10         0             3           0   \n",
       "\n",
       "         pais_residencia_enc  ind_empleado_enc  indresi_enc  indext_enc  \\\n",
       "716072                     0                 3            1           0   \n",
       "3911706                    0                 3            1           0   \n",
       "4052549                    0                 3            1           0   \n",
       "8547423                    0                 3            1           0   \n",
       "284254                     0                 3            1           0   \n",
       "...                      ...               ...          ...         ...   \n",
       "2972494                    0                 3            1           0   \n",
       "3010483                    0                 3            1           0   \n",
       "7113655                    0                 3            1           0   \n",
       "1021394                    0                 3            1           0   \n",
       "142099                     0                 3            1           0   \n",
       "\n",
       "         canal_entrada_enc  ind_actividad_cliente_enc  antiguedad_enc  \\\n",
       "716072                 114                          1              85   \n",
       "3911706                114                          0              60   \n",
       "4052549                 23                          1             179   \n",
       "8547423                  5                          1             151   \n",
       "284254                 114                          1              16   \n",
       "...                    ...                        ...             ...   \n",
       "2972494                 23                          0             197   \n",
       "3010483                114                          0             104   \n",
       "7113655                 23                          1             119   \n",
       "1021394                139                          0               9   \n",
       "142099                 139                          1              45   \n",
       "\n",
       "         ind_nuevo_enc  \n",
       "716072               0  \n",
       "3911706              0  \n",
       "4052549              0  \n",
       "8547423              0  \n",
       "284254               0  \n",
       "...                ...  \n",
       "2972494              0  \n",
       "3010483              0  \n",
       "7113655              0  \n",
       "1021394              0  \n",
       "142099               0  \n",
       "\n",
       "[136182 rows x 17 columns]"
      ]
     },
     "execution_count": 403,
     "metadata": {},
     "output_type": "execute_result"
    }
   ],
   "source": [
    "X = df.drop(y_name_list, axis=1)\n",
    "X"
   ]
  },
  {
   "cell_type": "code",
   "execution_count": 404,
   "id": "ba97ddfc",
   "metadata": {
    "collapsed": false
   },
   "outputs": [
    {
     "data": {
      "text/html": [
       "<div>\n",
       "<style scoped>\n",
       "    .dataframe tbody tr th:only-of-type {\n",
       "        vertical-align: middle;\n",
       "    }\n",
       "\n",
       "    .dataframe tbody tr th {\n",
       "        vertical-align: top;\n",
       "    }\n",
       "\n",
       "    .dataframe thead th {\n",
       "        text-align: right;\n",
       "    }\n",
       "</style>\n",
       "<table border=\"1\" class=\"dataframe\">\n",
       "  <thead>\n",
       "    <tr style=\"text-align: right;\">\n",
       "      <th></th>\n",
       "      <th>ind_ahor_fin_ult1</th>\n",
       "      <th>ind_aval_fin_ult1</th>\n",
       "      <th>ind_cco_fin_ult1</th>\n",
       "      <th>ind_cder_fin_ult1</th>\n",
       "      <th>ind_cno_fin_ult1</th>\n",
       "      <th>ind_ctju_fin_ult1</th>\n",
       "      <th>ind_ctma_fin_ult1</th>\n",
       "      <th>ind_ctop_fin_ult1</th>\n",
       "      <th>ind_ctpp_fin_ult1</th>\n",
       "      <th>ind_deco_fin_ult1</th>\n",
       "      <th>...</th>\n",
       "      <th>ind_hip_fin_ult1</th>\n",
       "      <th>ind_plan_fin_ult1</th>\n",
       "      <th>ind_pres_fin_ult1</th>\n",
       "      <th>ind_reca_fin_ult1</th>\n",
       "      <th>ind_tjcr_fin_ult1</th>\n",
       "      <th>ind_valo_fin_ult1</th>\n",
       "      <th>ind_viv_fin_ult1</th>\n",
       "      <th>ind_nomina_ult1</th>\n",
       "      <th>ind_nom_pens_ult1</th>\n",
       "      <th>ind_recibo_ult1</th>\n",
       "    </tr>\n",
       "  </thead>\n",
       "  <tbody>\n",
       "    <tr>\n",
       "      <th>716072</th>\n",
       "      <td>0</td>\n",
       "      <td>0</td>\n",
       "      <td>0</td>\n",
       "      <td>0</td>\n",
       "      <td>1</td>\n",
       "      <td>0</td>\n",
       "      <td>0</td>\n",
       "      <td>0</td>\n",
       "      <td>0</td>\n",
       "      <td>0</td>\n",
       "      <td>...</td>\n",
       "      <td>0</td>\n",
       "      <td>0</td>\n",
       "      <td>0</td>\n",
       "      <td>0</td>\n",
       "      <td>0</td>\n",
       "      <td>0</td>\n",
       "      <td>0</td>\n",
       "      <td>1</td>\n",
       "      <td>1</td>\n",
       "      <td>1</td>\n",
       "    </tr>\n",
       "    <tr>\n",
       "      <th>3911706</th>\n",
       "      <td>0</td>\n",
       "      <td>0</td>\n",
       "      <td>0</td>\n",
       "      <td>0</td>\n",
       "      <td>0</td>\n",
       "      <td>0</td>\n",
       "      <td>0</td>\n",
       "      <td>0</td>\n",
       "      <td>0</td>\n",
       "      <td>0</td>\n",
       "      <td>...</td>\n",
       "      <td>0</td>\n",
       "      <td>0</td>\n",
       "      <td>0</td>\n",
       "      <td>0</td>\n",
       "      <td>0</td>\n",
       "      <td>0</td>\n",
       "      <td>0</td>\n",
       "      <td>0</td>\n",
       "      <td>0</td>\n",
       "      <td>0</td>\n",
       "    </tr>\n",
       "    <tr>\n",
       "      <th>4052549</th>\n",
       "      <td>0</td>\n",
       "      <td>0</td>\n",
       "      <td>1</td>\n",
       "      <td>0</td>\n",
       "      <td>0</td>\n",
       "      <td>0</td>\n",
       "      <td>0</td>\n",
       "      <td>1</td>\n",
       "      <td>0</td>\n",
       "      <td>0</td>\n",
       "      <td>...</td>\n",
       "      <td>0</td>\n",
       "      <td>0</td>\n",
       "      <td>0</td>\n",
       "      <td>0</td>\n",
       "      <td>0</td>\n",
       "      <td>0</td>\n",
       "      <td>0</td>\n",
       "      <td>0</td>\n",
       "      <td>0</td>\n",
       "      <td>0</td>\n",
       "    </tr>\n",
       "    <tr>\n",
       "      <th>8547423</th>\n",
       "      <td>0</td>\n",
       "      <td>0</td>\n",
       "      <td>1</td>\n",
       "      <td>0</td>\n",
       "      <td>0</td>\n",
       "      <td>0</td>\n",
       "      <td>0</td>\n",
       "      <td>1</td>\n",
       "      <td>0</td>\n",
       "      <td>0</td>\n",
       "      <td>...</td>\n",
       "      <td>0</td>\n",
       "      <td>0</td>\n",
       "      <td>0</td>\n",
       "      <td>0</td>\n",
       "      <td>0</td>\n",
       "      <td>0</td>\n",
       "      <td>0</td>\n",
       "      <td>0</td>\n",
       "      <td>0</td>\n",
       "      <td>0</td>\n",
       "    </tr>\n",
       "    <tr>\n",
       "      <th>284254</th>\n",
       "      <td>0</td>\n",
       "      <td>0</td>\n",
       "      <td>1</td>\n",
       "      <td>0</td>\n",
       "      <td>0</td>\n",
       "      <td>0</td>\n",
       "      <td>0</td>\n",
       "      <td>0</td>\n",
       "      <td>0</td>\n",
       "      <td>0</td>\n",
       "      <td>...</td>\n",
       "      <td>0</td>\n",
       "      <td>0</td>\n",
       "      <td>0</td>\n",
       "      <td>0</td>\n",
       "      <td>0</td>\n",
       "      <td>0</td>\n",
       "      <td>0</td>\n",
       "      <td>0</td>\n",
       "      <td>0</td>\n",
       "      <td>0</td>\n",
       "    </tr>\n",
       "    <tr>\n",
       "      <th>...</th>\n",
       "      <td>...</td>\n",
       "      <td>...</td>\n",
       "      <td>...</td>\n",
       "      <td>...</td>\n",
       "      <td>...</td>\n",
       "      <td>...</td>\n",
       "      <td>...</td>\n",
       "      <td>...</td>\n",
       "      <td>...</td>\n",
       "      <td>...</td>\n",
       "      <td>...</td>\n",
       "      <td>...</td>\n",
       "      <td>...</td>\n",
       "      <td>...</td>\n",
       "      <td>...</td>\n",
       "      <td>...</td>\n",
       "      <td>...</td>\n",
       "      <td>...</td>\n",
       "      <td>...</td>\n",
       "      <td>...</td>\n",
       "      <td>...</td>\n",
       "    </tr>\n",
       "    <tr>\n",
       "      <th>2972494</th>\n",
       "      <td>0</td>\n",
       "      <td>0</td>\n",
       "      <td>1</td>\n",
       "      <td>0</td>\n",
       "      <td>0</td>\n",
       "      <td>0</td>\n",
       "      <td>0</td>\n",
       "      <td>0</td>\n",
       "      <td>1</td>\n",
       "      <td>0</td>\n",
       "      <td>...</td>\n",
       "      <td>0</td>\n",
       "      <td>0</td>\n",
       "      <td>0</td>\n",
       "      <td>0</td>\n",
       "      <td>0</td>\n",
       "      <td>0</td>\n",
       "      <td>0</td>\n",
       "      <td>0</td>\n",
       "      <td>0</td>\n",
       "      <td>0</td>\n",
       "    </tr>\n",
       "    <tr>\n",
       "      <th>3010483</th>\n",
       "      <td>0</td>\n",
       "      <td>0</td>\n",
       "      <td>1</td>\n",
       "      <td>0</td>\n",
       "      <td>0</td>\n",
       "      <td>0</td>\n",
       "      <td>0</td>\n",
       "      <td>0</td>\n",
       "      <td>0</td>\n",
       "      <td>0</td>\n",
       "      <td>...</td>\n",
       "      <td>0</td>\n",
       "      <td>0</td>\n",
       "      <td>0</td>\n",
       "      <td>0</td>\n",
       "      <td>0</td>\n",
       "      <td>0</td>\n",
       "      <td>0</td>\n",
       "      <td>0</td>\n",
       "      <td>0</td>\n",
       "      <td>0</td>\n",
       "    </tr>\n",
       "    <tr>\n",
       "      <th>7113655</th>\n",
       "      <td>0</td>\n",
       "      <td>0</td>\n",
       "      <td>0</td>\n",
       "      <td>0</td>\n",
       "      <td>1</td>\n",
       "      <td>0</td>\n",
       "      <td>0</td>\n",
       "      <td>0</td>\n",
       "      <td>1</td>\n",
       "      <td>0</td>\n",
       "      <td>...</td>\n",
       "      <td>0</td>\n",
       "      <td>0</td>\n",
       "      <td>0</td>\n",
       "      <td>0</td>\n",
       "      <td>1</td>\n",
       "      <td>0</td>\n",
       "      <td>0</td>\n",
       "      <td>1</td>\n",
       "      <td>1</td>\n",
       "      <td>1</td>\n",
       "    </tr>\n",
       "    <tr>\n",
       "      <th>1021394</th>\n",
       "      <td>0</td>\n",
       "      <td>0</td>\n",
       "      <td>1</td>\n",
       "      <td>0</td>\n",
       "      <td>0</td>\n",
       "      <td>0</td>\n",
       "      <td>0</td>\n",
       "      <td>0</td>\n",
       "      <td>0</td>\n",
       "      <td>0</td>\n",
       "      <td>...</td>\n",
       "      <td>0</td>\n",
       "      <td>0</td>\n",
       "      <td>0</td>\n",
       "      <td>0</td>\n",
       "      <td>0</td>\n",
       "      <td>0</td>\n",
       "      <td>0</td>\n",
       "      <td>0</td>\n",
       "      <td>0</td>\n",
       "      <td>0</td>\n",
       "    </tr>\n",
       "    <tr>\n",
       "      <th>142099</th>\n",
       "      <td>0</td>\n",
       "      <td>0</td>\n",
       "      <td>1</td>\n",
       "      <td>0</td>\n",
       "      <td>0</td>\n",
       "      <td>0</td>\n",
       "      <td>0</td>\n",
       "      <td>0</td>\n",
       "      <td>0</td>\n",
       "      <td>0</td>\n",
       "      <td>...</td>\n",
       "      <td>0</td>\n",
       "      <td>0</td>\n",
       "      <td>0</td>\n",
       "      <td>0</td>\n",
       "      <td>0</td>\n",
       "      <td>0</td>\n",
       "      <td>0</td>\n",
       "      <td>0</td>\n",
       "      <td>0</td>\n",
       "      <td>0</td>\n",
       "    </tr>\n",
       "  </tbody>\n",
       "</table>\n",
       "<p>136182 rows × 24 columns</p>\n",
       "</div>"
      ],
      "text/plain": [
       "         ind_ahor_fin_ult1  ind_aval_fin_ult1  ind_cco_fin_ult1  \\\n",
       "716072                   0                  0                 0   \n",
       "3911706                  0                  0                 0   \n",
       "4052549                  0                  0                 1   \n",
       "8547423                  0                  0                 1   \n",
       "284254                   0                  0                 1   \n",
       "...                    ...                ...               ...   \n",
       "2972494                  0                  0                 1   \n",
       "3010483                  0                  0                 1   \n",
       "7113655                  0                  0                 0   \n",
       "1021394                  0                  0                 1   \n",
       "142099                   0                  0                 1   \n",
       "\n",
       "         ind_cder_fin_ult1  ind_cno_fin_ult1  ind_ctju_fin_ult1  \\\n",
       "716072                   0                 1                  0   \n",
       "3911706                  0                 0                  0   \n",
       "4052549                  0                 0                  0   \n",
       "8547423                  0                 0                  0   \n",
       "284254                   0                 0                  0   \n",
       "...                    ...               ...                ...   \n",
       "2972494                  0                 0                  0   \n",
       "3010483                  0                 0                  0   \n",
       "7113655                  0                 1                  0   \n",
       "1021394                  0                 0                  0   \n",
       "142099                   0                 0                  0   \n",
       "\n",
       "         ind_ctma_fin_ult1  ind_ctop_fin_ult1  ind_ctpp_fin_ult1  \\\n",
       "716072                   0                  0                  0   \n",
       "3911706                  0                  0                  0   \n",
       "4052549                  0                  1                  0   \n",
       "8547423                  0                  1                  0   \n",
       "284254                   0                  0                  0   \n",
       "...                    ...                ...                ...   \n",
       "2972494                  0                  0                  1   \n",
       "3010483                  0                  0                  0   \n",
       "7113655                  0                  0                  1   \n",
       "1021394                  0                  0                  0   \n",
       "142099                   0                  0                  0   \n",
       "\n",
       "         ind_deco_fin_ult1  ...  ind_hip_fin_ult1  ind_plan_fin_ult1  \\\n",
       "716072                   0  ...                 0                  0   \n",
       "3911706                  0  ...                 0                  0   \n",
       "4052549                  0  ...                 0                  0   \n",
       "8547423                  0  ...                 0                  0   \n",
       "284254                   0  ...                 0                  0   \n",
       "...                    ...  ...               ...                ...   \n",
       "2972494                  0  ...                 0                  0   \n",
       "3010483                  0  ...                 0                  0   \n",
       "7113655                  0  ...                 0                  0   \n",
       "1021394                  0  ...                 0                  0   \n",
       "142099                   0  ...                 0                  0   \n",
       "\n",
       "         ind_pres_fin_ult1  ind_reca_fin_ult1  ind_tjcr_fin_ult1  \\\n",
       "716072                   0                  0                  0   \n",
       "3911706                  0                  0                  0   \n",
       "4052549                  0                  0                  0   \n",
       "8547423                  0                  0                  0   \n",
       "284254                   0                  0                  0   \n",
       "...                    ...                ...                ...   \n",
       "2972494                  0                  0                  0   \n",
       "3010483                  0                  0                  0   \n",
       "7113655                  0                  0                  1   \n",
       "1021394                  0                  0                  0   \n",
       "142099                   0                  0                  0   \n",
       "\n",
       "         ind_valo_fin_ult1  ind_viv_fin_ult1  ind_nomina_ult1  \\\n",
       "716072                   0                 0                1   \n",
       "3911706                  0                 0                0   \n",
       "4052549                  0                 0                0   \n",
       "8547423                  0                 0                0   \n",
       "284254                   0                 0                0   \n",
       "...                    ...               ...              ...   \n",
       "2972494                  0                 0                0   \n",
       "3010483                  0                 0                0   \n",
       "7113655                  0                 0                1   \n",
       "1021394                  0                 0                0   \n",
       "142099                   0                 0                0   \n",
       "\n",
       "         ind_nom_pens_ult1  ind_recibo_ult1  \n",
       "716072                   1                1  \n",
       "3911706                  0                0  \n",
       "4052549                  0                0  \n",
       "8547423                  0                0  \n",
       "284254                   0                0  \n",
       "...                    ...              ...  \n",
       "2972494                  0                0  \n",
       "3010483                  0                0  \n",
       "7113655                  1                1  \n",
       "1021394                  0                0  \n",
       "142099                   0                0  \n",
       "\n",
       "[136182 rows x 24 columns]"
      ]
     },
     "execution_count": 404,
     "metadata": {},
     "output_type": "execute_result"
    }
   ],
   "source": [
    "y = df.loc[:, y_name_list]\n",
    "y"
   ]
  },
  {
   "cell_type": "markdown",
   "id": "ad47fb22",
   "metadata": {
    "collapsed": false
   },
   "source": [
    "# 模型"
   ]
  },
  {
   "cell_type": "code",
   "execution_count": 405,
   "id": "01a5da66",
   "metadata": {
    "collapsed": false
   },
   "outputs": [],
   "source": [
    "\n",
    "\n",
    "Xtrain, Xvalidation, Ytrain, Yvalidation = train_test_split(X, y, test_size=0.3)"
   ]
  },
  {
   "cell_type": "code",
   "execution_count": 406,
   "id": "9e5d7c6d",
   "metadata": {
    "collapsed": false
   },
   "outputs": [
    {
     "data": {
      "text/html": [
       "<div>\n",
       "<style scoped>\n",
       "    .dataframe tbody tr th:only-of-type {\n",
       "        vertical-align: middle;\n",
       "    }\n",
       "\n",
       "    .dataframe tbody tr th {\n",
       "        vertical-align: top;\n",
       "    }\n",
       "\n",
       "    .dataframe thead th {\n",
       "        text-align: right;\n",
       "    }\n",
       "</style>\n",
       "<table border=\"1\" class=\"dataframe\">\n",
       "  <thead>\n",
       "    <tr style=\"text-align: right;\">\n",
       "      <th></th>\n",
       "      <th>age</th>\n",
       "      <th>renta</th>\n",
       "      <th>indrel_1mes_enc</th>\n",
       "      <th>indfall_enc</th>\n",
       "      <th>tiprel_1mes_enc</th>\n",
       "      <th>cod_prov_enc</th>\n",
       "      <th>sexo_enc</th>\n",
       "      <th>segmento_enc</th>\n",
       "      <th>indrel_enc</th>\n",
       "      <th>pais_residencia_enc</th>\n",
       "      <th>ind_empleado_enc</th>\n",
       "      <th>indresi_enc</th>\n",
       "      <th>indext_enc</th>\n",
       "      <th>canal_entrada_enc</th>\n",
       "      <th>ind_actividad_cliente_enc</th>\n",
       "      <th>antiguedad_enc</th>\n",
       "      <th>ind_nuevo_enc</th>\n",
       "    </tr>\n",
       "  </thead>\n",
       "  <tbody>\n",
       "    <tr>\n",
       "      <th>1192421</th>\n",
       "      <td>23</td>\n",
       "      <td>421534</td>\n",
       "      <td>0</td>\n",
       "      <td>0</td>\n",
       "      <td>1</td>\n",
       "      <td>28</td>\n",
       "      <td>0</td>\n",
       "      <td>3</td>\n",
       "      <td>0</td>\n",
       "      <td>0</td>\n",
       "      <td>3</td>\n",
       "      <td>1</td>\n",
       "      <td>0</td>\n",
       "      <td>139</td>\n",
       "      <td>0</td>\n",
       "      <td>33</td>\n",
       "      <td>0</td>\n",
       "    </tr>\n",
       "    <tr>\n",
       "      <th>10972822</th>\n",
       "      <td>46</td>\n",
       "      <td>133685</td>\n",
       "      <td>0</td>\n",
       "      <td>0</td>\n",
       "      <td>0</td>\n",
       "      <td>39</td>\n",
       "      <td>1</td>\n",
       "      <td>2</td>\n",
       "      <td>0</td>\n",
       "      <td>0</td>\n",
       "      <td>3</td>\n",
       "      <td>1</td>\n",
       "      <td>0</td>\n",
       "      <td>144</td>\n",
       "      <td>1</td>\n",
       "      <td>5</td>\n",
       "      <td>1</td>\n",
       "    </tr>\n",
       "    <tr>\n",
       "      <th>13389639</th>\n",
       "      <td>22</td>\n",
       "      <td>133685</td>\n",
       "      <td>0</td>\n",
       "      <td>0</td>\n",
       "      <td>1</td>\n",
       "      <td>28</td>\n",
       "      <td>0</td>\n",
       "      <td>3</td>\n",
       "      <td>0</td>\n",
       "      <td>0</td>\n",
       "      <td>3</td>\n",
       "      <td>1</td>\n",
       "      <td>0</td>\n",
       "      <td>147</td>\n",
       "      <td>0</td>\n",
       "      <td>8</td>\n",
       "      <td>0</td>\n",
       "    </tr>\n",
       "    <tr>\n",
       "      <th>9230298</th>\n",
       "      <td>33</td>\n",
       "      <td>133685</td>\n",
       "      <td>5</td>\n",
       "      <td>0</td>\n",
       "      <td>5</td>\n",
       "      <td>39</td>\n",
       "      <td>0</td>\n",
       "      <td>0</td>\n",
       "      <td>0</td>\n",
       "      <td>0</td>\n",
       "      <td>3</td>\n",
       "      <td>1</td>\n",
       "      <td>0</td>\n",
       "      <td>149</td>\n",
       "      <td>1</td>\n",
       "      <td>0</td>\n",
       "      <td>1</td>\n",
       "    </tr>\n",
       "    <tr>\n",
       "      <th>7451646</th>\n",
       "      <td>51</td>\n",
       "      <td>184463</td>\n",
       "      <td>0</td>\n",
       "      <td>0</td>\n",
       "      <td>0</td>\n",
       "      <td>8</td>\n",
       "      <td>1</td>\n",
       "      <td>2</td>\n",
       "      <td>0</td>\n",
       "      <td>0</td>\n",
       "      <td>3</td>\n",
       "      <td>1</td>\n",
       "      <td>0</td>\n",
       "      <td>23</td>\n",
       "      <td>1</td>\n",
       "      <td>244</td>\n",
       "      <td>0</td>\n",
       "    </tr>\n",
       "    <tr>\n",
       "      <th>...</th>\n",
       "      <td>...</td>\n",
       "      <td>...</td>\n",
       "      <td>...</td>\n",
       "      <td>...</td>\n",
       "      <td>...</td>\n",
       "      <td>...</td>\n",
       "      <td>...</td>\n",
       "      <td>...</td>\n",
       "      <td>...</td>\n",
       "      <td>...</td>\n",
       "      <td>...</td>\n",
       "      <td>...</td>\n",
       "      <td>...</td>\n",
       "      <td>...</td>\n",
       "      <td>...</td>\n",
       "      <td>...</td>\n",
       "      <td>...</td>\n",
       "    </tr>\n",
       "    <tr>\n",
       "      <th>11638090</th>\n",
       "      <td>22</td>\n",
       "      <td>147939</td>\n",
       "      <td>0</td>\n",
       "      <td>0</td>\n",
       "      <td>1</td>\n",
       "      <td>30</td>\n",
       "      <td>0</td>\n",
       "      <td>3</td>\n",
       "      <td>0</td>\n",
       "      <td>0</td>\n",
       "      <td>3</td>\n",
       "      <td>1</td>\n",
       "      <td>0</td>\n",
       "      <td>139</td>\n",
       "      <td>0</td>\n",
       "      <td>28</td>\n",
       "      <td>0</td>\n",
       "    </tr>\n",
       "    <tr>\n",
       "      <th>12113070</th>\n",
       "      <td>51</td>\n",
       "      <td>133685</td>\n",
       "      <td>0</td>\n",
       "      <td>0</td>\n",
       "      <td>0</td>\n",
       "      <td>0</td>\n",
       "      <td>0</td>\n",
       "      <td>1</td>\n",
       "      <td>0</td>\n",
       "      <td>1</td>\n",
       "      <td>3</td>\n",
       "      <td>0</td>\n",
       "      <td>0</td>\n",
       "      <td>114</td>\n",
       "      <td>1</td>\n",
       "      <td>192</td>\n",
       "      <td>0</td>\n",
       "    </tr>\n",
       "    <tr>\n",
       "      <th>13035678</th>\n",
       "      <td>57</td>\n",
       "      <td>235048</td>\n",
       "      <td>0</td>\n",
       "      <td>0</td>\n",
       "      <td>0</td>\n",
       "      <td>28</td>\n",
       "      <td>0</td>\n",
       "      <td>2</td>\n",
       "      <td>0</td>\n",
       "      <td>0</td>\n",
       "      <td>3</td>\n",
       "      <td>1</td>\n",
       "      <td>0</td>\n",
       "      <td>23</td>\n",
       "      <td>1</td>\n",
       "      <td>241</td>\n",
       "      <td>0</td>\n",
       "    </tr>\n",
       "    <tr>\n",
       "      <th>10672416</th>\n",
       "      <td>26</td>\n",
       "      <td>92410</td>\n",
       "      <td>0</td>\n",
       "      <td>0</td>\n",
       "      <td>0</td>\n",
       "      <td>11</td>\n",
       "      <td>1</td>\n",
       "      <td>3</td>\n",
       "      <td>0</td>\n",
       "      <td>0</td>\n",
       "      <td>3</td>\n",
       "      <td>1</td>\n",
       "      <td>0</td>\n",
       "      <td>139</td>\n",
       "      <td>1</td>\n",
       "      <td>39</td>\n",
       "      <td>0</td>\n",
       "    </tr>\n",
       "    <tr>\n",
       "      <th>4813266</th>\n",
       "      <td>65</td>\n",
       "      <td>127291</td>\n",
       "      <td>0</td>\n",
       "      <td>0</td>\n",
       "      <td>1</td>\n",
       "      <td>8</td>\n",
       "      <td>1</td>\n",
       "      <td>2</td>\n",
       "      <td>0</td>\n",
       "      <td>0</td>\n",
       "      <td>3</td>\n",
       "      <td>1</td>\n",
       "      <td>0</td>\n",
       "      <td>114</td>\n",
       "      <td>0</td>\n",
       "      <td>143</td>\n",
       "      <td>0</td>\n",
       "    </tr>\n",
       "  </tbody>\n",
       "</table>\n",
       "<p>95327 rows × 17 columns</p>\n",
       "</div>"
      ],
      "text/plain": [
       "          age   renta  indrel_1mes_enc  indfall_enc  tiprel_1mes_enc  \\\n",
       "1192421    23  421534                0            0                1   \n",
       "10972822   46  133685                0            0                0   \n",
       "13389639   22  133685                0            0                1   \n",
       "9230298    33  133685                5            0                5   \n",
       "7451646    51  184463                0            0                0   \n",
       "...       ...     ...              ...          ...              ...   \n",
       "11638090   22  147939                0            0                1   \n",
       "12113070   51  133685                0            0                0   \n",
       "13035678   57  235048                0            0                0   \n",
       "10672416   26   92410                0            0                0   \n",
       "4813266    65  127291                0            0                1   \n",
       "\n",
       "          cod_prov_enc  sexo_enc  segmento_enc  indrel_enc  \\\n",
       "1192421             28         0             3           0   \n",
       "10972822            39         1             2           0   \n",
       "13389639            28         0             3           0   \n",
       "9230298             39         0             0           0   \n",
       "7451646              8         1             2           0   \n",
       "...                ...       ...           ...         ...   \n",
       "11638090            30         0             3           0   \n",
       "12113070             0         0             1           0   \n",
       "13035678            28         0             2           0   \n",
       "10672416            11         1             3           0   \n",
       "4813266              8         1             2           0   \n",
       "\n",
       "          pais_residencia_enc  ind_empleado_enc  indresi_enc  indext_enc  \\\n",
       "1192421                     0                 3            1           0   \n",
       "10972822                    0                 3            1           0   \n",
       "13389639                    0                 3            1           0   \n",
       "9230298                     0                 3            1           0   \n",
       "7451646                     0                 3            1           0   \n",
       "...                       ...               ...          ...         ...   \n",
       "11638090                    0                 3            1           0   \n",
       "12113070                    1                 3            0           0   \n",
       "13035678                    0                 3            1           0   \n",
       "10672416                    0                 3            1           0   \n",
       "4813266                     0                 3            1           0   \n",
       "\n",
       "          canal_entrada_enc  ind_actividad_cliente_enc  antiguedad_enc  \\\n",
       "1192421                 139                          0              33   \n",
       "10972822                144                          1               5   \n",
       "13389639                147                          0               8   \n",
       "9230298                 149                          1               0   \n",
       "7451646                  23                          1             244   \n",
       "...                     ...                        ...             ...   \n",
       "11638090                139                          0              28   \n",
       "12113070                114                          1             192   \n",
       "13035678                 23                          1             241   \n",
       "10672416                139                          1              39   \n",
       "4813266                 114                          0             143   \n",
       "\n",
       "          ind_nuevo_enc  \n",
       "1192421               0  \n",
       "10972822              1  \n",
       "13389639              0  \n",
       "9230298               1  \n",
       "7451646               0  \n",
       "...                 ...  \n",
       "11638090              0  \n",
       "12113070              0  \n",
       "13035678              0  \n",
       "10672416              0  \n",
       "4813266               0  \n",
       "\n",
       "[95327 rows x 17 columns]"
      ]
     },
     "execution_count": 406,
     "metadata": {},
     "output_type": "execute_result"
    }
   ],
   "source": [
    "Xtrain"
   ]
  },
  {
   "cell_type": "code",
   "execution_count": 407,
   "id": "357fe983",
   "metadata": {
    "collapsed": false
   },
   "outputs": [
    {
     "data": {
      "text/html": [
       "<div>\n",
       "<style scoped>\n",
       "    .dataframe tbody tr th:only-of-type {\n",
       "        vertical-align: middle;\n",
       "    }\n",
       "\n",
       "    .dataframe tbody tr th {\n",
       "        vertical-align: top;\n",
       "    }\n",
       "\n",
       "    .dataframe thead th {\n",
       "        text-align: right;\n",
       "    }\n",
       "</style>\n",
       "<table border=\"1\" class=\"dataframe\">\n",
       "  <thead>\n",
       "    <tr style=\"text-align: right;\">\n",
       "      <th></th>\n",
       "      <th>ind_ahor_fin_ult1</th>\n",
       "      <th>ind_aval_fin_ult1</th>\n",
       "      <th>ind_cco_fin_ult1</th>\n",
       "      <th>ind_cder_fin_ult1</th>\n",
       "      <th>ind_cno_fin_ult1</th>\n",
       "      <th>ind_ctju_fin_ult1</th>\n",
       "      <th>ind_ctma_fin_ult1</th>\n",
       "      <th>ind_ctop_fin_ult1</th>\n",
       "      <th>ind_ctpp_fin_ult1</th>\n",
       "      <th>ind_deco_fin_ult1</th>\n",
       "      <th>...</th>\n",
       "      <th>ind_hip_fin_ult1</th>\n",
       "      <th>ind_plan_fin_ult1</th>\n",
       "      <th>ind_pres_fin_ult1</th>\n",
       "      <th>ind_reca_fin_ult1</th>\n",
       "      <th>ind_tjcr_fin_ult1</th>\n",
       "      <th>ind_valo_fin_ult1</th>\n",
       "      <th>ind_viv_fin_ult1</th>\n",
       "      <th>ind_nomina_ult1</th>\n",
       "      <th>ind_nom_pens_ult1</th>\n",
       "      <th>ind_recibo_ult1</th>\n",
       "    </tr>\n",
       "  </thead>\n",
       "  <tbody>\n",
       "    <tr>\n",
       "      <th>1192421</th>\n",
       "      <td>0</td>\n",
       "      <td>0</td>\n",
       "      <td>1</td>\n",
       "      <td>0</td>\n",
       "      <td>0</td>\n",
       "      <td>0</td>\n",
       "      <td>0</td>\n",
       "      <td>0</td>\n",
       "      <td>0</td>\n",
       "      <td>0</td>\n",
       "      <td>...</td>\n",
       "      <td>0</td>\n",
       "      <td>0</td>\n",
       "      <td>0</td>\n",
       "      <td>0</td>\n",
       "      <td>0</td>\n",
       "      <td>0</td>\n",
       "      <td>0</td>\n",
       "      <td>0</td>\n",
       "      <td>0</td>\n",
       "      <td>0</td>\n",
       "    </tr>\n",
       "    <tr>\n",
       "      <th>10972822</th>\n",
       "      <td>0</td>\n",
       "      <td>0</td>\n",
       "      <td>1</td>\n",
       "      <td>0</td>\n",
       "      <td>0</td>\n",
       "      <td>0</td>\n",
       "      <td>0</td>\n",
       "      <td>0</td>\n",
       "      <td>0</td>\n",
       "      <td>0</td>\n",
       "      <td>...</td>\n",
       "      <td>0</td>\n",
       "      <td>0</td>\n",
       "      <td>0</td>\n",
       "      <td>0</td>\n",
       "      <td>0</td>\n",
       "      <td>0</td>\n",
       "      <td>0</td>\n",
       "      <td>0</td>\n",
       "      <td>0</td>\n",
       "      <td>0</td>\n",
       "    </tr>\n",
       "    <tr>\n",
       "      <th>13389639</th>\n",
       "      <td>0</td>\n",
       "      <td>0</td>\n",
       "      <td>0</td>\n",
       "      <td>0</td>\n",
       "      <td>0</td>\n",
       "      <td>0</td>\n",
       "      <td>0</td>\n",
       "      <td>0</td>\n",
       "      <td>0</td>\n",
       "      <td>0</td>\n",
       "      <td>...</td>\n",
       "      <td>0</td>\n",
       "      <td>0</td>\n",
       "      <td>0</td>\n",
       "      <td>0</td>\n",
       "      <td>0</td>\n",
       "      <td>0</td>\n",
       "      <td>0</td>\n",
       "      <td>0</td>\n",
       "      <td>0</td>\n",
       "      <td>0</td>\n",
       "    </tr>\n",
       "    <tr>\n",
       "      <th>9230298</th>\n",
       "      <td>0</td>\n",
       "      <td>0</td>\n",
       "      <td>1</td>\n",
       "      <td>0</td>\n",
       "      <td>0</td>\n",
       "      <td>0</td>\n",
       "      <td>0</td>\n",
       "      <td>0</td>\n",
       "      <td>0</td>\n",
       "      <td>0</td>\n",
       "      <td>...</td>\n",
       "      <td>0</td>\n",
       "      <td>0</td>\n",
       "      <td>0</td>\n",
       "      <td>0</td>\n",
       "      <td>0</td>\n",
       "      <td>0</td>\n",
       "      <td>0</td>\n",
       "      <td>0</td>\n",
       "      <td>0</td>\n",
       "      <td>0</td>\n",
       "    </tr>\n",
       "    <tr>\n",
       "      <th>7451646</th>\n",
       "      <td>0</td>\n",
       "      <td>0</td>\n",
       "      <td>1</td>\n",
       "      <td>0</td>\n",
       "      <td>1</td>\n",
       "      <td>0</td>\n",
       "      <td>0</td>\n",
       "      <td>0</td>\n",
       "      <td>0</td>\n",
       "      <td>0</td>\n",
       "      <td>...</td>\n",
       "      <td>0</td>\n",
       "      <td>0</td>\n",
       "      <td>0</td>\n",
       "      <td>1</td>\n",
       "      <td>0</td>\n",
       "      <td>0</td>\n",
       "      <td>0</td>\n",
       "      <td>1</td>\n",
       "      <td>1</td>\n",
       "      <td>1</td>\n",
       "    </tr>\n",
       "    <tr>\n",
       "      <th>...</th>\n",
       "      <td>...</td>\n",
       "      <td>...</td>\n",
       "      <td>...</td>\n",
       "      <td>...</td>\n",
       "      <td>...</td>\n",
       "      <td>...</td>\n",
       "      <td>...</td>\n",
       "      <td>...</td>\n",
       "      <td>...</td>\n",
       "      <td>...</td>\n",
       "      <td>...</td>\n",
       "      <td>...</td>\n",
       "      <td>...</td>\n",
       "      <td>...</td>\n",
       "      <td>...</td>\n",
       "      <td>...</td>\n",
       "      <td>...</td>\n",
       "      <td>...</td>\n",
       "      <td>...</td>\n",
       "      <td>...</td>\n",
       "      <td>...</td>\n",
       "    </tr>\n",
       "    <tr>\n",
       "      <th>11638090</th>\n",
       "      <td>0</td>\n",
       "      <td>0</td>\n",
       "      <td>1</td>\n",
       "      <td>0</td>\n",
       "      <td>0</td>\n",
       "      <td>0</td>\n",
       "      <td>0</td>\n",
       "      <td>0</td>\n",
       "      <td>0</td>\n",
       "      <td>0</td>\n",
       "      <td>...</td>\n",
       "      <td>0</td>\n",
       "      <td>0</td>\n",
       "      <td>0</td>\n",
       "      <td>0</td>\n",
       "      <td>0</td>\n",
       "      <td>0</td>\n",
       "      <td>0</td>\n",
       "      <td>0</td>\n",
       "      <td>0</td>\n",
       "      <td>0</td>\n",
       "    </tr>\n",
       "    <tr>\n",
       "      <th>12113070</th>\n",
       "      <td>0</td>\n",
       "      <td>0</td>\n",
       "      <td>1</td>\n",
       "      <td>0</td>\n",
       "      <td>0</td>\n",
       "      <td>0</td>\n",
       "      <td>0</td>\n",
       "      <td>1</td>\n",
       "      <td>0</td>\n",
       "      <td>0</td>\n",
       "      <td>...</td>\n",
       "      <td>0</td>\n",
       "      <td>0</td>\n",
       "      <td>0</td>\n",
       "      <td>0</td>\n",
       "      <td>0</td>\n",
       "      <td>1</td>\n",
       "      <td>0</td>\n",
       "      <td>0</td>\n",
       "      <td>0</td>\n",
       "      <td>0</td>\n",
       "    </tr>\n",
       "    <tr>\n",
       "      <th>13035678</th>\n",
       "      <td>0</td>\n",
       "      <td>0</td>\n",
       "      <td>1</td>\n",
       "      <td>0</td>\n",
       "      <td>0</td>\n",
       "      <td>0</td>\n",
       "      <td>0</td>\n",
       "      <td>0</td>\n",
       "      <td>0</td>\n",
       "      <td>0</td>\n",
       "      <td>...</td>\n",
       "      <td>0</td>\n",
       "      <td>0</td>\n",
       "      <td>0</td>\n",
       "      <td>0</td>\n",
       "      <td>0</td>\n",
       "      <td>0</td>\n",
       "      <td>0</td>\n",
       "      <td>0</td>\n",
       "      <td>0</td>\n",
       "      <td>0</td>\n",
       "    </tr>\n",
       "    <tr>\n",
       "      <th>10672416</th>\n",
       "      <td>0</td>\n",
       "      <td>0</td>\n",
       "      <td>0</td>\n",
       "      <td>0</td>\n",
       "      <td>1</td>\n",
       "      <td>0</td>\n",
       "      <td>0</td>\n",
       "      <td>0</td>\n",
       "      <td>0</td>\n",
       "      <td>0</td>\n",
       "      <td>...</td>\n",
       "      <td>0</td>\n",
       "      <td>0</td>\n",
       "      <td>0</td>\n",
       "      <td>0</td>\n",
       "      <td>0</td>\n",
       "      <td>0</td>\n",
       "      <td>0</td>\n",
       "      <td>0</td>\n",
       "      <td>0</td>\n",
       "      <td>1</td>\n",
       "    </tr>\n",
       "    <tr>\n",
       "      <th>4813266</th>\n",
       "      <td>0</td>\n",
       "      <td>0</td>\n",
       "      <td>1</td>\n",
       "      <td>0</td>\n",
       "      <td>0</td>\n",
       "      <td>0</td>\n",
       "      <td>0</td>\n",
       "      <td>0</td>\n",
       "      <td>0</td>\n",
       "      <td>0</td>\n",
       "      <td>...</td>\n",
       "      <td>0</td>\n",
       "      <td>0</td>\n",
       "      <td>0</td>\n",
       "      <td>0</td>\n",
       "      <td>0</td>\n",
       "      <td>0</td>\n",
       "      <td>0</td>\n",
       "      <td>0</td>\n",
       "      <td>0</td>\n",
       "      <td>0</td>\n",
       "    </tr>\n",
       "  </tbody>\n",
       "</table>\n",
       "<p>95327 rows × 24 columns</p>\n",
       "</div>"
      ],
      "text/plain": [
       "          ind_ahor_fin_ult1  ind_aval_fin_ult1  ind_cco_fin_ult1  \\\n",
       "1192421                   0                  0                 1   \n",
       "10972822                  0                  0                 1   \n",
       "13389639                  0                  0                 0   \n",
       "9230298                   0                  0                 1   \n",
       "7451646                   0                  0                 1   \n",
       "...                     ...                ...               ...   \n",
       "11638090                  0                  0                 1   \n",
       "12113070                  0                  0                 1   \n",
       "13035678                  0                  0                 1   \n",
       "10672416                  0                  0                 0   \n",
       "4813266                   0                  0                 1   \n",
       "\n",
       "          ind_cder_fin_ult1  ind_cno_fin_ult1  ind_ctju_fin_ult1  \\\n",
       "1192421                   0                 0                  0   \n",
       "10972822                  0                 0                  0   \n",
       "13389639                  0                 0                  0   \n",
       "9230298                   0                 0                  0   \n",
       "7451646                   0                 1                  0   \n",
       "...                     ...               ...                ...   \n",
       "11638090                  0                 0                  0   \n",
       "12113070                  0                 0                  0   \n",
       "13035678                  0                 0                  0   \n",
       "10672416                  0                 1                  0   \n",
       "4813266                   0                 0                  0   \n",
       "\n",
       "          ind_ctma_fin_ult1  ind_ctop_fin_ult1  ind_ctpp_fin_ult1  \\\n",
       "1192421                   0                  0                  0   \n",
       "10972822                  0                  0                  0   \n",
       "13389639                  0                  0                  0   \n",
       "9230298                   0                  0                  0   \n",
       "7451646                   0                  0                  0   \n",
       "...                     ...                ...                ...   \n",
       "11638090                  0                  0                  0   \n",
       "12113070                  0                  1                  0   \n",
       "13035678                  0                  0                  0   \n",
       "10672416                  0                  0                  0   \n",
       "4813266                   0                  0                  0   \n",
       "\n",
       "          ind_deco_fin_ult1  ...  ind_hip_fin_ult1  ind_plan_fin_ult1  \\\n",
       "1192421                   0  ...                 0                  0   \n",
       "10972822                  0  ...                 0                  0   \n",
       "13389639                  0  ...                 0                  0   \n",
       "9230298                   0  ...                 0                  0   \n",
       "7451646                   0  ...                 0                  0   \n",
       "...                     ...  ...               ...                ...   \n",
       "11638090                  0  ...                 0                  0   \n",
       "12113070                  0  ...                 0                  0   \n",
       "13035678                  0  ...                 0                  0   \n",
       "10672416                  0  ...                 0                  0   \n",
       "4813266                   0  ...                 0                  0   \n",
       "\n",
       "          ind_pres_fin_ult1  ind_reca_fin_ult1  ind_tjcr_fin_ult1  \\\n",
       "1192421                   0                  0                  0   \n",
       "10972822                  0                  0                  0   \n",
       "13389639                  0                  0                  0   \n",
       "9230298                   0                  0                  0   \n",
       "7451646                   0                  1                  0   \n",
       "...                     ...                ...                ...   \n",
       "11638090                  0                  0                  0   \n",
       "12113070                  0                  0                  0   \n",
       "13035678                  0                  0                  0   \n",
       "10672416                  0                  0                  0   \n",
       "4813266                   0                  0                  0   \n",
       "\n",
       "          ind_valo_fin_ult1  ind_viv_fin_ult1  ind_nomina_ult1  \\\n",
       "1192421                   0                 0                0   \n",
       "10972822                  0                 0                0   \n",
       "13389639                  0                 0                0   \n",
       "9230298                   0                 0                0   \n",
       "7451646                   0                 0                1   \n",
       "...                     ...               ...              ...   \n",
       "11638090                  0                 0                0   \n",
       "12113070                  1                 0                0   \n",
       "13035678                  0                 0                0   \n",
       "10672416                  0                 0                0   \n",
       "4813266                   0                 0                0   \n",
       "\n",
       "          ind_nom_pens_ult1  ind_recibo_ult1  \n",
       "1192421                   0                0  \n",
       "10972822                  0                0  \n",
       "13389639                  0                0  \n",
       "9230298                   0                0  \n",
       "7451646                   1                1  \n",
       "...                     ...              ...  \n",
       "11638090                  0                0  \n",
       "12113070                  0                0  \n",
       "13035678                  0                0  \n",
       "10672416                  0                1  \n",
       "4813266                   0                0  \n",
       "\n",
       "[95327 rows x 24 columns]"
      ]
     },
     "execution_count": 407,
     "metadata": {},
     "output_type": "execute_result"
    }
   ],
   "source": [
    "Ytrain"
   ]
  },
  {
   "cell_type": "code",
   "execution_count": 412,
   "id": "ec089a7c",
   "metadata": {
    "collapsed": false
   },
   "outputs": [],
   "source": [
    "rfc = RandomForestClassifier(random_state=0, n_jobs=18)\n",
    "rfc = rfc.fit(Xtrain, Ytrain)\n",
    "y_pred = rfc.predict(Xvalidation)\n"
   ]
  },
  {
   "cell_type": "code",
   "execution_count": 413,
   "id": "78339963",
   "metadata": {
    "collapsed": false
   },
   "outputs": [
    {
     "data": {
      "text/plain": [
       "(40855, 24)"
      ]
     },
     "execution_count": 413,
     "metadata": {},
     "output_type": "execute_result"
    },
    {
     "data": {
      "text/plain": [
       "(40855, 24)"
      ]
     },
     "execution_count": 413,
     "metadata": {},
     "output_type": "execute_result"
    }
   ],
   "source": [
    "Yvalidation.shape\n",
    "y_pred.shape"
   ]
  },
  {
   "cell_type": "code",
   "execution_count": 428,
   "id": "fa3f4f07",
   "metadata": {
    "collapsed": false
   },
   "outputs": [
    {
     "data": {
      "text/plain": [
       "0.743979774413724"
      ]
     },
     "execution_count": 428,
     "metadata": {},
     "output_type": "execute_result"
    }
   ],
   "source": [
    "auc_score = metrics.roc_auc_score(Yvalidation, y_pred,average='micro')  #验证集上的auc值\n",
    "auc_score\n"
   ]
  },
  {
   "cell_type": "code",
   "execution_count": 419,
   "id": "e78e52d1",
   "metadata": {
    "collapsed": false
   },
   "outputs": [
    {
     "data": {
      "text/plain": [
       "array([0, 0, 0, ..., 0, 0, 0], dtype=uint8)"
      ]
     },
     "execution_count": 419,
     "metadata": {},
     "output_type": "execute_result"
    }
   ],
   "source": [
    "y_pred.ravel()"
   ]
  },
  {
   "cell_type": "code",
   "execution_count": 429,
   "id": "90dacd18",
   "metadata": {
    "collapsed": false
   },
   "outputs": [
    {
     "data": {
      "text/plain": [
       "0.743979774413724"
      ]
     },
     "execution_count": 429,
     "metadata": {},
     "output_type": "execute_result"
    }
   ],
   "source": [
    "fpr, tpr, thresholds = metrics.roc_curve(np.array(Yvalidation).ravel(), y_pred.ravel())\n",
    "auc = metrics.auc(fpr, tpr)\n",
    "auc"
   ]
  },
  {
   "cell_type": "code",
   "execution_count": 437,
   "id": "45ad8b89",
   "metadata": {
    "collapsed": false
   },
   "outputs": [
    {
     "data": {
      "text/plain": [
       "(980520,)"
      ]
     },
     "execution_count": 437,
     "metadata": {},
     "output_type": "execute_result"
    }
   ],
   "source": [
    "np.array(Yvalidation).ravel().shape"
   ]
  },
  {
   "cell_type": "code",
   "execution_count": 435,
   "id": "abe3e827",
   "metadata": {
    "collapsed": false
   },
   "outputs": [
    {
     "data": {
      "text/plain": [
       "(3,)"
      ]
     },
     "execution_count": 435,
     "metadata": {},
     "output_type": "execute_result"
    },
    {
     "data": {
      "text/plain": [
       "(3,)"
      ]
     },
     "execution_count": 435,
     "metadata": {},
     "output_type": "execute_result"
    },
    {
     "data": {
      "text/plain": [
       "(3,)"
      ]
     },
     "execution_count": 435,
     "metadata": {},
     "output_type": "execute_result"
    }
   ],
   "source": [
    "fpr.shape\n",
    "tpr.shape\n",
    "thresholds.shape"
   ]
  },
  {
   "cell_type": "code",
   "execution_count": 434,
   "id": "3708d4a5",
   "metadata": {
    "collapsed": false
   },
   "outputs": [
    {
     "data": {
      "text/plain": [
       "array([0.        , 0.01272586, 1.        ])"
      ]
     },
     "execution_count": 434,
     "metadata": {},
     "output_type": "execute_result"
    }
   ],
   "source": [
    "fpr"
   ]
  },
  {
   "cell_type": "code",
   "execution_count": 436,
   "id": "59c0a3bb",
   "metadata": {
    "collapsed": false
   },
   "outputs": [
    {
     "data": {
      "text/plain": [
       "[<matplotlib.lines.Line2D at 0x7fea0477eef0>]"
      ]
     },
     "execution_count": 436,
     "metadata": {},
     "output_type": "execute_result"
    },
    {
     "data": {
      "text/plain": [
       "(-0.01, 1.02)"
      ]
     },
     "execution_count": 436,
     "metadata": {},
     "output_type": "execute_result"
    },
    {
     "data": {
      "text/plain": [
       "(-0.01, 1.02)"
      ]
     },
     "execution_count": 436,
     "metadata": {},
     "output_type": "execute_result"
    },
    {
     "data": {
      "text/plain": [
       "([<matplotlib.axis.XTick at 0x7fea149b92a0>,\n",
       "  <matplotlib.axis.XTick at 0x7fea149ba1a0>,\n",
       "  <matplotlib.axis.XTick at 0x7fea149b8c70>,\n",
       "  <matplotlib.axis.XTick at 0x7fea0477f8e0>,\n",
       "  <matplotlib.axis.XTick at 0x7fea0477ffa0>,\n",
       "  <matplotlib.axis.XTick at 0x7fea047c4ac0>,\n",
       "  <matplotlib.axis.XTick at 0x7fea047c5570>,\n",
       "  <matplotlib.axis.XTick at 0x7fea047c6020>,\n",
       "  <matplotlib.axis.XTick at 0x7fea047c6ad0>,\n",
       "  <matplotlib.axis.XTick at 0x7fea047c4e20>,\n",
       "  <matplotlib.axis.XTick at 0x7fea047c73d0>],\n",
       " [Text(0.0, 0, '0.0'),\n",
       "  Text(0.1, 0, '0.1'),\n",
       "  Text(0.2, 0, '0.2'),\n",
       "  Text(0.30000000000000004, 0, '0.3'),\n",
       "  Text(0.4, 0, '0.4'),\n",
       "  Text(0.5, 0, '0.5'),\n",
       "  Text(0.6000000000000001, 0, '0.6'),\n",
       "  Text(0.7000000000000001, 0, '0.7'),\n",
       "  Text(0.8, 0, '0.8'),\n",
       "  Text(0.9, 0, '0.9'),\n",
       "  Text(1.0, 0, '1.0')])"
      ]
     },
     "execution_count": 436,
     "metadata": {},
     "output_type": "execute_result"
    },
    {
     "data": {
      "text/plain": [
       "([<matplotlib.axis.YTick at 0x7fea149bb160>,\n",
       "  <matplotlib.axis.YTick at 0x7fea149b9b10>,\n",
       "  <matplotlib.axis.YTick at 0x7fea149bb4c0>,\n",
       "  <matplotlib.axis.YTick at 0x7fea047d09a0>,\n",
       "  <matplotlib.axis.YTick at 0x7fea047d14e0>,\n",
       "  <matplotlib.axis.YTick at 0x7fea047c4310>,\n",
       "  <matplotlib.axis.YTick at 0x7fea047d1bd0>,\n",
       "  <matplotlib.axis.YTick at 0x7fea047d2680>,\n",
       "  <matplotlib.axis.YTick at 0x7fea047d3130>,\n",
       "  <matplotlib.axis.YTick at 0x7fea047c4430>,\n",
       "  <matplotlib.axis.YTick at 0x7fea047d3a30>],\n",
       " [Text(0, 0.0, '0.0'),\n",
       "  Text(0, 0.1, '0.1'),\n",
       "  Text(0, 0.2, '0.2'),\n",
       "  Text(0, 0.30000000000000004, '0.3'),\n",
       "  Text(0, 0.4, '0.4'),\n",
       "  Text(0, 0.5, '0.5'),\n",
       "  Text(0, 0.6000000000000001, '0.6'),\n",
       "  Text(0, 0.7000000000000001, '0.7'),\n",
       "  Text(0, 0.8, '0.8'),\n",
       "  Text(0, 0.9, '0.9'),\n",
       "  Text(0, 1.0, '1.0')])"
      ]
     },
     "execution_count": 436,
     "metadata": {},
     "output_type": "execute_result"
    },
    {
     "data": {
      "text/plain": [
       "Text(0.5, 0, 'False Positive Rate')"
      ]
     },
     "execution_count": 436,
     "metadata": {},
     "output_type": "execute_result"
    },
    {
     "data": {
      "text/plain": [
       "Text(0, 0.5, 'True Positive Rate')"
      ]
     },
     "execution_count": 436,
     "metadata": {},
     "output_type": "execute_result"
    },
    {
     "name": "stderr",
     "output_type": "stream",
     "text": [
      "/tmp/ipykernel_19543/439308920.py:9: MatplotlibDeprecationWarning: The 'b' parameter of grid() has been renamed 'visible' since Matplotlib 3.5; support for the old name will be dropped two minor releases later.\n",
      "  plt.grid(b=True, ls=':')\n"
     ]
    },
    {
     "data": {
      "text/plain": [
       "<matplotlib.legend.Legend at 0x7fea14961330>"
      ]
     },
     "execution_count": 436,
     "metadata": {},
     "output_type": "execute_result"
    },
    {
     "data": {
      "text/plain": [
       "Text(0.5, 1.0, 'ROC')"
      ]
     },
     "execution_count": 436,
     "metadata": {},
     "output_type": "execute_result"
    },
    {
     "data": {
      "image/png": "[encoded data removed]",
      "text/plain": [
       "<Figure size 640x480 with 1 Axes>"
      ]
     },
     "metadata": {},
     "output_type": "display_data"
    }
   ],
   "source": [
    "plt.plot(fpr, tpr, c = 'r', lw = 2, alpha = 0.7, label = u'AUC=%.3f' % auc)\n",
    "# plt.plot((0, 1), (0, 1), c = '#808080', lw = 1, ls = '--', alpha = 0.7)\n",
    "plt.xlim((-0.01, 1.02))\n",
    "plt.ylim((-0.01, 1.02))\n",
    "plt.xticks(np.arange(0, 1.1, 0.1))\n",
    "plt.yticks(np.arange(0, 1.1, 0.1))\n",
    "plt.xlabel('False Positive Rate', fontsize=13)\n",
    "plt.ylabel('True Positive Rate', fontsize=13)\n",
    "plt.grid(b=True, ls=':')\n",
    "plt.legend(loc='lower right', fancybox=True, framealpha=0.8, fontsize=12)\n",
    "plt.title(u'ROC', fontsize=17)\n",
    "plt.show()\n"
   ]
  },
  {
   "cell_type": "code",
   "execution_count": null,
   "id": "cb74d433",
   "metadata": {
    "collapsed": false
   },
   "outputs": [],
   "source": [
    "\n",
    "#多模型比较：\n",
    "models = [('Logit', LogisticRegression(max_iter=5000)),\n",
    "          ('KNN', KNeighborsClassifier()),\n",
    "          ('SVM', SVC(probability=True)),\n",
    "          ('GNB', GaussianNB()),\n",
    "          ('DT', DecisionTreeClassifier(random_state=0)),\n",
    "          ('RF', RandomForestClassifier(max_depth=2, random_state=0))]\n",
    "\n",
    "#循环训练模型\n",
    "results = []\n",
    "roc_ = []\n",
    "for name, model in models:\n",
    "    clf = model.fit(X_train, y_train)\n",
    "    pred_proba = clf.predict_proba(X_test)\n",
    "    y_prob = pred_proba[:, 1]\n",
    "    fpr, tpr, roc_auc, Optimal_threshold, optimal_point = ROC(y_test, y_prob)\n",
    "    Accuracy, Sensitivity, Specificity = calculate_metric(y_test, y_prob, optimal_threshold)\n",
    "    result = [Optimal_threshold, Accuracy, Sensitivity, Specificity, roc_auc, name]\n",
    "    results.append(result)\n"
   ]
  },
  {
   "cell_type": "code",
   "execution_count": 450,
   "id": "471f2575",
   "metadata": {
    "collapsed": false
   },
   "outputs": [
    {
     "name": "stderr",
     "output_type": "stream",
     "text": [
      "/home/lucas/anaconda3/envs/ML/lib/python3.10/site-packages/sklearn/metrics/_classification.py:1334: UndefinedMetricWarning: Precision and F-score are ill-defined and being set to 0.0 in labels with no predicted samples. Use `zero_division` parameter to control this behavior.\n",
      "  _warn_prf(average, modifier, msg_start, len(result))\n",
      "/home/lucas/anaconda3/envs/ML/lib/python3.10/site-packages/sklearn/metrics/_classification.py:1334: UndefinedMetricWarning: Precision and F-score are ill-defined and being set to 0.0 in samples with no predicted labels. Use `zero_division` parameter to control this behavior.\n",
      "  _warn_prf(average, modifier, msg_start, len(result))\n",
      "/home/lucas/anaconda3/envs/ML/lib/python3.10/site-packages/sklearn/metrics/_classification.py:1334: UndefinedMetricWarning: Recall and F-score are ill-defined and being set to 0.0 in samples with no true labels. Use `zero_division` parameter to control this behavior.\n",
      "  _warn_prf(average, modifier, msg_start, len(result))\n"
     ]
    },
    {
     "name": "stdout",
     "output_type": "stream",
     "text": [
      "\n",
      "\n"
     ]
    }
   ],
   "source": [
    "def print_evaluation(y_true, y_pred, target_names=None, average='micro'):\n",
    "\n",
    "\n",
    "    acc = metrics.accuracy_score(y_true, y_pred)\n",
    "    report = classification_report(y_true, y_pred)\n",
    "\n",
    "    fpr, tpr, thresholds = metrics.roc_curve(np.array(y_true).ravel(), y_pred.ravel())\n",
    "    auc = metrics.auc(fpr, tpr)\n",
    "    # svc_disp = plot_roc_curve(rfc, Xvalidation, y_pred)\n",
    "    # plt.show()\n",
    "    confusion_mat = metrics.multilabel_confusion_matrix(y_true, y_pred)\n",
    "    # ConfusionMatrixDisplay.from_predictions(\n",
    "    #     y_true, predicted_labels, labels=lp_model.classes_\n",
    "    # )\n",
    "\n",
    "    # precision = metrics.precision_score(y_true, y_pred, average=average)\n",
    "    # metrics.recall_score(y_true, y_pred, average=average)\n",
    "    # metrics.f1_score(y_true, y_pred, average=average)\n",
    "\n",
    "    # 统一precision+recall+f1\n",
    "    prf = metrics.precision_recall_fscore_support(y_true, y_pred, average=average)\n",
    "    hamming = metrics.hamming_loss(y_true, y_pred)\n",
    "    # kappa不支持多标签\n",
    "    # kappa = metrics.cohen_kappa_score(y_true, y_pred)\n",
    "    # sns.heatmap(confusion_matrix(y_test, y_pred), annot=True, robust=True)\n",
    "    print()\n",
    "    # print(f\"acc \\n{acc}\")\n",
    "    # print(f\"report \\n{report}\")\n",
    "    # print(f'precision_recall_fscore_support\\n{prf}\\n')\n",
    "    # print(f'multilabel_confusion_matrix\\n{confusion_mat}')\n",
    "    # print(f'auc\\n{auc}')\n",
    "    # print(f'hamming\\n{hamming}\\n')\n",
    "    # print(f'kappa\\n{kappa}\\n')\n",
    "    print(f'')\n",
    "\n",
    "def plot_auc():\n",
    "    plt.plot(fpr, tpr, c = 'r', lw = 2, alpha = 0.7, label = u'AUC=%.3f' % auc)\n",
    "    # plt.plot((0, 1), (0, 1), c = '#808080', lw = 1, ls = '--', alpha = 0.7)\n",
    "    plt.xlim((-0.01, 1.02))\n",
    "    plt.ylim((-0.01, 1.02))\n",
    "    plt.xticks(np.arange(0, 1.1, 0.1))\n",
    "    plt.yticks(np.arange(0, 1.1, 0.1))\n",
    "    plt.xlabel('False Positive Rate', fontsize=13)\n",
    "    plt.ylabel('True Positive Rate', fontsize=13)\n",
    "    plt.grid(b=True, ls=':')\n",
    "    plt.legend(loc='lower right', fancybox=True, framealpha=0.8, fontsize=12)\n",
    "    plt.title('ROC', fontsize=17)\n",
    "    plt.show()\n",
    "print_evaluation(Yvalidation, y_pred, average='micro')\n"
   ]
  },
  {
   "cell_type": "code",
   "execution_count": 454,
   "id": "893db972",
   "metadata": {
    "collapsed": false
   },
   "outputs": [
    {
     "ename": "ValueError",
     "evalue": "multilabel-indicator is not supported",
     "output_type": "error",
     "traceback": [
      "\u001b[0;31m---------------------------------------------------------------------------\u001b[0m",
      "\u001b[0;31mValueError\u001b[0m                                Traceback (most recent call last)",
      "Cell \u001b[0;32mIn [454], line 2\u001b[0m\n\u001b[1;32m      1\u001b[0m confusion_mat \u001b[38;5;241m=\u001b[39m metrics\u001b[38;5;241m.\u001b[39mmultilabel_confusion_matrix(Yvalidation, y_pred)\n\u001b[0;32m----> 2\u001b[0m \u001b[43mConfusionMatrixDisplay\u001b[49m\u001b[38;5;241;43m.\u001b[39;49m\u001b[43mfrom_predictions\u001b[49m\u001b[43m(\u001b[49m\n\u001b[1;32m      3\u001b[0m \u001b[43m    \u001b[49m\u001b[43mYvalidation\u001b[49m\u001b[43m,\u001b[49m\u001b[43my_pred\u001b[49m\n\u001b[1;32m      4\u001b[0m \u001b[43m    \u001b[49m\u001b[38;5;66;43;03m# , predicted_labels, labels=lp_model.classes_\u001b[39;49;00m\n\u001b[1;32m      5\u001b[0m \u001b[43m)\u001b[49m\n",
      "File \u001b[0;32m~/anaconda3/envs/ML/lib/python3.10/site-packages/sklearn/metrics/_plot/confusion_matrix.py:441\u001b[0m, in \u001b[0;36mConfusionMatrixDisplay.from_predictions\u001b[0;34m(cls, y_true, y_pred, labels, sample_weight, normalize, display_labels, include_values, xticks_rotation, values_format, cmap, ax, colorbar, im_kw)\u001b[0m\n\u001b[1;32m    438\u001b[0m     \u001b[38;5;28;01melse\u001b[39;00m:\n\u001b[1;32m    439\u001b[0m         display_labels \u001b[38;5;241m=\u001b[39m labels\n\u001b[0;32m--> 441\u001b[0m cm \u001b[38;5;241m=\u001b[39m \u001b[43mconfusion_matrix\u001b[49m\u001b[43m(\u001b[49m\n\u001b[1;32m    442\u001b[0m \u001b[43m    \u001b[49m\u001b[43my_true\u001b[49m\u001b[43m,\u001b[49m\n\u001b[1;32m    443\u001b[0m \u001b[43m    \u001b[49m\u001b[43my_pred\u001b[49m\u001b[43m,\u001b[49m\n\u001b[1;32m    444\u001b[0m \u001b[43m    \u001b[49m\u001b[43msample_weight\u001b[49m\u001b[38;5;241;43m=\u001b[39;49m\u001b[43msample_weight\u001b[49m\u001b[43m,\u001b[49m\n\u001b[1;32m    445\u001b[0m \u001b[43m    \u001b[49m\u001b[43mlabels\u001b[49m\u001b[38;5;241;43m=\u001b[39;49m\u001b[43mlabels\u001b[49m\u001b[43m,\u001b[49m\n\u001b[1;32m    446\u001b[0m \u001b[43m    \u001b[49m\u001b[43mnormalize\u001b[49m\u001b[38;5;241;43m=\u001b[39;49m\u001b[43mnormalize\u001b[49m\u001b[43m,\u001b[49m\n\u001b[1;32m    447\u001b[0m \u001b[43m\u001b[49m\u001b[43m)\u001b[49m\n\u001b[1;32m    449\u001b[0m disp \u001b[38;5;241m=\u001b[39m \u001b[38;5;28mcls\u001b[39m(confusion_matrix\u001b[38;5;241m=\u001b[39mcm, display_labels\u001b[38;5;241m=\u001b[39mdisplay_labels)\n\u001b[1;32m    451\u001b[0m \u001b[38;5;28;01mreturn\u001b[39;00m disp\u001b[38;5;241m.\u001b[39mplot(\n\u001b[1;32m    452\u001b[0m     include_values\u001b[38;5;241m=\u001b[39minclude_values,\n\u001b[1;32m    453\u001b[0m     cmap\u001b[38;5;241m=\u001b[39mcmap,\n\u001b[0;32m   (...)\u001b[0m\n\u001b[1;32m    458\u001b[0m     im_kw\u001b[38;5;241m=\u001b[39mim_kw,\n\u001b[1;32m    459\u001b[0m )\n",
      "File \u001b[0;32m~/anaconda3/envs/ML/lib/python3.10/site-packages/sklearn/metrics/_classification.py:309\u001b[0m, in \u001b[0;36mconfusion_matrix\u001b[0;34m(y_true, y_pred, labels, sample_weight, normalize)\u001b[0m\n\u001b[1;32m    307\u001b[0m y_type, y_true, y_pred \u001b[38;5;241m=\u001b[39m _check_targets(y_true, y_pred)\n\u001b[1;32m    308\u001b[0m \u001b[38;5;28;01mif\u001b[39;00m y_type \u001b[38;5;129;01mnot\u001b[39;00m \u001b[38;5;129;01min\u001b[39;00m (\u001b[38;5;124m\"\u001b[39m\u001b[38;5;124mbinary\u001b[39m\u001b[38;5;124m\"\u001b[39m, \u001b[38;5;124m\"\u001b[39m\u001b[38;5;124mmulticlass\u001b[39m\u001b[38;5;124m\"\u001b[39m):\n\u001b[0;32m--> 309\u001b[0m     \u001b[38;5;28;01mraise\u001b[39;00m \u001b[38;5;167;01mValueError\u001b[39;00m(\u001b[38;5;124m\"\u001b[39m\u001b[38;5;132;01m%s\u001b[39;00m\u001b[38;5;124m is not supported\u001b[39m\u001b[38;5;124m\"\u001b[39m \u001b[38;5;241m%\u001b[39m y_type)\n\u001b[1;32m    311\u001b[0m \u001b[38;5;28;01mif\u001b[39;00m labels \u001b[38;5;129;01mis\u001b[39;00m \u001b[38;5;28;01mNone\u001b[39;00m:\n\u001b[1;32m    312\u001b[0m     labels \u001b[38;5;241m=\u001b[39m unique_labels(y_true, y_pred)\n",
      "\u001b[0;31mValueError\u001b[0m: multilabel-indicator is not supported"
     ]
    }
   ],
   "source": [
    "confusion_mat = metrics.multilabel_confusion_matrix(Yvalidation, y_pred)\n",
    "ConfusionMatrixDisplay.from_predictions(\n",
    "    Yvalidation,y_pred\n",
    "    # , predicted_labels, labels=lp_model.classes_\n",
    ")"
   ]
  },
  {
   "cell_type": "code",
   "execution_count": 3,
   "id": "eea81528",
   "metadata": {
    "collapsed": false
   },
   "outputs": [
    {
     "ename": "NameError",
     "evalue": "name 'y' is not defined",
     "output_type": "error",
     "traceback": [
      "\u001b[0;31m---------------------------------------------------------------------------\u001b[0m",
      "\u001b[0;31mNameError\u001b[0m                                 Traceback (most recent call last)",
      "Cell \u001b[0;32mIn [3], line 2\u001b[0m\n\u001b[1;32m      1\u001b[0m \u001b[38;5;28;01mfrom\u001b[39;00m \u001b[38;5;21;01msklearn\u001b[39;00m\u001b[38;5;21;01m.\u001b[39;00m\u001b[38;5;21;01mpreprocessing\u001b[39;00m \u001b[38;5;28;01mimport\u001b[39;00m MultiLabelBinarizer\n\u001b[0;32m----> 2\u001b[0m MultiLabelBinarizer()\u001b[38;5;241m.\u001b[39mfit_transform(\u001b[43my\u001b[49m)\n",
      "\u001b[0;31mNameError\u001b[0m: name 'y' is not defined"
     ]
    }
   ],
   "source": [
    "from sklearn.preprocessing import MultiLabelBinarizer\n",
    "\n",
    "MultiLabelBinarizer().fit_transform(y)"
   ]
  },
  {
   "cell_type": "code",
   "execution_count": 255,
   "id": "68c5c95c",
   "metadata": {
    "collapsed": false
   },
   "outputs": [
    {
     "ename": "ValueError",
     "evalue": "Found array with dim 3. None expected <= 2.",
     "output_type": "error",
     "traceback": [
      "\u001b[0;31m---------------------------------------------------------------------------\u001b[0m",
      "\u001b[0;31mValueError\u001b[0m                                Traceback (most recent call last)",
      "Cell \u001b[0;32mIn [255], line 1\u001b[0m\n\u001b[0;32m----> 1\u001b[0m auc_score \u001b[38;5;241m=\u001b[39m \u001b[43mmetrics\u001b[49m\u001b[38;5;241;43m.\u001b[39;49m\u001b[43mroc_auc_score\u001b[49m\u001b[43m(\u001b[49m\u001b[43mYvalidation\u001b[49m\u001b[43m,\u001b[49m\u001b[43m \u001b[49m\u001b[43my_pred\u001b[49m\u001b[43m)\u001b[49m\n",
      "File \u001b[0;32m~/anaconda3/envs/ML/lib/python3.10/site-packages/sklearn/metrics/_ranking.py:550\u001b[0m, in \u001b[0;36mroc_auc_score\u001b[0;34m(y_true, y_score, average, sample_weight, max_fpr, multi_class, labels)\u001b[0m\n\u001b[1;32m    548\u001b[0m y_type \u001b[38;5;241m=\u001b[39m type_of_target(y_true, input_name\u001b[38;5;241m=\u001b[39m\u001b[38;5;124m\"\u001b[39m\u001b[38;5;124my_true\u001b[39m\u001b[38;5;124m\"\u001b[39m)\n\u001b[1;32m    549\u001b[0m y_true \u001b[38;5;241m=\u001b[39m check_array(y_true, ensure_2d\u001b[38;5;241m=\u001b[39m\u001b[38;5;28;01mFalse\u001b[39;00m, dtype\u001b[38;5;241m=\u001b[39m\u001b[38;5;28;01mNone\u001b[39;00m)\n\u001b[0;32m--> 550\u001b[0m y_score \u001b[38;5;241m=\u001b[39m \u001b[43mcheck_array\u001b[49m\u001b[43m(\u001b[49m\u001b[43my_score\u001b[49m\u001b[43m,\u001b[49m\u001b[43m \u001b[49m\u001b[43mensure_2d\u001b[49m\u001b[38;5;241;43m=\u001b[39;49m\u001b[38;5;28;43;01mFalse\u001b[39;49;00m\u001b[43m)\u001b[49m\n\u001b[1;32m    552\u001b[0m \u001b[38;5;28;01mif\u001b[39;00m y_type \u001b[38;5;241m==\u001b[39m \u001b[38;5;124m\"\u001b[39m\u001b[38;5;124mmulticlass\u001b[39m\u001b[38;5;124m\"\u001b[39m \u001b[38;5;129;01mor\u001b[39;00m (\n\u001b[1;32m    553\u001b[0m     y_type \u001b[38;5;241m==\u001b[39m \u001b[38;5;124m\"\u001b[39m\u001b[38;5;124mbinary\u001b[39m\u001b[38;5;124m\"\u001b[39m \u001b[38;5;129;01mand\u001b[39;00m y_score\u001b[38;5;241m.\u001b[39mndim \u001b[38;5;241m==\u001b[39m \u001b[38;5;241m2\u001b[39m \u001b[38;5;129;01mand\u001b[39;00m y_score\u001b[38;5;241m.\u001b[39mshape[\u001b[38;5;241m1\u001b[39m] \u001b[38;5;241m>\u001b[39m \u001b[38;5;241m2\u001b[39m\n\u001b[1;32m    554\u001b[0m ):\n\u001b[1;32m    555\u001b[0m     \u001b[38;5;66;03m# do not support partial ROC computation for multiclass\u001b[39;00m\n\u001b[1;32m    556\u001b[0m     \u001b[38;5;28;01mif\u001b[39;00m max_fpr \u001b[38;5;129;01mis\u001b[39;00m \u001b[38;5;129;01mnot\u001b[39;00m \u001b[38;5;28;01mNone\u001b[39;00m \u001b[38;5;129;01mand\u001b[39;00m max_fpr \u001b[38;5;241m!=\u001b[39m \u001b[38;5;241m1.0\u001b[39m:\n",
      "File \u001b[0;32m~/anaconda3/envs/ML/lib/python3.10/site-packages/sklearn/utils/validation.py:893\u001b[0m, in \u001b[0;36mcheck_array\u001b[0;34m(array, accept_sparse, accept_large_sparse, dtype, order, copy, force_all_finite, ensure_2d, allow_nd, ensure_min_samples, ensure_min_features, estimator, input_name)\u001b[0m\n\u001b[1;32m    887\u001b[0m     \u001b[38;5;28;01mraise\u001b[39;00m \u001b[38;5;167;01mValueError\u001b[39;00m(\n\u001b[1;32m    888\u001b[0m         \u001b[38;5;124m\"\u001b[39m\u001b[38;5;124mdtype=\u001b[39m\u001b[38;5;124m'\u001b[39m\u001b[38;5;124mnumeric\u001b[39m\u001b[38;5;124m'\u001b[39m\u001b[38;5;124m is not compatible with arrays of bytes/strings.\u001b[39m\u001b[38;5;124m\"\u001b[39m\n\u001b[1;32m    889\u001b[0m         \u001b[38;5;124m\"\u001b[39m\u001b[38;5;124mConvert your data to numeric values explicitly instead.\u001b[39m\u001b[38;5;124m\"\u001b[39m\n\u001b[1;32m    890\u001b[0m     )\n\u001b[1;32m    892\u001b[0m \u001b[38;5;28;01mif\u001b[39;00m \u001b[38;5;129;01mnot\u001b[39;00m allow_nd \u001b[38;5;129;01mand\u001b[39;00m array\u001b[38;5;241m.\u001b[39mndim \u001b[38;5;241m>\u001b[39m\u001b[38;5;241m=\u001b[39m \u001b[38;5;241m3\u001b[39m:\n\u001b[0;32m--> 893\u001b[0m     \u001b[38;5;28;01mraise\u001b[39;00m \u001b[38;5;167;01mValueError\u001b[39;00m(\n\u001b[1;32m    894\u001b[0m         \u001b[38;5;124m\"\u001b[39m\u001b[38;5;124mFound array with dim \u001b[39m\u001b[38;5;132;01m%d\u001b[39;00m\u001b[38;5;124m. \u001b[39m\u001b[38;5;132;01m%s\u001b[39;00m\u001b[38;5;124m expected <= 2.\u001b[39m\u001b[38;5;124m\"\u001b[39m\n\u001b[1;32m    895\u001b[0m         \u001b[38;5;241m%\u001b[39m (array\u001b[38;5;241m.\u001b[39mndim, estimator_name)\n\u001b[1;32m    896\u001b[0m     )\n\u001b[1;32m    898\u001b[0m \u001b[38;5;28;01mif\u001b[39;00m force_all_finite:\n\u001b[1;32m    899\u001b[0m     _assert_all_finite(\n\u001b[1;32m    900\u001b[0m         array,\n\u001b[1;32m    901\u001b[0m         input_name\u001b[38;5;241m=\u001b[39minput_name,\n\u001b[1;32m    902\u001b[0m         estimator_name\u001b[38;5;241m=\u001b[39mestimator_name,\n\u001b[1;32m    903\u001b[0m         allow_nan\u001b[38;5;241m=\u001b[39mforce_all_finite \u001b[38;5;241m==\u001b[39m \u001b[38;5;124m\"\u001b[39m\u001b[38;5;124mallow-nan\u001b[39m\u001b[38;5;124m\"\u001b[39m,\n\u001b[1;32m    904\u001b[0m     )\n",
      "\u001b[0;31mValueError\u001b[0m: Found array with dim 3. None expected <= 2."
     ]
    }
   ],
   "source": [
    "auc_score = metrics.roc_auc_score(Yvalidation, y_pred)  #验证集上的auc值\n"
   ]
  },
  {
   "cell_type": "code",
   "execution_count": 252,
   "id": "a7a4e1c8",
   "metadata": {
    "collapsed": false
   },
   "outputs": [
    {
     "ename": "NameError",
     "evalue": "name 'multi_class_series' is not defined",
     "output_type": "error",
     "traceback": [
      "\u001b[0;31m---------------------------------------------------------------------------\u001b[0m",
      "\u001b[0;31mNameError\u001b[0m                                 Traceback (most recent call last)",
      "Cell \u001b[0;32mIn [252], line 1\u001b[0m\n\u001b[0;32m----> 1\u001b[0m roc \u001b[38;5;241m=\u001b[39m {label: [] \u001b[38;5;28;01mfor\u001b[39;00m label \u001b[38;5;129;01min\u001b[39;00m \u001b[43mmulti_class_series\u001b[49m\u001b[38;5;241m.\u001b[39munique()}\n\u001b[1;32m      2\u001b[0m \u001b[38;5;28;01mfor\u001b[39;00m label \u001b[38;5;129;01min\u001b[39;00m multi_class_series\u001b[38;5;241m.\u001b[39munique():\n\u001b[1;32m      3\u001b[0m     selected_classifier\u001b[38;5;241m.\u001b[39mfit(train_set_dataframe, train_class \u001b[38;5;241m==\u001b[39m label)\n",
      "\u001b[0;31mNameError\u001b[0m: name 'multi_class_series' is not defined"
     ]
    }
   ],
   "source": [
    "roc = {label: [] for label in metrics.multi_class_series.unique()}\n",
    "for label in multi_class_series.unique():\n",
    "    selected_classifier.fit(train_set_dataframe, train_class == label)\n",
    "    predictions_proba = selected_classifier.predict_proba(test_set_dataframe)\n",
    "    roc[label] += roc_auc_score(test_class, predictions_proba[:, 1])"
   ]
  },
  {
   "cell_type": "code",
   "execution_count": 303,
   "id": "140dee66",
   "metadata": {
    "collapsed": false
   },
   "outputs": [
    {
     "data": {
      "text/plain": [
       "array([[[40845,     0],\n",
       "        [    3,     0]],\n",
       "\n",
       "       [[40848,     0],\n",
       "        [    0,     0]],\n",
       "\n",
       "       [[ 7666,  6409],\n",
       "        [ 4037, 22736]],\n",
       "\n",
       "       [[40835,     0],\n",
       "        [   13,     0]],\n",
       "\n",
       "       [[37058,   474],\n",
       "        [ 2798,   518]],\n",
       "\n",
       "       [[40433,    19],\n",
       "        [   16,   380]],\n",
       "\n",
       "       [[40416,    28],\n",
       "        [  376,    28]],\n",
       "\n",
       "       [[33975,  1510],\n",
       "        [ 3137,  2226]],\n",
       "\n",
       "       [[38912,   170],\n",
       "        [ 1573,   193]],\n",
       "\n",
       "       [[40768,     2],\n",
       "        [   76,     2]],\n",
       "\n",
       "       [[40770,     3],\n",
       "        [   73,     2]],\n",
       "\n",
       "       [[38694,   367],\n",
       "        [ 1286,   501]],\n",
       "\n",
       "       [[36901,   548],\n",
       "        [ 2677,   722]],\n",
       "\n",
       "       [[40039,    36],\n",
       "        [  715,    58]],\n",
       "\n",
       "       [[40626,     4],\n",
       "        [  216,     2]],\n",
       "\n",
       "       [[40437,     9],\n",
       "        [  384,    18]],\n",
       "\n",
       "       [[40746,     7],\n",
       "        [   78,    17]],\n",
       "\n",
       "       [[38582,   177],\n",
       "        [ 1921,   168]],\n",
       "\n",
       "       [[38934,   127],\n",
       "        [ 1677,   110]],\n",
       "\n",
       "       [[39747,    72],\n",
       "        [  954,    75]],\n",
       "\n",
       "       [[40671,     2],\n",
       "        [  172,     3]],\n",
       "\n",
       "       [[38406,   232],\n",
       "        [ 1999,   211]],\n",
       "\n",
       "       [[38168,   264],\n",
       "        [ 2186,   230]],\n",
       "\n",
       "       [[34135,  1444],\n",
       "        [ 3681,  1588]]])"
      ]
     },
     "execution_count": 303,
     "metadata": {},
     "output_type": "execute_result"
    }
   ],
   "source": [
    "metrics.multilabel_confusion_matrix(Yvalidation, y_pred)\n"
   ]
  },
  {
   "cell_type": "code",
   "execution_count": null,
   "id": "a9916052",
   "metadata": {
    "collapsed": false
   },
   "outputs": [],
   "source": [
    "# GBDT\n",
    "GradientBoostingClassifier(ccp_alpha=0.0, criterion='friedman_mse', init=None,\n",
    "                           learning_rate=0.1, loss='deviance', max_depth=3,\n",
    "                           max_features=None, max_leaf_nodes=None,\n",
    "                           min_impurity_decrease=0.0, min_impurity_split=None,\n",
    "                           min_samples_leaf=1, min_samples_split=2,\n",
    "                           min_weight_fraction_leaf=0.0, n_estimators=100,\n",
    "                           n_iter_no_change=None, presort='deprecated',\n",
    "                           random_state=None, subsample=1.0, tol=0.0001,\n",
    "                           validation_fraction=0.1, verbose=0,\n",
    "                           warm_start=False)\n",
    "# RF\n",
    "rfc = RandomForestClassifier(random_state=0, n_jobs=18)\n",
    "\n",
    "# XGBoost\n",
    "\n",
    "\n"
   ]
  },
  {
   "cell_type": "code",
   "execution_count": null,
   "id": "8a2d0666",
   "metadata": {
    "collapsed": false
   },
   "outputs": [],
   "source": [
    "params = {\n",
    "    'booster': 'gbtree',\n",
    "    'objective': 'multi:softmax',  # 多分类的问题\n",
    "    'num_class': len(y_name_list),  # 类别数，与 multisoftmax 并用\n",
    "    'gamma': 0.1,  # 用于控制是否后剪枝的参数,越大越保守，一般0.1、0.2这样子。\n",
    "    'max_depth': 12,  # 构建树的深度，越大越容易过拟合\n",
    "    'lambda': 2,  # 控制模型复杂度的权重值的L2正则化项参数，参数越大，模型越不容易过拟合。\n",
    "    'subsample': 0.7,  # 随机采样训练样本\n",
    "    'colsample_bytree': 0.7,  # 生成树时进行的列采样\n",
    "    'min_child_weight': 3,\n",
    "    'silent': 1,  # 设置成1则没有运行信息输出，最好是设置为0.\n",
    "    'eta': 0.007,  # 如同学习率\n",
    "    'seed': 1000,\n",
    "    'nthread': 4,  # cpu 线程数\n",
    "}"
   ]
  },
  {
   "cell_type": "code",
   "execution_count": 288,
   "id": "d4fccfd2",
   "metadata": {
    "collapsed": false
   },
   "outputs": [],
   "source": [
    "\n",
    "\n",
    "classifiers = []\n",
    "\n",
    "rfc = rfc.fit(Xtrain, Ytrain)\n",
    "y_pred = rfc.predict(Xvalidation)"
   ]
  },
  {
   "cell_type": "code",
   "execution_count": 290,
   "id": "4b45ab7a",
   "metadata": {
    "collapsed": false
   },
   "outputs": [
    {
     "data": {
      "text/plain": [
       "(40848, 24)"
      ]
     },
     "execution_count": 290,
     "metadata": {},
     "output_type": "execute_result"
    }
   ],
   "source": [
    "Yvalidation.shape"
   ]
  },
  {
   "cell_type": "code",
   "execution_count": 289,
   "id": "4af74e04",
   "metadata": {
    "collapsed": false
   },
   "outputs": [
    {
     "data": {
      "text/plain": [
       "(40848, 24)"
      ]
     },
     "execution_count": 289,
     "metadata": {},
     "output_type": "execute_result"
    }
   ],
   "source": [
    "y_pred.shape"
   ]
  },
  {
   "cell_type": "code",
   "execution_count": 309,
   "id": "8a7ea658",
   "metadata": {
    "collapsed": false
   },
   "outputs": [
    {
     "data": {
      "text/html": [
       "<style>#sk-container-id-4 {color: black;background-color: white;}#sk-container-id-4 pre{padding: 0;}#sk-container-id-4 div.sk-toggleable {background-color: white;}#sk-container-id-4 label.sk-toggleable__label {cursor: pointer;display: block;width: 100%;margin-bottom: 0;padding: 0.3em;box-sizing: border-box;text-align: center;}#sk-container-id-4 label.sk-toggleable__label-arrow:before {content: \"▸\";float: left;margin-right: 0.25em;color: #696969;}#sk-container-id-4 label.sk-toggleable__label-arrow:hover:before {color: black;}#sk-container-id-4 div.sk-estimator:hover label.sk-toggleable__label-arrow:before {color: black;}#sk-container-id-4 div.sk-toggleable__content {max-height: 0;max-width: 0;overflow: hidden;text-align: left;background-color: #f0f8ff;}#sk-container-id-4 div.sk-toggleable__content pre {margin: 0.2em;color: black;border-radius: 0.25em;background-color: #f0f8ff;}#sk-container-id-4 input.sk-toggleable__control:checked~div.sk-toggleable__content {max-height: 200px;max-width: 100%;overflow: auto;}#sk-container-id-4 input.sk-toggleable__control:checked~label.sk-toggleable__label-arrow:before {content: \"▾\";}#sk-container-id-4 div.sk-estimator input.sk-toggleable__control:checked~label.sk-toggleable__label {background-color: #d4ebff;}#sk-container-id-4 div.sk-label input.sk-toggleable__control:checked~label.sk-toggleable__label {background-color: #d4ebff;}#sk-container-id-4 input.sk-hidden--visually {border: 0;clip: rect(1px 1px 1px 1px);clip: rect(1px, 1px, 1px, 1px);height: 1px;margin: -1px;overflow: hidden;padding: 0;position: absolute;width: 1px;}#sk-container-id-4 div.sk-estimator {font-family: monospace;background-color: #f0f8ff;border: 1px dotted black;border-radius: 0.25em;box-sizing: border-box;margin-bottom: 0.5em;}#sk-container-id-4 div.sk-estimator:hover {background-color: #d4ebff;}#sk-container-id-4 div.sk-parallel-item::after {content: \"\";width: 100%;border-bottom: 1px solid gray;flex-grow: 1;}#sk-container-id-4 div.sk-label:hover label.sk-toggleable__label {background-color: #d4ebff;}#sk-container-id-4 div.sk-serial::before {content: \"\";position: absolute;border-left: 1px solid gray;box-sizing: border-box;top: 0;bottom: 0;left: 50%;z-index: 0;}#sk-container-id-4 div.sk-serial {display: flex;flex-direction: column;align-items: center;background-color: white;padding-right: 0.2em;padding-left: 0.2em;position: relative;}#sk-container-id-4 div.sk-item {position: relative;z-index: 1;}#sk-container-id-4 div.sk-parallel {display: flex;align-items: stretch;justify-content: center;background-color: white;position: relative;}#sk-container-id-4 div.sk-item::before, #sk-container-id-4 div.sk-parallel-item::before {content: \"\";position: absolute;border-left: 1px solid gray;box-sizing: border-box;top: 0;bottom: 0;left: 50%;z-index: -1;}#sk-container-id-4 div.sk-parallel-item {display: flex;flex-direction: column;z-index: 1;position: relative;background-color: white;}#sk-container-id-4 div.sk-parallel-item:first-child::after {align-self: flex-end;width: 50%;}#sk-container-id-4 div.sk-parallel-item:last-child::after {align-self: flex-start;width: 50%;}#sk-container-id-4 div.sk-parallel-item:only-child::after {width: 0;}#sk-container-id-4 div.sk-dashed-wrapped {border: 1px dashed gray;margin: 0 0.4em 0.5em 0.4em;box-sizing: border-box;padding-bottom: 0.4em;background-color: white;}#sk-container-id-4 div.sk-label label {font-family: monospace;font-weight: bold;display: inline-block;line-height: 1.2em;}#sk-container-id-4 div.sk-label-container {text-align: center;}#sk-container-id-4 div.sk-container {/* jupyter's `normalize.less` sets `[hidden] { display: none; }` but bootstrap.min.css set `[hidden] { display: none !important; }` so we also need the `!important` here to be able to override the default hidden behavior on the sphinx rendered scikit-learn.org. See: https://github.com/scikit-learn/scikit-learn/issues/21755 */display: inline-block !important;position: relative;}#sk-container-id-4 div.sk-text-repr-fallback {display: none;}</style><div id=\"sk-container-id-4\" class=\"sk-top-container\"><div class=\"sk-text-repr-fallback\"><pre>XGBClassifier(base_score=0.5, booster=&#x27;gbtree&#x27;, callbacks=None,\n",
       "              colsample_bylevel=1, colsample_bynode=1, colsample_bytree=1,\n",
       "              early_stopping_rounds=None, enable_categorical=False,\n",
       "              eval_metric=None, feature_types=None, gamma=0, gpu_id=-1,\n",
       "              grow_policy=&#x27;depthwise&#x27;, importance_type=None,\n",
       "              interaction_constraints=&#x27;&#x27;, learning_rate=0.300000012,\n",
       "              max_bin=256, max_cat_threshold=64, max_cat_to_onehot=4,\n",
       "              max_delta_step=0, max_depth=6, max_leaves=0, min_child_weight=1,\n",
       "              missing=nan, monotone_constraints=&#x27;()&#x27;, n_estimators=100,\n",
       "              n_jobs=0, num_parallel_tree=1, predictor=&#x27;auto&#x27;, random_state=0, ...)</pre><b>In a Jupyter environment, please rerun this cell to show the HTML representation or trust the notebook. <br />On GitHub, the HTML representation is unable to render, please try loading this page with nbviewer.org.</b></div><div class=\"sk-container\" hidden><div class=\"sk-item\"><div class=\"sk-estimator sk-toggleable\"><input class=\"sk-toggleable__control sk-hidden--visually\" id=\"sk-estimator-id-4\" type=\"checkbox\" checked><label for=\"sk-estimator-id-4\" class=\"sk-toggleable__label sk-toggleable__label-arrow\">XGBClassifier</label><div class=\"sk-toggleable__content\"><pre>XGBClassifier(base_score=0.5, booster=&#x27;gbtree&#x27;, callbacks=None,\n",
       "              colsample_bylevel=1, colsample_bynode=1, colsample_bytree=1,\n",
       "              early_stopping_rounds=None, enable_categorical=False,\n",
       "              eval_metric=None, feature_types=None, gamma=0, gpu_id=-1,\n",
       "              grow_policy=&#x27;depthwise&#x27;, importance_type=None,\n",
       "              interaction_constraints=&#x27;&#x27;, learning_rate=0.300000012,\n",
       "              max_bin=256, max_cat_threshold=64, max_cat_to_onehot=4,\n",
       "              max_delta_step=0, max_depth=6, max_leaves=0, min_child_weight=1,\n",
       "              missing=nan, monotone_constraints=&#x27;()&#x27;, n_estimators=100,\n",
       "              n_jobs=0, num_parallel_tree=1, predictor=&#x27;auto&#x27;, random_state=0, ...)</pre></div></div></div></div></div>"
      ],
      "text/plain": [
       "XGBClassifier(base_score=0.5, booster='gbtree', callbacks=None,\n",
       "              colsample_bylevel=1, colsample_bynode=1, colsample_bytree=1,\n",
       "              early_stopping_rounds=None, enable_categorical=False,\n",
       "              eval_metric=None, feature_types=None, gamma=0, gpu_id=-1,\n",
       "              grow_policy='depthwise', importance_type=None,\n",
       "              interaction_constraints='', learning_rate=0.300000012,\n",
       "              max_bin=256, max_cat_threshold=64, max_cat_to_onehot=4,\n",
       "              max_delta_step=0, max_depth=6, max_leaves=0, min_child_weight=1,\n",
       "              missing=nan, monotone_constraints='()', n_estimators=100,\n",
       "              n_jobs=0, num_parallel_tree=1, predictor='auto', random_state=0, ...)"
      ]
     },
     "execution_count": 309,
     "metadata": {},
     "output_type": "execute_result"
    },
    {
     "data": {
      "text/plain": [
       "<Figure size 2000x1000 with 0 Axes>"
      ]
     },
     "execution_count": 309,
     "metadata": {},
     "output_type": "execute_result"
    },
    {
     "data": {
      "text/plain": [
       "<AxesSubplot: title={'center': 'Feature importance'}, xlabel='F score', ylabel='Features'>"
      ]
     },
     "execution_count": 309,
     "metadata": {},
     "output_type": "execute_result"
    },
    {
     "data": {
      "text/plain": [
       "<Figure size 2000x1000 with 0 Axes>"
      ]
     },
     "metadata": {},
     "output_type": "display_data"
    },
    {
     "data": {
      "image/png": "[encoded data removed]",
      "text/plain": [
       "<Figure size 640x480 with 1 Axes>"
      ]
     },
     "metadata": {},
     "output_type": "display_data"
    }
   ],
   "source": [
    "\n",
    "import xgboost\n",
    "xb = xgboost.XGBClassifier()\n",
    "xb.fit(Xtrain,Ytrain)\n",
    "\n",
    "\n",
    "plt.figure(figsize=(20, 10))\n",
    "xgboost.plot_importance(xb)\n",
    "plt.show()"
   ]
  },
  {
   "cell_type": "code",
   "execution_count": null,
   "id": "a2e7aadd",
   "metadata": {
    "collapsed": false
   },
   "outputs": [],
   "source": []
  },
  {
   "cell_type": "code",
   "execution_count": null,
   "id": "af7ed3bb",
   "metadata": {
    "collapsed": false
   },
   "outputs": [],
   "source": []
  },
  {
   "cell_type": "code",
   "execution_count": 317,
   "id": "0330803d",
   "metadata": {
    "collapsed": false
   },
   "outputs": [
    {
     "ename": "AttributeError",
     "evalue": "'DataFrame' object has no attribute 'to_array'",
     "output_type": "error",
     "traceback": [
      "\u001b[0;31m---------------------------------------------------------------------------\u001b[0m",
      "\u001b[0;31mAttributeError\u001b[0m                            Traceback (most recent call last)",
      "Cell \u001b[0;32mIn [317], line 2\u001b[0m\n\u001b[1;32m      1\u001b[0m \u001b[38;5;66;03m# fpr, tpr, thresholds  =  metrics.roc_auc_score(Yvalidation, y_pred, average='micro')\u001b[39;00m\n\u001b[0;32m----> 2\u001b[0m fpr, tpr, thresholds \u001b[38;5;241m=\u001b[39m metrics\u001b[38;5;241m.\u001b[39mroc_curve(\u001b[43mYvalidation\u001b[49m\u001b[38;5;241;43m.\u001b[39;49m\u001b[43mto_array\u001b[49m\u001b[38;5;241m.\u001b[39mravel(),y_pred\u001b[38;5;241m.\u001b[39mravel())\n",
      "File \u001b[0;32m~/anaconda3/envs/ML/lib/python3.10/site-packages/pandas/core/generic.py:5902\u001b[0m, in \u001b[0;36mNDFrame.__getattr__\u001b[0;34m(self, name)\u001b[0m\n\u001b[1;32m   5895\u001b[0m \u001b[38;5;28;01mif\u001b[39;00m (\n\u001b[1;32m   5896\u001b[0m     name \u001b[38;5;129;01mnot\u001b[39;00m \u001b[38;5;129;01min\u001b[39;00m \u001b[38;5;28mself\u001b[39m\u001b[38;5;241m.\u001b[39m_internal_names_set\n\u001b[1;32m   5897\u001b[0m     \u001b[38;5;129;01mand\u001b[39;00m name \u001b[38;5;129;01mnot\u001b[39;00m \u001b[38;5;129;01min\u001b[39;00m \u001b[38;5;28mself\u001b[39m\u001b[38;5;241m.\u001b[39m_metadata\n\u001b[1;32m   5898\u001b[0m     \u001b[38;5;129;01mand\u001b[39;00m name \u001b[38;5;129;01mnot\u001b[39;00m \u001b[38;5;129;01min\u001b[39;00m \u001b[38;5;28mself\u001b[39m\u001b[38;5;241m.\u001b[39m_accessors\n\u001b[1;32m   5899\u001b[0m     \u001b[38;5;129;01mand\u001b[39;00m \u001b[38;5;28mself\u001b[39m\u001b[38;5;241m.\u001b[39m_info_axis\u001b[38;5;241m.\u001b[39m_can_hold_identifiers_and_holds_name(name)\n\u001b[1;32m   5900\u001b[0m ):\n\u001b[1;32m   5901\u001b[0m     \u001b[38;5;28;01mreturn\u001b[39;00m \u001b[38;5;28mself\u001b[39m[name]\n\u001b[0;32m-> 5902\u001b[0m \u001b[38;5;28;01mreturn\u001b[39;00m \u001b[38;5;28;43mobject\u001b[39;49m\u001b[38;5;241;43m.\u001b[39;49m\u001b[38;5;21;43m__getattribute__\u001b[39;49m\u001b[43m(\u001b[49m\u001b[38;5;28;43mself\u001b[39;49m\u001b[43m,\u001b[49m\u001b[43m \u001b[49m\u001b[43mname\u001b[49m\u001b[43m)\u001b[49m\n",
      "\u001b[0;31mAttributeError\u001b[0m: 'DataFrame' object has no attribute 'to_array'"
     ]
    }
   ],
   "source": [
    "# fpr, tpr, thresholds  =  metrics.roc_auc_score(Yvalidation, y_pred, average='micro')\n",
    "fpr, tpr, thresholds = metrics.roc_curve(Yvalidation.ravel(),y_pred.ravel())\n",
    "# auc = metrics.auc(fpr, tpr)\n"
   ]
  },
  {
   "cell_type": "code",
   "execution_count": 321,
   "id": "ebb95fe4",
   "metadata": {
    "collapsed": false
   },
   "outputs": [
    {
     "data": {
      "text/plain": [
       "(40848, 24)"
      ]
     },
     "execution_count": 321,
     "metadata": {},
     "output_type": "execute_result"
    },
    {
     "data": {
      "text/plain": [
       "(2, 3)"
      ]
     },
     "execution_count": 321,
     "metadata": {},
     "output_type": "execute_result"
    }
   ],
   "source": [
    "Yvalidation.shape\n",
    "y_true.shape"
   ]
  },
  {
   "cell_type": "code",
   "execution_count": 319,
   "id": "6d2196fc",
   "metadata": {
    "collapsed": false
   },
   "outputs": [
    {
     "ename": "ValueError",
     "evalue": "Found input variables with inconsistent numbers of samples: [40848, 2]",
     "output_type": "error",
     "traceback": [
      "\u001b[0;31m---------------------------------------------------------------------------\u001b[0m",
      "\u001b[0;31mValueError\u001b[0m                                Traceback (most recent call last)",
      "Cell \u001b[0;32mIn [319], line 1\u001b[0m\n\u001b[0;32m----> 1\u001b[0m \u001b[43mmetrics\u001b[49m\u001b[38;5;241;43m.\u001b[39;49m\u001b[43mroc_auc_score\u001b[49m\u001b[43m(\u001b[49m\u001b[43mYvalidation\u001b[49m\u001b[43m,\u001b[49m\u001b[43m \u001b[49m\u001b[43my_true\u001b[49m\u001b[43m,\u001b[49m\u001b[43m \u001b[49m\u001b[43maverage\u001b[49m\u001b[38;5;241;43m=\u001b[39;49m\u001b[38;5;124;43m'\u001b[39;49m\u001b[38;5;124;43mmicro\u001b[39;49m\u001b[38;5;124;43m'\u001b[39;49m\u001b[43m)\u001b[49m\n",
      "File \u001b[0;32m~/anaconda3/envs/ML/lib/python3.10/site-packages/sklearn/metrics/_ranking.py:579\u001b[0m, in \u001b[0;36mroc_auc_score\u001b[0;34m(y_true, y_score, average, sample_weight, max_fpr, multi_class, labels)\u001b[0m\n\u001b[1;32m    571\u001b[0m     \u001b[38;5;28;01mreturn\u001b[39;00m _average_binary_score(\n\u001b[1;32m    572\u001b[0m         partial(_binary_roc_auc_score, max_fpr\u001b[38;5;241m=\u001b[39mmax_fpr),\n\u001b[1;32m    573\u001b[0m         y_true,\n\u001b[0;32m   (...)\u001b[0m\n\u001b[1;32m    576\u001b[0m         sample_weight\u001b[38;5;241m=\u001b[39msample_weight,\n\u001b[1;32m    577\u001b[0m     )\n\u001b[1;32m    578\u001b[0m \u001b[38;5;28;01melse\u001b[39;00m:  \u001b[38;5;66;03m# multilabel-indicator\u001b[39;00m\n\u001b[0;32m--> 579\u001b[0m     \u001b[38;5;28;01mreturn\u001b[39;00m \u001b[43m_average_binary_score\u001b[49m\u001b[43m(\u001b[49m\n\u001b[1;32m    580\u001b[0m \u001b[43m        \u001b[49m\u001b[43mpartial\u001b[49m\u001b[43m(\u001b[49m\u001b[43m_binary_roc_auc_score\u001b[49m\u001b[43m,\u001b[49m\u001b[43m \u001b[49m\u001b[43mmax_fpr\u001b[49m\u001b[38;5;241;43m=\u001b[39;49m\u001b[43mmax_fpr\u001b[49m\u001b[43m)\u001b[49m\u001b[43m,\u001b[49m\n\u001b[1;32m    581\u001b[0m \u001b[43m        \u001b[49m\u001b[43my_true\u001b[49m\u001b[43m,\u001b[49m\n\u001b[1;32m    582\u001b[0m \u001b[43m        \u001b[49m\u001b[43my_score\u001b[49m\u001b[43m,\u001b[49m\n\u001b[1;32m    583\u001b[0m \u001b[43m        \u001b[49m\u001b[43maverage\u001b[49m\u001b[43m,\u001b[49m\n\u001b[1;32m    584\u001b[0m \u001b[43m        \u001b[49m\u001b[43msample_weight\u001b[49m\u001b[38;5;241;43m=\u001b[39;49m\u001b[43msample_weight\u001b[49m\u001b[43m,\u001b[49m\n\u001b[1;32m    585\u001b[0m \u001b[43m    \u001b[49m\u001b[43m)\u001b[49m\n",
      "File \u001b[0;32m~/anaconda3/envs/ML/lib/python3.10/site-packages/sklearn/metrics/_base.py:77\u001b[0m, in \u001b[0;36m_average_binary_score\u001b[0;34m(binary_metric, y_true, y_score, average, sample_weight)\u001b[0m\n\u001b[1;32m     74\u001b[0m \u001b[38;5;28;01mif\u001b[39;00m y_type \u001b[38;5;241m==\u001b[39m \u001b[38;5;124m\"\u001b[39m\u001b[38;5;124mbinary\u001b[39m\u001b[38;5;124m\"\u001b[39m:\n\u001b[1;32m     75\u001b[0m     \u001b[38;5;28;01mreturn\u001b[39;00m binary_metric(y_true, y_score, sample_weight\u001b[38;5;241m=\u001b[39msample_weight)\n\u001b[0;32m---> 77\u001b[0m \u001b[43mcheck_consistent_length\u001b[49m\u001b[43m(\u001b[49m\u001b[43my_true\u001b[49m\u001b[43m,\u001b[49m\u001b[43m \u001b[49m\u001b[43my_score\u001b[49m\u001b[43m,\u001b[49m\u001b[43m \u001b[49m\u001b[43msample_weight\u001b[49m\u001b[43m)\u001b[49m\n\u001b[1;32m     78\u001b[0m y_true \u001b[38;5;241m=\u001b[39m check_array(y_true)\n\u001b[1;32m     79\u001b[0m y_score \u001b[38;5;241m=\u001b[39m check_array(y_score)\n",
      "File \u001b[0;32m~/anaconda3/envs/ML/lib/python3.10/site-packages/sklearn/utils/validation.py:387\u001b[0m, in \u001b[0;36mcheck_consistent_length\u001b[0;34m(*arrays)\u001b[0m\n\u001b[1;32m    385\u001b[0m uniques \u001b[38;5;241m=\u001b[39m np\u001b[38;5;241m.\u001b[39munique(lengths)\n\u001b[1;32m    386\u001b[0m \u001b[38;5;28;01mif\u001b[39;00m \u001b[38;5;28mlen\u001b[39m(uniques) \u001b[38;5;241m>\u001b[39m \u001b[38;5;241m1\u001b[39m:\n\u001b[0;32m--> 387\u001b[0m     \u001b[38;5;28;01mraise\u001b[39;00m \u001b[38;5;167;01mValueError\u001b[39;00m(\n\u001b[1;32m    388\u001b[0m         \u001b[38;5;124m\"\u001b[39m\u001b[38;5;124mFound input variables with inconsistent numbers of samples: \u001b[39m\u001b[38;5;132;01m%r\u001b[39;00m\u001b[38;5;124m\"\u001b[39m\n\u001b[1;32m    389\u001b[0m         \u001b[38;5;241m%\u001b[39m [\u001b[38;5;28mint\u001b[39m(l) \u001b[38;5;28;01mfor\u001b[39;00m l \u001b[38;5;129;01min\u001b[39;00m lengths]\n\u001b[1;32m    390\u001b[0m     )\n",
      "\u001b[0;31mValueError\u001b[0m: Found input variables with inconsistent numbers of samples: [40848, 2]"
     ]
    }
   ],
   "source": [
    "metrics.roc_auc_score(Yvalidation, y_true, average='micro')\n"
   ]
  },
  {
   "cell_type": "code",
   "execution_count": 258,
   "id": "b6bccbb7",
   "metadata": {
    "collapsed": false
   },
   "outputs": [
    {
     "ename": "ValueError",
     "evalue": "Must pass 2-d input. shape=(24, 40848, 2)",
     "output_type": "error",
     "traceback": [
      "\u001b[0;31m---------------------------------------------------------------------------\u001b[0m",
      "\u001b[0;31mValueError\u001b[0m                                Traceback (most recent call last)",
      "Cell \u001b[0;32mIn [258], line 1\u001b[0m\n\u001b[0;32m----> 1\u001b[0m \u001b[43mpd\u001b[49m\u001b[38;5;241;43m.\u001b[39;49m\u001b[43mDataFrame\u001b[49m\u001b[43m(\u001b[49m\u001b[43my_pred\u001b[49m\u001b[43m)\u001b[49m\n",
      "File \u001b[0;32m~/anaconda3/envs/ML/lib/python3.10/site-packages/pandas/core/frame.py:760\u001b[0m, in \u001b[0;36mDataFrame.__init__\u001b[0;34m(self, data, index, columns, dtype, copy)\u001b[0m\n\u001b[1;32m    752\u001b[0m         mgr \u001b[38;5;241m=\u001b[39m arrays_to_mgr(\n\u001b[1;32m    753\u001b[0m             arrays,\n\u001b[1;32m    754\u001b[0m             columns,\n\u001b[0;32m   (...)\u001b[0m\n\u001b[1;32m    757\u001b[0m             typ\u001b[38;5;241m=\u001b[39mmanager,\n\u001b[1;32m    758\u001b[0m         )\n\u001b[1;32m    759\u001b[0m     \u001b[38;5;28;01melse\u001b[39;00m:\n\u001b[0;32m--> 760\u001b[0m         mgr \u001b[38;5;241m=\u001b[39m \u001b[43mndarray_to_mgr\u001b[49m\u001b[43m(\u001b[49m\n\u001b[1;32m    761\u001b[0m \u001b[43m            \u001b[49m\u001b[43mdata\u001b[49m\u001b[43m,\u001b[49m\n\u001b[1;32m    762\u001b[0m \u001b[43m            \u001b[49m\u001b[43mindex\u001b[49m\u001b[43m,\u001b[49m\n\u001b[1;32m    763\u001b[0m \u001b[43m            \u001b[49m\u001b[43mcolumns\u001b[49m\u001b[43m,\u001b[49m\n\u001b[1;32m    764\u001b[0m \u001b[43m            \u001b[49m\u001b[43mdtype\u001b[49m\u001b[38;5;241;43m=\u001b[39;49m\u001b[43mdtype\u001b[49m\u001b[43m,\u001b[49m\n\u001b[1;32m    765\u001b[0m \u001b[43m            \u001b[49m\u001b[43mcopy\u001b[49m\u001b[38;5;241;43m=\u001b[39;49m\u001b[43mcopy\u001b[49m\u001b[43m,\u001b[49m\n\u001b[1;32m    766\u001b[0m \u001b[43m            \u001b[49m\u001b[43mtyp\u001b[49m\u001b[38;5;241;43m=\u001b[39;49m\u001b[43mmanager\u001b[49m\u001b[43m,\u001b[49m\n\u001b[1;32m    767\u001b[0m \u001b[43m        \u001b[49m\u001b[43m)\u001b[49m\n\u001b[1;32m    768\u001b[0m \u001b[38;5;28;01melse\u001b[39;00m:\n\u001b[1;32m    769\u001b[0m     mgr \u001b[38;5;241m=\u001b[39m dict_to_mgr(\n\u001b[1;32m    770\u001b[0m         {},\n\u001b[1;32m    771\u001b[0m         index,\n\u001b[0;32m   (...)\u001b[0m\n\u001b[1;32m    774\u001b[0m         typ\u001b[38;5;241m=\u001b[39mmanager,\n\u001b[1;32m    775\u001b[0m     )\n",
      "File \u001b[0;32m~/anaconda3/envs/ML/lib/python3.10/site-packages/pandas/core/internals/construction.py:329\u001b[0m, in \u001b[0;36mndarray_to_mgr\u001b[0;34m(values, index, columns, dtype, copy, typ)\u001b[0m\n\u001b[1;32m    324\u001b[0m         values \u001b[38;5;241m=\u001b[39m values\u001b[38;5;241m.\u001b[39mreshape(\u001b[38;5;241m-\u001b[39m\u001b[38;5;241m1\u001b[39m, \u001b[38;5;241m1\u001b[39m)\n\u001b[1;32m    326\u001b[0m \u001b[38;5;28;01melse\u001b[39;00m:\n\u001b[1;32m    327\u001b[0m     \u001b[38;5;66;03m# by definition an array here\u001b[39;00m\n\u001b[1;32m    328\u001b[0m     \u001b[38;5;66;03m# the dtypes will be coerced to a single dtype\u001b[39;00m\n\u001b[0;32m--> 329\u001b[0m     values \u001b[38;5;241m=\u001b[39m \u001b[43m_prep_ndarraylike\u001b[49m\u001b[43m(\u001b[49m\u001b[43mvalues\u001b[49m\u001b[43m,\u001b[49m\u001b[43m \u001b[49m\u001b[43mcopy\u001b[49m\u001b[38;5;241;43m=\u001b[39;49m\u001b[43mcopy_on_sanitize\u001b[49m\u001b[43m)\u001b[49m\n\u001b[1;32m    331\u001b[0m \u001b[38;5;28;01mif\u001b[39;00m dtype \u001b[38;5;129;01mis\u001b[39;00m \u001b[38;5;129;01mnot\u001b[39;00m \u001b[38;5;28;01mNone\u001b[39;00m \u001b[38;5;129;01mand\u001b[39;00m \u001b[38;5;129;01mnot\u001b[39;00m is_dtype_equal(values\u001b[38;5;241m.\u001b[39mdtype, dtype):\n\u001b[1;32m    332\u001b[0m     \u001b[38;5;66;03m# GH#40110 see similar check inside sanitize_array\u001b[39;00m\n\u001b[1;32m    333\u001b[0m     rcf \u001b[38;5;241m=\u001b[39m \u001b[38;5;129;01mnot\u001b[39;00m (is_integer_dtype(dtype) \u001b[38;5;129;01mand\u001b[39;00m values\u001b[38;5;241m.\u001b[39mdtype\u001b[38;5;241m.\u001b[39mkind \u001b[38;5;241m==\u001b[39m \u001b[38;5;124m\"\u001b[39m\u001b[38;5;124mf\u001b[39m\u001b[38;5;124m\"\u001b[39m)\n",
      "File \u001b[0;32m~/anaconda3/envs/ML/lib/python3.10/site-packages/pandas/core/internals/construction.py:583\u001b[0m, in \u001b[0;36m_prep_ndarraylike\u001b[0;34m(values, copy)\u001b[0m\n\u001b[1;32m    581\u001b[0m     values \u001b[38;5;241m=\u001b[39m values\u001b[38;5;241m.\u001b[39mreshape((values\u001b[38;5;241m.\u001b[39mshape[\u001b[38;5;241m0\u001b[39m], \u001b[38;5;241m1\u001b[39m))\n\u001b[1;32m    582\u001b[0m \u001b[38;5;28;01melif\u001b[39;00m values\u001b[38;5;241m.\u001b[39mndim \u001b[38;5;241m!=\u001b[39m \u001b[38;5;241m2\u001b[39m:\n\u001b[0;32m--> 583\u001b[0m     \u001b[38;5;28;01mraise\u001b[39;00m \u001b[38;5;167;01mValueError\u001b[39;00m(\u001b[38;5;124mf\u001b[39m\u001b[38;5;124m\"\u001b[39m\u001b[38;5;124mMust pass 2-d input. shape=\u001b[39m\u001b[38;5;132;01m{\u001b[39;00mvalues\u001b[38;5;241m.\u001b[39mshape\u001b[38;5;132;01m}\u001b[39;00m\u001b[38;5;124m\"\u001b[39m)\n\u001b[1;32m    585\u001b[0m \u001b[38;5;28;01mreturn\u001b[39;00m values\n",
      "\u001b[0;31mValueError\u001b[0m: Must pass 2-d input. shape=(24, 40848, 2)"
     ]
    }
   ],
   "source": [
    "pd.DataFrame(y_pred)"
   ]
  },
  {
   "cell_type": "code",
   "execution_count": 275,
   "id": "5bded190",
   "metadata": {
    "collapsed": false
   },
   "outputs": [
    {
     "ename": "ValueError",
     "evalue": "Only one class present in y_true. ROC AUC score is not defined in that case.",
     "output_type": "error",
     "traceback": [
      "\u001b[0;31m---------------------------------------------------------------------------\u001b[0m",
      "\u001b[0;31mValueError\u001b[0m                                Traceback (most recent call last)",
      "Cell \u001b[0;32mIn [275], line 3\u001b[0m\n\u001b[1;32m      1\u001b[0m y_true \u001b[38;5;241m=\u001b[39m np\u001b[38;5;241m.\u001b[39marray([[\u001b[38;5;241m0\u001b[39m, \u001b[38;5;241m1\u001b[39m, \u001b[38;5;241m1\u001b[39m, \u001b[38;5;241m0\u001b[39m],[\u001b[38;5;241m0\u001b[39m, \u001b[38;5;241m1\u001b[39m, \u001b[38;5;241m1\u001b[39m, \u001b[38;5;241m0\u001b[39m]])\n\u001b[1;32m      2\u001b[0m y_scores \u001b[38;5;241m=\u001b[39m np\u001b[38;5;241m.\u001b[39marray([[\u001b[38;5;241m9\u001b[39m, \u001b[38;5;241m0\u001b[39m, \u001b[38;5;241m1\u001b[39m, \u001b[38;5;241m0\u001b[39m],[\u001b[38;5;241m0\u001b[39m, \u001b[38;5;241m1\u001b[39m, \u001b[38;5;241m1\u001b[39m, \u001b[38;5;241m0\u001b[39m]])\n\u001b[0;32m----> 3\u001b[0m \u001b[43mroc_auc_score\u001b[49m\u001b[43m(\u001b[49m\u001b[43my_true\u001b[49m\u001b[43m,\u001b[49m\u001b[43m \u001b[49m\u001b[43my_scores\u001b[49m\u001b[43m)\u001b[49m\n",
      "File \u001b[0;32m~/anaconda3/envs/ML/lib/python3.10/site-packages/sklearn/metrics/_ranking.py:579\u001b[0m, in \u001b[0;36mroc_auc_score\u001b[0;34m(y_true, y_score, average, sample_weight, max_fpr, multi_class, labels)\u001b[0m\n\u001b[1;32m    571\u001b[0m     \u001b[38;5;28;01mreturn\u001b[39;00m _average_binary_score(\n\u001b[1;32m    572\u001b[0m         partial(_binary_roc_auc_score, max_fpr\u001b[38;5;241m=\u001b[39mmax_fpr),\n\u001b[1;32m    573\u001b[0m         y_true,\n\u001b[0;32m   (...)\u001b[0m\n\u001b[1;32m    576\u001b[0m         sample_weight\u001b[38;5;241m=\u001b[39msample_weight,\n\u001b[1;32m    577\u001b[0m     )\n\u001b[1;32m    578\u001b[0m \u001b[38;5;28;01melse\u001b[39;00m:  \u001b[38;5;66;03m# multilabel-indicator\u001b[39;00m\n\u001b[0;32m--> 579\u001b[0m     \u001b[38;5;28;01mreturn\u001b[39;00m \u001b[43m_average_binary_score\u001b[49m\u001b[43m(\u001b[49m\n\u001b[1;32m    580\u001b[0m \u001b[43m        \u001b[49m\u001b[43mpartial\u001b[49m\u001b[43m(\u001b[49m\u001b[43m_binary_roc_auc_score\u001b[49m\u001b[43m,\u001b[49m\u001b[43m \u001b[49m\u001b[43mmax_fpr\u001b[49m\u001b[38;5;241;43m=\u001b[39;49m\u001b[43mmax_fpr\u001b[49m\u001b[43m)\u001b[49m\u001b[43m,\u001b[49m\n\u001b[1;32m    581\u001b[0m \u001b[43m        \u001b[49m\u001b[43my_true\u001b[49m\u001b[43m,\u001b[49m\n\u001b[1;32m    582\u001b[0m \u001b[43m        \u001b[49m\u001b[43my_score\u001b[49m\u001b[43m,\u001b[49m\n\u001b[1;32m    583\u001b[0m \u001b[43m        \u001b[49m\u001b[43maverage\u001b[49m\u001b[43m,\u001b[49m\n\u001b[1;32m    584\u001b[0m \u001b[43m        \u001b[49m\u001b[43msample_weight\u001b[49m\u001b[38;5;241;43m=\u001b[39;49m\u001b[43msample_weight\u001b[49m\u001b[43m,\u001b[49m\n\u001b[1;32m    585\u001b[0m \u001b[43m    \u001b[49m\u001b[43m)\u001b[49m\n",
      "File \u001b[0;32m~/anaconda3/envs/ML/lib/python3.10/site-packages/sklearn/metrics/_base.py:118\u001b[0m, in \u001b[0;36m_average_binary_score\u001b[0;34m(binary_metric, y_true, y_score, average, sample_weight)\u001b[0m\n\u001b[1;32m    116\u001b[0m     y_true_c \u001b[38;5;241m=\u001b[39m y_true\u001b[38;5;241m.\u001b[39mtake([c], axis\u001b[38;5;241m=\u001b[39mnot_average_axis)\u001b[38;5;241m.\u001b[39mravel()\n\u001b[1;32m    117\u001b[0m     y_score_c \u001b[38;5;241m=\u001b[39m y_score\u001b[38;5;241m.\u001b[39mtake([c], axis\u001b[38;5;241m=\u001b[39mnot_average_axis)\u001b[38;5;241m.\u001b[39mravel()\n\u001b[0;32m--> 118\u001b[0m     score[c] \u001b[38;5;241m=\u001b[39m \u001b[43mbinary_metric\u001b[49m\u001b[43m(\u001b[49m\u001b[43my_true_c\u001b[49m\u001b[43m,\u001b[49m\u001b[43m \u001b[49m\u001b[43my_score_c\u001b[49m\u001b[43m,\u001b[49m\u001b[43m \u001b[49m\u001b[43msample_weight\u001b[49m\u001b[38;5;241;43m=\u001b[39;49m\u001b[43mscore_weight\u001b[49m\u001b[43m)\u001b[49m\n\u001b[1;32m    120\u001b[0m \u001b[38;5;66;03m# Average the results\u001b[39;00m\n\u001b[1;32m    121\u001b[0m \u001b[38;5;28;01mif\u001b[39;00m average \u001b[38;5;129;01mis\u001b[39;00m \u001b[38;5;129;01mnot\u001b[39;00m \u001b[38;5;28;01mNone\u001b[39;00m:\n",
      "File \u001b[0;32m~/anaconda3/envs/ML/lib/python3.10/site-packages/sklearn/metrics/_ranking.py:339\u001b[0m, in \u001b[0;36m_binary_roc_auc_score\u001b[0;34m(y_true, y_score, sample_weight, max_fpr)\u001b[0m\n\u001b[1;32m    337\u001b[0m \u001b[38;5;124;03m\"\"\"Binary roc auc score.\"\"\"\u001b[39;00m\n\u001b[1;32m    338\u001b[0m \u001b[38;5;28;01mif\u001b[39;00m \u001b[38;5;28mlen\u001b[39m(np\u001b[38;5;241m.\u001b[39munique(y_true)) \u001b[38;5;241m!=\u001b[39m \u001b[38;5;241m2\u001b[39m:\n\u001b[0;32m--> 339\u001b[0m     \u001b[38;5;28;01mraise\u001b[39;00m \u001b[38;5;167;01mValueError\u001b[39;00m(\n\u001b[1;32m    340\u001b[0m         \u001b[38;5;124m\"\u001b[39m\u001b[38;5;124mOnly one class present in y_true. ROC AUC score \u001b[39m\u001b[38;5;124m\"\u001b[39m\n\u001b[1;32m    341\u001b[0m         \u001b[38;5;124m\"\u001b[39m\u001b[38;5;124mis not defined in that case.\u001b[39m\u001b[38;5;124m\"\u001b[39m\n\u001b[1;32m    342\u001b[0m     )\n\u001b[1;32m    344\u001b[0m fpr, tpr, _ \u001b[38;5;241m=\u001b[39m roc_curve(y_true, y_score, sample_weight\u001b[38;5;241m=\u001b[39msample_weight)\n\u001b[1;32m    345\u001b[0m \u001b[38;5;28;01mif\u001b[39;00m max_fpr \u001b[38;5;129;01mis\u001b[39;00m \u001b[38;5;28;01mNone\u001b[39;00m \u001b[38;5;129;01mor\u001b[39;00m max_fpr \u001b[38;5;241m==\u001b[39m \u001b[38;5;241m1\u001b[39m:\n",
      "\u001b[0;31mValueError\u001b[0m: Only one class present in y_true. ROC AUC score is not defined in that case."
     ]
    }
   ],
   "source": [
    "y_true = np.array([[0, 1, 1, 0], [0, 1, 1, 0]])\n",
    "y_scores = np.array([[9, 0, 1, 0], [0, 1, 1, 0]])\n",
    "roc_auc_score(y_true, y_scores)"
   ]
  },
  {
   "cell_type": "code",
   "execution_count": 299,
   "id": "6e251e5d",
   "metadata": {
    "collapsed": false
   },
   "outputs": [
    {
     "data": {
      "text/plain": [
       "(5, 3)"
      ]
     },
     "execution_count": 299,
     "metadata": {},
     "output_type": "execute_result"
    },
    {
     "data": {
      "text/plain": [
       "(5, 3)"
      ]
     },
     "execution_count": 299,
     "metadata": {},
     "output_type": "execute_result"
    },
    {
     "data": {
      "text/plain": [
       "array([[[5, 0],\n",
       "        [0, 0]],\n",
       "\n",
       "       [[1, 0],\n",
       "        [4, 0]],\n",
       "\n",
       "       [[5, 0],\n",
       "        [0, 0]]])"
      ]
     },
     "execution_count": 299,
     "metadata": {},
     "output_type": "execute_result"
    }
   ],
   "source": [
    "t = np.array(\n",
    "    [\n",
    "        [0, 1, 0],\n",
    "        [0, 1, 0],\n",
    "        [0, 1, 0],\n",
    "        [0, 1, 0],\n",
    "        [0, 0, 0]\n",
    "    ]\n",
    ")\n",
    "p = np.array(\n",
    "    [\n",
    "        [0, 0, 0],\n",
    "        [0, 0, 0],\n",
    "        [0, 0, 0],\n",
    "        [0, 0, 0],\n",
    "        [0, 0, 0]\n",
    "    ]\n",
    ")\n",
    "t.shape\n",
    "p.shape\n",
    "metrics.multilabel_confusion_matrix(t, p)"
   ]
  },
  {
   "cell_type": "code",
   "execution_count": 293,
   "id": "84912fd8",
   "metadata": {
    "collapsed": false
   },
   "outputs": [
    {
     "data": {
      "text/plain": [
       "(2, 3)"
      ]
     },
     "execution_count": 293,
     "metadata": {},
     "output_type": "execute_result"
    },
    {
     "data": {
      "text/plain": [
       "(2, 3)"
      ]
     },
     "execution_count": 293,
     "metadata": {},
     "output_type": "execute_result"
    }
   ],
   "source": [
    "t.shape\n",
    "p.shape"
   ]
  },
  {
   "cell_type": "code",
   "execution_count": null,
   "id": "e9d5c4dd",
   "metadata": {
    "collapsed": false
   },
   "outputs": [],
   "source": []
  }
 ],
 "metadata": {
  "kernelspec": {
   "display_name": "Python 3 (ipykernel)",
   "language": "python",
   "name": "python3"
  },
  "language_info": {
   "codemirror_mode": {
    "name": "ipython",
    "version": 3
   },
   "file_extension": ".py",
   "mimetype": "text/x-python",
   "name": "python",
   "nbconvert_exporter": "python",
   "pygments_lexer": "ipython3",
   "version": "3.10.8"
  },
  "widgets": {
   "application/vnd.jupyter.widget-state+json": {
    "state": {},
    "version_major": 2,
    "version_minor": 0
   }
  }
 },
 "nbformat": 4,
 "nbformat_minor": 5
}
