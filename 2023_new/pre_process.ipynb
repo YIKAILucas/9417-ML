{
 "cells": [
  {
   "cell_type": "code",
   "execution_count": 1,
   "id": "9bfc8afc-46f6-46fc-9dac-cd500bee20f5",
   "metadata": {},
   "outputs": [],
   "source": [
    "import pandas as pd\n",
    "import matplotlib.pyplot as plt\n",
    "import seaborn as sns\n",
    "import numpy as np\n",
    "from sklearn.pipeline import Pipeline\n",
    "import sklearn.preprocessing as preprocessing\n",
    "from IPython.core.interactiveshell import InteractiveShell\n",
    "\n",
    "InteractiveShell.ast_node_interactivity = 'all'\n",
    "\n",
    "to_show = True\n",
    "to_save = False\n",
    "is_sample = False\n",
    "limit_rows = 1000"
   ]
  },
  {
   "cell_type": "code",
   "execution_count": 2,
   "id": "5f80f075",
   "metadata": {
    "collapsed": false,
    "jupyter": {
     "outputs_hidden": false
    }
   },
   "outputs": [],
   "source": [
    "# This data cleaning part gets ideas from https://www.kaggle.com/apryor6/detailed-cleaning-visualization-python\n",
    "# HAN YIKAI takes charge of feature 1-9\n",
    "# official file\n",
    "train_file = '../input/train_ver2.csv'\n",
    "test_file = '../input/test_ver2.csv'\n",
    "\n",
    "out_path = '../output/'\n",
    "\n",
    "\n",
    "def save_df2file(data_frame: pd.DataFrame, name: str):\n",
    "    data_frame.to_csv(f'{out_path}{name}.csv')\n",
    "\n",
    "# sns.set(rc = {'figure.figsize':(20,18)})\n"
   ]
  },
  {
   "cell_type": "code",
   "execution_count": 3,
   "id": "8ff50493",
   "metadata": {
    "collapsed": false,
    "jupyter": {
     "outputs_hidden": false
    }
   },
   "outputs": [],
   "source": [
    "# test_df = pd.read_csv(test_file,\n",
    "#                       dtype={'sexo': str,\n",
    "#                              'ind_nuevo': str,\n",
    "#                              'ult_fec_cli_1t': str,\n",
    "#                              'indext': str},\n",
    "#                       # nrows=limit_rows,\n",
    "#                       low_memory=False\n",
    "#                       )"
   ]
  },
  {
   "cell_type": "code",
   "execution_count": 4,
   "id": "e8b56e18",
   "metadata": {
    "collapsed": false,
    "jupyter": {
     "outputs_hidden": false
    }
   },
   "outputs": [
    {
     "name": "stdout",
     "output_type": "stream",
     "text": [
      "<class 'pandas.core.frame.DataFrame'>\n",
      "RangeIndex: 13647309 entries, 0 to 13647308\n",
      "Data columns (total 48 columns):\n",
      " #   Column                 Dtype  \n",
      "---  ------                 -----  \n",
      " 0   fecha_dato             object \n",
      " 1   ncodpers               int64  \n",
      " 2   ind_empleado           object \n",
      " 3   pais_residencia        object \n",
      " 4   sexo                   object \n",
      " 5   age                    object \n",
      " 6   fecha_alta             object \n",
      " 7   ind_nuevo              object \n",
      " 8   antiguedad             object \n",
      " 9   indrel                 float64\n",
      " 10  ult_fec_cli_1t         object \n",
      " 11  indrel_1mes            object \n",
      " 12  tiprel_1mes            object \n",
      " 13  indresi                object \n",
      " 14  indext                 object \n",
      " 15  conyuemp               object \n",
      " 16  canal_entrada          object \n",
      " 17  indfall                object \n",
      " 18  tipodom                float64\n",
      " 19  cod_prov               float64\n",
      " 20  nomprov                object \n",
      " 21  ind_actividad_cliente  float64\n",
      " 22  renta                  float64\n",
      " 23  segmento               object \n",
      " 24  ind_ahor_fin_ult1      int64  \n",
      " 25  ind_aval_fin_ult1      int64  \n",
      " 26  ind_cco_fin_ult1       int64  \n",
      " 27  ind_cder_fin_ult1      int64  \n",
      " 28  ind_cno_fin_ult1       int64  \n",
      " 29  ind_ctju_fin_ult1      int64  \n",
      " 30  ind_ctma_fin_ult1      int64  \n",
      " 31  ind_ctop_fin_ult1      int64  \n",
      " 32  ind_ctpp_fin_ult1      int64  \n",
      " 33  ind_deco_fin_ult1      int64  \n",
      " 34  ind_deme_fin_ult1      int64  \n",
      " 35  ind_dela_fin_ult1      int64  \n",
      " 36  ind_ecue_fin_ult1      int64  \n",
      " 37  ind_fond_fin_ult1      int64  \n",
      " 38  ind_hip_fin_ult1       int64  \n",
      " 39  ind_plan_fin_ult1      int64  \n",
      " 40  ind_pres_fin_ult1      int64  \n",
      " 41  ind_reca_fin_ult1      int64  \n",
      " 42  ind_tjcr_fin_ult1      int64  \n",
      " 43  ind_valo_fin_ult1      int64  \n",
      " 44  ind_viv_fin_ult1       int64  \n",
      " 45  ind_nomina_ult1        float64\n",
      " 46  ind_nom_pens_ult1      float64\n",
      " 47  ind_recibo_ult1        int64  \n",
      "dtypes: float64(7), int64(23), object(18)\n",
      "memory usage: 4.9+ GB\n"
     ]
    }
   ],
   "source": [
    "df = pd.read_csv(train_file,\n",
    "                 dtype={'sexo': str,\n",
    "                        'ind_nuevo': str,\n",
    "                        'ult_fec_cli_1t': str,\n",
    "                        'indext': str},\n",
    "                 # nrows=limit_rows,\n",
    "                 low_memory=False\n",
    "                 )\n",
    "\n",
    "# resample the data for saving memory and shuffle the dataset\n",
    "if is_sample:\n",
    "    df = df.sample(frac=0.5)\n",
    "df.info()"
   ]
  },
  {
   "cell_type": "code",
   "execution_count": 5,
   "id": "2b7cbd41",
   "metadata": {
    "collapsed": false
   },
   "outputs": [],
   "source": [
    "# 复用函数\n",
    "\n",
    "# 统计缺失值的列\n",
    "def cal_loss(data):\n",
    "    fil = data.iloc[:, :24].isnull().any()\n",
    "    loss_column = fil[fil == True].index\n",
    "    res = data.loc[:, loss_column].isnull().sum()\n",
    "    print(res)\n",
    "\n",
    "#\n",
    "# def renew_df(base_df: pd.DataFrame):\n",
    "#     new_df = base_df\n",
    "#     base_df = df.copy(deep=True)\n",
    "#     return new_df"
   ]
  },
  {
   "cell_type": "code",
   "execution_count": 6,
   "id": "32ce7750",
   "metadata": {
    "collapsed": false
   },
   "outputs": [],
   "source": [
    "# 调整label的格式节省空间, 能节约2.1G 空间, 将近一半\n",
    "df.iloc[:, 24:] = df.iloc[:, 24:].astype(bool)"
   ]
  },
  {
   "cell_type": "code",
   "execution_count": 7,
   "id": "a21c41a6",
   "metadata": {
    "collapsed": false,
    "jupyter": {
     "outputs_hidden": false
    }
   },
   "outputs": [
    {
     "name": "stdout",
     "output_type": "stream",
     "text": [
      "<class 'pandas.core.frame.DataFrame'>\n",
      "RangeIndex: 13647309 entries, 0 to 13647308\n",
      "Data columns (total 48 columns):\n",
      " #   Column                 Dtype  \n",
      "---  ------                 -----  \n",
      " 0   fecha_dato             object \n",
      " 1   ncodpers               int64  \n",
      " 2   ind_empleado           object \n",
      " 3   pais_residencia        object \n",
      " 4   sexo                   object \n",
      " 5   age                    object \n",
      " 6   fecha_alta             object \n",
      " 7   ind_nuevo              object \n",
      " 8   antiguedad             object \n",
      " 9   indrel                 float64\n",
      " 10  ult_fec_cli_1t         object \n",
      " 11  indrel_1mes            object \n",
      " 12  tiprel_1mes            object \n",
      " 13  indresi                object \n",
      " 14  indext                 object \n",
      " 15  conyuemp               object \n",
      " 16  canal_entrada          object \n",
      " 17  indfall                object \n",
      " 18  tipodom                float64\n",
      " 19  cod_prov               float64\n",
      " 20  nomprov                object \n",
      " 21  ind_actividad_cliente  float64\n",
      " 22  renta                  float64\n",
      " 23  segmento               object \n",
      " 24  ind_ahor_fin_ult1      bool   \n",
      " 25  ind_aval_fin_ult1      bool   \n",
      " 26  ind_cco_fin_ult1       bool   \n",
      " 27  ind_cder_fin_ult1      bool   \n",
      " 28  ind_cno_fin_ult1       bool   \n",
      " 29  ind_ctju_fin_ult1      bool   \n",
      " 30  ind_ctma_fin_ult1      bool   \n",
      " 31  ind_ctop_fin_ult1      bool   \n",
      " 32  ind_ctpp_fin_ult1      bool   \n",
      " 33  ind_deco_fin_ult1      bool   \n",
      " 34  ind_deme_fin_ult1      bool   \n",
      " 35  ind_dela_fin_ult1      bool   \n",
      " 36  ind_ecue_fin_ult1      bool   \n",
      " 37  ind_fond_fin_ult1      bool   \n",
      " 38  ind_hip_fin_ult1       bool   \n",
      " 39  ind_plan_fin_ult1      bool   \n",
      " 40  ind_pres_fin_ult1      bool   \n",
      " 41  ind_reca_fin_ult1      bool   \n",
      " 42  ind_tjcr_fin_ult1      bool   \n",
      " 43  ind_valo_fin_ult1      bool   \n",
      " 44  ind_viv_fin_ult1       bool   \n",
      " 45  ind_nomina_ult1        bool   \n",
      " 46  ind_nom_pens_ult1      bool   \n",
      " 47  ind_recibo_ult1        bool   \n",
      "dtypes: bool(24), float64(5), int64(1), object(18)\n",
      "memory usage: 2.7+ GB\n"
     ]
    }
   ],
   "source": [
    "df.info()"
   ]
  },
  {
   "cell_type": "code",
   "execution_count": 8,
   "id": "c4451f94",
   "metadata": {
    "collapsed": false,
    "jupyter": {
     "outputs_hidden": false
    }
   },
   "outputs": [],
   "source": [
    "# fecha_dato 日期\n",
    "# ncodpers 客户代码\n",
    "# ind_empleado 员工\n",
    "# pais_residencia 国藉\n",
    "# sexo 性别,\n",
    "# age 年龄\n",
    "# fecha_alta 注册日期,\n",
    "# ind_nuevo 新的,\n",
    "# antiguedad 古代,\n",
    "# indrel 最后访问日期, 一个月indrel\n",
    "# ult_fec_cli_1t  作为主要客户的日期\n",
    "# indrel_1mes  1 (First/Primary customer), 2 (co-owner ),P (Potential),3 (former primary), 4(former co-owner)\n",
    "# tiprel_1mes  月初客户关系类型 A (active), I (inactive), P (former customer 前客户),R (Potential 潜在客户)\n",
    "# indresi 居住指数S (Yes) 银行和居住国相同 N (No) 不同国家\n",
    "# indext  外国人指数, S 本国出生, N 非本国\n",
    "# conyuemp 配偶指数, S 客户是员工配偶\n",
    "# canal_entrada\n",
    "# indfall\n",
    "# tipodom\n",
    "# cod_prov 省份编码\n",
    "# nomprov 省份名称\n",
    "# ind_actividad_cliente\n",
    "# renta 家庭总收入\n",
    "# segmento segmentation: 01 - VIP, 02 - Individuals 03 - college graduated"
   ]
  },
  {
   "cell_type": "code",
   "execution_count": 9,
   "id": "e551abec",
   "metadata": {
    "collapsed": false
   },
   "outputs": [],
   "source": [
    "# cal_loss(df)"
   ]
  },
  {
   "cell_type": "code",
   "execution_count": 10,
   "id": "0c57ccbf",
   "metadata": {
    "collapsed": false,
    "jupyter": {
     "outputs_hidden": false
    }
   },
   "outputs": [],
   "source": [
    "# 删除27734条空行, 所有全空\n",
    "df.drop(df[df['ind_empleado'].isnull()].index, inplace=True)\n",
    "# 删除全other的空行, 所有全空\n",
    "df.drop(df[df['pais_residencia'] == 'others'].index, inplace=True)"
   ]
  },
  {
   "cell_type": "code",
   "execution_count": 11,
   "id": "ab2a825b",
   "metadata": {
    "collapsed": false
   },
   "outputs": [],
   "source": [
    "# 缺失值很少的删除行\n",
    "df.drop(df[df['sexo'].isnull()].index, inplace=True)\n",
    "df.drop(df[df['tipodom'].isnull()].index, inplace=True)"
   ]
  },
  {
   "cell_type": "code",
   "execution_count": 12,
   "id": "b4a95ae6",
   "metadata": {
    "collapsed": false
   },
   "outputs": [],
   "source": [
    "# 缺失值很多的删除列\n",
    "df.drop('ult_fec_cli_1t', axis=1, inplace=True)\n",
    "df.drop('conyuemp', axis=1, inplace=True)"
   ]
  },
  {
   "cell_type": "code",
   "execution_count": 13,
   "id": "be016cdc",
   "metadata": {
    "collapsed": false
   },
   "outputs": [],
   "source": [
    "# 省份名称直接删除, 省份编码缺失值用-1填充\n",
    "df.drop('nomprov', axis=1, inplace=True)\n",
    "df.cod_prov.fillna(-1, inplace=True)"
   ]
  },
  {
   "cell_type": "code",
   "execution_count": 14,
   "id": "2b5fae57",
   "metadata": {
    "collapsed": false
   },
   "outputs": [],
   "source": [
    "# df[df['indrel_1mes'].isna()].iloc[:, :df.shape[1] - 24]"
   ]
  },
  {
   "cell_type": "code",
   "execution_count": 15,
   "id": "6737bdd7",
   "metadata": {
    "collapsed": false
   },
   "outputs": [
    {
     "data": {
      "text/plain": [
       "KHE    4055270\n",
       "KAT    3268209\n",
       "KFC    3098360\n",
       "KHQ     591039\n",
       "KFA     409669\n",
       "        ...   \n",
       "KGN         17\n",
       "KDL         11\n",
       "025         11\n",
       "KHS          5\n",
       "KHR          1\n",
       "Name: canal_entrada, Length: 162, dtype: int64"
      ]
     },
     "execution_count": 15,
     "metadata": {},
     "output_type": "execute_result"
    }
   ],
   "source": [
    "# canal_entrada 用户加入渠道非常多162种 而且比较平衡, 还是用unknown填充, 考虑KNN填充\n",
    "df.canal_entrada.value_counts()\n",
    "df.canal_entrada.fillna('unknown', inplace=True)"
   ]
  },
  {
   "cell_type": "code",
   "execution_count": 16,
   "id": "77b9cb6a",
   "metadata": {
    "collapsed": false
   },
   "outputs": [
    {
     "data": {
      "text/plain": [
       "0            87218.10\n",
       "1            35548.74\n",
       "2           122179.11\n",
       "3           119775.54\n",
       "4                 NaN\n",
       "              ...    \n",
       "13647304     43912.17\n",
       "13647305     23334.99\n",
       "13647306          NaN\n",
       "13647307    199592.82\n",
       "13647308          NaN\n",
       "Name: renta, Length: 13619504, dtype: float64"
      ]
     },
     "execution_count": 16,
     "metadata": {},
     "output_type": "execute_result"
    }
   ],
   "source": [
    "df.renta"
   ]
  },
  {
   "cell_type": "code",
   "execution_count": 17,
   "id": "18c1206a",
   "metadata": {
    "collapsed": false
   },
   "outputs": [],
   "source": [
    "# renta 数值型填充\n",
    "# sns.scatterplot(df.renta, df.renta.value_counts())\n",
    "# df.renta.plot.scatter(x='renta', y=df.renta.value_counts())"
   ]
  },
  {
   "cell_type": "code",
   "execution_count": 18,
   "id": "4ac4274b",
   "metadata": {
    "collapsed": false
   },
   "outputs": [],
   "source": [
    "# TODO\n",
    "df.renta.fillna(df.renta.mean(), inplace=True)"
   ]
  },
  {
   "cell_type": "code",
   "execution_count": 19,
   "id": "3b21ceda",
   "metadata": {
    "collapsed": false
   },
   "outputs": [],
   "source": [
    "df.indrel_1mes.fillna('unknown', inplace=True)\n",
    "df.tiprel_1mes.fillna('unknown', inplace=True)"
   ]
  },
  {
   "cell_type": "code",
   "execution_count": 20,
   "id": "22163543",
   "metadata": {
    "collapsed": false
   },
   "outputs": [],
   "source": [
    "# 23. segmento : 01 - VIP, 02 - 个人 03 - 大学毕业\n",
    "df.segmento.fillna('00', inplace=True)"
   ]
  },
  {
   "cell_type": "code",
   "execution_count": 21,
   "id": "5d8a37ae",
   "metadata": {
    "collapsed": false
   },
   "outputs": [
    {
     "name": "stdout",
     "output_type": "stream",
     "text": [
      "<class 'pandas.core.frame.DataFrame'>\n",
      "Int64Index: 13619504 entries, 0 to 13647308\n",
      "Data columns (total 45 columns):\n",
      " #   Column                 Dtype  \n",
      "---  ------                 -----  \n",
      " 0   fecha_dato             object \n",
      " 1   ncodpers               int64  \n",
      " 2   ind_empleado           object \n",
      " 3   pais_residencia        object \n",
      " 4   sexo                   object \n",
      " 5   age                    object \n",
      " 6   fecha_alta             object \n",
      " 7   ind_nuevo              object \n",
      " 8   antiguedad             object \n",
      " 9   indrel                 float64\n",
      " 10  indrel_1mes            object \n",
      " 11  tiprel_1mes            object \n",
      " 12  indresi                object \n",
      " 13  indext                 object \n",
      " 14  canal_entrada          object \n",
      " 15  indfall                object \n",
      " 16  tipodom                float64\n",
      " 17  cod_prov               float64\n",
      " 18  ind_actividad_cliente  float64\n",
      " 19  renta                  float64\n",
      " 20  segmento               object \n",
      " 21  ind_ahor_fin_ult1      bool   \n",
      " 22  ind_aval_fin_ult1      bool   \n",
      " 23  ind_cco_fin_ult1       bool   \n",
      " 24  ind_cder_fin_ult1      bool   \n",
      " 25  ind_cno_fin_ult1       bool   \n",
      " 26  ind_ctju_fin_ult1      bool   \n",
      " 27  ind_ctma_fin_ult1      bool   \n",
      " 28  ind_ctop_fin_ult1      bool   \n",
      " 29  ind_ctpp_fin_ult1      bool   \n",
      " 30  ind_deco_fin_ult1      bool   \n",
      " 31  ind_deme_fin_ult1      bool   \n",
      " 32  ind_dela_fin_ult1      bool   \n",
      " 33  ind_ecue_fin_ult1      bool   \n",
      " 34  ind_fond_fin_ult1      bool   \n",
      " 35  ind_hip_fin_ult1       bool   \n",
      " 36  ind_plan_fin_ult1      bool   \n",
      " 37  ind_pres_fin_ult1      bool   \n",
      " 38  ind_reca_fin_ult1      bool   \n",
      " 39  ind_tjcr_fin_ult1      bool   \n",
      " 40  ind_valo_fin_ult1      bool   \n",
      " 41  ind_viv_fin_ult1       bool   \n",
      " 42  ind_nomina_ult1        bool   \n",
      " 43  ind_nom_pens_ult1      bool   \n",
      " 44  ind_recibo_ult1        bool   \n",
      "dtypes: bool(24), float64(5), int64(1), object(15)\n",
      "memory usage: 2.5+ GB\n"
     ]
    }
   ],
   "source": [
    "df.info()"
   ]
  },
  {
   "cell_type": "code",
   "execution_count": 22,
   "id": "d9e274e7",
   "metadata": {
    "collapsed": false
   },
   "outputs": [
    {
     "name": "stdout",
     "output_type": "stream",
     "text": [
      "Series([], dtype: float64)\n"
     ]
    }
   ],
   "source": [
    "cal_loss(df)"
   ]
  },
  {
   "cell_type": "markdown",
   "id": "f531f43c",
   "metadata": {
    "collapsed": false
   },
   "source": [
    "# 编码"
   ]
  },
  {
   "cell_type": "code",
   "execution_count": 23,
   "id": "bc510239",
   "metadata": {
    "collapsed": false
   },
   "outputs": [],
   "source": [
    "# 0. fecha_dato 日期\n",
    "# df.fecha_dato.value_counts(dropna=False).plot(kind='bar')\n",
    "# 1. ncodpers 客户代码, 弃用\n",
    "# df.ncodpers.value_counts(dropna=False)"
   ]
  },
  {
   "cell_type": "code",
   "execution_count": 24,
   "id": "49798697",
   "metadata": {
    "collapsed": false
   },
   "outputs": [],
   "source": [
    "# 日期和客户代码删除\n",
    "df.drop(['fecha_dato', 'ncodpers'], axis=1, inplace=True)"
   ]
  },
  {
   "cell_type": "code",
   "execution_count": 25,
   "id": "46255b0d",
   "metadata": {
    "collapsed": false
   },
   "outputs": [],
   "source": [
    "def label_enc(data):\n",
    "    label_enc = preprocessing.LabelEncoder()  #获取一个LabelEncoder\n",
    "    label_data = label_enc.fit_transform(data)\n",
    "    return np.array(label_data).reshape(-1, 1)\n",
    "\n",
    "\n",
    "# def concat_encoder(df):\n",
    "#     data = pd.concat([data, pd.DataFrame(arrays, columns=names)],axis=1)\n",
    "#     data = data.drop(['hour'],axis=1)\n",
    "#     return df\n",
    "\n",
    "# 对单列编码\n",
    "def oh_enc(data):\n",
    "    label_data = label_enc(data)\n",
    "    # 2. 再用onehot\n",
    "    oh_enc = preprocessing.OneHotEncoder()\n",
    "    name_list = []\n",
    "    for i in range(label_data.classes_.shape[0]):\n",
    "        name = f'{data.name}_{i}'\n",
    "        name_list.append(name)\n",
    "    # 给fit_transform传递的X一定要是 2D的，即（samples，features），否则会报错`\n",
    "    onehot_data = oh_enc.fit_transform(label_data)\n",
    "    # 转成numpy array格式\n",
    "    onehot_data = onehot_data.toarray()\n",
    "    enc_df = pd.DataFrame(onehot_data, columns=name_list)\n",
    "    return enc_df"
   ]
  },
  {
   "cell_type": "code",
   "execution_count": 26,
   "id": "ba33b668",
   "metadata": {
    "collapsed": false
   },
   "outputs": [],
   "source": [
    "\n",
    "# 2. 5 ind_empleado 员工指标,\n",
    "# 树模型直接不处理\n",
    "# A active 活跃, B ex employed 前雇员, F filial 子女, N not employee 非雇员, P pasive 被动, 目前没有寻找新工作, 但是对新工作持开放态度\n",
    "\n",
    "# df.ind_empleado.value_counts(dropna=False)\n",
    "# enc_array = label_enc(df.ind_empleado)\n",
    "def get_ordinal_name(data) -> list:\n",
    "    return [f'{data.name}_enc']\n",
    "\n",
    "\n",
    "def get_onehot_name(data) -> list:\n",
    "    length = data.unique().shape[0]\n",
    "    l = []\n",
    "    for i in range(length):\n",
    "        l.append(f'{data.name}_oh_{i}')\n",
    "    return l\n",
    "\n",
    "\n",
    "def new_ordinal_df(data: pd.Series, array):\n",
    "    name: list = get_ordinal_name(data)\n",
    "    return pd.DataFrame(array, index=data.index, columns=name)\n",
    "\n",
    "\n",
    "# TODO\n",
    "def new_onehot_df(data: pd.Series, array):\n",
    "    name: list = get_ordinal_name(data)\n",
    "    return pd.DataFrame(array, index=data.index, columns=name)\n",
    "\n",
    "\n",
    "# TODO\n",
    "def show_value_counts(df, od_set: set, oh_set: set):\n",
    "    df[get_ordinal_name(df.ind_empleado)].value_counts(dropna=False)\n",
    "\n",
    "\n",
    "od_set = set()\n",
    "oh_set = set()"
   ]
  },
  {
   "cell_type": "code",
   "execution_count": 27,
   "id": "bf5a9d4c",
   "metadata": {
    "collapsed": false
   },
   "outputs": [
    {
     "data": {
      "text/plain": [
       "['ind_empleado_oh_0',\n",
       " 'ind_empleado_oh_1',\n",
       " 'ind_empleado_oh_2',\n",
       " 'ind_empleado_oh_3',\n",
       " 'ind_empleado_oh_4']"
      ]
     },
     "execution_count": 27,
     "metadata": {},
     "output_type": "execute_result"
    },
    {
     "data": {
      "text/plain": [
       "['ind_empleado_enc']"
      ]
     },
     "execution_count": 27,
     "metadata": {},
     "output_type": "execute_result"
    }
   ],
   "source": [
    "l = get_onehot_name(df.ind_empleado)\n",
    "e = get_ordinal_name(df.ind_empleado)\n",
    "l\n",
    "e"
   ]
  },
  {
   "cell_type": "code",
   "execution_count": 28,
   "id": "74bfc24b",
   "metadata": {
    "collapsed": false
   },
   "outputs": [],
   "source": [
    "# df.drop(get_ordinal_name(df.ind_empleado), axis=1, inplace=True)"
   ]
  },
  {
   "cell_type": "code",
   "execution_count": 29,
   "id": "eb66752e",
   "metadata": {
    "collapsed": false
   },
   "outputs": [
    {
     "data": {
      "text/plain": [
       "N    13610906\n",
       "B        3566\n",
       "F        2523\n",
       "A        2492\n",
       "S          17\n",
       "Name: ind_empleado, dtype: int64"
      ]
     },
     "execution_count": 29,
     "metadata": {},
     "output_type": "execute_result"
    }
   ],
   "source": [
    "# df[get_ordinal_name(df.ind_empleado)].value_counts()\n",
    "\n",
    "df.ind_empleado.value_counts(dropna=False)"
   ]
  },
  {
   "cell_type": "code",
   "execution_count": 30,
   "id": "2f8bdfa7",
   "metadata": {
    "collapsed": false
   },
   "outputs": [],
   "source": [
    "# 单列编码\n",
    "# df = pd.concat([df, new_ordinal_df(df.ind_empleado, label_enc(df.ind_empleado))], axis=1)\n",
    "# df[get_ordinal_name(df.ind_empleado)].value_counts(dropna=False)\n",
    "\n",
    "# 用list收集, 统一进行编码处理\n",
    "od_set.add(df.ind_empleado.name)"
   ]
  },
  {
   "cell_type": "code",
   "execution_count": 31,
   "id": "f4f0449b",
   "metadata": {
    "collapsed": false
   },
   "outputs": [
    {
     "data": {
      "text/plain": [
       "ES        13553656\n",
       "others       65848\n",
       "Name: pais_residencia, dtype: int64"
      ]
     },
     "execution_count": 31,
     "metadata": {},
     "output_type": "execute_result"
    }
   ],
   "source": [
    "# 3. 118 pais_residencia 客户国籍 ES占比巨大\n",
    "# 发现others国家的人所有数据都是others\n",
    "# 继续处理\n",
    "# Nan unknown\n",
    "# TODO 计算占比\n",
    "# df.pais_residencia.value_counts(dropna=False)\n",
    "# df.pais_residencia.unique()\n",
    "\n",
    "# 用others替换其他\n",
    "df.loc[(df['pais_residencia'] != 'ES'), 'pais_residencia'] = 'others'\n",
    "\n",
    "# df[df['pais_residencia']=='ES'].sum()\n",
    "df.pais_residencia.value_counts(dropna=False)\n",
    "\n",
    "od_set.add(df.pais_residencia.name)"
   ]
  },
  {
   "cell_type": "markdown",
   "id": "0b52f8d5",
   "metadata": {
    "collapsed": false
   },
   "source": []
  },
  {
   "cell_type": "code",
   "execution_count": 32,
   "id": "9626cbc4",
   "metadata": {
    "collapsed": false
   },
   "outputs": [
    {
     "data": {
      "text/plain": [
       "V    7424251\n",
       "H    6195253\n",
       "Name: sexo, dtype: int64"
      ]
     },
     "execution_count": 32,
     "metadata": {},
     "output_type": "execute_result"
    }
   ],
   "source": [
    "# 4. sexo\n",
    "# Nan = unknown\n",
    "# 无序类别\n",
    "df.sexo.value_counts(dropna=False)\n",
    "od_set.add(df.sexo.name)"
   ]
  },
  {
   "cell_type": "code",
   "execution_count": 33,
   "id": "22b52740",
   "metadata": {
    "collapsed": false
   },
   "outputs": [],
   "source": [
    "df.age = df.age.astype('int8')"
   ]
  },
  {
   "cell_type": "code",
   "execution_count": 34,
   "id": "4ff5752a",
   "metadata": {
    "collapsed": false
   },
   "outputs": [
    {
     "data": {
      "text/plain": [
       "11.080660089610635"
      ]
     },
     "execution_count": 34,
     "metadata": {},
     "output_type": "execute_result"
    }
   ],
   "source": [
    "# 5. age 年龄\n",
    "# 清洗>100的异常值\n",
    "# df.age.value_counts(dropna=False)\n",
    "low_age = df.loc[df.age < 16, 'age']\n",
    "low_age.mean()\n",
    "\n",
    "# df['age'].unique()"
   ]
  },
  {
   "cell_type": "markdown",
   "id": "e2b3e5df",
   "metadata": {
    "collapsed": false
   },
   "source": []
  },
  {
   "cell_type": "code",
   "execution_count": 35,
   "id": "a05055f8",
   "metadata": {
    "collapsed": false
   },
   "outputs": [
    {
     "data": {
      "text/plain": [
       "2014-07-28    57389\n",
       "2014-10-03    54287\n",
       "2014-08-04    45746\n",
       "2013-10-14    40804\n",
       "2013-08-03    33414\n",
       "              ...  \n",
       "2013-05-11       11\n",
       "2015-05-31        9\n",
       "2014-05-01        7\n",
       "2010-07-04        4\n",
       "2009-12-25        4\n",
       "Name: fecha_alta, Length: 6756, dtype: int64"
      ]
     },
     "execution_count": 35,
     "metadata": {},
     "output_type": "execute_result"
    }
   ],
   "source": [
    "df.fecha_alta.value_counts(dropna=False)"
   ]
  },
  {
   "cell_type": "code",
   "execution_count": 35,
   "id": "d5bde51d",
   "metadata": {
    "collapsed": false
   },
   "outputs": [],
   "source": []
  },
  {
   "cell_type": "code",
   "execution_count": 36,
   "id": "3159cd92",
   "metadata": {
    "collapsed": false
   },
   "outputs": [
    {
     "data": {
      "text/plain": [
       "10    2222408\n",
       "9     1599044\n",
       "11    1539133\n",
       "7     1468729\n",
       "8     1365917\n",
       "12    1018032\n",
       "1      847092\n",
       "2      761082\n",
       "3      758132\n",
       "4      714992\n",
       "5      666610\n",
       "6      658333\n",
       "Name: fecha_alta, dtype: int64"
      ]
     },
     "execution_count": 36,
     "metadata": {},
     "output_type": "execute_result"
    }
   ],
   "source": [
    "pd.DatetimeIndex(df[\"fecha_alta\"]).month.value_counts()"
   ]
  },
  {
   "cell_type": "code",
   "execution_count": 37,
   "id": "30ec33c1",
   "metadata": {
    "collapsed": false
   },
   "outputs": [
    {
     "data": {
      "text/plain": [
       "2013-10-01    382473\n",
       "2014-10-01    340613\n",
       "2012-10-01    310295\n",
       "2014-09-01    294752\n",
       "2011-10-01    268133\n",
       "               ...  \n",
       "1995-08-01      3764\n",
       "1995-04-01      2171\n",
       "1995-03-01      1705\n",
       "1995-01-01      1299\n",
       "1995-02-01      1106\n",
       "Name: fecha_alta, Length: 257, dtype: int64"
      ]
     },
     "execution_count": 37,
     "metadata": {},
     "output_type": "execute_result"
    }
   ],
   "source": [
    "temp = df.fecha_alta.astype('datetime64[M]')\n",
    "temp.value_counts()"
   ]
  },
  {
   "cell_type": "code",
   "execution_count": 38,
   "id": "c2b50d4f",
   "metadata": {
    "collapsed": false
   },
   "outputs": [
    {
     "data": {
      "text/plain": [
       "     12    243159\n",
       "     21    214795\n",
       "     10    206164\n",
       "      9    177955\n",
       "     23    177839\n",
       "            ...  \n",
       "    253       416\n",
       "    254       261\n",
       "    255       179\n",
       "    256       102\n",
       "-999999        38\n",
       "Name: antiguedad, Length: 258, dtype: int64"
      ]
     },
     "execution_count": 38,
     "metadata": {},
     "output_type": "execute_result"
    }
   ],
   "source": [
    "df.antiguedad.value_counts(dropna=False)\n",
    "od_set.add(df.antiguedad.name)"
   ]
  },
  {
   "cell_type": "code",
   "execution_count": 39,
   "id": "fcb4f633",
   "metadata": {
    "collapsed": false
   },
   "outputs": [
    {
     "name": "stdout",
     "output_type": "stream",
     "text": [
      "<class 'pandas.core.series.Series'>\n",
      "Int64Index: 13619504 entries, 0 to 13647308\n",
      "Series name: fecha_alta\n",
      "Non-Null Count     Dtype \n",
      "--------------     ----- \n",
      "13619504 non-null  object\n",
      "dtypes: object(1)\n",
      "memory usage: 207.8+ MB\n"
     ]
    }
   ],
   "source": [
    "df.fecha_alta.info()"
   ]
  },
  {
   "cell_type": "code",
   "execution_count": 40,
   "id": "42c59b7d",
   "metadata": {
    "collapsed": false
   },
   "outputs": [
    {
     "name": "stdout",
     "output_type": "stream",
     "text": [
      "<class 'pandas.core.series.Series'>\n",
      "Int64Index: 13619504 entries, 0 to 13647308\n",
      "Series name: fecha_alta\n",
      "Non-Null Count     Dtype         \n",
      "--------------     -----         \n",
      "13619504 non-null  datetime64[ns]\n",
      "dtypes: datetime64[ns](1)\n",
      "memory usage: 207.8 MB\n"
     ]
    }
   ],
   "source": [
    "x = pd.to_datetime(df.fecha_alta)\n",
    "x.info()"
   ]
  },
  {
   "cell_type": "code",
   "execution_count": 41,
   "id": "f8c2c1b4",
   "metadata": {
    "collapsed": false
   },
   "outputs": [
    {
     "data": {
      "text/plain": [
       "     12    243159\n",
       "     21    214795\n",
       "     10    206164\n",
       "      9    177955\n",
       "     23    177839\n",
       "            ...  \n",
       "    253       416\n",
       "    254       261\n",
       "    255       179\n",
       "    256       102\n",
       "-999999        38\n",
       "Name: antiguedad, Length: 258, dtype: int64"
      ]
     },
     "execution_count": 41,
     "metadata": {},
     "output_type": "execute_result"
    },
    {
     "name": "stdout",
     "output_type": "stream",
     "text": [
      "<class 'pandas.core.series.Series'>\n",
      "Int64Index: 13619504 entries, 0 to 13647308\n",
      "Series name: antiguedad\n",
      "Non-Null Count     Dtype \n",
      "--------------     ----- \n",
      "13619504 non-null  object\n",
      "dtypes: object(1)\n",
      "memory usage: 207.8+ MB\n"
     ]
    }
   ],
   "source": [
    "# 6.fecha_alta 客户首次签订合同的日期, 可以用距今差值表示, 总结成月份, 然后判断和 antiguedad客户资历的关系\n",
    "df.antiguedad.value_counts(dropna=False)\n",
    "df.antiguedad.info()\n",
    "\n",
    "# TODO 暂时先删除\n",
    "df.drop('fecha_alta', inplace=True, axis=1)\n",
    "# df.fecha_alta.isnull().sum()\n",
    "# months_active = df.loc[df[\"ind_nuevo\"].isnull(), :].groupby(\"ncodpers\", sort=False).size()\n",
    "# months_active.max()"
   ]
  },
  {
   "cell_type": "code",
   "execution_count": 42,
   "id": "3f1a4e14",
   "metadata": {
    "collapsed": false
   },
   "outputs": [
    {
     "data": {
      "text/plain": [
       "0    12808310\n",
       "1      811194\n",
       "Name: ind_nuevo, dtype: int64"
      ]
     },
     "execution_count": 42,
     "metadata": {},
     "output_type": "execute_result"
    }
   ],
   "source": [
    "\n",
    "# 7.ind_nuevo 新客户指数 2. 如果是6个月内注册的客户, 则为1\n",
    "df.ind_nuevo = df.ind_nuevo.astype('int8')\n",
    "df.ind_nuevo.value_counts(dropna=False)\n",
    "\n",
    "od_set.add(df.ind_nuevo.name)"
   ]
  },
  {
   "cell_type": "code",
   "execution_count": 43,
   "id": "a60407ea",
   "metadata": {
    "collapsed": false
   },
   "outputs": [
    {
     "data": {
      "text/plain": [
       "     12    243159\n",
       "     21    214795\n",
       "     10    206164\n",
       "      9    177955\n",
       "     23    177839\n",
       "            ...  \n",
       "    253       416\n",
       "    254       261\n",
       "    255       179\n",
       "    256       102\n",
       "-999999        38\n",
       "Name: antiguedad, Length: 258, dtype: int64"
      ]
     },
     "execution_count": 43,
     "metadata": {},
     "output_type": "execute_result"
    }
   ],
   "source": [
    "# 8. antiguedad 客户资历, 单位是月\n",
    "df.antiguedad.value_counts(dropna=False)\n",
    "od_set.add(df.antiguedad.name)"
   ]
  },
  {
   "cell_type": "code",
   "execution_count": 44,
   "id": "8339ad69",
   "metadata": {
    "collapsed": false
   },
   "outputs": [],
   "source": [
    "# 6,7,8 缺失值数量相等已经删除"
   ]
  },
  {
   "cell_type": "code",
   "execution_count": 45,
   "id": "20748349",
   "metadata": {
    "collapsed": false
   },
   "outputs": [
    {
     "data": {
      "text/plain": [
       "1     13594711\n",
       "99       24793\n",
       "Name: indrel, dtype: int64"
      ]
     },
     "execution_count": 45,
     "metadata": {},
     "output_type": "execute_result"
    }
   ],
   "source": [
    "# 9.indrel  2:  1表示primary, 99表示当月primary,但不是月末?\n",
    "# Nan =unknown\n",
    "# one-hot label编码?\n",
    "df.indrel = df.indrel.astype('int8')\n",
    "df.indrel.value_counts(dropna=False)\n",
    "od_set.add(df.indrel.name)"
   ]
  },
  {
   "cell_type": "code",
   "execution_count": 46,
   "id": "7006a61d",
   "metadata": {
    "collapsed": false
   },
   "outputs": [],
   "source": [
    "# 10. ult_fec_cli_1t 作为主要客户的日期\n",
    "# 缺失值太多, 丢弃\n",
    "# df.ult_fec_cli_1t.value_counts(dropna=False)\n",
    "# df.ult_fec_cli_1t.isnull().sum()"
   ]
  },
  {
   "cell_type": "code",
   "execution_count": 46,
   "id": "072e19e3",
   "metadata": {
    "collapsed": false
   },
   "outputs": [],
   "source": []
  },
  {
   "cell_type": "code",
   "execution_count": 47,
   "id": "76772c8d",
   "metadata": {
    "collapsed": false
   },
   "outputs": [
    {
     "data": {
      "text/plain": [
       "1          13490612\n",
       "unknown      122047\n",
       "3              4349\n",
       "2              1317\n",
       "P               873\n",
       "4               306\n",
       "Name: indrel_1mes, dtype: int64"
      ]
     },
     "execution_count": 47,
     "metadata": {},
     "output_type": "execute_result"
    }
   ],
   "source": [
    "# df.replace('unknown', -2, inplace=True)\n",
    "# df.replace('P', -3, inplace=True)\n",
    "# 必须先修改类型, 不然replace匹配不上\n",
    "# df.indrel_1mes = df.indrel_1mes.astype('float')\n",
    "df.indrel_1mes.replace({'1.0': '1', '2.0': '2', '3.0': '3', '4.0': '4'}, inplace=True)  # 不同key用不同value替换\n",
    "df.indrel_1mes.value_counts(dropna=False)\n",
    "od_set.add(df.indrel_1mes.name)"
   ]
  },
  {
   "cell_type": "code",
   "execution_count": 48,
   "id": "5f8482cf",
   "metadata": {
    "collapsed": false
   },
   "outputs": [
    {
     "data": {
      "text/plain": [
       "I          7304864\n",
       "A          6187065\n",
       "unknown     122047\n",
       "P             4655\n",
       "R              869\n",
       "N                4\n",
       "Name: tiprel_1mes, dtype: int64"
      ]
     },
     "execution_count": 48,
     "metadata": {},
     "output_type": "execute_result"
    }
   ],
   "source": [
    "# 12.tiprel_1mes 月初客户关系类型 A (active), I (inactive), P (former customer 前客户),R (Potential 潜在客户)\n",
    "# Nan = unknown\n",
    "# label 编码\n",
    "df.tiprel_1mes.value_counts(dropna=False)\n",
    "od_set.add(df.tiprel_1mes.name)"
   ]
  },
  {
   "cell_type": "code",
   "execution_count": 49,
   "id": "4ee25026",
   "metadata": {
    "collapsed": false
   },
   "outputs": [
    {
     "data": {
      "text/plain": [
       "S    13553657\n",
       "N       65847\n",
       "Name: indresi, dtype: int64"
      ]
     },
     "execution_count": 49,
     "metadata": {},
     "output_type": "execute_result"
    }
   ],
   "source": [
    "# 13. indresi 居住指数S (Yes) 银行和居住国相同 N (No) 不同国家\n",
    "# label编码, S=1, N=0\n",
    "df.indresi.value_counts(dropna=False)\n",
    "od_set.add(df.indresi.name)\n"
   ]
  },
  {
   "cell_type": "code",
   "execution_count": 50,
   "id": "88880c63",
   "metadata": {
    "collapsed": false
   },
   "outputs": [
    {
     "data": {
      "text/plain": [
       "N    12974768\n",
       "S      644736\n",
       "Name: indext, dtype: int64"
      ]
     },
     "execution_count": 50,
     "metadata": {},
     "output_type": "execute_result"
    }
   ],
   "source": [
    "# 14. indext 外国人指数, S 本国出生, N 非本国\n",
    "# label 编码\n",
    "df.indext.value_counts(dropna=False)\n",
    "od_set.add(df.indext.name)\n"
   ]
  },
  {
   "cell_type": "code",
   "execution_count": 51,
   "id": "765510f6",
   "metadata": {
    "collapsed": false
   },
   "outputs": [],
   "source": [
    "# 15. conyuemp 配偶指数, S 客户是员工配偶\n",
    "# 缺失太多, 删除列\n",
    "# df.conyuemp.value_counts(dropna=False)"
   ]
  },
  {
   "cell_type": "code",
   "execution_count": 52,
   "id": "50a2942b",
   "metadata": {
    "collapsed": false
   },
   "outputs": [
    {
     "data": {
      "text/plain": [
       "KHE    4055270\n",
       "KAT    3268209\n",
       "KFC    3098360\n",
       "KHQ     591039\n",
       "KFA     409669\n",
       "        ...   \n",
       "KDI         17\n",
       "KDL         11\n",
       "025         11\n",
       "KHS          5\n",
       "KHR          1\n",
       "Name: canal_entrada, Length: 163, dtype: int64"
      ]
     },
     "execution_count": 52,
     "metadata": {},
     "output_type": "execute_result"
    }
   ],
   "source": [
    "# 16. canal_entrada\t客户渠道 (拉新渠道)\n",
    "# Nan = unknown, 占比小于3%都是other\n",
    "# 用占比, 占比低的作为others\n",
    "df.canal_entrada.value_counts(dropna=False)\n",
    "# df.canal_entrada.isnull().sum()\n",
    "# print(100 * round(df.canal_entrada.value_counts(dropna=False) / df.shape[0], 8))\n",
    "od_set.add(df.canal_entrada.name)"
   ]
  },
  {
   "cell_type": "code",
   "execution_count": 53,
   "id": "ad529262",
   "metadata": {
    "collapsed": false
   },
   "outputs": [
    {
     "data": {
      "text/plain": [
       "N    13584742\n",
       "S       34762\n",
       "Name: indfall, dtype: int64"
      ]
     },
     "execution_count": 53,
     "metadata": {},
     "output_type": "execute_result"
    }
   ],
   "source": [
    "# 17. indfall 已故索引 N/S\n",
    "df.indfall.value_counts(dropna=False)\n",
    "od_set.add(df.indfall.name)\n"
   ]
  },
  {
   "cell_type": "code",
   "execution_count": 54,
   "id": "2776eb7e",
   "metadata": {
    "collapsed": false
   },
   "outputs": [
    {
     "data": {
      "text/plain": [
       "1.0    13619504\n",
       "Name: tipodom, dtype: int64"
      ]
     },
     "execution_count": 54,
     "metadata": {},
     "output_type": "execute_result"
    }
   ],
   "source": [
    "# 18. tipodom 地址类型. 1, primary address 弃用\n",
    "# Nan dropna\n",
    "# 没有区分度, 删除列\n",
    "# label编码\n",
    "df.tipodom.value_counts(dropna=False)\n",
    "df.drop('tipodom', axis=1, inplace=True)"
   ]
  },
  {
   "cell_type": "code",
   "execution_count": 55,
   "id": "cfdc19e5",
   "metadata": {
    "collapsed": false
   },
   "outputs": [
    {
     "data": {
      "text/plain": [
       " 28    4409547\n",
       " 8     1275219\n",
       " 46     682304\n",
       " 41     605164\n",
       " 15     429322\n",
       " 30     396759\n",
       " 29     367023\n",
       " 50     342543\n",
       " 3      313397\n",
       " 11     294684\n",
       " 36     280026\n",
       " 33     265749\n",
       " 47     238259\n",
       " 35     235683\n",
       " 6      192996\n",
       " 48     185888\n",
       " 45     183067\n",
       " 18     178562\n",
       " 37     164238\n",
       " 39     155706\n",
       " 14     144679\n",
       " 10     129912\n",
       " 7      124933\n",
       " 21     122283\n",
       " 13     119390\n",
       " 2      114128\n",
       " 12     104295\n",
       " 43     100115\n",
       " 9       97188\n",
       " 17      90538\n",
       " 31      88618\n",
       " 26      85202\n",
       " 27      84962\n",
       " 32      84009\n",
       " 24      83003\n",
       " 25      79059\n",
       " 20      71567\n",
       " 38      70968\n",
       "-1       65856\n",
       " 19      64618\n",
       " 23      64363\n",
       " 4       60291\n",
       " 16      57310\n",
       " 49      50927\n",
       " 34      49282\n",
       " 40      42341\n",
       " 22      40181\n",
       " 5       38783\n",
       " 1       37704\n",
       " 44      22525\n",
       " 42      17660\n",
       " 52       9460\n",
       " 51       7218\n",
       "Name: cod_prov, dtype: int64"
      ]
     },
     "execution_count": 55,
     "metadata": {},
     "output_type": "execute_result"
    }
   ],
   "source": [
    "# 19.cod_prov 省份编码\n",
    "# 转成int\n",
    "# Nan = 0?\n",
    "# number\n",
    "df.cod_prov = df.cod_prov.astype('int8')\n",
    "df.cod_prov.value_counts(dropna=False)\n",
    "od_set.add(df.cod_prov.name)\n"
   ]
  },
  {
   "cell_type": "code",
   "execution_count": 56,
   "id": "39b2893f",
   "metadata": {
    "collapsed": false
   },
   "outputs": [],
   "source": [
    "# 20. nomprov 省份名称 删除\n",
    "# df.nomprov.value_counts(dropna=False)"
   ]
  },
  {
   "cell_type": "code",
   "execution_count": 57,
   "id": "7f67fc43",
   "metadata": {
    "collapsed": false
   },
   "outputs": [
    {
     "data": {
      "text/plain": [
       "0    7384379\n",
       "1    6235125\n",
       "Name: ind_actividad_cliente, dtype: int64"
      ]
     },
     "execution_count": 57,
     "metadata": {},
     "output_type": "execute_result"
    }
   ],
   "source": [
    "# 21. ind_actividad_cliente\t活跃指数 1, active customer; 0, inactive customer)\n",
    "df.ind_actividad_cliente = df.ind_actividad_cliente.astype('int8')\n",
    "df.ind_actividad_cliente.value_counts(dropna=False)\n",
    "od_set.add(df.ind_actividad_cliente.name)\n"
   ]
  },
  {
   "cell_type": "code",
   "execution_count": 58,
   "id": "a95d2048",
   "metadata": {
    "collapsed": false
   },
   "outputs": [
    {
     "data": {
      "text/plain": [
       "28894395.51"
      ]
     },
     "execution_count": 58,
     "metadata": {},
     "output_type": "execute_result"
    }
   ],
   "source": [
    "df.renta.max()"
   ]
  },
  {
   "cell_type": "code",
   "execution_count": 59,
   "id": "1bd1c3bd",
   "metadata": {
    "collapsed": false
   },
   "outputs": [
    {
     "data": {
      "text/plain": [
       "1202.73"
      ]
     },
     "execution_count": 59,
     "metadata": {},
     "output_type": "execute_result"
    }
   ],
   "source": [
    "df.renta.min()"
   ]
  },
  {
   "cell_type": "code",
   "execution_count": 60,
   "id": "f32aed6b",
   "metadata": {
    "collapsed": false
   },
   "outputs": [],
   "source": [
    "df.renta = round(df.renta)\n",
    "df.renta = df.renta.astype('int32')"
   ]
  },
  {
   "cell_type": "code",
   "execution_count": 61,
   "id": "cbf967fe",
   "metadata": {
    "collapsed": false
   },
   "outputs": [
    {
     "data": {
      "text/plain": [
       "02 - PARTICULARES     7960150\n",
       "03 - UNIVERSITARIO    4935579\n",
       "01 - TOP               562142\n",
       "00                     161633\n",
       "Name: segmento, dtype: int64"
      ]
     },
     "execution_count": 61,
     "metadata": {},
     "output_type": "execute_result"
    }
   ],
   "source": [
    "# 23. segmento : 01 - VIP, 02 - 个人 03 - 大学毕业\n",
    "# Nan = unknown\n",
    "# ordinal 编码\n",
    "df.segmento.value_counts()\n",
    "od_set.add(df.segmento.name)\n"
   ]
  },
  {
   "cell_type": "code",
   "execution_count": 334,
   "id": "b4155178",
   "metadata": {
    "collapsed": false
   },
   "outputs": [],
   "source": [
    "data = df.iloc[:, :df.shape[1] - 24]\n",
    "target = df.iloc[:, df.shape[1] - 24:]"
   ]
  },
  {
   "cell_type": "code",
   "execution_count": 335,
   "id": "6d8134ed",
   "metadata": {
    "collapsed": false
   },
   "outputs": [
    {
     "data": {
      "text/plain": [
       "(13619504, 17)"
      ]
     },
     "execution_count": 335,
     "metadata": {},
     "output_type": "execute_result"
    },
    {
     "data": {
      "text/plain": [
       "(13619504, 24)"
      ]
     },
     "execution_count": 335,
     "metadata": {},
     "output_type": "execute_result"
    }
   ],
   "source": [
    "data.shape\n",
    "target.shape"
   ]
  },
  {
   "cell_type": "code",
   "execution_count": 336,
   "id": "5f283faa",
   "metadata": {
    "collapsed": false
   },
   "outputs": [
    {
     "data": {
      "text/plain": [
       "{'age',\n",
       " 'antiguedad',\n",
       " 'canal_entrada',\n",
       " 'cod_prov',\n",
       " 'ind_actividad_cliente',\n",
       " 'ind_empleado',\n",
       " 'ind_nuevo',\n",
       " 'indext',\n",
       " 'indfall',\n",
       " 'indrel',\n",
       " 'indrel_1mes',\n",
       " 'indresi',\n",
       " 'pais_residencia',\n",
       " 'renta',\n",
       " 'segmento',\n",
       " 'sexo',\n",
       " 'tiprel_1mes'}"
      ]
     },
     "execution_count": 336,
     "metadata": {},
     "output_type": "execute_result"
    }
   ],
   "source": [
    "set(data.columns)"
   ]
  },
  {
   "cell_type": "code",
   "execution_count": 336,
   "id": "6c34dbd5",
   "metadata": {
    "collapsed": false
   },
   "outputs": [],
   "source": []
  },
  {
   "cell_type": "code",
   "execution_count": 337,
   "id": "4f52c562",
   "metadata": {
    "collapsed": false
   },
   "outputs": [
    {
     "data": {
      "text/plain": [
       "{'age', 'renta'}"
      ]
     },
     "execution_count": 337,
     "metadata": {},
     "output_type": "execute_result"
    }
   ],
   "source": [
    "set(data.columns) - od_set"
   ]
  },
  {
   "cell_type": "code",
   "execution_count": 338,
   "id": "e17374b9",
   "metadata": {
    "collapsed": false
   },
   "outputs": [
    {
     "data": {
      "text/plain": [
       "15"
      ]
     },
     "execution_count": 338,
     "metadata": {},
     "output_type": "execute_result"
    }
   ],
   "source": [
    "# 编码流程\n",
    "len(od_set)\n"
   ]
  },
  {
   "cell_type": "code",
   "execution_count": 64,
   "id": "8ff0b903",
   "metadata": {
    "collapsed": false
   },
   "outputs": [
    {
     "name": "stdout",
     "output_type": "stream",
     "text": [
      "<class 'pandas.core.frame.DataFrame'>\n",
      "Int64Index: 13619504 entries, 0 to 13647308\n",
      "Data columns (total 41 columns):\n",
      " #   Column                 Dtype \n",
      "---  ------                 ----- \n",
      " 0   ind_empleado           object\n",
      " 1   pais_residencia        object\n",
      " 2   sexo                   object\n",
      " 3   age                    int8  \n",
      " 4   ind_nuevo              int8  \n",
      " 5   antiguedad             object\n",
      " 6   indrel                 int8  \n",
      " 7   indrel_1mes            object\n",
      " 8   tiprel_1mes            object\n",
      " 9   indresi                object\n",
      " 10  indext                 object\n",
      " 11  canal_entrada          object\n",
      " 12  indfall                object\n",
      " 13  cod_prov               int8  \n",
      " 14  ind_actividad_cliente  int8  \n",
      " 15  renta                  int32 \n",
      " 16  segmento               object\n",
      " 17  ind_ahor_fin_ult1      bool  \n",
      " 18  ind_aval_fin_ult1      bool  \n",
      " 19  ind_cco_fin_ult1       bool  \n",
      " 20  ind_cder_fin_ult1      bool  \n",
      " 21  ind_cno_fin_ult1       bool  \n",
      " 22  ind_ctju_fin_ult1      bool  \n",
      " 23  ind_ctma_fin_ult1      bool  \n",
      " 24  ind_ctop_fin_ult1      bool  \n",
      " 25  ind_ctpp_fin_ult1      bool  \n",
      " 26  ind_deco_fin_ult1      bool  \n",
      " 27  ind_deme_fin_ult1      bool  \n",
      " 28  ind_dela_fin_ult1      bool  \n",
      " 29  ind_ecue_fin_ult1      bool  \n",
      " 30  ind_fond_fin_ult1      bool  \n",
      " 31  ind_hip_fin_ult1       bool  \n",
      " 32  ind_plan_fin_ult1      bool  \n",
      " 33  ind_pres_fin_ult1      bool  \n",
      " 34  ind_reca_fin_ult1      bool  \n",
      " 35  ind_tjcr_fin_ult1      bool  \n",
      " 36  ind_valo_fin_ult1      bool  \n",
      " 37  ind_viv_fin_ult1       bool  \n",
      " 38  ind_nomina_ult1        bool  \n",
      " 39  ind_nom_pens_ult1      bool  \n",
      " 40  ind_recibo_ult1        bool  \n",
      "dtypes: bool(24), int32(1), int8(5), object(11)\n",
      "memory usage: 1.6+ GB\n"
     ]
    }
   ],
   "source": [
    "df.info()"
   ]
  },
  {
   "cell_type": "code",
   "execution_count": 71,
   "id": "c7cc8623",
   "metadata": {
    "collapsed": false
   },
   "outputs": [
    {
     "data": {
      "text/plain": [
       "['ind_ahor_fin_ult1',\n",
       " 'ind_aval_fin_ult1',\n",
       " 'ind_cco_fin_ult1',\n",
       " 'ind_cder_fin_ult1',\n",
       " 'ind_cno_fin_ult1',\n",
       " 'ind_ctju_fin_ult1',\n",
       " 'ind_ctma_fin_ult1',\n",
       " 'ind_ctop_fin_ult1',\n",
       " 'ind_ctpp_fin_ult1',\n",
       " 'ind_deco_fin_ult1',\n",
       " 'ind_deme_fin_ult1',\n",
       " 'ind_dela_fin_ult1',\n",
       " 'ind_ecue_fin_ult1',\n",
       " 'ind_fond_fin_ult1',\n",
       " 'ind_hip_fin_ult1',\n",
       " 'ind_plan_fin_ult1',\n",
       " 'ind_pres_fin_ult1',\n",
       " 'ind_reca_fin_ult1',\n",
       " 'ind_tjcr_fin_ult1',\n",
       " 'ind_valo_fin_ult1',\n",
       " 'ind_viv_fin_ult1',\n",
       " 'ind_nomina_ult1',\n",
       " 'ind_nom_pens_ult1',\n",
       " 'ind_recibo_ult1']"
      ]
     },
     "execution_count": 71,
     "metadata": {},
     "output_type": "execute_result"
    }
   ],
   "source": [
    "target = df.iloc[:, df.shape[1] - 24:]\n",
    "target_names = list(target.columns)\n",
    "target_names"
   ]
  },
  {
   "cell_type": "code",
   "execution_count": 69,
   "id": "8f208adf",
   "metadata": {
    "collapsed": false
   },
   "outputs": [
    {
     "name": "stdout",
     "output_type": "stream",
     "text": [
      "indfall\n",
      "antiguedad\n",
      "cod_prov\n",
      "tiprel_1mes\n",
      "ind_actividad_cliente\n",
      "indrel\n",
      "segmento\n",
      "canal_entrada\n",
      "ind_empleado\n",
      "ind_nuevo\n",
      "indrel_1mes\n",
      "sexo\n",
      "indresi\n",
      "indext\n",
      "pais_residencia\n",
      "CPU times: user 45.6 s, sys: 30.4 s, total: 1min 15s\n",
      "Wall time: 1min 15s\n"
     ]
    }
   ],
   "source": [
    "% % time\n",
    "finished = []\n",
    "for name in od_set:\n",
    "    print(name)\n",
    "    df = pd.concat([df, new_ordinal_df(df[name], label_enc(df[name]))], axis=1)\n",
    "    finished.append(name)\n",
    "df.drop(finished, inplace=True, axis=1)\n"
   ]
  },
  {
   "cell_type": "code",
   "execution_count": 70,
   "id": "30243bb3",
   "metadata": {
    "collapsed": false
   },
   "outputs": [
    {
     "data": {
      "text/plain": [
       "(13619504, 41)"
      ]
     },
     "execution_count": 70,
     "metadata": {},
     "output_type": "execute_result"
    },
    {
     "data": {
      "text/html": [
       "<div>\n",
       "<style scoped>\n",
       "    .dataframe tbody tr th:only-of-type {\n",
       "        vertical-align: middle;\n",
       "    }\n",
       "\n",
       "    .dataframe tbody tr th {\n",
       "        vertical-align: top;\n",
       "    }\n",
       "\n",
       "    .dataframe thead th {\n",
       "        text-align: right;\n",
       "    }\n",
       "</style>\n",
       "<table border=\"1\" class=\"dataframe\">\n",
       "  <thead>\n",
       "    <tr style=\"text-align: right;\">\n",
       "      <th></th>\n",
       "      <th>age</th>\n",
       "      <th>renta</th>\n",
       "      <th>ind_ahor_fin_ult1</th>\n",
       "      <th>ind_aval_fin_ult1</th>\n",
       "      <th>ind_cco_fin_ult1</th>\n",
       "      <th>ind_cder_fin_ult1</th>\n",
       "      <th>ind_cno_fin_ult1</th>\n",
       "      <th>ind_ctju_fin_ult1</th>\n",
       "      <th>ind_ctma_fin_ult1</th>\n",
       "      <th>ind_ctop_fin_ult1</th>\n",
       "      <th>...</th>\n",
       "      <th>indrel_enc</th>\n",
       "      <th>segmento_enc</th>\n",
       "      <th>canal_entrada_enc</th>\n",
       "      <th>ind_empleado_enc</th>\n",
       "      <th>ind_nuevo_enc</th>\n",
       "      <th>indrel_1mes_enc</th>\n",
       "      <th>sexo_enc</th>\n",
       "      <th>indresi_enc</th>\n",
       "      <th>indext_enc</th>\n",
       "      <th>pais_residencia_enc</th>\n",
       "    </tr>\n",
       "  </thead>\n",
       "  <tbody>\n",
       "    <tr>\n",
       "      <th>0</th>\n",
       "      <td>35</td>\n",
       "      <td>87218</td>\n",
       "      <td>False</td>\n",
       "      <td>False</td>\n",
       "      <td>True</td>\n",
       "      <td>False</td>\n",
       "      <td>False</td>\n",
       "      <td>False</td>\n",
       "      <td>False</td>\n",
       "      <td>False</td>\n",
       "      <td>...</td>\n",
       "      <td>0</td>\n",
       "      <td>2</td>\n",
       "      <td>153</td>\n",
       "      <td>3</td>\n",
       "      <td>0</td>\n",
       "      <td>0</td>\n",
       "      <td>0</td>\n",
       "      <td>1</td>\n",
       "      <td>0</td>\n",
       "      <td>0</td>\n",
       "    </tr>\n",
       "    <tr>\n",
       "      <th>1</th>\n",
       "      <td>23</td>\n",
       "      <td>35549</td>\n",
       "      <td>False</td>\n",
       "      <td>False</td>\n",
       "      <td>True</td>\n",
       "      <td>False</td>\n",
       "      <td>False</td>\n",
       "      <td>False</td>\n",
       "      <td>False</td>\n",
       "      <td>False</td>\n",
       "      <td>...</td>\n",
       "      <td>0</td>\n",
       "      <td>3</td>\n",
       "      <td>150</td>\n",
       "      <td>3</td>\n",
       "      <td>0</td>\n",
       "      <td>0</td>\n",
       "      <td>1</td>\n",
       "      <td>1</td>\n",
       "      <td>1</td>\n",
       "      <td>0</td>\n",
       "    </tr>\n",
       "    <tr>\n",
       "      <th>2</th>\n",
       "      <td>23</td>\n",
       "      <td>122179</td>\n",
       "      <td>False</td>\n",
       "      <td>False</td>\n",
       "      <td>True</td>\n",
       "      <td>False</td>\n",
       "      <td>False</td>\n",
       "      <td>False</td>\n",
       "      <td>False</td>\n",
       "      <td>False</td>\n",
       "      <td>...</td>\n",
       "      <td>0</td>\n",
       "      <td>3</td>\n",
       "      <td>150</td>\n",
       "      <td>3</td>\n",
       "      <td>0</td>\n",
       "      <td>0</td>\n",
       "      <td>1</td>\n",
       "      <td>1</td>\n",
       "      <td>0</td>\n",
       "      <td>0</td>\n",
       "    </tr>\n",
       "    <tr>\n",
       "      <th>3</th>\n",
       "      <td>22</td>\n",
       "      <td>119776</td>\n",
       "      <td>False</td>\n",
       "      <td>False</td>\n",
       "      <td>False</td>\n",
       "      <td>False</td>\n",
       "      <td>False</td>\n",
       "      <td>False</td>\n",
       "      <td>False</td>\n",
       "      <td>False</td>\n",
       "      <td>...</td>\n",
       "      <td>0</td>\n",
       "      <td>3</td>\n",
       "      <td>149</td>\n",
       "      <td>3</td>\n",
       "      <td>0</td>\n",
       "      <td>0</td>\n",
       "      <td>0</td>\n",
       "      <td>1</td>\n",
       "      <td>0</td>\n",
       "      <td>0</td>\n",
       "    </tr>\n",
       "    <tr>\n",
       "      <th>4</th>\n",
       "      <td>23</td>\n",
       "      <td>134254</td>\n",
       "      <td>False</td>\n",
       "      <td>False</td>\n",
       "      <td>True</td>\n",
       "      <td>False</td>\n",
       "      <td>False</td>\n",
       "      <td>False</td>\n",
       "      <td>False</td>\n",
       "      <td>False</td>\n",
       "      <td>...</td>\n",
       "      <td>0</td>\n",
       "      <td>3</td>\n",
       "      <td>150</td>\n",
       "      <td>3</td>\n",
       "      <td>0</td>\n",
       "      <td>0</td>\n",
       "      <td>1</td>\n",
       "      <td>1</td>\n",
       "      <td>0</td>\n",
       "      <td>0</td>\n",
       "    </tr>\n",
       "  </tbody>\n",
       "</table>\n",
       "<p>5 rows × 41 columns</p>\n",
       "</div>"
      ],
      "text/plain": [
       "   age   renta  ind_ahor_fin_ult1  ind_aval_fin_ult1  ind_cco_fin_ult1  \\\n",
       "0   35   87218              False              False              True   \n",
       "1   23   35549              False              False              True   \n",
       "2   23  122179              False              False              True   \n",
       "3   22  119776              False              False             False   \n",
       "4   23  134254              False              False              True   \n",
       "\n",
       "   ind_cder_fin_ult1  ind_cno_fin_ult1  ind_ctju_fin_ult1  ind_ctma_fin_ult1  \\\n",
       "0              False             False              False              False   \n",
       "1              False             False              False              False   \n",
       "2              False             False              False              False   \n",
       "3              False             False              False              False   \n",
       "4              False             False              False              False   \n",
       "\n",
       "   ind_ctop_fin_ult1  ...  indrel_enc  segmento_enc  canal_entrada_enc  \\\n",
       "0              False  ...           0             2                153   \n",
       "1              False  ...           0             3                150   \n",
       "2              False  ...           0             3                150   \n",
       "3              False  ...           0             3                149   \n",
       "4              False  ...           0             3                150   \n",
       "\n",
       "   ind_empleado_enc  ind_nuevo_enc  indrel_1mes_enc  sexo_enc  indresi_enc  \\\n",
       "0                 3              0                0         0            1   \n",
       "1                 3              0                0         1            1   \n",
       "2                 3              0                0         1            1   \n",
       "3                 3              0                0         0            1   \n",
       "4                 3              0                0         1            1   \n",
       "\n",
       "   indext_enc  pais_residencia_enc  \n",
       "0           0                    0  \n",
       "1           1                    0  \n",
       "2           0                    0  \n",
       "3           0                    0  \n",
       "4           0                    0  \n",
       "\n",
       "[5 rows x 41 columns]"
      ]
     },
     "execution_count": 70,
     "metadata": {},
     "output_type": "execute_result"
    }
   ],
   "source": [
    "df.shape\n",
    "df.head()"
   ]
  },
  {
   "cell_type": "code",
   "execution_count": 72,
   "id": "15d75ed6",
   "metadata": {
    "collapsed": false
   },
   "outputs": [],
   "source": [
    "X = df.drop(target_names, axis=1)"
   ]
  },
  {
   "cell_type": "code",
   "execution_count": 77,
   "id": "fd0d62dd",
   "metadata": {
    "collapsed": false
   },
   "outputs": [
    {
     "data": {
      "text/html": [
       "<div>\n",
       "<style scoped>\n",
       "    .dataframe tbody tr th:only-of-type {\n",
       "        vertical-align: middle;\n",
       "    }\n",
       "\n",
       "    .dataframe tbody tr th {\n",
       "        vertical-align: top;\n",
       "    }\n",
       "\n",
       "    .dataframe thead th {\n",
       "        text-align: right;\n",
       "    }\n",
       "</style>\n",
       "<table border=\"1\" class=\"dataframe\">\n",
       "  <thead>\n",
       "    <tr style=\"text-align: right;\">\n",
       "      <th></th>\n",
       "      <th>age</th>\n",
       "      <th>renta</th>\n",
       "      <th>indfall_enc</th>\n",
       "      <th>antiguedad_enc</th>\n",
       "      <th>cod_prov_enc</th>\n",
       "      <th>tiprel_1mes_enc</th>\n",
       "      <th>ind_actividad_cliente_enc</th>\n",
       "      <th>indrel_enc</th>\n",
       "      <th>segmento_enc</th>\n",
       "      <th>canal_entrada_enc</th>\n",
       "      <th>ind_empleado_enc</th>\n",
       "      <th>ind_nuevo_enc</th>\n",
       "      <th>indrel_1mes_enc</th>\n",
       "      <th>sexo_enc</th>\n",
       "      <th>indresi_enc</th>\n",
       "      <th>indext_enc</th>\n",
       "      <th>pais_residencia_enc</th>\n",
       "    </tr>\n",
       "  </thead>\n",
       "  <tbody>\n",
       "    <tr>\n",
       "      <th>0</th>\n",
       "      <td>35</td>\n",
       "      <td>87218</td>\n",
       "      <td>0</td>\n",
       "      <td>6</td>\n",
       "      <td>29</td>\n",
       "      <td>0</td>\n",
       "      <td>1</td>\n",
       "      <td>0</td>\n",
       "      <td>2</td>\n",
       "      <td>153</td>\n",
       "      <td>3</td>\n",
       "      <td>0</td>\n",
       "      <td>0</td>\n",
       "      <td>0</td>\n",
       "      <td>1</td>\n",
       "      <td>0</td>\n",
       "      <td>0</td>\n",
       "    </tr>\n",
       "    <tr>\n",
       "      <th>1</th>\n",
       "      <td>23</td>\n",
       "      <td>35549</td>\n",
       "      <td>0</td>\n",
       "      <td>35</td>\n",
       "      <td>13</td>\n",
       "      <td>1</td>\n",
       "      <td>0</td>\n",
       "      <td>0</td>\n",
       "      <td>3</td>\n",
       "      <td>150</td>\n",
       "      <td>3</td>\n",
       "      <td>0</td>\n",
       "      <td>0</td>\n",
       "      <td>1</td>\n",
       "      <td>1</td>\n",
       "      <td>1</td>\n",
       "      <td>0</td>\n",
       "    </tr>\n",
       "    <tr>\n",
       "      <th>2</th>\n",
       "      <td>23</td>\n",
       "      <td>122179</td>\n",
       "      <td>0</td>\n",
       "      <td>35</td>\n",
       "      <td>13</td>\n",
       "      <td>1</td>\n",
       "      <td>0</td>\n",
       "      <td>0</td>\n",
       "      <td>3</td>\n",
       "      <td>150</td>\n",
       "      <td>3</td>\n",
       "      <td>0</td>\n",
       "      <td>0</td>\n",
       "      <td>1</td>\n",
       "      <td>1</td>\n",
       "      <td>0</td>\n",
       "      <td>0</td>\n",
       "    </tr>\n",
       "    <tr>\n",
       "      <th>3</th>\n",
       "      <td>22</td>\n",
       "      <td>119776</td>\n",
       "      <td>0</td>\n",
       "      <td>35</td>\n",
       "      <td>50</td>\n",
       "      <td>1</td>\n",
       "      <td>0</td>\n",
       "      <td>0</td>\n",
       "      <td>3</td>\n",
       "      <td>149</td>\n",
       "      <td>3</td>\n",
       "      <td>0</td>\n",
       "      <td>0</td>\n",
       "      <td>0</td>\n",
       "      <td>1</td>\n",
       "      <td>0</td>\n",
       "      <td>0</td>\n",
       "    </tr>\n",
       "    <tr>\n",
       "      <th>4</th>\n",
       "      <td>23</td>\n",
       "      <td>134254</td>\n",
       "      <td>0</td>\n",
       "      <td>35</td>\n",
       "      <td>50</td>\n",
       "      <td>0</td>\n",
       "      <td>1</td>\n",
       "      <td>0</td>\n",
       "      <td>3</td>\n",
       "      <td>150</td>\n",
       "      <td>3</td>\n",
       "      <td>0</td>\n",
       "      <td>0</td>\n",
       "      <td>1</td>\n",
       "      <td>1</td>\n",
       "      <td>0</td>\n",
       "      <td>0</td>\n",
       "    </tr>\n",
       "    <tr>\n",
       "      <th>...</th>\n",
       "      <td>...</td>\n",
       "      <td>...</td>\n",
       "      <td>...</td>\n",
       "      <td>...</td>\n",
       "      <td>...</td>\n",
       "      <td>...</td>\n",
       "      <td>...</td>\n",
       "      <td>...</td>\n",
       "      <td>...</td>\n",
       "      <td>...</td>\n",
       "      <td>...</td>\n",
       "      <td>...</td>\n",
       "      <td>...</td>\n",
       "      <td>...</td>\n",
       "      <td>...</td>\n",
       "      <td>...</td>\n",
       "      <td>...</td>\n",
       "    </tr>\n",
       "    <tr>\n",
       "      <th>13647304</th>\n",
       "      <td>22</td>\n",
       "      <td>43912</td>\n",
       "      <td>0</td>\n",
       "      <td>33</td>\n",
       "      <td>50</td>\n",
       "      <td>1</td>\n",
       "      <td>0</td>\n",
       "      <td>0</td>\n",
       "      <td>3</td>\n",
       "      <td>150</td>\n",
       "      <td>3</td>\n",
       "      <td>0</td>\n",
       "      <td>0</td>\n",
       "      <td>1</td>\n",
       "      <td>1</td>\n",
       "      <td>0</td>\n",
       "      <td>0</td>\n",
       "    </tr>\n",
       "    <tr>\n",
       "      <th>13647305</th>\n",
       "      <td>23</td>\n",
       "      <td>23335</td>\n",
       "      <td>0</td>\n",
       "      <td>33</td>\n",
       "      <td>26</td>\n",
       "      <td>1</td>\n",
       "      <td>0</td>\n",
       "      <td>0</td>\n",
       "      <td>3</td>\n",
       "      <td>150</td>\n",
       "      <td>3</td>\n",
       "      <td>0</td>\n",
       "      <td>0</td>\n",
       "      <td>1</td>\n",
       "      <td>1</td>\n",
       "      <td>0</td>\n",
       "      <td>0</td>\n",
       "    </tr>\n",
       "    <tr>\n",
       "      <th>13647306</th>\n",
       "      <td>47</td>\n",
       "      <td>134254</td>\n",
       "      <td>0</td>\n",
       "      <td>33</td>\n",
       "      <td>50</td>\n",
       "      <td>0</td>\n",
       "      <td>1</td>\n",
       "      <td>0</td>\n",
       "      <td>2</td>\n",
       "      <td>150</td>\n",
       "      <td>3</td>\n",
       "      <td>0</td>\n",
       "      <td>0</td>\n",
       "      <td>0</td>\n",
       "      <td>1</td>\n",
       "      <td>0</td>\n",
       "      <td>0</td>\n",
       "    </tr>\n",
       "    <tr>\n",
       "      <th>13647307</th>\n",
       "      <td>22</td>\n",
       "      <td>199593</td>\n",
       "      <td>0</td>\n",
       "      <td>33</td>\n",
       "      <td>50</td>\n",
       "      <td>1</td>\n",
       "      <td>0</td>\n",
       "      <td>0</td>\n",
       "      <td>3</td>\n",
       "      <td>150</td>\n",
       "      <td>3</td>\n",
       "      <td>0</td>\n",
       "      <td>0</td>\n",
       "      <td>0</td>\n",
       "      <td>1</td>\n",
       "      <td>0</td>\n",
       "      <td>0</td>\n",
       "    </tr>\n",
       "    <tr>\n",
       "      <th>13647308</th>\n",
       "      <td>37</td>\n",
       "      <td>134254</td>\n",
       "      <td>0</td>\n",
       "      <td>0</td>\n",
       "      <td>28</td>\n",
       "      <td>5</td>\n",
       "      <td>1</td>\n",
       "      <td>0</td>\n",
       "      <td>0</td>\n",
       "      <td>162</td>\n",
       "      <td>3</td>\n",
       "      <td>1</td>\n",
       "      <td>5</td>\n",
       "      <td>0</td>\n",
       "      <td>1</td>\n",
       "      <td>0</td>\n",
       "      <td>0</td>\n",
       "    </tr>\n",
       "  </tbody>\n",
       "</table>\n",
       "<p>13619504 rows × 17 columns</p>\n",
       "</div>"
      ],
      "text/plain": [
       "          age   renta  indfall_enc  antiguedad_enc  cod_prov_enc  \\\n",
       "0          35   87218            0               6            29   \n",
       "1          23   35549            0              35            13   \n",
       "2          23  122179            0              35            13   \n",
       "3          22  119776            0              35            50   \n",
       "4          23  134254            0              35            50   \n",
       "...       ...     ...          ...             ...           ...   \n",
       "13647304   22   43912            0              33            50   \n",
       "13647305   23   23335            0              33            26   \n",
       "13647306   47  134254            0              33            50   \n",
       "13647307   22  199593            0              33            50   \n",
       "13647308   37  134254            0               0            28   \n",
       "\n",
       "          tiprel_1mes_enc  ind_actividad_cliente_enc  indrel_enc  \\\n",
       "0                       0                          1           0   \n",
       "1                       1                          0           0   \n",
       "2                       1                          0           0   \n",
       "3                       1                          0           0   \n",
       "4                       0                          1           0   \n",
       "...                   ...                        ...         ...   \n",
       "13647304                1                          0           0   \n",
       "13647305                1                          0           0   \n",
       "13647306                0                          1           0   \n",
       "13647307                1                          0           0   \n",
       "13647308                5                          1           0   \n",
       "\n",
       "          segmento_enc  canal_entrada_enc  ind_empleado_enc  ind_nuevo_enc  \\\n",
       "0                    2                153                 3              0   \n",
       "1                    3                150                 3              0   \n",
       "2                    3                150                 3              0   \n",
       "3                    3                149                 3              0   \n",
       "4                    3                150                 3              0   \n",
       "...                ...                ...               ...            ...   \n",
       "13647304             3                150                 3              0   \n",
       "13647305             3                150                 3              0   \n",
       "13647306             2                150                 3              0   \n",
       "13647307             3                150                 3              0   \n",
       "13647308             0                162                 3              1   \n",
       "\n",
       "          indrel_1mes_enc  sexo_enc  indresi_enc  indext_enc  \\\n",
       "0                       0         0            1           0   \n",
       "1                       0         1            1           1   \n",
       "2                       0         1            1           0   \n",
       "3                       0         0            1           0   \n",
       "4                       0         1            1           0   \n",
       "...                   ...       ...          ...         ...   \n",
       "13647304                0         1            1           0   \n",
       "13647305                0         1            1           0   \n",
       "13647306                0         0            1           0   \n",
       "13647307                0         0            1           0   \n",
       "13647308                5         0            1           0   \n",
       "\n",
       "          pais_residencia_enc  \n",
       "0                           0  \n",
       "1                           0  \n",
       "2                           0  \n",
       "3                           0  \n",
       "4                           0  \n",
       "...                       ...  \n",
       "13647304                    0  \n",
       "13647305                    0  \n",
       "13647306                    0  \n",
       "13647307                    0  \n",
       "13647308                    0  \n",
       "\n",
       "[13619504 rows x 17 columns]"
      ]
     },
     "execution_count": 77,
     "metadata": {},
     "output_type": "execute_result"
    }
   ],
   "source": [
    "X"
   ]
  },
  {
   "cell_type": "code",
   "execution_count": 78,
   "id": "89df7ee3",
   "metadata": {
    "collapsed": false
   },
   "outputs": [
    {
     "data": {
      "text/html": [
       "<div>\n",
       "<style scoped>\n",
       "    .dataframe tbody tr th:only-of-type {\n",
       "        vertical-align: middle;\n",
       "    }\n",
       "\n",
       "    .dataframe tbody tr th {\n",
       "        vertical-align: top;\n",
       "    }\n",
       "\n",
       "    .dataframe thead th {\n",
       "        text-align: right;\n",
       "    }\n",
       "</style>\n",
       "<table border=\"1\" class=\"dataframe\">\n",
       "  <thead>\n",
       "    <tr style=\"text-align: right;\">\n",
       "      <th></th>\n",
       "      <th>ind_ahor_fin_ult1</th>\n",
       "      <th>ind_aval_fin_ult1</th>\n",
       "      <th>ind_cco_fin_ult1</th>\n",
       "      <th>ind_cder_fin_ult1</th>\n",
       "      <th>ind_cno_fin_ult1</th>\n",
       "      <th>ind_ctju_fin_ult1</th>\n",
       "      <th>ind_ctma_fin_ult1</th>\n",
       "      <th>ind_ctop_fin_ult1</th>\n",
       "      <th>ind_ctpp_fin_ult1</th>\n",
       "      <th>ind_deco_fin_ult1</th>\n",
       "      <th>...</th>\n",
       "      <th>ind_hip_fin_ult1</th>\n",
       "      <th>ind_plan_fin_ult1</th>\n",
       "      <th>ind_pres_fin_ult1</th>\n",
       "      <th>ind_reca_fin_ult1</th>\n",
       "      <th>ind_tjcr_fin_ult1</th>\n",
       "      <th>ind_valo_fin_ult1</th>\n",
       "      <th>ind_viv_fin_ult1</th>\n",
       "      <th>ind_nomina_ult1</th>\n",
       "      <th>ind_nom_pens_ult1</th>\n",
       "      <th>ind_recibo_ult1</th>\n",
       "    </tr>\n",
       "  </thead>\n",
       "  <tbody>\n",
       "    <tr>\n",
       "      <th>0</th>\n",
       "      <td>False</td>\n",
       "      <td>False</td>\n",
       "      <td>True</td>\n",
       "      <td>False</td>\n",
       "      <td>False</td>\n",
       "      <td>False</td>\n",
       "      <td>False</td>\n",
       "      <td>False</td>\n",
       "      <td>False</td>\n",
       "      <td>False</td>\n",
       "      <td>...</td>\n",
       "      <td>False</td>\n",
       "      <td>False</td>\n",
       "      <td>False</td>\n",
       "      <td>False</td>\n",
       "      <td>False</td>\n",
       "      <td>False</td>\n",
       "      <td>False</td>\n",
       "      <td>False</td>\n",
       "      <td>False</td>\n",
       "      <td>False</td>\n",
       "    </tr>\n",
       "    <tr>\n",
       "      <th>1</th>\n",
       "      <td>False</td>\n",
       "      <td>False</td>\n",
       "      <td>True</td>\n",
       "      <td>False</td>\n",
       "      <td>False</td>\n",
       "      <td>False</td>\n",
       "      <td>False</td>\n",
       "      <td>False</td>\n",
       "      <td>False</td>\n",
       "      <td>False</td>\n",
       "      <td>...</td>\n",
       "      <td>False</td>\n",
       "      <td>False</td>\n",
       "      <td>False</td>\n",
       "      <td>False</td>\n",
       "      <td>False</td>\n",
       "      <td>False</td>\n",
       "      <td>False</td>\n",
       "      <td>False</td>\n",
       "      <td>False</td>\n",
       "      <td>False</td>\n",
       "    </tr>\n",
       "    <tr>\n",
       "      <th>2</th>\n",
       "      <td>False</td>\n",
       "      <td>False</td>\n",
       "      <td>True</td>\n",
       "      <td>False</td>\n",
       "      <td>False</td>\n",
       "      <td>False</td>\n",
       "      <td>False</td>\n",
       "      <td>False</td>\n",
       "      <td>False</td>\n",
       "      <td>False</td>\n",
       "      <td>...</td>\n",
       "      <td>False</td>\n",
       "      <td>False</td>\n",
       "      <td>False</td>\n",
       "      <td>False</td>\n",
       "      <td>False</td>\n",
       "      <td>False</td>\n",
       "      <td>False</td>\n",
       "      <td>False</td>\n",
       "      <td>False</td>\n",
       "      <td>False</td>\n",
       "    </tr>\n",
       "    <tr>\n",
       "      <th>3</th>\n",
       "      <td>False</td>\n",
       "      <td>False</td>\n",
       "      <td>False</td>\n",
       "      <td>False</td>\n",
       "      <td>False</td>\n",
       "      <td>False</td>\n",
       "      <td>False</td>\n",
       "      <td>False</td>\n",
       "      <td>False</td>\n",
       "      <td>True</td>\n",
       "      <td>...</td>\n",
       "      <td>False</td>\n",
       "      <td>False</td>\n",
       "      <td>False</td>\n",
       "      <td>False</td>\n",
       "      <td>False</td>\n",
       "      <td>False</td>\n",
       "      <td>False</td>\n",
       "      <td>False</td>\n",
       "      <td>False</td>\n",
       "      <td>False</td>\n",
       "    </tr>\n",
       "    <tr>\n",
       "      <th>4</th>\n",
       "      <td>False</td>\n",
       "      <td>False</td>\n",
       "      <td>True</td>\n",
       "      <td>False</td>\n",
       "      <td>False</td>\n",
       "      <td>False</td>\n",
       "      <td>False</td>\n",
       "      <td>False</td>\n",
       "      <td>False</td>\n",
       "      <td>False</td>\n",
       "      <td>...</td>\n",
       "      <td>False</td>\n",
       "      <td>False</td>\n",
       "      <td>False</td>\n",
       "      <td>False</td>\n",
       "      <td>False</td>\n",
       "      <td>False</td>\n",
       "      <td>False</td>\n",
       "      <td>False</td>\n",
       "      <td>False</td>\n",
       "      <td>False</td>\n",
       "    </tr>\n",
       "    <tr>\n",
       "      <th>...</th>\n",
       "      <td>...</td>\n",
       "      <td>...</td>\n",
       "      <td>...</td>\n",
       "      <td>...</td>\n",
       "      <td>...</td>\n",
       "      <td>...</td>\n",
       "      <td>...</td>\n",
       "      <td>...</td>\n",
       "      <td>...</td>\n",
       "      <td>...</td>\n",
       "      <td>...</td>\n",
       "      <td>...</td>\n",
       "      <td>...</td>\n",
       "      <td>...</td>\n",
       "      <td>...</td>\n",
       "      <td>...</td>\n",
       "      <td>...</td>\n",
       "      <td>...</td>\n",
       "      <td>...</td>\n",
       "      <td>...</td>\n",
       "      <td>...</td>\n",
       "    </tr>\n",
       "    <tr>\n",
       "      <th>13647304</th>\n",
       "      <td>False</td>\n",
       "      <td>False</td>\n",
       "      <td>True</td>\n",
       "      <td>False</td>\n",
       "      <td>False</td>\n",
       "      <td>False</td>\n",
       "      <td>False</td>\n",
       "      <td>False</td>\n",
       "      <td>False</td>\n",
       "      <td>False</td>\n",
       "      <td>...</td>\n",
       "      <td>False</td>\n",
       "      <td>False</td>\n",
       "      <td>False</td>\n",
       "      <td>False</td>\n",
       "      <td>False</td>\n",
       "      <td>False</td>\n",
       "      <td>False</td>\n",
       "      <td>False</td>\n",
       "      <td>False</td>\n",
       "      <td>False</td>\n",
       "    </tr>\n",
       "    <tr>\n",
       "      <th>13647305</th>\n",
       "      <td>False</td>\n",
       "      <td>False</td>\n",
       "      <td>True</td>\n",
       "      <td>False</td>\n",
       "      <td>False</td>\n",
       "      <td>False</td>\n",
       "      <td>False</td>\n",
       "      <td>False</td>\n",
       "      <td>False</td>\n",
       "      <td>False</td>\n",
       "      <td>...</td>\n",
       "      <td>False</td>\n",
       "      <td>False</td>\n",
       "      <td>False</td>\n",
       "      <td>False</td>\n",
       "      <td>False</td>\n",
       "      <td>False</td>\n",
       "      <td>False</td>\n",
       "      <td>False</td>\n",
       "      <td>False</td>\n",
       "      <td>False</td>\n",
       "    </tr>\n",
       "    <tr>\n",
       "      <th>13647306</th>\n",
       "      <td>False</td>\n",
       "      <td>False</td>\n",
       "      <td>True</td>\n",
       "      <td>False</td>\n",
       "      <td>False</td>\n",
       "      <td>False</td>\n",
       "      <td>False</td>\n",
       "      <td>False</td>\n",
       "      <td>False</td>\n",
       "      <td>False</td>\n",
       "      <td>...</td>\n",
       "      <td>False</td>\n",
       "      <td>False</td>\n",
       "      <td>False</td>\n",
       "      <td>False</td>\n",
       "      <td>False</td>\n",
       "      <td>False</td>\n",
       "      <td>False</td>\n",
       "      <td>False</td>\n",
       "      <td>False</td>\n",
       "      <td>False</td>\n",
       "    </tr>\n",
       "    <tr>\n",
       "      <th>13647307</th>\n",
       "      <td>False</td>\n",
       "      <td>False</td>\n",
       "      <td>True</td>\n",
       "      <td>False</td>\n",
       "      <td>False</td>\n",
       "      <td>False</td>\n",
       "      <td>False</td>\n",
       "      <td>False</td>\n",
       "      <td>False</td>\n",
       "      <td>False</td>\n",
       "      <td>...</td>\n",
       "      <td>False</td>\n",
       "      <td>False</td>\n",
       "      <td>False</td>\n",
       "      <td>False</td>\n",
       "      <td>False</td>\n",
       "      <td>False</td>\n",
       "      <td>False</td>\n",
       "      <td>False</td>\n",
       "      <td>False</td>\n",
       "      <td>False</td>\n",
       "    </tr>\n",
       "    <tr>\n",
       "      <th>13647308</th>\n",
       "      <td>False</td>\n",
       "      <td>False</td>\n",
       "      <td>True</td>\n",
       "      <td>False</td>\n",
       "      <td>False</td>\n",
       "      <td>False</td>\n",
       "      <td>True</td>\n",
       "      <td>False</td>\n",
       "      <td>False</td>\n",
       "      <td>False</td>\n",
       "      <td>...</td>\n",
       "      <td>False</td>\n",
       "      <td>False</td>\n",
       "      <td>False</td>\n",
       "      <td>False</td>\n",
       "      <td>False</td>\n",
       "      <td>False</td>\n",
       "      <td>False</td>\n",
       "      <td>False</td>\n",
       "      <td>False</td>\n",
       "      <td>False</td>\n",
       "    </tr>\n",
       "  </tbody>\n",
       "</table>\n",
       "<p>13619504 rows × 24 columns</p>\n",
       "</div>"
      ],
      "text/plain": [
       "          ind_ahor_fin_ult1  ind_aval_fin_ult1  ind_cco_fin_ult1  \\\n",
       "0                     False              False              True   \n",
       "1                     False              False              True   \n",
       "2                     False              False              True   \n",
       "3                     False              False             False   \n",
       "4                     False              False              True   \n",
       "...                     ...                ...               ...   \n",
       "13647304              False              False              True   \n",
       "13647305              False              False              True   \n",
       "13647306              False              False              True   \n",
       "13647307              False              False              True   \n",
       "13647308              False              False              True   \n",
       "\n",
       "          ind_cder_fin_ult1  ind_cno_fin_ult1  ind_ctju_fin_ult1  \\\n",
       "0                     False             False              False   \n",
       "1                     False             False              False   \n",
       "2                     False             False              False   \n",
       "3                     False             False              False   \n",
       "4                     False             False              False   \n",
       "...                     ...               ...                ...   \n",
       "13647304              False             False              False   \n",
       "13647305              False             False              False   \n",
       "13647306              False             False              False   \n",
       "13647307              False             False              False   \n",
       "13647308              False             False              False   \n",
       "\n",
       "          ind_ctma_fin_ult1  ind_ctop_fin_ult1  ind_ctpp_fin_ult1  \\\n",
       "0                     False              False              False   \n",
       "1                     False              False              False   \n",
       "2                     False              False              False   \n",
       "3                     False              False              False   \n",
       "4                     False              False              False   \n",
       "...                     ...                ...                ...   \n",
       "13647304              False              False              False   \n",
       "13647305              False              False              False   \n",
       "13647306              False              False              False   \n",
       "13647307              False              False              False   \n",
       "13647308               True              False              False   \n",
       "\n",
       "          ind_deco_fin_ult1  ...  ind_hip_fin_ult1  ind_plan_fin_ult1  \\\n",
       "0                     False  ...             False              False   \n",
       "1                     False  ...             False              False   \n",
       "2                     False  ...             False              False   \n",
       "3                      True  ...             False              False   \n",
       "4                     False  ...             False              False   \n",
       "...                     ...  ...               ...                ...   \n",
       "13647304              False  ...             False              False   \n",
       "13647305              False  ...             False              False   \n",
       "13647306              False  ...             False              False   \n",
       "13647307              False  ...             False              False   \n",
       "13647308              False  ...             False              False   \n",
       "\n",
       "          ind_pres_fin_ult1  ind_reca_fin_ult1  ind_tjcr_fin_ult1  \\\n",
       "0                     False              False              False   \n",
       "1                     False              False              False   \n",
       "2                     False              False              False   \n",
       "3                     False              False              False   \n",
       "4                     False              False              False   \n",
       "...                     ...                ...                ...   \n",
       "13647304              False              False              False   \n",
       "13647305              False              False              False   \n",
       "13647306              False              False              False   \n",
       "13647307              False              False              False   \n",
       "13647308              False              False              False   \n",
       "\n",
       "          ind_valo_fin_ult1  ind_viv_fin_ult1  ind_nomina_ult1  \\\n",
       "0                     False             False            False   \n",
       "1                     False             False            False   \n",
       "2                     False             False            False   \n",
       "3                     False             False            False   \n",
       "4                     False             False            False   \n",
       "...                     ...               ...              ...   \n",
       "13647304              False             False            False   \n",
       "13647305              False             False            False   \n",
       "13647306              False             False            False   \n",
       "13647307              False             False            False   \n",
       "13647308              False             False            False   \n",
       "\n",
       "          ind_nom_pens_ult1  ind_recibo_ult1  \n",
       "0                     False            False  \n",
       "1                     False            False  \n",
       "2                     False            False  \n",
       "3                     False            False  \n",
       "4                     False            False  \n",
       "...                     ...              ...  \n",
       "13647304              False            False  \n",
       "13647305              False            False  \n",
       "13647306              False            False  \n",
       "13647307              False            False  \n",
       "13647308              False            False  \n",
       "\n",
       "[13619504 rows x 24 columns]"
      ]
     },
     "execution_count": 78,
     "metadata": {},
     "output_type": "execute_result"
    }
   ],
   "source": [
    "target"
   ]
  },
  {
   "cell_type": "markdown",
   "id": "ad47fb22",
   "metadata": {
    "collapsed": false
   },
   "source": [
    "# 模型"
   ]
  },
  {
   "cell_type": "code",
   "execution_count": null,
   "id": "01a5da66",
   "metadata": {
    "collapsed": false,
    "pycharm": {
     "is_executing": true
    }
   },
   "outputs": [],
   "source": [
    "from sklearn.model_selection import train_test_split\n",
    "from sklearn.ensemble import RandomForestClassifier, GradientBoostingClassifier\n",
    "from xgboost import XGBClassifier\n",
    "from lightgbm import LGBMClassifier\n",
    "\n",
    "Xtrain, Xvalidation, Ytrain, Yvalidation = train_test_split(X, target, test_size=0.3)\n",
    "rfc = RandomForestClassifier(random_state=0)\n",
    "rfc = rfc.fit(Xtrain, Ytrain)\n",
    "score_r = rfc.score(Xvalidation, Yvalidation)"
   ]
  },
  {
   "cell_type": "code",
   "execution_count": 86,
   "id": "05958874",
   "metadata": {
    "collapsed": false
   },
   "outputs": [],
   "source": []
  }
 ],
 "metadata": {
  "kernelspec": {
   "display_name": "Python 3 (ipykernel)",
   "language": "python",
   "name": "python3"
  },
  "language_info": {
   "codemirror_mode": {
    "name": "ipython",
    "version": 3
   },
   "file_extension": ".py",
   "mimetype": "text/x-python",
   "name": "python",
   "nbconvert_exporter": "python",
   "pygments_lexer": "ipython3",
   "version": "3.10.8"
  },
  "widgets": {
   "application/vnd.jupyter.widget-state+json": {
    "state": {},
    "version_major": 2,
    "version_minor": 0
   }
  }
 },
 "nbformat": 4,
 "nbformat_minor": 5
}
