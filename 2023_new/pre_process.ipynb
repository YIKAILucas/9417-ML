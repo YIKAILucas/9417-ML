{
 "cells": [
  {
   "cell_type": "code",
   "execution_count": 1,
   "id": "9bfc8afc-46f6-46fc-9dac-cd500bee20f5",
   "metadata": {},
   "outputs": [],
   "source": [
    "import pandas as pd\n",
    "import matplotlib.pyplot as plt\n",
    "import seaborn as sns\n",
    "import numpy as np\n",
    "from sklearn.pipeline import Pipeline\n",
    "import sklearn.preprocessing as preprocessing\n",
    "from IPython.core.interactiveshell import InteractiveShell\n",
    "\n",
    "from sklearn.model_selection import train_test_split\n",
    "from sklearn.ensemble import RandomForestClassifier, GradientBoostingClassifier\n",
    "from sklearn.linear_model import LogisticRegression\n",
    "from sklearn.linear_model import SGDClassifier\n",
    "from sklearn.svm import SVC\n",
    "from sklearn.feature_selection import SelectKBest, SelectFromModel\n",
    "from xgboost import XGBClassifier\n",
    "from lightgbm import LGBMClassifier\n",
    "\n",
    "from sklearn.metrics import classification_report, roc_auc_score, ConfusionMatrixDisplay\n",
    "\n",
    "InteractiveShell.ast_node_interactivity = 'all'\n",
    "\n",
    "to_show = True\n",
    "to_save = False\n",
    "is_sample = False\n",
    "is_sample = True\n",
    "limit_rows = 1000"
   ]
  },
  {
   "cell_type": "code",
   "execution_count": 2,
   "id": "5f80f075",
   "metadata": {
    "collapsed": false,
    "jupyter": {
     "outputs_hidden": false
    }
   },
   "outputs": [],
   "source": [
    "# This data cleaning part gets ideas from https://www.kaggle.com/apryor6/detailed-cleaning-visualization-python\n",
    "# HAN YIKAI takes charge of feature 1-9\n",
    "# official file\n",
    "train_file = '../input/train_ver2.csv'\n",
    "test_file = '../input/test_ver2.csv'\n",
    "\n",
    "out_path = '../output/'\n",
    "\n",
    "\n",
    "def save_df2file(data_frame: pd.DataFrame, name: str):\n",
    "    data_frame.to_csv(f'{out_path}{name}.csv')\n",
    "\n",
    "# sns.set(rc = {'figure.figsize':(20,18)})\n"
   ]
  },
  {
   "cell_type": "code",
   "execution_count": 3,
   "id": "8ff50493",
   "metadata": {
    "collapsed": false,
    "jupyter": {
     "outputs_hidden": false
    }
   },
   "outputs": [],
   "source": [
    "# test_df = pd.read_csv(test_file,\n",
    "#                       dtype={'sexo': str,\n",
    "#                              'ind_nuevo': str,\n",
    "#                              'ult_fec_cli_1t': str,\n",
    "#                              'indext': str},\n",
    "#                       # nrows=limit_rows,\n",
    "#                       low_memory=False\n",
    "#                       )"
   ]
  },
  {
   "cell_type": "code",
   "execution_count": 4,
   "id": "e8b56e18",
   "metadata": {
    "collapsed": false,
    "jupyter": {
     "outputs_hidden": false
    }
   },
   "outputs": [
    {
     "name": "stdout",
     "output_type": "stream",
     "text": [
      "<class 'pandas.core.frame.DataFrame'>\n",
      "Int64Index: 136473 entries, 2428958 to 943302\n",
      "Data columns (total 48 columns):\n",
      " #   Column                 Non-Null Count   Dtype  \n",
      "---  ------                 --------------   -----  \n",
      " 0   fecha_dato             136473 non-null  object \n",
      " 1   ncodpers               136473 non-null  int64  \n",
      " 2   ind_empleado           136213 non-null  object \n",
      " 3   pais_residencia        136213 non-null  object \n",
      " 4   sexo                   136211 non-null  object \n",
      " 5   age                    136473 non-null  object \n",
      " 6   fecha_alta             136213 non-null  object \n",
      " 7   ind_nuevo              136213 non-null  object \n",
      " 8   antiguedad             136473 non-null  object \n",
      " 9   indrel                 136213 non-null  float64\n",
      " 10  ult_fec_cli_1t         230 non-null     object \n",
      " 11  indrel_1mes            134963 non-null  object \n",
      " 12  tiprel_1mes            134963 non-null  object \n",
      " 13  indresi                136213 non-null  object \n",
      " 14  indext                 136213 non-null  object \n",
      " 15  conyuemp               19 non-null      object \n",
      " 16  canal_entrada          134596 non-null  object \n",
      " 17  indfall                136213 non-null  object \n",
      " 18  tipodom                136213 non-null  float64\n",
      " 19  cod_prov               135523 non-null  float64\n",
      " 20  nomprov                135523 non-null  object \n",
      " 21  ind_actividad_cliente  136213 non-null  float64\n",
      " 22  renta                  108376 non-null  float64\n",
      " 23  segmento               134562 non-null  object \n",
      " 24  ind_ahor_fin_ult1      136473 non-null  int64  \n",
      " 25  ind_aval_fin_ult1      136473 non-null  int64  \n",
      " 26  ind_cco_fin_ult1       136473 non-null  int64  \n",
      " 27  ind_cder_fin_ult1      136473 non-null  int64  \n",
      " 28  ind_cno_fin_ult1       136473 non-null  int64  \n",
      " 29  ind_ctju_fin_ult1      136473 non-null  int64  \n",
      " 30  ind_ctma_fin_ult1      136473 non-null  int64  \n",
      " 31  ind_ctop_fin_ult1      136473 non-null  int64  \n",
      " 32  ind_ctpp_fin_ult1      136473 non-null  int64  \n",
      " 33  ind_deco_fin_ult1      136473 non-null  int64  \n",
      " 34  ind_deme_fin_ult1      136473 non-null  int64  \n",
      " 35  ind_dela_fin_ult1      136473 non-null  int64  \n",
      " 36  ind_ecue_fin_ult1      136473 non-null  int64  \n",
      " 37  ind_fond_fin_ult1      136473 non-null  int64  \n",
      " 38  ind_hip_fin_ult1       136473 non-null  int64  \n",
      " 39  ind_plan_fin_ult1      136473 non-null  int64  \n",
      " 40  ind_pres_fin_ult1      136473 non-null  int64  \n",
      " 41  ind_reca_fin_ult1      136473 non-null  int64  \n",
      " 42  ind_tjcr_fin_ult1      136473 non-null  int64  \n",
      " 43  ind_valo_fin_ult1      136473 non-null  int64  \n",
      " 44  ind_viv_fin_ult1       136473 non-null  int64  \n",
      " 45  ind_nomina_ult1        136318 non-null  float64\n",
      " 46  ind_nom_pens_ult1      136318 non-null  float64\n",
      " 47  ind_recibo_ult1        136473 non-null  int64  \n",
      "dtypes: float64(7), int64(23), object(18)\n",
      "memory usage: 51.0+ MB\n"
     ]
    }
   ],
   "source": [
    "df = pd.read_csv(train_file,\n",
    "                 dtype={'sexo': str,\n",
    "                        'ind_nuevo': str,\n",
    "                        'ult_fec_cli_1t': str,\n",
    "                        'indext': str},\n",
    "                 # nrows=limit_rows,\n",
    "                 low_memory=False\n",
    "                 )\n",
    "\n",
    "# resample the data for saving memory and shuffle the dataset\n",
    "if is_sample:\n",
    "    df = df.sample(frac=0.01)\n",
    "\n",
    "y_name_list = list(df.iloc[:, 24:].columns)\n",
    "x_name_list = list(df.iloc[:, :24].columns)\n",
    "# df = df[order]\n",
    "df.info()"
   ]
  },
  {
   "cell_type": "code",
   "execution_count": 5,
   "id": "ca2bdce7",
   "metadata": {
    "collapsed": false
   },
   "outputs": [
    {
     "data": {
      "text/plain": [
       "ind_ahor_fin_ult1      0\n",
       "ind_aval_fin_ult1      0\n",
       "ind_cco_fin_ult1       0\n",
       "ind_cder_fin_ult1      0\n",
       "ind_cno_fin_ult1       0\n",
       "ind_ctju_fin_ult1      0\n",
       "ind_ctma_fin_ult1      0\n",
       "ind_ctop_fin_ult1      0\n",
       "ind_ctpp_fin_ult1      0\n",
       "ind_deco_fin_ult1      0\n",
       "ind_deme_fin_ult1      0\n",
       "ind_dela_fin_ult1      0\n",
       "ind_ecue_fin_ult1      0\n",
       "ind_fond_fin_ult1      0\n",
       "ind_hip_fin_ult1       0\n",
       "ind_plan_fin_ult1      0\n",
       "ind_pres_fin_ult1      0\n",
       "ind_reca_fin_ult1      0\n",
       "ind_tjcr_fin_ult1      0\n",
       "ind_valo_fin_ult1      0\n",
       "ind_viv_fin_ult1       0\n",
       "ind_nomina_ult1      155\n",
       "ind_nom_pens_ult1    155\n",
       "ind_recibo_ult1        0\n",
       "dtype: int64"
      ]
     },
     "execution_count": 5,
     "metadata": {},
     "output_type": "execute_result"
    }
   ],
   "source": [
    "df.loc[:, y_name_list].isna().sum()"
   ]
  },
  {
   "cell_type": "code",
   "execution_count": 6,
   "id": "d0b3fef4",
   "metadata": {
    "collapsed": false
   },
   "outputs": [
    {
     "data": {
      "text/plain": [
       "['ind_ahor_fin_ult1',\n",
       " 'ind_aval_fin_ult1',\n",
       " 'ind_cco_fin_ult1',\n",
       " 'ind_cder_fin_ult1',\n",
       " 'ind_cno_fin_ult1',\n",
       " 'ind_ctju_fin_ult1',\n",
       " 'ind_ctma_fin_ult1',\n",
       " 'ind_ctop_fin_ult1',\n",
       " 'ind_ctpp_fin_ult1',\n",
       " 'ind_deco_fin_ult1',\n",
       " 'ind_deme_fin_ult1',\n",
       " 'ind_dela_fin_ult1',\n",
       " 'ind_ecue_fin_ult1',\n",
       " 'ind_fond_fin_ult1',\n",
       " 'ind_hip_fin_ult1',\n",
       " 'ind_plan_fin_ult1',\n",
       " 'ind_pres_fin_ult1',\n",
       " 'ind_reca_fin_ult1',\n",
       " 'ind_tjcr_fin_ult1',\n",
       " 'ind_valo_fin_ult1',\n",
       " 'ind_viv_fin_ult1',\n",
       " 'ind_nomina_ult1',\n",
       " 'ind_nom_pens_ult1',\n",
       " 'ind_recibo_ult1']"
      ]
     },
     "execution_count": 6,
     "metadata": {},
     "output_type": "execute_result"
    }
   ],
   "source": [
    "y_name_list"
   ]
  },
  {
   "cell_type": "code",
   "execution_count": 7,
   "id": "34ce9a38",
   "metadata": {
    "collapsed": false
   },
   "outputs": [],
   "source": [
    "# 评估\n",
    "def print_evaluation(y_true, y_pred):\n",
    "    pass\n"
   ]
  },
  {
   "cell_type": "code",
   "execution_count": 8,
   "id": "2b7cbd41",
   "metadata": {
    "collapsed": false
   },
   "outputs": [],
   "source": [
    "# 复用函数\n",
    "\n",
    "# 统计缺失值的列\n",
    "def cal_loss(data):\n",
    "    fil = data.iloc[:, :24].isnull().any()\n",
    "    loss_column = fil[fil == True].index\n",
    "    res = data.loc[:, loss_column].isnull().sum()\n",
    "    print(res)\n",
    "\n",
    "#\n",
    "# def renew_df(base_df: pd.DataFrame):\n",
    "#     new_df = base_df\n",
    "#     base_df = df.copy(deep=True)\n",
    "#     return new_df"
   ]
  },
  {
   "cell_type": "code",
   "execution_count": 8,
   "id": "e12ba162",
   "metadata": {
    "collapsed": false
   },
   "outputs": [],
   "source": []
  },
  {
   "cell_type": "code",
   "execution_count": 9,
   "id": "32ce7750",
   "metadata": {
    "collapsed": false
   },
   "outputs": [
    {
     "name": "stderr",
     "output_type": "stream",
     "text": [
      "/tmp/ipykernel_71272/3066333033.py:5: FutureWarning: In a future version, `df.iloc[:, i] = newvals` will attempt to set the values inplace instead of always setting a new array. To retain the old behavior, use either `df[df.columns[i]] = newvals` or, if columns are non-unique, `df.isetitem(i, newvals)`\n",
      "  df.loc[:, y_name_list] = df.loc[:, y_name_list].astype('uint8')\n"
     ]
    },
    {
     "data": {
      "text/plain": [
       "ind_ahor_fin_ult1  ind_aval_fin_ult1  ind_cco_fin_ult1  ind_cder_fin_ult1  ind_cno_fin_ult1  ind_ctju_fin_ult1  ind_ctma_fin_ult1  ind_ctop_fin_ult1  ind_ctpp_fin_ult1  ind_deco_fin_ult1  ind_deme_fin_ult1  ind_dela_fin_ult1  ind_ecue_fin_ult1  ind_fond_fin_ult1  ind_hip_fin_ult1  ind_plan_fin_ult1  ind_pres_fin_ult1  ind_reca_fin_ult1  ind_tjcr_fin_ult1  ind_valo_fin_ult1  ind_viv_fin_ult1  ind_nomina_ult1  ind_nom_pens_ult1  ind_recibo_ult1\n",
       "0                  0                  1                 0                  0                 0                  0                  0                  0                  0                  0                  0                  0                  0                  0                 0                  0                  0                  0                  0                  0                 0                0                  0                  60791\n",
       "                                      0                 0                  0                 0                  0                  0                  0                  0                  0                  0                  0                  0                  0                 0                  0                  0                  0                  0                  0                 0                0                  0                  25524\n",
       "                                      1                 0                  0                 0                  0                  1                  0                  0                  0                  0                  0                  0                  0                 0                  0                  0                  0                  0                  0                 0                0                  0                   6796\n",
       "                                                                                                                                   0                  0                  0                  0                  0                  0                  0                  0                 0                  0                  0                  0                  0                  0                 0                0                  1                   4150\n",
       "                                      0                 0                  0                 0                  0                  1                  0                  0                  0                  0                  0                  0                  0                 0                  0                  0                  0                  0                  0                 0                0                  0                   4075\n",
       "                                                                                                                                                                                                                                                                                                                                                                                                                                                                  ...  \n",
       "                                                                           1                 0                  0                  1                  0                  0                  0                  0                  0                  1                  0                 0                  0                  0                  0                  1                  1                 1                1                  1                      1\n",
       "                                                                                                                                                                                                                                                                                                                                                   1                  0                  0                 0                0                  0                      1\n",
       "                                                                           0                 1                  0                  0                  0                  0                  0                  1                  0                  0                  0                 0                  0                  0                  0                  0                  0                 0                0                  0                      1\n",
       "                                      1                 0                  0                 0                  0                  0                  1                  0                  0                  0                  1                  0                  0                 0                  0                  1                  0                  0                  0                 1                1                  1                      1\n",
       "1                  0                  1                 0                  0                 0                  0                  1                  0                  0                  0                  1                  0                  0                  0                 0                  0                  1                  0                  0                  0                 0                0                  1                      1\n",
       "Length: 2737, dtype: int64"
      ]
     },
     "execution_count": 9,
     "metadata": {},
     "output_type": "execute_result"
    }
   ],
   "source": [
    "# 删除y值空缺的行\n",
    "df.drop(df[df['ind_nomina_ult1'].isnull()].index, inplace=True)\n",
    "\n",
    "# 调整label的格式节省空间, 能节约2.1G 空间, 将近一半\n",
    "df.loc[:, y_name_list] = df.loc[:, y_name_list].astype('uint8')\n",
    "df.loc[:, y_name_list].value_counts(dropna=False)"
   ]
  },
  {
   "cell_type": "code",
   "execution_count": 10,
   "id": "a21c41a6",
   "metadata": {
    "collapsed": false,
    "jupyter": {
     "outputs_hidden": false
    }
   },
   "outputs": [
    {
     "name": "stdout",
     "output_type": "stream",
     "text": [
      "<class 'pandas.core.frame.DataFrame'>\n",
      "Int64Index: 136318 entries, 2428958 to 943302\n",
      "Data columns (total 48 columns):\n",
      " #   Column                 Non-Null Count   Dtype  \n",
      "---  ------                 --------------   -----  \n",
      " 0   fecha_dato             136318 non-null  object \n",
      " 1   ncodpers               136318 non-null  int64  \n",
      " 2   ind_empleado           136213 non-null  object \n",
      " 3   pais_residencia        136213 non-null  object \n",
      " 4   sexo                   136211 non-null  object \n",
      " 5   age                    136318 non-null  object \n",
      " 6   fecha_alta             136213 non-null  object \n",
      " 7   ind_nuevo              136213 non-null  object \n",
      " 8   antiguedad             136318 non-null  object \n",
      " 9   indrel                 136213 non-null  float64\n",
      " 10  ult_fec_cli_1t         230 non-null     object \n",
      " 11  indrel_1mes            134963 non-null  object \n",
      " 12  tiprel_1mes            134963 non-null  object \n",
      " 13  indresi                136213 non-null  object \n",
      " 14  indext                 136213 non-null  object \n",
      " 15  conyuemp               19 non-null      object \n",
      " 16  canal_entrada          134596 non-null  object \n",
      " 17  indfall                136213 non-null  object \n",
      " 18  tipodom                136213 non-null  float64\n",
      " 19  cod_prov               135523 non-null  float64\n",
      " 20  nomprov                135523 non-null  object \n",
      " 21  ind_actividad_cliente  136213 non-null  float64\n",
      " 22  renta                  108376 non-null  float64\n",
      " 23  segmento               134562 non-null  object \n",
      " 24  ind_ahor_fin_ult1      136318 non-null  uint8  \n",
      " 25  ind_aval_fin_ult1      136318 non-null  uint8  \n",
      " 26  ind_cco_fin_ult1       136318 non-null  uint8  \n",
      " 27  ind_cder_fin_ult1      136318 non-null  uint8  \n",
      " 28  ind_cno_fin_ult1       136318 non-null  uint8  \n",
      " 29  ind_ctju_fin_ult1      136318 non-null  uint8  \n",
      " 30  ind_ctma_fin_ult1      136318 non-null  uint8  \n",
      " 31  ind_ctop_fin_ult1      136318 non-null  uint8  \n",
      " 32  ind_ctpp_fin_ult1      136318 non-null  uint8  \n",
      " 33  ind_deco_fin_ult1      136318 non-null  uint8  \n",
      " 34  ind_deme_fin_ult1      136318 non-null  uint8  \n",
      " 35  ind_dela_fin_ult1      136318 non-null  uint8  \n",
      " 36  ind_ecue_fin_ult1      136318 non-null  uint8  \n",
      " 37  ind_fond_fin_ult1      136318 non-null  uint8  \n",
      " 38  ind_hip_fin_ult1       136318 non-null  uint8  \n",
      " 39  ind_plan_fin_ult1      136318 non-null  uint8  \n",
      " 40  ind_pres_fin_ult1      136318 non-null  uint8  \n",
      " 41  ind_reca_fin_ult1      136318 non-null  uint8  \n",
      " 42  ind_tjcr_fin_ult1      136318 non-null  uint8  \n",
      " 43  ind_valo_fin_ult1      136318 non-null  uint8  \n",
      " 44  ind_viv_fin_ult1       136318 non-null  uint8  \n",
      " 45  ind_nomina_ult1        136318 non-null  uint8  \n",
      " 46  ind_nom_pens_ult1      136318 non-null  uint8  \n",
      " 47  ind_recibo_ult1        136318 non-null  uint8  \n",
      "dtypes: float64(5), int64(1), object(18), uint8(24)\n",
      "memory usage: 29.1+ MB\n"
     ]
    }
   ],
   "source": [
    "df.info()"
   ]
  },
  {
   "cell_type": "code",
   "execution_count": 11,
   "id": "c4451f94",
   "metadata": {
    "collapsed": false,
    "jupyter": {
     "outputs_hidden": false
    }
   },
   "outputs": [],
   "source": [
    "# fecha_dato 日期\n",
    "# ncodpers 客户代码\n",
    "# ind_empleado 员工\n",
    "# pais_residencia 国藉\n",
    "# sexo 性别,\n",
    "# age 年龄\n",
    "# fecha_alta 注册日期,\n",
    "# ind_nuevo 新的,\n",
    "# antiguedad 古代,\n",
    "# indrel 最后访问日期, 一个月indrel\n",
    "# ult_fec_cli_1t  作为主要客户的日期\n",
    "# indrel_1mes  1 (First/Primary customer), 2 (co-owner ),P (Potential),3 (former primary), 4(former co-owner)\n",
    "# tiprel_1mes  月初客户关系类型 A (active), I (inactive), P (former customer 前客户),R (Potential 潜在客户)\n",
    "# indresi 居住指数S (Yes) 银行和居住国相同 N (No) 不同国家\n",
    "# indext  外国人指数, S 本国出生, N 非本国\n",
    "# conyuemp 配偶指数, S 客户是员工配偶\n",
    "# canal_entrada\n",
    "# indfall\n",
    "# tipodom\n",
    "# cod_prov 省份编码\n",
    "# nomprov 省份名称\n",
    "# ind_actividad_cliente\n",
    "# renta 家庭总收入\n",
    "# segmento segmentation: 01 - VIP, 02 - Individuals 03 - college graduated"
   ]
  },
  {
   "cell_type": "code",
   "execution_count": 12,
   "id": "e551abec",
   "metadata": {
    "collapsed": false
   },
   "outputs": [],
   "source": [
    "# cal_loss(df)"
   ]
  },
  {
   "cell_type": "code",
   "execution_count": 13,
   "id": "0c57ccbf",
   "metadata": {
    "collapsed": false,
    "jupyter": {
     "outputs_hidden": false
    }
   },
   "outputs": [],
   "source": [
    "# 删除27734条空行, 所有全空\n",
    "df.drop(df[df['ind_empleado'].isnull()].index, inplace=True)\n",
    "# 删除全other的空行, 所有全空\n",
    "df.drop(df[df['pais_residencia'] == 'others'].index, inplace=True)"
   ]
  },
  {
   "cell_type": "code",
   "execution_count": 14,
   "id": "ab2a825b",
   "metadata": {
    "collapsed": false
   },
   "outputs": [],
   "source": [
    "# 缺失值很少的删除行\n",
    "df.drop(df[df['sexo'].isnull()].index, inplace=True)\n",
    "df.drop(df[df['tipodom'].isnull()].index, inplace=True)"
   ]
  },
  {
   "cell_type": "code",
   "execution_count": 15,
   "id": "b4a95ae6",
   "metadata": {
    "collapsed": false
   },
   "outputs": [],
   "source": [
    "# 缺失值很多的删除列\n",
    "df.drop('ult_fec_cli_1t', axis=1, inplace=True)\n",
    "df.drop('conyuemp', axis=1, inplace=True)"
   ]
  },
  {
   "cell_type": "code",
   "execution_count": 16,
   "id": "be016cdc",
   "metadata": {
    "collapsed": false
   },
   "outputs": [],
   "source": [
    "# 省份名称直接删除, 省份编码缺失值用-1填充\n",
    "df.drop('nomprov', axis=1, inplace=True)\n",
    "df.cod_prov.fillna(-1, inplace=True)"
   ]
  },
  {
   "cell_type": "code",
   "execution_count": 17,
   "id": "5044d0f6",
   "metadata": {
    "collapsed": false
   },
   "outputs": [],
   "source": [
    "# df.loc[(df.ind_nomina_ult1.isna()) | (df.ind_nom_pens_ult1.isna()), y_name_list]"
   ]
  },
  {
   "cell_type": "code",
   "execution_count": 18,
   "id": "a9f76e10",
   "metadata": {
    "collapsed": false
   },
   "outputs": [],
   "source": [
    "# df.loc[(df.ind_nomina_ult1.isna()) & (df.ind_nom_pens_ult1.isna()), y_name_list].sum(axis=1)"
   ]
  },
  {
   "cell_type": "code",
   "execution_count": 19,
   "id": "688540b1",
   "metadata": {
    "collapsed": false
   },
   "outputs": [],
   "source": [
    "# (df.loc[:, y_name_list].sum(axis=1)==0).sum()"
   ]
  },
  {
   "cell_type": "code",
   "execution_count": 19,
   "id": "b58ab300",
   "metadata": {
    "collapsed": false
   },
   "outputs": [],
   "source": []
  },
  {
   "cell_type": "code",
   "execution_count": 20,
   "id": "2b5fae57",
   "metadata": {
    "collapsed": false
   },
   "outputs": [],
   "source": [
    "# df[df['indrel_1mes'].isna()].iloc[:, :df.shape[1] - 24]"
   ]
  },
  {
   "cell_type": "code",
   "execution_count": 21,
   "id": "6737bdd7",
   "metadata": {
    "collapsed": false
   },
   "outputs": [
    {
     "data": {
      "text/plain": [
       "KHE    40240\n",
       "KAT    33027\n",
       "KFC    30935\n",
       "KHQ     5992\n",
       "KFA     4115\n",
       "       ...  \n",
       "KBN        1\n",
       "KCX        1\n",
       "KBX        1\n",
       "KBP        1\n",
       "KFB        1\n",
       "Name: canal_entrada, Length: 147, dtype: int64"
      ]
     },
     "execution_count": 21,
     "metadata": {},
     "output_type": "execute_result"
    }
   ],
   "source": [
    "# canal_entrada 用户加入渠道非常多162种 而且比较平衡, 还是用unknown填充, 考虑KNN填充\n",
    "df.canal_entrada.value_counts()\n",
    "df.canal_entrada.fillna('unknown', inplace=True)"
   ]
  },
  {
   "cell_type": "code",
   "execution_count": 22,
   "id": "77b9cb6a",
   "metadata": {
    "collapsed": false
   },
   "outputs": [
    {
     "data": {
      "text/plain": [
       "2428958     172252.62\n",
       "10065819          NaN\n",
       "518173       54872.58\n",
       "1673167      29403.78\n",
       "5226724     268779.81\n",
       "              ...    \n",
       "1067876     285697.05\n",
       "12144       134160.78\n",
       "8704871     235476.72\n",
       "2064636     324054.99\n",
       "943302            NaN\n",
       "Name: renta, Length: 136211, dtype: float64"
      ]
     },
     "execution_count": 22,
     "metadata": {},
     "output_type": "execute_result"
    }
   ],
   "source": [
    "df.renta"
   ]
  },
  {
   "cell_type": "code",
   "execution_count": 23,
   "id": "18c1206a",
   "metadata": {
    "collapsed": false
   },
   "outputs": [],
   "source": [
    "# renta 数值型填充\n",
    "# sns.scatterplot(df.renta, df.renta.value_counts())\n",
    "# df.renta.plot.scatter(x='renta', y=df.renta.value_counts())"
   ]
  },
  {
   "cell_type": "code",
   "execution_count": 24,
   "id": "4ac4274b",
   "metadata": {
    "collapsed": false
   },
   "outputs": [],
   "source": [
    "# TODO\n",
    "df.renta.fillna(df.renta.mean(), inplace=True)"
   ]
  },
  {
   "cell_type": "code",
   "execution_count": 25,
   "id": "3b21ceda",
   "metadata": {
    "collapsed": false
   },
   "outputs": [],
   "source": [
    "df.indrel_1mes.fillna('unknown', inplace=True)\n",
    "df.tiprel_1mes.fillna('unknown', inplace=True)"
   ]
  },
  {
   "cell_type": "code",
   "execution_count": 26,
   "id": "22163543",
   "metadata": {
    "collapsed": false
   },
   "outputs": [],
   "source": [
    "# 23. segmento : 01 - VIP, 02 - 个人 03 - 大学毕业\n",
    "df.segmento.fillna('00', inplace=True)"
   ]
  },
  {
   "cell_type": "code",
   "execution_count": 27,
   "id": "5d8a37ae",
   "metadata": {
    "collapsed": false
   },
   "outputs": [
    {
     "name": "stdout",
     "output_type": "stream",
     "text": [
      "<class 'pandas.core.frame.DataFrame'>\n",
      "Int64Index: 136211 entries, 2428958 to 943302\n",
      "Data columns (total 45 columns):\n",
      " #   Column                 Non-Null Count   Dtype  \n",
      "---  ------                 --------------   -----  \n",
      " 0   fecha_dato             136211 non-null  object \n",
      " 1   ncodpers               136211 non-null  int64  \n",
      " 2   ind_empleado           136211 non-null  object \n",
      " 3   pais_residencia        136211 non-null  object \n",
      " 4   sexo                   136211 non-null  object \n",
      " 5   age                    136211 non-null  object \n",
      " 6   fecha_alta             136211 non-null  object \n",
      " 7   ind_nuevo              136211 non-null  object \n",
      " 8   antiguedad             136211 non-null  object \n",
      " 9   indrel                 136211 non-null  float64\n",
      " 10  indrel_1mes            136211 non-null  object \n",
      " 11  tiprel_1mes            136211 non-null  object \n",
      " 12  indresi                136211 non-null  object \n",
      " 13  indext                 136211 non-null  object \n",
      " 14  canal_entrada          136211 non-null  object \n",
      " 15  indfall                136211 non-null  object \n",
      " 16  tipodom                136211 non-null  float64\n",
      " 17  cod_prov               136211 non-null  float64\n",
      " 18  ind_actividad_cliente  136211 non-null  float64\n",
      " 19  renta                  136211 non-null  float64\n",
      " 20  segmento               136211 non-null  object \n",
      " 21  ind_ahor_fin_ult1      136211 non-null  uint8  \n",
      " 22  ind_aval_fin_ult1      136211 non-null  uint8  \n",
      " 23  ind_cco_fin_ult1       136211 non-null  uint8  \n",
      " 24  ind_cder_fin_ult1      136211 non-null  uint8  \n",
      " 25  ind_cno_fin_ult1       136211 non-null  uint8  \n",
      " 26  ind_ctju_fin_ult1      136211 non-null  uint8  \n",
      " 27  ind_ctma_fin_ult1      136211 non-null  uint8  \n",
      " 28  ind_ctop_fin_ult1      136211 non-null  uint8  \n",
      " 29  ind_ctpp_fin_ult1      136211 non-null  uint8  \n",
      " 30  ind_deco_fin_ult1      136211 non-null  uint8  \n",
      " 31  ind_deme_fin_ult1      136211 non-null  uint8  \n",
      " 32  ind_dela_fin_ult1      136211 non-null  uint8  \n",
      " 33  ind_ecue_fin_ult1      136211 non-null  uint8  \n",
      " 34  ind_fond_fin_ult1      136211 non-null  uint8  \n",
      " 35  ind_hip_fin_ult1       136211 non-null  uint8  \n",
      " 36  ind_plan_fin_ult1      136211 non-null  uint8  \n",
      " 37  ind_pres_fin_ult1      136211 non-null  uint8  \n",
      " 38  ind_reca_fin_ult1      136211 non-null  uint8  \n",
      " 39  ind_tjcr_fin_ult1      136211 non-null  uint8  \n",
      " 40  ind_valo_fin_ult1      136211 non-null  uint8  \n",
      " 41  ind_viv_fin_ult1       136211 non-null  uint8  \n",
      " 42  ind_nomina_ult1        136211 non-null  uint8  \n",
      " 43  ind_nom_pens_ult1      136211 non-null  uint8  \n",
      " 44  ind_recibo_ult1        136211 non-null  uint8  \n",
      "dtypes: float64(5), int64(1), object(15), uint8(24)\n",
      "memory usage: 26.0+ MB\n"
     ]
    }
   ],
   "source": [
    "df.info()"
   ]
  },
  {
   "cell_type": "code",
   "execution_count": 28,
   "id": "d9e274e7",
   "metadata": {
    "collapsed": false
   },
   "outputs": [
    {
     "name": "stdout",
     "output_type": "stream",
     "text": [
      "Series([], dtype: float64)\n"
     ]
    }
   ],
   "source": [
    "cal_loss(df)"
   ]
  },
  {
   "cell_type": "markdown",
   "id": "f531f43c",
   "metadata": {
    "collapsed": false
   },
   "source": [
    "# 编码"
   ]
  },
  {
   "cell_type": "code",
   "execution_count": 29,
   "id": "bc510239",
   "metadata": {
    "collapsed": false
   },
   "outputs": [],
   "source": [
    "# 0. fecha_dato 日期\n",
    "# df.fecha_dato.value_counts(dropna=False).plot(kind='bar')\n",
    "# 1. ncodpers 客户代码, 弃用\n",
    "# df.ncodpers.value_counts(dropna=False)"
   ]
  },
  {
   "cell_type": "code",
   "execution_count": 30,
   "id": "49798697",
   "metadata": {
    "collapsed": false
   },
   "outputs": [],
   "source": [
    "# 日期和客户代码删除\n",
    "df.drop(['fecha_dato', 'ncodpers'], axis=1, inplace=True)"
   ]
  },
  {
   "cell_type": "code",
   "execution_count": 31,
   "id": "46255b0d",
   "metadata": {
    "collapsed": false
   },
   "outputs": [],
   "source": [
    "def label_enc(data):\n",
    "    label_enc = preprocessing.LabelEncoder()  #获取一个LabelEncoder\n",
    "    # label_enc = preprocessing.OrdinalEncoder()  #获取一个LabelEncoder\n",
    "    label_data = label_enc.fit_transform(data)\n",
    "    return np.array(label_data).reshape(-1, 1)\n",
    "\n",
    "\n",
    "# def concat_encoder(df):\n",
    "#     data = pd.concat([data, pd.DataFrame(arrays, columns=names)],axis=1)\n",
    "#     data = data.drop(['hour'],axis=1)\n",
    "#     return df\n",
    "\n",
    "# 对单列编码\n",
    "def oh_enc(data):\n",
    "    label_data = label_enc(data)\n",
    "    # 2. 再用onehot\n",
    "    oh_enc = preprocessing.OneHotEncoder()\n",
    "    name_list = []\n",
    "    for i in range(label_data.classes_.shape[0]):\n",
    "        name = f'{data.name}_{i}'\n",
    "        name_list.append(name)\n",
    "    # 给fit_transform传递的X一定要是 2D的，即（samples，features），否则会报错`\n",
    "    onehot_data = oh_enc.fit_transform(label_data)\n",
    "    # 转成numpy array格式\n",
    "    onehot_data = onehot_data.toarray()\n",
    "    enc_df = pd.DataFrame(onehot_data, columns=name_list)\n",
    "    return enc_df"
   ]
  },
  {
   "cell_type": "code",
   "execution_count": 32,
   "id": "ba33b668",
   "metadata": {
    "collapsed": false
   },
   "outputs": [],
   "source": [
    "\n",
    "# 2. 5 ind_empleado 员工指标,\n",
    "# 树模型直接不处理\n",
    "# A active 活跃, B ex employed 前雇员, F filial 子女, N not employee 非雇员, P pasive 被动, 目前没有寻找新工作, 但是对新工作持开放态度\n",
    "\n",
    "# df.ind_empleado.value_counts(dropna=False)\n",
    "# enc_array = label_enc(df.ind_empleado)\n",
    "def get_ordinal_name(data) -> list:\n",
    "    return [f'{data.name}_enc']\n",
    "\n",
    "\n",
    "def get_onehot_name(data) -> list:\n",
    "    length = data.unique().shape[0]\n",
    "    l = []\n",
    "    for i in range(length):\n",
    "        l.append(f'{data.name}_oh_{i}')\n",
    "    return l\n",
    "\n",
    "\n",
    "def new_ordinal_df(data: pd.Series, array):\n",
    "    name: list = get_ordinal_name(data)\n",
    "    return pd.DataFrame(array, index=data.index, columns=name)\n",
    "\n",
    "\n",
    "# TODO\n",
    "def new_onehot_df(data: pd.Series, array):\n",
    "    name: list = get_ordinal_name(data)\n",
    "    return pd.DataFrame(array, index=data.index, columns=name)\n",
    "\n",
    "\n",
    "# TODO\n",
    "def show_value_counts(df, od_set: set, oh_set: set):\n",
    "    df[get_ordinal_name(df.ind_empleado)].value_counts(dropna=False)\n",
    "\n",
    "\n",
    "od_set = set()\n",
    "oh_set = set()"
   ]
  },
  {
   "cell_type": "code",
   "execution_count": 33,
   "id": "b6c606d3",
   "metadata": {
    "collapsed": false
   },
   "outputs": [
    {
     "data": {
      "text/plain": [
       "['ind_empleado_oh_0',\n",
       " 'ind_empleado_oh_1',\n",
       " 'ind_empleado_oh_2',\n",
       " 'ind_empleado_oh_3']"
      ]
     },
     "execution_count": 33,
     "metadata": {},
     "output_type": "execute_result"
    },
    {
     "data": {
      "text/plain": [
       "['ind_empleado_enc']"
      ]
     },
     "execution_count": 33,
     "metadata": {},
     "output_type": "execute_result"
    }
   ],
   "source": [
    "l = get_onehot_name(df.ind_empleado)\n",
    "e = get_ordinal_name(df.ind_empleado)\n",
    "l\n",
    "e"
   ]
  },
  {
   "cell_type": "code",
   "execution_count": 34,
   "id": "e20d9c85",
   "metadata": {
    "collapsed": false
   },
   "outputs": [],
   "source": [
    "# df.drop(get_ordinal_name(df.ind_empleado), axis=1, inplace=True)"
   ]
  },
  {
   "cell_type": "code",
   "execution_count": 35,
   "id": "c812f22e",
   "metadata": {
    "collapsed": false
   },
   "outputs": [
    {
     "data": {
      "text/plain": [
       "N    136127\n",
       "B        37\n",
       "F        24\n",
       "A        23\n",
       "Name: ind_empleado, dtype: int64"
      ]
     },
     "execution_count": 35,
     "metadata": {},
     "output_type": "execute_result"
    }
   ],
   "source": [
    "# df[get_ordinal_name(df.ind_empleado)].value_counts()\n",
    "\n",
    "df.ind_empleado.value_counts(dropna=False)"
   ]
  },
  {
   "cell_type": "code",
   "execution_count": 36,
   "id": "1380f438",
   "metadata": {
    "collapsed": false
   },
   "outputs": [],
   "source": [
    "# 单列编码\n",
    "# df = pd.concat([df, new_ordinal_df(df.ind_empleado, label_enc(df.ind_empleado))], axis=1)\n",
    "# df[get_ordinal_name(df.ind_empleado)].value_counts(dropna=False)\n",
    "\n",
    "# 用list收集, 统一进行编码处理\n",
    "od_set.add(df.ind_empleado.name)"
   ]
  },
  {
   "cell_type": "code",
   "execution_count": 37,
   "id": "f4f0449b",
   "metadata": {
    "collapsed": false
   },
   "outputs": [
    {
     "data": {
      "text/plain": [
       "ES        135522\n",
       "others       689\n",
       "Name: pais_residencia, dtype: int64"
      ]
     },
     "execution_count": 37,
     "metadata": {},
     "output_type": "execute_result"
    }
   ],
   "source": [
    "# 3. 118 pais_residencia 客户国籍 ES占比巨大\n",
    "# 发现others国家的人所有数据都是others\n",
    "# 继续处理\n",
    "# Nan unknown\n",
    "# TODO 计算占比\n",
    "# df.pais_residencia.value_counts(dropna=False)\n",
    "# df.pais_residencia.unique()\n",
    "\n",
    "# 用others替换其他\n",
    "df.loc[(df['pais_residencia'] != 'ES'), 'pais_residencia'] = 'others'\n",
    "\n",
    "# df[df['pais_residencia']=='ES'].sum()\n",
    "df.pais_residencia.value_counts(dropna=False)\n",
    "\n",
    "od_set.add(df.pais_residencia.name)"
   ]
  },
  {
   "cell_type": "markdown",
   "id": "0b52f8d5",
   "metadata": {
    "collapsed": false
   },
   "source": []
  },
  {
   "cell_type": "code",
   "execution_count": 38,
   "id": "9626cbc4",
   "metadata": {
    "collapsed": false
   },
   "outputs": [
    {
     "data": {
      "text/plain": [
       "V    74119\n",
       "H    62092\n",
       "Name: sexo, dtype: int64"
      ]
     },
     "execution_count": 38,
     "metadata": {},
     "output_type": "execute_result"
    }
   ],
   "source": [
    "# 4. sexo\n",
    "# Nan = unknown\n",
    "# 无序类别\n",
    "df.sexo.value_counts(dropna=False)\n",
    "od_set.add(df.sexo.name)"
   ]
  },
  {
   "cell_type": "code",
   "execution_count": 39,
   "id": "22b52740",
   "metadata": {
    "collapsed": false
   },
   "outputs": [],
   "source": [
    "df.age = df.age.astype('int8')"
   ]
  },
  {
   "cell_type": "code",
   "execution_count": 40,
   "id": "4ff5752a",
   "metadata": {
    "collapsed": false
   },
   "outputs": [
    {
     "data": {
      "text/plain": [
       "11.248447204968944"
      ]
     },
     "execution_count": 40,
     "metadata": {},
     "output_type": "execute_result"
    }
   ],
   "source": [
    "# 5. age 年龄\n",
    "# 清洗>100的异常值\n",
    "# df.age.value_counts(dropna=False)\n",
    "low_age = df.loc[df.age < 16, 'age']\n",
    "low_age.mean()\n",
    "\n",
    "# df['age'].unique()"
   ]
  },
  {
   "cell_type": "markdown",
   "id": "54388541",
   "metadata": {
    "collapsed": false
   },
   "source": []
  },
  {
   "cell_type": "code",
   "execution_count": 41,
   "id": "3946c7af",
   "metadata": {
    "collapsed": false
   },
   "outputs": [
    {
     "data": {
      "text/plain": [
       "2014-07-28    609\n",
       "2014-10-03    557\n",
       "2014-08-04    433\n",
       "2013-10-14    414\n",
       "2013-08-03    335\n",
       "             ... \n",
       "1995-10-14      1\n",
       "2010-01-01      1\n",
       "2007-04-14      1\n",
       "2009-06-21      1\n",
       "2013-01-19      1\n",
       "Name: fecha_alta, Length: 6285, dtype: int64"
      ]
     },
     "execution_count": 41,
     "metadata": {},
     "output_type": "execute_result"
    }
   ],
   "source": [
    "df.fecha_alta.value_counts(dropna=False)"
   ]
  },
  {
   "cell_type": "code",
   "execution_count": 41,
   "id": "6949fe97",
   "metadata": {
    "collapsed": false
   },
   "outputs": [],
   "source": []
  },
  {
   "cell_type": "code",
   "execution_count": 42,
   "id": "933a5049",
   "metadata": {
    "collapsed": false
   },
   "outputs": [
    {
     "data": {
      "text/plain": [
       "10    22255\n",
       "9     16022\n",
       "11    15439\n",
       "7     14698\n",
       "8     13674\n",
       "12    10074\n",
       "1      8574\n",
       "3      7663\n",
       "2      7579\n",
       "4      7066\n",
       "5      6705\n",
       "6      6462\n",
       "Name: fecha_alta, dtype: int64"
      ]
     },
     "execution_count": 42,
     "metadata": {},
     "output_type": "execute_result"
    }
   ],
   "source": [
    "pd.DatetimeIndex(df[\"fecha_alta\"]).month.value_counts()"
   ]
  },
  {
   "cell_type": "code",
   "execution_count": 43,
   "id": "ba9d63a8",
   "metadata": {
    "collapsed": false
   },
   "outputs": [
    {
     "data": {
      "text/plain": [
       "2013-10-01    3793\n",
       "2014-10-01    3336\n",
       "2012-10-01    3121\n",
       "2014-09-01    2883\n",
       "2014-07-01    2644\n",
       "              ... \n",
       "1995-08-01      37\n",
       "1995-03-01      24\n",
       "1995-04-01      18\n",
       "1995-01-01      14\n",
       "1995-02-01       8\n",
       "Name: fecha_alta, Length: 257, dtype: int64"
      ]
     },
     "execution_count": 43,
     "metadata": {},
     "output_type": "execute_result"
    }
   ],
   "source": [
    "temp = df.fecha_alta.astype('datetime64[M]')\n",
    "temp.value_counts()"
   ]
  },
  {
   "cell_type": "code",
   "execution_count": 44,
   "id": "15da77e2",
   "metadata": {
    "collapsed": false
   },
   "outputs": [
    {
     "data": {
      "text/plain": [
       "     12    2380\n",
       "     21    2133\n",
       "     10    2049\n",
       "     23    1774\n",
       "     33    1733\n",
       "           ... \n",
       "    252       8\n",
       "    251       7\n",
       "    253       4\n",
       "    255       3\n",
       "    254       2\n",
       "Name: antiguedad, Length: 256, dtype: int64"
      ]
     },
     "execution_count": 44,
     "metadata": {},
     "output_type": "execute_result"
    }
   ],
   "source": [
    "df.antiguedad.value_counts(dropna=False)\n",
    "od_set.add(df.antiguedad.name)"
   ]
  },
  {
   "cell_type": "code",
   "execution_count": 45,
   "id": "e17e4b7e",
   "metadata": {
    "collapsed": false
   },
   "outputs": [
    {
     "name": "stdout",
     "output_type": "stream",
     "text": [
      "<class 'pandas.core.series.Series'>\n",
      "Int64Index: 136211 entries, 2428958 to 943302\n",
      "Series name: fecha_alta\n",
      "Non-Null Count   Dtype \n",
      "--------------   ----- \n",
      "136211 non-null  object\n",
      "dtypes: object(1)\n",
      "memory usage: 2.1+ MB\n"
     ]
    }
   ],
   "source": [
    "df.fecha_alta.info()"
   ]
  },
  {
   "cell_type": "code",
   "execution_count": 46,
   "id": "05e91570",
   "metadata": {
    "collapsed": false
   },
   "outputs": [
    {
     "name": "stdout",
     "output_type": "stream",
     "text": [
      "<class 'pandas.core.series.Series'>\n",
      "Int64Index: 136211 entries, 2428958 to 943302\n",
      "Series name: fecha_alta\n",
      "Non-Null Count   Dtype         \n",
      "--------------   -----         \n",
      "136211 non-null  datetime64[ns]\n",
      "dtypes: datetime64[ns](1)\n",
      "memory usage: 2.1 MB\n"
     ]
    }
   ],
   "source": [
    "x = pd.to_datetime(df.fecha_alta)\n",
    "x.info()"
   ]
  },
  {
   "cell_type": "code",
   "execution_count": 47,
   "id": "f8c2c1b4",
   "metadata": {
    "collapsed": false
   },
   "outputs": [
    {
     "data": {
      "text/plain": [
       "     12    2380\n",
       "     21    2133\n",
       "     10    2049\n",
       "     23    1774\n",
       "     33    1733\n",
       "           ... \n",
       "    252       8\n",
       "    251       7\n",
       "    253       4\n",
       "    255       3\n",
       "    254       2\n",
       "Name: antiguedad, Length: 256, dtype: int64"
      ]
     },
     "execution_count": 47,
     "metadata": {},
     "output_type": "execute_result"
    },
    {
     "name": "stdout",
     "output_type": "stream",
     "text": [
      "<class 'pandas.core.series.Series'>\n",
      "Int64Index: 136211 entries, 2428958 to 943302\n",
      "Series name: antiguedad\n",
      "Non-Null Count   Dtype \n",
      "--------------   ----- \n",
      "136211 non-null  object\n",
      "dtypes: object(1)\n",
      "memory usage: 2.1+ MB\n"
     ]
    }
   ],
   "source": [
    "# 6.fecha_alta 客户首次签订合同的日期, 可以用距今差值表示, 总结成月份, 然后判断和 antiguedad客户资历的关系\n",
    "df.antiguedad.value_counts(dropna=False)\n",
    "df.antiguedad.info()\n",
    "\n",
    "# TODO 暂时先删除\n",
    "df.drop('fecha_alta', inplace=True, axis=1)\n",
    "# df.fecha_alta.isnull().sum()\n",
    "# months_active = df.loc[df[\"ind_nuevo\"].isnull(), :].groupby(\"ncodpers\", sort=False).size()\n",
    "# months_active.max()"
   ]
  },
  {
   "cell_type": "code",
   "execution_count": 48,
   "id": "65692630",
   "metadata": {
    "collapsed": false
   },
   "outputs": [
    {
     "data": {
      "text/plain": [
       "0    127962\n",
       "1      8249\n",
       "Name: ind_nuevo, dtype: int64"
      ]
     },
     "execution_count": 48,
     "metadata": {},
     "output_type": "execute_result"
    }
   ],
   "source": [
    "\n",
    "# 7.ind_nuevo 新客户指数 2. 如果是6个月内注册的客户, 则为1\n",
    "df.ind_nuevo = df.ind_nuevo.astype('int8')\n",
    "df.ind_nuevo.value_counts(dropna=False)\n",
    "\n",
    "od_set.add(df.ind_nuevo.name)"
   ]
  },
  {
   "cell_type": "code",
   "execution_count": 49,
   "id": "a60407ea",
   "metadata": {
    "collapsed": false
   },
   "outputs": [
    {
     "data": {
      "text/plain": [
       "     12    2380\n",
       "     21    2133\n",
       "     10    2049\n",
       "     23    1774\n",
       "     33    1733\n",
       "           ... \n",
       "    252       8\n",
       "    251       7\n",
       "    253       4\n",
       "    255       3\n",
       "    254       2\n",
       "Name: antiguedad, Length: 256, dtype: int64"
      ]
     },
     "execution_count": 49,
     "metadata": {},
     "output_type": "execute_result"
    }
   ],
   "source": [
    "# 8. antiguedad 客户资历, 单位是月\n",
    "df.antiguedad.value_counts(dropna=False)\n",
    "od_set.add(df.antiguedad.name)"
   ]
  },
  {
   "cell_type": "code",
   "execution_count": 50,
   "id": "8339ad69",
   "metadata": {
    "collapsed": false
   },
   "outputs": [],
   "source": [
    "# 6,7,8 缺失值数量相等已经删除"
   ]
  },
  {
   "cell_type": "code",
   "execution_count": 51,
   "id": "20748349",
   "metadata": {
    "collapsed": false
   },
   "outputs": [
    {
     "data": {
      "text/plain": [
       "1     135981\n",
       "99       230\n",
       "Name: indrel, dtype: int64"
      ]
     },
     "execution_count": 51,
     "metadata": {},
     "output_type": "execute_result"
    }
   ],
   "source": [
    "# 9.indrel  2:  1表示primary, 99表示当月primary,但不是月末?\n",
    "# Nan =unknown\n",
    "# one-hot label编码?\n",
    "df.indrel = df.indrel.astype('int8')\n",
    "df.indrel.value_counts(dropna=False)\n",
    "od_set.add(df.indrel.name)"
   ]
  },
  {
   "cell_type": "code",
   "execution_count": 52,
   "id": "7006a61d",
   "metadata": {
    "collapsed": false
   },
   "outputs": [],
   "source": [
    "# 10. ult_fec_cli_1t 作为主要客户的日期\n",
    "# 缺失值太多, 丢弃\n",
    "# df.ult_fec_cli_1t.value_counts(dropna=False)\n",
    "# df.ult_fec_cli_1t.isnull().sum()"
   ]
  },
  {
   "cell_type": "code",
   "execution_count": 52,
   "id": "072e19e3",
   "metadata": {
    "collapsed": false
   },
   "outputs": [],
   "source": []
  },
  {
   "cell_type": "code",
   "execution_count": 53,
   "id": "76772c8d",
   "metadata": {
    "collapsed": false
   },
   "outputs": [
    {
     "data": {
      "text/plain": [
       "1          134885\n",
       "unknown      1250\n",
       "3              51\n",
       "2              16\n",
       "P               5\n",
       "4               4\n",
       "Name: indrel_1mes, dtype: int64"
      ]
     },
     "execution_count": 53,
     "metadata": {},
     "output_type": "execute_result"
    }
   ],
   "source": [
    "# df.replace('unknown', -2, inplace=True)\n",
    "# df.replace('P', -3, inplace=True)\n",
    "# 必须先修改类型, 不然replace匹配不上\n",
    "# df.indrel_1mes = df.indrel_1mes.astype('float')\n",
    "df.indrel_1mes.replace({'1.0': '1', '2.0': '2', '3.0': '3', '4.0': '4'}, inplace=True)  # 不同key用不同value替换\n",
    "df.indrel_1mes.value_counts(dropna=False)\n",
    "od_set.add(df.indrel_1mes.name)"
   ]
  },
  {
   "cell_type": "code",
   "execution_count": 54,
   "id": "5f8482cf",
   "metadata": {
    "collapsed": false
   },
   "outputs": [
    {
     "data": {
      "text/plain": [
       "I          72995\n",
       "A          61906\n",
       "unknown     1250\n",
       "P             55\n",
       "R              5\n",
       "Name: tiprel_1mes, dtype: int64"
      ]
     },
     "execution_count": 54,
     "metadata": {},
     "output_type": "execute_result"
    }
   ],
   "source": [
    "# 12.tiprel_1mes 月初客户关系类型 A (active), I (inactive), P (former customer 前客户),R (Potential 潜在客户)\n",
    "# Nan = unknown\n",
    "# label 编码\n",
    "df.tiprel_1mes.value_counts(dropna=False)\n",
    "od_set.add(df.tiprel_1mes.name)"
   ]
  },
  {
   "cell_type": "code",
   "execution_count": 55,
   "id": "4ee25026",
   "metadata": {
    "collapsed": false
   },
   "outputs": [
    {
     "data": {
      "text/plain": [
       "S    135522\n",
       "N       689\n",
       "Name: indresi, dtype: int64"
      ]
     },
     "execution_count": 55,
     "metadata": {},
     "output_type": "execute_result"
    }
   ],
   "source": [
    "# 13. indresi 居住指数S (Yes) 银行和居住国相同 N (No) 不同国家\n",
    "# label编码, S=1, N=0\n",
    "df.indresi.value_counts(dropna=False)\n",
    "od_set.add(df.indresi.name)\n"
   ]
  },
  {
   "cell_type": "code",
   "execution_count": 56,
   "id": "88880c63",
   "metadata": {
    "collapsed": false
   },
   "outputs": [
    {
     "data": {
      "text/plain": [
       "N    129768\n",
       "S      6443\n",
       "Name: indext, dtype: int64"
      ]
     },
     "execution_count": 56,
     "metadata": {},
     "output_type": "execute_result"
    }
   ],
   "source": [
    "# 14. indext 外国人指数, S 本国出生, N 非本国\n",
    "# label 编码\n",
    "df.indext.value_counts(dropna=False)\n",
    "od_set.add(df.indext.name)\n"
   ]
  },
  {
   "cell_type": "code",
   "execution_count": 57,
   "id": "765510f6",
   "metadata": {
    "collapsed": false
   },
   "outputs": [],
   "source": [
    "# 15. conyuemp 配偶指数, S 客户是员工配偶\n",
    "# 缺失太多, 删除列\n",
    "# df.conyuemp.value_counts(dropna=False)"
   ]
  },
  {
   "cell_type": "code",
   "execution_count": 58,
   "id": "50a2942b",
   "metadata": {
    "collapsed": false
   },
   "outputs": [
    {
     "data": {
      "text/plain": [
       "KHE    40240\n",
       "KAT    33027\n",
       "KFC    30935\n",
       "KHQ     5992\n",
       "KFA     4115\n",
       "       ...  \n",
       "KBN        1\n",
       "KCX        1\n",
       "KBX        1\n",
       "KBP        1\n",
       "KFB        1\n",
       "Name: canal_entrada, Length: 148, dtype: int64"
      ]
     },
     "execution_count": 58,
     "metadata": {},
     "output_type": "execute_result"
    }
   ],
   "source": [
    "# 16. canal_entrada\t客户渠道 (拉新渠道)\n",
    "# Nan = unknown, 占比小于3%都是other\n",
    "# 用占比, 占比低的作为others\n",
    "df.canal_entrada.value_counts(dropna=False)\n",
    "# df.canal_entrada.isnull().sum()\n",
    "# print(100 * round(df.canal_entrada.value_counts(dropna=False) / df.shape[0], 8))\n",
    "od_set.add(df.canal_entrada.name)"
   ]
  },
  {
   "cell_type": "code",
   "execution_count": 59,
   "id": "ad529262",
   "metadata": {
    "collapsed": false
   },
   "outputs": [
    {
     "data": {
      "text/plain": [
       "N    135834\n",
       "S       377\n",
       "Name: indfall, dtype: int64"
      ]
     },
     "execution_count": 59,
     "metadata": {},
     "output_type": "execute_result"
    }
   ],
   "source": [
    "# 17. indfall 已故索引 N/S\n",
    "df.indfall.value_counts(dropna=False)\n",
    "od_set.add(df.indfall.name)\n"
   ]
  },
  {
   "cell_type": "code",
   "execution_count": 60,
   "id": "2776eb7e",
   "metadata": {
    "collapsed": false
   },
   "outputs": [
    {
     "data": {
      "text/plain": [
       "1.0    136211\n",
       "Name: tipodom, dtype: int64"
      ]
     },
     "execution_count": 60,
     "metadata": {},
     "output_type": "execute_result"
    }
   ],
   "source": [
    "# 18. tipodom 地址类型. 1, primary address 弃用\n",
    "# Nan dropna\n",
    "# 没有区分度, 删除列\n",
    "# label编码\n",
    "df.tipodom.value_counts(dropna=False)\n",
    "df.drop('tipodom', axis=1, inplace=True)"
   ]
  },
  {
   "cell_type": "code",
   "execution_count": 61,
   "id": "cfdc19e5",
   "metadata": {
    "collapsed": false
   },
   "outputs": [
    {
     "data": {
      "text/plain": [
       " 28    44309\n",
       " 8     12648\n",
       " 46     6820\n",
       " 41     6030\n",
       " 15     4304\n",
       " 30     3926\n",
       " 29     3643\n",
       " 50     3421\n",
       " 3      3221\n",
       " 11     3032\n",
       " 36     2790\n",
       " 33     2678\n",
       " 35     2392\n",
       " 47     2345\n",
       " 6      1995\n",
       " 48     1858\n",
       " 45     1815\n",
       " 18     1779\n",
       " 37     1653\n",
       " 39     1571\n",
       " 14     1396\n",
       " 7      1297\n",
       " 10     1274\n",
       " 21     1204\n",
       " 13     1172\n",
       " 2      1140\n",
       " 43     1024\n",
       " 12     1020\n",
       " 9       939\n",
       " 17      908\n",
       " 26      898\n",
       " 31      885\n",
       " 27      834\n",
       " 24      830\n",
       " 25      797\n",
       " 32      757\n",
       "-1       690\n",
       " 20      683\n",
       " 38      656\n",
       " 19      649\n",
       " 23      638\n",
       " 4       590\n",
       " 16      550\n",
       " 49      491\n",
       " 34      449\n",
       " 40      427\n",
       " 22      417\n",
       " 5       392\n",
       " 1       383\n",
       " 44      230\n",
       " 42      208\n",
       " 52       88\n",
       " 51       65\n",
       "Name: cod_prov, dtype: int64"
      ]
     },
     "execution_count": 61,
     "metadata": {},
     "output_type": "execute_result"
    }
   ],
   "source": [
    "# 19.cod_prov 省份编码\n",
    "# 转成int\n",
    "# Nan = 0?\n",
    "# number\n",
    "df.cod_prov = df.cod_prov.astype('int8')\n",
    "df.cod_prov.value_counts(dropna=False)\n",
    "od_set.add(df.cod_prov.name)\n"
   ]
  },
  {
   "cell_type": "code",
   "execution_count": 62,
   "id": "39b2893f",
   "metadata": {
    "collapsed": false
   },
   "outputs": [],
   "source": [
    "# 20. nomprov 省份名称 删除\n",
    "# df.nomprov.value_counts(dropna=False)"
   ]
  },
  {
   "cell_type": "code",
   "execution_count": 63,
   "id": "7f67fc43",
   "metadata": {
    "collapsed": false
   },
   "outputs": [
    {
     "data": {
      "text/plain": [
       "0    73691\n",
       "1    62520\n",
       "Name: ind_actividad_cliente, dtype: int64"
      ]
     },
     "execution_count": 63,
     "metadata": {},
     "output_type": "execute_result"
    }
   ],
   "source": [
    "# 21. ind_actividad_cliente\t活跃指数 1, active customer; 0, inactive customer)\n",
    "df.ind_actividad_cliente = df.ind_actividad_cliente.astype('int8')\n",
    "df.ind_actividad_cliente.value_counts(dropna=False)\n",
    "od_set.add(df.ind_actividad_cliente.name)\n"
   ]
  },
  {
   "cell_type": "code",
   "execution_count": 64,
   "id": "389049fa",
   "metadata": {
    "collapsed": false
   },
   "outputs": [
    {
     "data": {
      "text/plain": [
       "24253236.93"
      ]
     },
     "execution_count": 64,
     "metadata": {},
     "output_type": "execute_result"
    }
   ],
   "source": [
    "df.renta.max()"
   ]
  },
  {
   "cell_type": "code",
   "execution_count": 65,
   "id": "5948f6d9",
   "metadata": {
    "collapsed": false
   },
   "outputs": [
    {
     "data": {
      "text/plain": [
       "5163.75"
      ]
     },
     "execution_count": 65,
     "metadata": {},
     "output_type": "execute_result"
    }
   ],
   "source": [
    "df.renta.min()"
   ]
  },
  {
   "cell_type": "code",
   "execution_count": 66,
   "id": "f32aed6b",
   "metadata": {
    "collapsed": false
   },
   "outputs": [],
   "source": [
    "df.renta = round(df.renta)\n",
    "df.renta = df.renta.astype('int32')"
   ]
  },
  {
   "cell_type": "code",
   "execution_count": 67,
   "id": "cbf967fe",
   "metadata": {
    "collapsed": false
   },
   "outputs": [
    {
     "data": {
      "text/plain": [
       "02 - PARTICULARES     79783\n",
       "03 - UNIVERSITARIO    49268\n",
       "01 - TOP               5509\n",
       "00                     1651\n",
       "Name: segmento, dtype: int64"
      ]
     },
     "execution_count": 67,
     "metadata": {},
     "output_type": "execute_result"
    }
   ],
   "source": [
    "# 23. segmento : 01 - VIP, 02 - 个人 03 - 大学毕业\n",
    "# Nan = unknown\n",
    "# ordinal 编码\n",
    "df.segmento.value_counts()\n",
    "od_set.add(df.segmento.name)\n"
   ]
  },
  {
   "cell_type": "code",
   "execution_count": 67,
   "id": "b4155178",
   "metadata": {
    "collapsed": false
   },
   "outputs": [],
   "source": []
  },
  {
   "cell_type": "code",
   "execution_count": 68,
   "id": "99476b20",
   "metadata": {
    "collapsed": false
   },
   "outputs": [
    {
     "data": {
      "text/plain": [
       "{'age', 'renta'}"
      ]
     },
     "execution_count": 68,
     "metadata": {},
     "output_type": "execute_result"
    }
   ],
   "source": [
    "# 未编码的列\n",
    "set(df.columns) - od_set - oh_set - set(y_name_list)"
   ]
  },
  {
   "cell_type": "code",
   "execution_count": 69,
   "id": "efc3ad61",
   "metadata": {
    "collapsed": false
   },
   "outputs": [
    {
     "data": {
      "text/plain": [
       "15"
      ]
     },
     "execution_count": 69,
     "metadata": {},
     "output_type": "execute_result"
    }
   ],
   "source": [
    "# 编码流程\n",
    "len(od_set)\n"
   ]
  },
  {
   "cell_type": "code",
   "execution_count": 70,
   "id": "772d1c3d",
   "metadata": {
    "collapsed": false
   },
   "outputs": [
    {
     "name": "stdout",
     "output_type": "stream",
     "text": [
      "<class 'pandas.core.frame.DataFrame'>\n",
      "Int64Index: 136211 entries, 2428958 to 943302\n",
      "Data columns (total 41 columns):\n",
      " #   Column                 Non-Null Count   Dtype \n",
      "---  ------                 --------------   ----- \n",
      " 0   ind_empleado           136211 non-null  object\n",
      " 1   pais_residencia        136211 non-null  object\n",
      " 2   sexo                   136211 non-null  object\n",
      " 3   age                    136211 non-null  int8  \n",
      " 4   ind_nuevo              136211 non-null  int8  \n",
      " 5   antiguedad             136211 non-null  object\n",
      " 6   indrel                 136211 non-null  int8  \n",
      " 7   indrel_1mes            136211 non-null  object\n",
      " 8   tiprel_1mes            136211 non-null  object\n",
      " 9   indresi                136211 non-null  object\n",
      " 10  indext                 136211 non-null  object\n",
      " 11  canal_entrada          136211 non-null  object\n",
      " 12  indfall                136211 non-null  object\n",
      " 13  cod_prov               136211 non-null  int8  \n",
      " 14  ind_actividad_cliente  136211 non-null  int8  \n",
      " 15  renta                  136211 non-null  int32 \n",
      " 16  segmento               136211 non-null  object\n",
      " 17  ind_ahor_fin_ult1      136211 non-null  uint8 \n",
      " 18  ind_aval_fin_ult1      136211 non-null  uint8 \n",
      " 19  ind_cco_fin_ult1       136211 non-null  uint8 \n",
      " 20  ind_cder_fin_ult1      136211 non-null  uint8 \n",
      " 21  ind_cno_fin_ult1       136211 non-null  uint8 \n",
      " 22  ind_ctju_fin_ult1      136211 non-null  uint8 \n",
      " 23  ind_ctma_fin_ult1      136211 non-null  uint8 \n",
      " 24  ind_ctop_fin_ult1      136211 non-null  uint8 \n",
      " 25  ind_ctpp_fin_ult1      136211 non-null  uint8 \n",
      " 26  ind_deco_fin_ult1      136211 non-null  uint8 \n",
      " 27  ind_deme_fin_ult1      136211 non-null  uint8 \n",
      " 28  ind_dela_fin_ult1      136211 non-null  uint8 \n",
      " 29  ind_ecue_fin_ult1      136211 non-null  uint8 \n",
      " 30  ind_fond_fin_ult1      136211 non-null  uint8 \n",
      " 31  ind_hip_fin_ult1       136211 non-null  uint8 \n",
      " 32  ind_plan_fin_ult1      136211 non-null  uint8 \n",
      " 33  ind_pres_fin_ult1      136211 non-null  uint8 \n",
      " 34  ind_reca_fin_ult1      136211 non-null  uint8 \n",
      " 35  ind_tjcr_fin_ult1      136211 non-null  uint8 \n",
      " 36  ind_valo_fin_ult1      136211 non-null  uint8 \n",
      " 37  ind_viv_fin_ult1       136211 non-null  uint8 \n",
      " 38  ind_nomina_ult1        136211 non-null  uint8 \n",
      " 39  ind_nom_pens_ult1      136211 non-null  uint8 \n",
      " 40  ind_recibo_ult1        136211 non-null  uint8 \n",
      "dtypes: int32(1), int8(5), object(11), uint8(24)\n",
      "memory usage: 16.8+ MB\n"
     ]
    }
   ],
   "source": [
    "df.info()"
   ]
  },
  {
   "cell_type": "code",
   "execution_count": 70,
   "id": "b360c196",
   "metadata": {
    "collapsed": false
   },
   "outputs": [],
   "source": []
  },
  {
   "cell_type": "code",
   "execution_count": 71,
   "id": "3660bcf6",
   "metadata": {
    "collapsed": false
   },
   "outputs": [
    {
     "name": "stdout",
     "output_type": "stream",
     "text": [
      "indfall\n",
      "indrel\n",
      "segmento\n",
      "indresi\n",
      "indrel_1mes\n",
      "canal_entrada\n",
      "ind_nuevo\n",
      "pais_residencia\n",
      "tiprel_1mes\n",
      "antiguedad\n",
      "sexo\n",
      "ind_empleado\n",
      "indext\n",
      "ind_actividad_cliente\n",
      "cod_prov\n"
     ]
    }
   ],
   "source": [
    "finished = []\n",
    "for name in od_set:\n",
    "    print(name)\n",
    "    df = pd.concat([df, new_ordinal_df(df[name], label_enc(df[name]))], axis=1)\n",
    "    finished.append(name)\n",
    "df.drop(finished, inplace=True, axis=1)\n"
   ]
  },
  {
   "cell_type": "code",
   "execution_count": 72,
   "id": "a19e7787",
   "metadata": {
    "collapsed": false
   },
   "outputs": [
    {
     "data": {
      "text/html": [
       "<div>\n",
       "<style scoped>\n",
       "    .dataframe tbody tr th:only-of-type {\n",
       "        vertical-align: middle;\n",
       "    }\n",
       "\n",
       "    .dataframe tbody tr th {\n",
       "        vertical-align: top;\n",
       "    }\n",
       "\n",
       "    .dataframe thead th {\n",
       "        text-align: right;\n",
       "    }\n",
       "</style>\n",
       "<table border=\"1\" class=\"dataframe\">\n",
       "  <thead>\n",
       "    <tr style=\"text-align: right;\">\n",
       "      <th></th>\n",
       "      <th>age</th>\n",
       "      <th>renta</th>\n",
       "      <th>indfall_enc</th>\n",
       "      <th>indrel_enc</th>\n",
       "      <th>segmento_enc</th>\n",
       "      <th>indresi_enc</th>\n",
       "      <th>indrel_1mes_enc</th>\n",
       "      <th>canal_entrada_enc</th>\n",
       "      <th>ind_nuevo_enc</th>\n",
       "      <th>pais_residencia_enc</th>\n",
       "      <th>tiprel_1mes_enc</th>\n",
       "      <th>antiguedad_enc</th>\n",
       "      <th>sexo_enc</th>\n",
       "      <th>ind_empleado_enc</th>\n",
       "      <th>indext_enc</th>\n",
       "      <th>ind_actividad_cliente_enc</th>\n",
       "      <th>cod_prov_enc</th>\n",
       "    </tr>\n",
       "  </thead>\n",
       "  <tbody>\n",
       "    <tr>\n",
       "      <th>2428958</th>\n",
       "      <td>26</td>\n",
       "      <td>172253</td>\n",
       "      <td>0</td>\n",
       "      <td>0</td>\n",
       "      <td>3</td>\n",
       "      <td>1</td>\n",
       "      <td>0</td>\n",
       "      <td>137</td>\n",
       "      <td>0</td>\n",
       "      <td>0</td>\n",
       "      <td>0</td>\n",
       "      <td>46</td>\n",
       "      <td>1</td>\n",
       "      <td>3</td>\n",
       "      <td>0</td>\n",
       "      <td>0</td>\n",
       "      <td>15</td>\n",
       "    </tr>\n",
       "    <tr>\n",
       "      <th>10065819</th>\n",
       "      <td>40</td>\n",
       "      <td>133054</td>\n",
       "      <td>0</td>\n",
       "      <td>0</td>\n",
       "      <td>2</td>\n",
       "      <td>1</td>\n",
       "      <td>0</td>\n",
       "      <td>112</td>\n",
       "      <td>0</td>\n",
       "      <td>0</td>\n",
       "      <td>1</td>\n",
       "      <td>23</td>\n",
       "      <td>0</td>\n",
       "      <td>3</td>\n",
       "      <td>0</td>\n",
       "      <td>0</td>\n",
       "      <td>28</td>\n",
       "    </tr>\n",
       "    <tr>\n",
       "      <th>518173</th>\n",
       "      <td>44</td>\n",
       "      <td>54873</td>\n",
       "      <td>0</td>\n",
       "      <td>0</td>\n",
       "      <td>2</td>\n",
       "      <td>1</td>\n",
       "      <td>0</td>\n",
       "      <td>112</td>\n",
       "      <td>0</td>\n",
       "      <td>0</td>\n",
       "      <td>0</td>\n",
       "      <td>65</td>\n",
       "      <td>1</td>\n",
       "      <td>3</td>\n",
       "      <td>0</td>\n",
       "      <td>1</td>\n",
       "      <td>35</td>\n",
       "    </tr>\n",
       "    <tr>\n",
       "      <th>1673167</th>\n",
       "      <td>43</td>\n",
       "      <td>29404</td>\n",
       "      <td>0</td>\n",
       "      <td>0</td>\n",
       "      <td>2</td>\n",
       "      <td>1</td>\n",
       "      <td>0</td>\n",
       "      <td>22</td>\n",
       "      <td>0</td>\n",
       "      <td>0</td>\n",
       "      <td>1</td>\n",
       "      <td>242</td>\n",
       "      <td>1</td>\n",
       "      <td>3</td>\n",
       "      <td>0</td>\n",
       "      <td>0</td>\n",
       "      <td>28</td>\n",
       "    </tr>\n",
       "    <tr>\n",
       "      <th>5226724</th>\n",
       "      <td>23</td>\n",
       "      <td>268780</td>\n",
       "      <td>0</td>\n",
       "      <td>0</td>\n",
       "      <td>3</td>\n",
       "      <td>1</td>\n",
       "      <td>0</td>\n",
       "      <td>137</td>\n",
       "      <td>0</td>\n",
       "      <td>0</td>\n",
       "      <td>1</td>\n",
       "      <td>25</td>\n",
       "      <td>1</td>\n",
       "      <td>3</td>\n",
       "      <td>0</td>\n",
       "      <td>0</td>\n",
       "      <td>8</td>\n",
       "    </tr>\n",
       "    <tr>\n",
       "      <th>...</th>\n",
       "      <td>...</td>\n",
       "      <td>...</td>\n",
       "      <td>...</td>\n",
       "      <td>...</td>\n",
       "      <td>...</td>\n",
       "      <td>...</td>\n",
       "      <td>...</td>\n",
       "      <td>...</td>\n",
       "      <td>...</td>\n",
       "      <td>...</td>\n",
       "      <td>...</td>\n",
       "      <td>...</td>\n",
       "      <td>...</td>\n",
       "      <td>...</td>\n",
       "      <td>...</td>\n",
       "      <td>...</td>\n",
       "      <td>...</td>\n",
       "    </tr>\n",
       "    <tr>\n",
       "      <th>1067876</th>\n",
       "      <td>24</td>\n",
       "      <td>285697</td>\n",
       "      <td>0</td>\n",
       "      <td>0</td>\n",
       "      <td>3</td>\n",
       "      <td>1</td>\n",
       "      <td>0</td>\n",
       "      <td>137</td>\n",
       "      <td>0</td>\n",
       "      <td>0</td>\n",
       "      <td>1</td>\n",
       "      <td>12</td>\n",
       "      <td>1</td>\n",
       "      <td>3</td>\n",
       "      <td>0</td>\n",
       "      <td>0</td>\n",
       "      <td>15</td>\n",
       "    </tr>\n",
       "    <tr>\n",
       "      <th>12144</th>\n",
       "      <td>23</td>\n",
       "      <td>134161</td>\n",
       "      <td>0</td>\n",
       "      <td>0</td>\n",
       "      <td>3</td>\n",
       "      <td>1</td>\n",
       "      <td>0</td>\n",
       "      <td>137</td>\n",
       "      <td>0</td>\n",
       "      <td>0</td>\n",
       "      <td>1</td>\n",
       "      <td>34</td>\n",
       "      <td>0</td>\n",
       "      <td>3</td>\n",
       "      <td>0</td>\n",
       "      <td>0</td>\n",
       "      <td>36</td>\n",
       "    </tr>\n",
       "    <tr>\n",
       "      <th>8704871</th>\n",
       "      <td>51</td>\n",
       "      <td>235477</td>\n",
       "      <td>0</td>\n",
       "      <td>0</td>\n",
       "      <td>2</td>\n",
       "      <td>1</td>\n",
       "      <td>0</td>\n",
       "      <td>112</td>\n",
       "      <td>0</td>\n",
       "      <td>0</td>\n",
       "      <td>1</td>\n",
       "      <td>115</td>\n",
       "      <td>0</td>\n",
       "      <td>3</td>\n",
       "      <td>0</td>\n",
       "      <td>0</td>\n",
       "      <td>28</td>\n",
       "    </tr>\n",
       "    <tr>\n",
       "      <th>2064636</th>\n",
       "      <td>58</td>\n",
       "      <td>324055</td>\n",
       "      <td>0</td>\n",
       "      <td>0</td>\n",
       "      <td>2</td>\n",
       "      <td>1</td>\n",
       "      <td>0</td>\n",
       "      <td>22</td>\n",
       "      <td>0</td>\n",
       "      <td>0</td>\n",
       "      <td>1</td>\n",
       "      <td>175</td>\n",
       "      <td>0</td>\n",
       "      <td>3</td>\n",
       "      <td>0</td>\n",
       "      <td>0</td>\n",
       "      <td>41</td>\n",
       "    </tr>\n",
       "    <tr>\n",
       "      <th>943302</th>\n",
       "      <td>21</td>\n",
       "      <td>133054</td>\n",
       "      <td>0</td>\n",
       "      <td>0</td>\n",
       "      <td>3</td>\n",
       "      <td>1</td>\n",
       "      <td>0</td>\n",
       "      <td>137</td>\n",
       "      <td>0</td>\n",
       "      <td>0</td>\n",
       "      <td>1</td>\n",
       "      <td>21</td>\n",
       "      <td>1</td>\n",
       "      <td>3</td>\n",
       "      <td>0</td>\n",
       "      <td>0</td>\n",
       "      <td>36</td>\n",
       "    </tr>\n",
       "  </tbody>\n",
       "</table>\n",
       "<p>136211 rows × 17 columns</p>\n",
       "</div>"
      ],
      "text/plain": [
       "          age   renta  indfall_enc  indrel_enc  segmento_enc  indresi_enc  \\\n",
       "2428958    26  172253            0           0             3            1   \n",
       "10065819   40  133054            0           0             2            1   \n",
       "518173     44   54873            0           0             2            1   \n",
       "1673167    43   29404            0           0             2            1   \n",
       "5226724    23  268780            0           0             3            1   \n",
       "...       ...     ...          ...         ...           ...          ...   \n",
       "1067876    24  285697            0           0             3            1   \n",
       "12144      23  134161            0           0             3            1   \n",
       "8704871    51  235477            0           0             2            1   \n",
       "2064636    58  324055            0           0             2            1   \n",
       "943302     21  133054            0           0             3            1   \n",
       "\n",
       "          indrel_1mes_enc  canal_entrada_enc  ind_nuevo_enc  \\\n",
       "2428958                 0                137              0   \n",
       "10065819                0                112              0   \n",
       "518173                  0                112              0   \n",
       "1673167                 0                 22              0   \n",
       "5226724                 0                137              0   \n",
       "...                   ...                ...            ...   \n",
       "1067876                 0                137              0   \n",
       "12144                   0                137              0   \n",
       "8704871                 0                112              0   \n",
       "2064636                 0                 22              0   \n",
       "943302                  0                137              0   \n",
       "\n",
       "          pais_residencia_enc  tiprel_1mes_enc  antiguedad_enc  sexo_enc  \\\n",
       "2428958                     0                0              46         1   \n",
       "10065819                    0                1              23         0   \n",
       "518173                      0                0              65         1   \n",
       "1673167                     0                1             242         1   \n",
       "5226724                     0                1              25         1   \n",
       "...                       ...              ...             ...       ...   \n",
       "1067876                     0                1              12         1   \n",
       "12144                       0                1              34         0   \n",
       "8704871                     0                1             115         0   \n",
       "2064636                     0                1             175         0   \n",
       "943302                      0                1              21         1   \n",
       "\n",
       "          ind_empleado_enc  indext_enc  ind_actividad_cliente_enc  \\\n",
       "2428958                  3           0                          0   \n",
       "10065819                 3           0                          0   \n",
       "518173                   3           0                          1   \n",
       "1673167                  3           0                          0   \n",
       "5226724                  3           0                          0   \n",
       "...                    ...         ...                        ...   \n",
       "1067876                  3           0                          0   \n",
       "12144                    3           0                          0   \n",
       "8704871                  3           0                          0   \n",
       "2064636                  3           0                          0   \n",
       "943302                   3           0                          0   \n",
       "\n",
       "          cod_prov_enc  \n",
       "2428958             15  \n",
       "10065819            28  \n",
       "518173              35  \n",
       "1673167             28  \n",
       "5226724              8  \n",
       "...                ...  \n",
       "1067876             15  \n",
       "12144               36  \n",
       "8704871             28  \n",
       "2064636             41  \n",
       "943302              36  \n",
       "\n",
       "[136211 rows x 17 columns]"
      ]
     },
     "execution_count": 72,
     "metadata": {},
     "output_type": "execute_result"
    }
   ],
   "source": [
    "X = df.drop(y_name_list, axis=1)\n",
    "X"
   ]
  },
  {
   "cell_type": "code",
   "execution_count": 73,
   "id": "ba97ddfc",
   "metadata": {
    "collapsed": false
   },
   "outputs": [
    {
     "data": {
      "text/html": [
       "<div>\n",
       "<style scoped>\n",
       "    .dataframe tbody tr th:only-of-type {\n",
       "        vertical-align: middle;\n",
       "    }\n",
       "\n",
       "    .dataframe tbody tr th {\n",
       "        vertical-align: top;\n",
       "    }\n",
       "\n",
       "    .dataframe thead th {\n",
       "        text-align: right;\n",
       "    }\n",
       "</style>\n",
       "<table border=\"1\" class=\"dataframe\">\n",
       "  <thead>\n",
       "    <tr style=\"text-align: right;\">\n",
       "      <th></th>\n",
       "      <th>ind_ahor_fin_ult1</th>\n",
       "      <th>ind_aval_fin_ult1</th>\n",
       "      <th>ind_cco_fin_ult1</th>\n",
       "      <th>ind_cder_fin_ult1</th>\n",
       "      <th>ind_cno_fin_ult1</th>\n",
       "      <th>ind_ctju_fin_ult1</th>\n",
       "      <th>ind_ctma_fin_ult1</th>\n",
       "      <th>ind_ctop_fin_ult1</th>\n",
       "      <th>ind_ctpp_fin_ult1</th>\n",
       "      <th>ind_deco_fin_ult1</th>\n",
       "      <th>...</th>\n",
       "      <th>ind_hip_fin_ult1</th>\n",
       "      <th>ind_plan_fin_ult1</th>\n",
       "      <th>ind_pres_fin_ult1</th>\n",
       "      <th>ind_reca_fin_ult1</th>\n",
       "      <th>ind_tjcr_fin_ult1</th>\n",
       "      <th>ind_valo_fin_ult1</th>\n",
       "      <th>ind_viv_fin_ult1</th>\n",
       "      <th>ind_nomina_ult1</th>\n",
       "      <th>ind_nom_pens_ult1</th>\n",
       "      <th>ind_recibo_ult1</th>\n",
       "    </tr>\n",
       "  </thead>\n",
       "  <tbody>\n",
       "    <tr>\n",
       "      <th>2428958</th>\n",
       "      <td>0</td>\n",
       "      <td>0</td>\n",
       "      <td>1</td>\n",
       "      <td>0</td>\n",
       "      <td>0</td>\n",
       "      <td>0</td>\n",
       "      <td>0</td>\n",
       "      <td>0</td>\n",
       "      <td>0</td>\n",
       "      <td>0</td>\n",
       "      <td>...</td>\n",
       "      <td>0</td>\n",
       "      <td>0</td>\n",
       "      <td>0</td>\n",
       "      <td>0</td>\n",
       "      <td>0</td>\n",
       "      <td>0</td>\n",
       "      <td>0</td>\n",
       "      <td>0</td>\n",
       "      <td>0</td>\n",
       "      <td>1</td>\n",
       "    </tr>\n",
       "    <tr>\n",
       "      <th>10065819</th>\n",
       "      <td>0</td>\n",
       "      <td>0</td>\n",
       "      <td>0</td>\n",
       "      <td>0</td>\n",
       "      <td>0</td>\n",
       "      <td>0</td>\n",
       "      <td>0</td>\n",
       "      <td>0</td>\n",
       "      <td>0</td>\n",
       "      <td>0</td>\n",
       "      <td>...</td>\n",
       "      <td>0</td>\n",
       "      <td>0</td>\n",
       "      <td>0</td>\n",
       "      <td>0</td>\n",
       "      <td>0</td>\n",
       "      <td>0</td>\n",
       "      <td>0</td>\n",
       "      <td>0</td>\n",
       "      <td>0</td>\n",
       "      <td>0</td>\n",
       "    </tr>\n",
       "    <tr>\n",
       "      <th>518173</th>\n",
       "      <td>0</td>\n",
       "      <td>0</td>\n",
       "      <td>0</td>\n",
       "      <td>0</td>\n",
       "      <td>0</td>\n",
       "      <td>0</td>\n",
       "      <td>0</td>\n",
       "      <td>0</td>\n",
       "      <td>0</td>\n",
       "      <td>0</td>\n",
       "      <td>...</td>\n",
       "      <td>0</td>\n",
       "      <td>0</td>\n",
       "      <td>0</td>\n",
       "      <td>0</td>\n",
       "      <td>0</td>\n",
       "      <td>0</td>\n",
       "      <td>0</td>\n",
       "      <td>0</td>\n",
       "      <td>0</td>\n",
       "      <td>1</td>\n",
       "    </tr>\n",
       "    <tr>\n",
       "      <th>1673167</th>\n",
       "      <td>0</td>\n",
       "      <td>0</td>\n",
       "      <td>1</td>\n",
       "      <td>0</td>\n",
       "      <td>0</td>\n",
       "      <td>0</td>\n",
       "      <td>0</td>\n",
       "      <td>0</td>\n",
       "      <td>0</td>\n",
       "      <td>0</td>\n",
       "      <td>...</td>\n",
       "      <td>0</td>\n",
       "      <td>0</td>\n",
       "      <td>0</td>\n",
       "      <td>0</td>\n",
       "      <td>0</td>\n",
       "      <td>0</td>\n",
       "      <td>0</td>\n",
       "      <td>0</td>\n",
       "      <td>0</td>\n",
       "      <td>0</td>\n",
       "    </tr>\n",
       "    <tr>\n",
       "      <th>5226724</th>\n",
       "      <td>0</td>\n",
       "      <td>0</td>\n",
       "      <td>0</td>\n",
       "      <td>0</td>\n",
       "      <td>0</td>\n",
       "      <td>0</td>\n",
       "      <td>0</td>\n",
       "      <td>0</td>\n",
       "      <td>0</td>\n",
       "      <td>0</td>\n",
       "      <td>...</td>\n",
       "      <td>0</td>\n",
       "      <td>0</td>\n",
       "      <td>0</td>\n",
       "      <td>0</td>\n",
       "      <td>0</td>\n",
       "      <td>0</td>\n",
       "      <td>0</td>\n",
       "      <td>0</td>\n",
       "      <td>0</td>\n",
       "      <td>0</td>\n",
       "    </tr>\n",
       "    <tr>\n",
       "      <th>...</th>\n",
       "      <td>...</td>\n",
       "      <td>...</td>\n",
       "      <td>...</td>\n",
       "      <td>...</td>\n",
       "      <td>...</td>\n",
       "      <td>...</td>\n",
       "      <td>...</td>\n",
       "      <td>...</td>\n",
       "      <td>...</td>\n",
       "      <td>...</td>\n",
       "      <td>...</td>\n",
       "      <td>...</td>\n",
       "      <td>...</td>\n",
       "      <td>...</td>\n",
       "      <td>...</td>\n",
       "      <td>...</td>\n",
       "      <td>...</td>\n",
       "      <td>...</td>\n",
       "      <td>...</td>\n",
       "      <td>...</td>\n",
       "      <td>...</td>\n",
       "    </tr>\n",
       "    <tr>\n",
       "      <th>1067876</th>\n",
       "      <td>0</td>\n",
       "      <td>0</td>\n",
       "      <td>1</td>\n",
       "      <td>0</td>\n",
       "      <td>0</td>\n",
       "      <td>0</td>\n",
       "      <td>0</td>\n",
       "      <td>0</td>\n",
       "      <td>0</td>\n",
       "      <td>0</td>\n",
       "      <td>...</td>\n",
       "      <td>0</td>\n",
       "      <td>0</td>\n",
       "      <td>0</td>\n",
       "      <td>0</td>\n",
       "      <td>0</td>\n",
       "      <td>0</td>\n",
       "      <td>0</td>\n",
       "      <td>0</td>\n",
       "      <td>0</td>\n",
       "      <td>0</td>\n",
       "    </tr>\n",
       "    <tr>\n",
       "      <th>12144</th>\n",
       "      <td>0</td>\n",
       "      <td>0</td>\n",
       "      <td>1</td>\n",
       "      <td>0</td>\n",
       "      <td>0</td>\n",
       "      <td>0</td>\n",
       "      <td>0</td>\n",
       "      <td>0</td>\n",
       "      <td>0</td>\n",
       "      <td>0</td>\n",
       "      <td>...</td>\n",
       "      <td>0</td>\n",
       "      <td>0</td>\n",
       "      <td>0</td>\n",
       "      <td>0</td>\n",
       "      <td>0</td>\n",
       "      <td>0</td>\n",
       "      <td>0</td>\n",
       "      <td>0</td>\n",
       "      <td>0</td>\n",
       "      <td>0</td>\n",
       "    </tr>\n",
       "    <tr>\n",
       "      <th>8704871</th>\n",
       "      <td>0</td>\n",
       "      <td>0</td>\n",
       "      <td>1</td>\n",
       "      <td>0</td>\n",
       "      <td>0</td>\n",
       "      <td>0</td>\n",
       "      <td>0</td>\n",
       "      <td>0</td>\n",
       "      <td>0</td>\n",
       "      <td>0</td>\n",
       "      <td>...</td>\n",
       "      <td>0</td>\n",
       "      <td>0</td>\n",
       "      <td>0</td>\n",
       "      <td>0</td>\n",
       "      <td>0</td>\n",
       "      <td>0</td>\n",
       "      <td>0</td>\n",
       "      <td>0</td>\n",
       "      <td>0</td>\n",
       "      <td>0</td>\n",
       "    </tr>\n",
       "    <tr>\n",
       "      <th>2064636</th>\n",
       "      <td>0</td>\n",
       "      <td>0</td>\n",
       "      <td>1</td>\n",
       "      <td>0</td>\n",
       "      <td>0</td>\n",
       "      <td>0</td>\n",
       "      <td>0</td>\n",
       "      <td>0</td>\n",
       "      <td>0</td>\n",
       "      <td>0</td>\n",
       "      <td>...</td>\n",
       "      <td>0</td>\n",
       "      <td>0</td>\n",
       "      <td>0</td>\n",
       "      <td>0</td>\n",
       "      <td>0</td>\n",
       "      <td>0</td>\n",
       "      <td>0</td>\n",
       "      <td>0</td>\n",
       "      <td>0</td>\n",
       "      <td>0</td>\n",
       "    </tr>\n",
       "    <tr>\n",
       "      <th>943302</th>\n",
       "      <td>0</td>\n",
       "      <td>0</td>\n",
       "      <td>1</td>\n",
       "      <td>0</td>\n",
       "      <td>0</td>\n",
       "      <td>0</td>\n",
       "      <td>0</td>\n",
       "      <td>0</td>\n",
       "      <td>0</td>\n",
       "      <td>0</td>\n",
       "      <td>...</td>\n",
       "      <td>0</td>\n",
       "      <td>0</td>\n",
       "      <td>0</td>\n",
       "      <td>0</td>\n",
       "      <td>0</td>\n",
       "      <td>0</td>\n",
       "      <td>0</td>\n",
       "      <td>0</td>\n",
       "      <td>0</td>\n",
       "      <td>0</td>\n",
       "    </tr>\n",
       "  </tbody>\n",
       "</table>\n",
       "<p>136211 rows × 24 columns</p>\n",
       "</div>"
      ],
      "text/plain": [
       "          ind_ahor_fin_ult1  ind_aval_fin_ult1  ind_cco_fin_ult1  \\\n",
       "2428958                   0                  0                 1   \n",
       "10065819                  0                  0                 0   \n",
       "518173                    0                  0                 0   \n",
       "1673167                   0                  0                 1   \n",
       "5226724                   0                  0                 0   \n",
       "...                     ...                ...               ...   \n",
       "1067876                   0                  0                 1   \n",
       "12144                     0                  0                 1   \n",
       "8704871                   0                  0                 1   \n",
       "2064636                   0                  0                 1   \n",
       "943302                    0                  0                 1   \n",
       "\n",
       "          ind_cder_fin_ult1  ind_cno_fin_ult1  ind_ctju_fin_ult1  \\\n",
       "2428958                   0                 0                  0   \n",
       "10065819                  0                 0                  0   \n",
       "518173                    0                 0                  0   \n",
       "1673167                   0                 0                  0   \n",
       "5226724                   0                 0                  0   \n",
       "...                     ...               ...                ...   \n",
       "1067876                   0                 0                  0   \n",
       "12144                     0                 0                  0   \n",
       "8704871                   0                 0                  0   \n",
       "2064636                   0                 0                  0   \n",
       "943302                    0                 0                  0   \n",
       "\n",
       "          ind_ctma_fin_ult1  ind_ctop_fin_ult1  ind_ctpp_fin_ult1  \\\n",
       "2428958                   0                  0                  0   \n",
       "10065819                  0                  0                  0   \n",
       "518173                    0                  0                  0   \n",
       "1673167                   0                  0                  0   \n",
       "5226724                   0                  0                  0   \n",
       "...                     ...                ...                ...   \n",
       "1067876                   0                  0                  0   \n",
       "12144                     0                  0                  0   \n",
       "8704871                   0                  0                  0   \n",
       "2064636                   0                  0                  0   \n",
       "943302                    0                  0                  0   \n",
       "\n",
       "          ind_deco_fin_ult1  ...  ind_hip_fin_ult1  ind_plan_fin_ult1  \\\n",
       "2428958                   0  ...                 0                  0   \n",
       "10065819                  0  ...                 0                  0   \n",
       "518173                    0  ...                 0                  0   \n",
       "1673167                   0  ...                 0                  0   \n",
       "5226724                   0  ...                 0                  0   \n",
       "...                     ...  ...               ...                ...   \n",
       "1067876                   0  ...                 0                  0   \n",
       "12144                     0  ...                 0                  0   \n",
       "8704871                   0  ...                 0                  0   \n",
       "2064636                   0  ...                 0                  0   \n",
       "943302                    0  ...                 0                  0   \n",
       "\n",
       "          ind_pres_fin_ult1  ind_reca_fin_ult1  ind_tjcr_fin_ult1  \\\n",
       "2428958                   0                  0                  0   \n",
       "10065819                  0                  0                  0   \n",
       "518173                    0                  0                  0   \n",
       "1673167                   0                  0                  0   \n",
       "5226724                   0                  0                  0   \n",
       "...                     ...                ...                ...   \n",
       "1067876                   0                  0                  0   \n",
       "12144                     0                  0                  0   \n",
       "8704871                   0                  0                  0   \n",
       "2064636                   0                  0                  0   \n",
       "943302                    0                  0                  0   \n",
       "\n",
       "          ind_valo_fin_ult1  ind_viv_fin_ult1  ind_nomina_ult1  \\\n",
       "2428958                   0                 0                0   \n",
       "10065819                  0                 0                0   \n",
       "518173                    0                 0                0   \n",
       "1673167                   0                 0                0   \n",
       "5226724                   0                 0                0   \n",
       "...                     ...               ...              ...   \n",
       "1067876                   0                 0                0   \n",
       "12144                     0                 0                0   \n",
       "8704871                   0                 0                0   \n",
       "2064636                   0                 0                0   \n",
       "943302                    0                 0                0   \n",
       "\n",
       "          ind_nom_pens_ult1  ind_recibo_ult1  \n",
       "2428958                   0                1  \n",
       "10065819                  0                0  \n",
       "518173                    0                1  \n",
       "1673167                   0                0  \n",
       "5226724                   0                0  \n",
       "...                     ...              ...  \n",
       "1067876                   0                0  \n",
       "12144                     0                0  \n",
       "8704871                   0                0  \n",
       "2064636                   0                0  \n",
       "943302                    0                0  \n",
       "\n",
       "[136211 rows x 24 columns]"
      ]
     },
     "execution_count": 73,
     "metadata": {},
     "output_type": "execute_result"
    }
   ],
   "source": [
    "y = df.loc[:, y_name_list]\n",
    "y"
   ]
  },
  {
   "cell_type": "markdown",
   "id": "ad47fb22",
   "metadata": {
    "collapsed": false
   },
   "source": [
    "# 模型"
   ]
  },
  {
   "cell_type": "code",
   "execution_count": 74,
   "id": "01a5da66",
   "metadata": {
    "collapsed": false
   },
   "outputs": [],
   "source": [
    "\n",
    "\n",
    "Xtrain, Xvalidation, Ytrain, Yvalidation = train_test_split(X, y, test_size=0.3)"
   ]
  },
  {
   "cell_type": "code",
   "execution_count": 75,
   "id": "9e5d7c6d",
   "metadata": {
    "collapsed": false
   },
   "outputs": [
    {
     "data": {
      "text/html": [
       "<div>\n",
       "<style scoped>\n",
       "    .dataframe tbody tr th:only-of-type {\n",
       "        vertical-align: middle;\n",
       "    }\n",
       "\n",
       "    .dataframe tbody tr th {\n",
       "        vertical-align: top;\n",
       "    }\n",
       "\n",
       "    .dataframe thead th {\n",
       "        text-align: right;\n",
       "    }\n",
       "</style>\n",
       "<table border=\"1\" class=\"dataframe\">\n",
       "  <thead>\n",
       "    <tr style=\"text-align: right;\">\n",
       "      <th></th>\n",
       "      <th>age</th>\n",
       "      <th>renta</th>\n",
       "      <th>indfall_enc</th>\n",
       "      <th>indrel_enc</th>\n",
       "      <th>segmento_enc</th>\n",
       "      <th>indresi_enc</th>\n",
       "      <th>indrel_1mes_enc</th>\n",
       "      <th>canal_entrada_enc</th>\n",
       "      <th>ind_nuevo_enc</th>\n",
       "      <th>pais_residencia_enc</th>\n",
       "      <th>tiprel_1mes_enc</th>\n",
       "      <th>antiguedad_enc</th>\n",
       "      <th>sexo_enc</th>\n",
       "      <th>ind_empleado_enc</th>\n",
       "      <th>indext_enc</th>\n",
       "      <th>ind_actividad_cliente_enc</th>\n",
       "      <th>cod_prov_enc</th>\n",
       "    </tr>\n",
       "  </thead>\n",
       "  <tbody>\n",
       "    <tr>\n",
       "      <th>7425152</th>\n",
       "      <td>50</td>\n",
       "      <td>133054</td>\n",
       "      <td>0</td>\n",
       "      <td>0</td>\n",
       "      <td>2</td>\n",
       "      <td>1</td>\n",
       "      <td>0</td>\n",
       "      <td>22</td>\n",
       "      <td>0</td>\n",
       "      <td>0</td>\n",
       "      <td>0</td>\n",
       "      <td>114</td>\n",
       "      <td>0</td>\n",
       "      <td>3</td>\n",
       "      <td>0</td>\n",
       "      <td>1</td>\n",
       "      <td>1</td>\n",
       "    </tr>\n",
       "    <tr>\n",
       "      <th>1365124</th>\n",
       "      <td>67</td>\n",
       "      <td>78992</td>\n",
       "      <td>0</td>\n",
       "      <td>0</td>\n",
       "      <td>2</td>\n",
       "      <td>1</td>\n",
       "      <td>0</td>\n",
       "      <td>22</td>\n",
       "      <td>0</td>\n",
       "      <td>0</td>\n",
       "      <td>0</td>\n",
       "      <td>73</td>\n",
       "      <td>0</td>\n",
       "      <td>3</td>\n",
       "      <td>0</td>\n",
       "      <td>1</td>\n",
       "      <td>28</td>\n",
       "    </tr>\n",
       "    <tr>\n",
       "      <th>12652831</th>\n",
       "      <td>24</td>\n",
       "      <td>86845</td>\n",
       "      <td>0</td>\n",
       "      <td>0</td>\n",
       "      <td>3</td>\n",
       "      <td>1</td>\n",
       "      <td>0</td>\n",
       "      <td>137</td>\n",
       "      <td>0</td>\n",
       "      <td>0</td>\n",
       "      <td>1</td>\n",
       "      <td>29</td>\n",
       "      <td>1</td>\n",
       "      <td>3</td>\n",
       "      <td>0</td>\n",
       "      <td>0</td>\n",
       "      <td>33</td>\n",
       "    </tr>\n",
       "    <tr>\n",
       "      <th>8641428</th>\n",
       "      <td>48</td>\n",
       "      <td>901080</td>\n",
       "      <td>0</td>\n",
       "      <td>0</td>\n",
       "      <td>2</td>\n",
       "      <td>1</td>\n",
       "      <td>0</td>\n",
       "      <td>22</td>\n",
       "      <td>0</td>\n",
       "      <td>0</td>\n",
       "      <td>1</td>\n",
       "      <td>191</td>\n",
       "      <td>0</td>\n",
       "      <td>3</td>\n",
       "      <td>0</td>\n",
       "      <td>0</td>\n",
       "      <td>28</td>\n",
       "    </tr>\n",
       "    <tr>\n",
       "      <th>3488603</th>\n",
       "      <td>46</td>\n",
       "      <td>138139</td>\n",
       "      <td>0</td>\n",
       "      <td>0</td>\n",
       "      <td>2</td>\n",
       "      <td>1</td>\n",
       "      <td>0</td>\n",
       "      <td>112</td>\n",
       "      <td>0</td>\n",
       "      <td>0</td>\n",
       "      <td>1</td>\n",
       "      <td>172</td>\n",
       "      <td>1</td>\n",
       "      <td>3</td>\n",
       "      <td>0</td>\n",
       "      <td>0</td>\n",
       "      <td>28</td>\n",
       "    </tr>\n",
       "    <tr>\n",
       "      <th>...</th>\n",
       "      <td>...</td>\n",
       "      <td>...</td>\n",
       "      <td>...</td>\n",
       "      <td>...</td>\n",
       "      <td>...</td>\n",
       "      <td>...</td>\n",
       "      <td>...</td>\n",
       "      <td>...</td>\n",
       "      <td>...</td>\n",
       "      <td>...</td>\n",
       "      <td>...</td>\n",
       "      <td>...</td>\n",
       "      <td>...</td>\n",
       "      <td>...</td>\n",
       "      <td>...</td>\n",
       "      <td>...</td>\n",
       "      <td>...</td>\n",
       "    </tr>\n",
       "    <tr>\n",
       "      <th>6419366</th>\n",
       "      <td>22</td>\n",
       "      <td>55002</td>\n",
       "      <td>0</td>\n",
       "      <td>0</td>\n",
       "      <td>3</td>\n",
       "      <td>1</td>\n",
       "      <td>0</td>\n",
       "      <td>137</td>\n",
       "      <td>0</td>\n",
       "      <td>0</td>\n",
       "      <td>0</td>\n",
       "      <td>26</td>\n",
       "      <td>1</td>\n",
       "      <td>3</td>\n",
       "      <td>0</td>\n",
       "      <td>1</td>\n",
       "      <td>2</td>\n",
       "    </tr>\n",
       "    <tr>\n",
       "      <th>10869495</th>\n",
       "      <td>21</td>\n",
       "      <td>58047</td>\n",
       "      <td>0</td>\n",
       "      <td>0</td>\n",
       "      <td>3</td>\n",
       "      <td>1</td>\n",
       "      <td>0</td>\n",
       "      <td>145</td>\n",
       "      <td>0</td>\n",
       "      <td>0</td>\n",
       "      <td>0</td>\n",
       "      <td>6</td>\n",
       "      <td>0</td>\n",
       "      <td>3</td>\n",
       "      <td>0</td>\n",
       "      <td>1</td>\n",
       "      <td>27</td>\n",
       "    </tr>\n",
       "    <tr>\n",
       "      <th>1586439</th>\n",
       "      <td>53</td>\n",
       "      <td>105378</td>\n",
       "      <td>0</td>\n",
       "      <td>0</td>\n",
       "      <td>2</td>\n",
       "      <td>1</td>\n",
       "      <td>0</td>\n",
       "      <td>22</td>\n",
       "      <td>0</td>\n",
       "      <td>0</td>\n",
       "      <td>1</td>\n",
       "      <td>21</td>\n",
       "      <td>1</td>\n",
       "      <td>3</td>\n",
       "      <td>0</td>\n",
       "      <td>1</td>\n",
       "      <td>45</td>\n",
       "    </tr>\n",
       "    <tr>\n",
       "      <th>2622409</th>\n",
       "      <td>37</td>\n",
       "      <td>176931</td>\n",
       "      <td>0</td>\n",
       "      <td>0</td>\n",
       "      <td>2</td>\n",
       "      <td>1</td>\n",
       "      <td>0</td>\n",
       "      <td>137</td>\n",
       "      <td>0</td>\n",
       "      <td>0</td>\n",
       "      <td>1</td>\n",
       "      <td>47</td>\n",
       "      <td>0</td>\n",
       "      <td>3</td>\n",
       "      <td>0</td>\n",
       "      <td>1</td>\n",
       "      <td>2</td>\n",
       "    </tr>\n",
       "    <tr>\n",
       "      <th>8477380</th>\n",
       "      <td>22</td>\n",
       "      <td>133054</td>\n",
       "      <td>0</td>\n",
       "      <td>0</td>\n",
       "      <td>3</td>\n",
       "      <td>1</td>\n",
       "      <td>0</td>\n",
       "      <td>137</td>\n",
       "      <td>0</td>\n",
       "      <td>0</td>\n",
       "      <td>1</td>\n",
       "      <td>28</td>\n",
       "      <td>0</td>\n",
       "      <td>3</td>\n",
       "      <td>0</td>\n",
       "      <td>1</td>\n",
       "      <td>6</td>\n",
       "    </tr>\n",
       "  </tbody>\n",
       "</table>\n",
       "<p>95347 rows × 17 columns</p>\n",
       "</div>"
      ],
      "text/plain": [
       "          age   renta  indfall_enc  indrel_enc  segmento_enc  indresi_enc  \\\n",
       "7425152    50  133054            0           0             2            1   \n",
       "1365124    67   78992            0           0             2            1   \n",
       "12652831   24   86845            0           0             3            1   \n",
       "8641428    48  901080            0           0             2            1   \n",
       "3488603    46  138139            0           0             2            1   \n",
       "...       ...     ...          ...         ...           ...          ...   \n",
       "6419366    22   55002            0           0             3            1   \n",
       "10869495   21   58047            0           0             3            1   \n",
       "1586439    53  105378            0           0             2            1   \n",
       "2622409    37  176931            0           0             2            1   \n",
       "8477380    22  133054            0           0             3            1   \n",
       "\n",
       "          indrel_1mes_enc  canal_entrada_enc  ind_nuevo_enc  \\\n",
       "7425152                 0                 22              0   \n",
       "1365124                 0                 22              0   \n",
       "12652831                0                137              0   \n",
       "8641428                 0                 22              0   \n",
       "3488603                 0                112              0   \n",
       "...                   ...                ...            ...   \n",
       "6419366                 0                137              0   \n",
       "10869495                0                145              0   \n",
       "1586439                 0                 22              0   \n",
       "2622409                 0                137              0   \n",
       "8477380                 0                137              0   \n",
       "\n",
       "          pais_residencia_enc  tiprel_1mes_enc  antiguedad_enc  sexo_enc  \\\n",
       "7425152                     0                0             114         0   \n",
       "1365124                     0                0              73         0   \n",
       "12652831                    0                1              29         1   \n",
       "8641428                     0                1             191         0   \n",
       "3488603                     0                1             172         1   \n",
       "...                       ...              ...             ...       ...   \n",
       "6419366                     0                0              26         1   \n",
       "10869495                    0                0               6         0   \n",
       "1586439                     0                1              21         1   \n",
       "2622409                     0                1              47         0   \n",
       "8477380                     0                1              28         0   \n",
       "\n",
       "          ind_empleado_enc  indext_enc  ind_actividad_cliente_enc  \\\n",
       "7425152                  3           0                          1   \n",
       "1365124                  3           0                          1   \n",
       "12652831                 3           0                          0   \n",
       "8641428                  3           0                          0   \n",
       "3488603                  3           0                          0   \n",
       "...                    ...         ...                        ...   \n",
       "6419366                  3           0                          1   \n",
       "10869495                 3           0                          1   \n",
       "1586439                  3           0                          1   \n",
       "2622409                  3           0                          1   \n",
       "8477380                  3           0                          1   \n",
       "\n",
       "          cod_prov_enc  \n",
       "7425152              1  \n",
       "1365124             28  \n",
       "12652831            33  \n",
       "8641428             28  \n",
       "3488603             28  \n",
       "...                ...  \n",
       "6419366              2  \n",
       "10869495            27  \n",
       "1586439             45  \n",
       "2622409              2  \n",
       "8477380              6  \n",
       "\n",
       "[95347 rows x 17 columns]"
      ]
     },
     "execution_count": 75,
     "metadata": {},
     "output_type": "execute_result"
    }
   ],
   "source": [
    "Xtrain"
   ]
  },
  {
   "cell_type": "code",
   "execution_count": 76,
   "id": "357fe983",
   "metadata": {
    "collapsed": false
   },
   "outputs": [
    {
     "data": {
      "text/html": [
       "<div>\n",
       "<style scoped>\n",
       "    .dataframe tbody tr th:only-of-type {\n",
       "        vertical-align: middle;\n",
       "    }\n",
       "\n",
       "    .dataframe tbody tr th {\n",
       "        vertical-align: top;\n",
       "    }\n",
       "\n",
       "    .dataframe thead th {\n",
       "        text-align: right;\n",
       "    }\n",
       "</style>\n",
       "<table border=\"1\" class=\"dataframe\">\n",
       "  <thead>\n",
       "    <tr style=\"text-align: right;\">\n",
       "      <th></th>\n",
       "      <th>ind_ahor_fin_ult1</th>\n",
       "      <th>ind_aval_fin_ult1</th>\n",
       "      <th>ind_cco_fin_ult1</th>\n",
       "      <th>ind_cder_fin_ult1</th>\n",
       "      <th>ind_cno_fin_ult1</th>\n",
       "      <th>ind_ctju_fin_ult1</th>\n",
       "      <th>ind_ctma_fin_ult1</th>\n",
       "      <th>ind_ctop_fin_ult1</th>\n",
       "      <th>ind_ctpp_fin_ult1</th>\n",
       "      <th>ind_deco_fin_ult1</th>\n",
       "      <th>...</th>\n",
       "      <th>ind_hip_fin_ult1</th>\n",
       "      <th>ind_plan_fin_ult1</th>\n",
       "      <th>ind_pres_fin_ult1</th>\n",
       "      <th>ind_reca_fin_ult1</th>\n",
       "      <th>ind_tjcr_fin_ult1</th>\n",
       "      <th>ind_valo_fin_ult1</th>\n",
       "      <th>ind_viv_fin_ult1</th>\n",
       "      <th>ind_nomina_ult1</th>\n",
       "      <th>ind_nom_pens_ult1</th>\n",
       "      <th>ind_recibo_ult1</th>\n",
       "    </tr>\n",
       "  </thead>\n",
       "  <tbody>\n",
       "    <tr>\n",
       "      <th>7425152</th>\n",
       "      <td>0</td>\n",
       "      <td>0</td>\n",
       "      <td>1</td>\n",
       "      <td>0</td>\n",
       "      <td>0</td>\n",
       "      <td>0</td>\n",
       "      <td>0</td>\n",
       "      <td>0</td>\n",
       "      <td>0</td>\n",
       "      <td>0</td>\n",
       "      <td>...</td>\n",
       "      <td>0</td>\n",
       "      <td>0</td>\n",
       "      <td>0</td>\n",
       "      <td>0</td>\n",
       "      <td>0</td>\n",
       "      <td>0</td>\n",
       "      <td>0</td>\n",
       "      <td>0</td>\n",
       "      <td>0</td>\n",
       "      <td>0</td>\n",
       "    </tr>\n",
       "    <tr>\n",
       "      <th>1365124</th>\n",
       "      <td>0</td>\n",
       "      <td>0</td>\n",
       "      <td>0</td>\n",
       "      <td>0</td>\n",
       "      <td>0</td>\n",
       "      <td>0</td>\n",
       "      <td>0</td>\n",
       "      <td>0</td>\n",
       "      <td>1</td>\n",
       "      <td>0</td>\n",
       "      <td>...</td>\n",
       "      <td>0</td>\n",
       "      <td>0</td>\n",
       "      <td>0</td>\n",
       "      <td>0</td>\n",
       "      <td>0</td>\n",
       "      <td>0</td>\n",
       "      <td>0</td>\n",
       "      <td>0</td>\n",
       "      <td>0</td>\n",
       "      <td>0</td>\n",
       "    </tr>\n",
       "    <tr>\n",
       "      <th>12652831</th>\n",
       "      <td>0</td>\n",
       "      <td>0</td>\n",
       "      <td>1</td>\n",
       "      <td>0</td>\n",
       "      <td>0</td>\n",
       "      <td>0</td>\n",
       "      <td>0</td>\n",
       "      <td>0</td>\n",
       "      <td>0</td>\n",
       "      <td>0</td>\n",
       "      <td>...</td>\n",
       "      <td>0</td>\n",
       "      <td>0</td>\n",
       "      <td>0</td>\n",
       "      <td>0</td>\n",
       "      <td>0</td>\n",
       "      <td>0</td>\n",
       "      <td>0</td>\n",
       "      <td>0</td>\n",
       "      <td>0</td>\n",
       "      <td>0</td>\n",
       "    </tr>\n",
       "    <tr>\n",
       "      <th>8641428</th>\n",
       "      <td>0</td>\n",
       "      <td>0</td>\n",
       "      <td>0</td>\n",
       "      <td>0</td>\n",
       "      <td>0</td>\n",
       "      <td>0</td>\n",
       "      <td>0</td>\n",
       "      <td>0</td>\n",
       "      <td>0</td>\n",
       "      <td>0</td>\n",
       "      <td>...</td>\n",
       "      <td>0</td>\n",
       "      <td>0</td>\n",
       "      <td>0</td>\n",
       "      <td>0</td>\n",
       "      <td>0</td>\n",
       "      <td>0</td>\n",
       "      <td>0</td>\n",
       "      <td>0</td>\n",
       "      <td>0</td>\n",
       "      <td>0</td>\n",
       "    </tr>\n",
       "    <tr>\n",
       "      <th>3488603</th>\n",
       "      <td>0</td>\n",
       "      <td>0</td>\n",
       "      <td>1</td>\n",
       "      <td>0</td>\n",
       "      <td>0</td>\n",
       "      <td>0</td>\n",
       "      <td>0</td>\n",
       "      <td>0</td>\n",
       "      <td>0</td>\n",
       "      <td>0</td>\n",
       "      <td>...</td>\n",
       "      <td>0</td>\n",
       "      <td>0</td>\n",
       "      <td>0</td>\n",
       "      <td>0</td>\n",
       "      <td>0</td>\n",
       "      <td>0</td>\n",
       "      <td>0</td>\n",
       "      <td>0</td>\n",
       "      <td>0</td>\n",
       "      <td>0</td>\n",
       "    </tr>\n",
       "    <tr>\n",
       "      <th>...</th>\n",
       "      <td>...</td>\n",
       "      <td>...</td>\n",
       "      <td>...</td>\n",
       "      <td>...</td>\n",
       "      <td>...</td>\n",
       "      <td>...</td>\n",
       "      <td>...</td>\n",
       "      <td>...</td>\n",
       "      <td>...</td>\n",
       "      <td>...</td>\n",
       "      <td>...</td>\n",
       "      <td>...</td>\n",
       "      <td>...</td>\n",
       "      <td>...</td>\n",
       "      <td>...</td>\n",
       "      <td>...</td>\n",
       "      <td>...</td>\n",
       "      <td>...</td>\n",
       "      <td>...</td>\n",
       "      <td>...</td>\n",
       "      <td>...</td>\n",
       "    </tr>\n",
       "    <tr>\n",
       "      <th>6419366</th>\n",
       "      <td>0</td>\n",
       "      <td>0</td>\n",
       "      <td>1</td>\n",
       "      <td>0</td>\n",
       "      <td>0</td>\n",
       "      <td>0</td>\n",
       "      <td>0</td>\n",
       "      <td>0</td>\n",
       "      <td>0</td>\n",
       "      <td>0</td>\n",
       "      <td>...</td>\n",
       "      <td>0</td>\n",
       "      <td>0</td>\n",
       "      <td>0</td>\n",
       "      <td>0</td>\n",
       "      <td>0</td>\n",
       "      <td>0</td>\n",
       "      <td>0</td>\n",
       "      <td>0</td>\n",
       "      <td>0</td>\n",
       "      <td>0</td>\n",
       "    </tr>\n",
       "    <tr>\n",
       "      <th>10869495</th>\n",
       "      <td>0</td>\n",
       "      <td>0</td>\n",
       "      <td>1</td>\n",
       "      <td>0</td>\n",
       "      <td>0</td>\n",
       "      <td>0</td>\n",
       "      <td>0</td>\n",
       "      <td>0</td>\n",
       "      <td>0</td>\n",
       "      <td>0</td>\n",
       "      <td>...</td>\n",
       "      <td>0</td>\n",
       "      <td>0</td>\n",
       "      <td>0</td>\n",
       "      <td>0</td>\n",
       "      <td>0</td>\n",
       "      <td>0</td>\n",
       "      <td>0</td>\n",
       "      <td>0</td>\n",
       "      <td>0</td>\n",
       "      <td>0</td>\n",
       "    </tr>\n",
       "    <tr>\n",
       "      <th>1586439</th>\n",
       "      <td>0</td>\n",
       "      <td>0</td>\n",
       "      <td>1</td>\n",
       "      <td>0</td>\n",
       "      <td>0</td>\n",
       "      <td>0</td>\n",
       "      <td>0</td>\n",
       "      <td>0</td>\n",
       "      <td>0</td>\n",
       "      <td>0</td>\n",
       "      <td>...</td>\n",
       "      <td>0</td>\n",
       "      <td>0</td>\n",
       "      <td>0</td>\n",
       "      <td>0</td>\n",
       "      <td>0</td>\n",
       "      <td>0</td>\n",
       "      <td>0</td>\n",
       "      <td>0</td>\n",
       "      <td>0</td>\n",
       "      <td>0</td>\n",
       "    </tr>\n",
       "    <tr>\n",
       "      <th>2622409</th>\n",
       "      <td>0</td>\n",
       "      <td>0</td>\n",
       "      <td>1</td>\n",
       "      <td>0</td>\n",
       "      <td>0</td>\n",
       "      <td>0</td>\n",
       "      <td>0</td>\n",
       "      <td>0</td>\n",
       "      <td>0</td>\n",
       "      <td>0</td>\n",
       "      <td>...</td>\n",
       "      <td>0</td>\n",
       "      <td>0</td>\n",
       "      <td>0</td>\n",
       "      <td>0</td>\n",
       "      <td>0</td>\n",
       "      <td>0</td>\n",
       "      <td>0</td>\n",
       "      <td>0</td>\n",
       "      <td>0</td>\n",
       "      <td>0</td>\n",
       "    </tr>\n",
       "    <tr>\n",
       "      <th>8477380</th>\n",
       "      <td>0</td>\n",
       "      <td>0</td>\n",
       "      <td>1</td>\n",
       "      <td>0</td>\n",
       "      <td>0</td>\n",
       "      <td>0</td>\n",
       "      <td>0</td>\n",
       "      <td>0</td>\n",
       "      <td>0</td>\n",
       "      <td>0</td>\n",
       "      <td>...</td>\n",
       "      <td>0</td>\n",
       "      <td>0</td>\n",
       "      <td>0</td>\n",
       "      <td>0</td>\n",
       "      <td>0</td>\n",
       "      <td>0</td>\n",
       "      <td>0</td>\n",
       "      <td>0</td>\n",
       "      <td>0</td>\n",
       "      <td>1</td>\n",
       "    </tr>\n",
       "  </tbody>\n",
       "</table>\n",
       "<p>95347 rows × 24 columns</p>\n",
       "</div>"
      ],
      "text/plain": [
       "          ind_ahor_fin_ult1  ind_aval_fin_ult1  ind_cco_fin_ult1  \\\n",
       "7425152                   0                  0                 1   \n",
       "1365124                   0                  0                 0   \n",
       "12652831                  0                  0                 1   \n",
       "8641428                   0                  0                 0   \n",
       "3488603                   0                  0                 1   \n",
       "...                     ...                ...               ...   \n",
       "6419366                   0                  0                 1   \n",
       "10869495                  0                  0                 1   \n",
       "1586439                   0                  0                 1   \n",
       "2622409                   0                  0                 1   \n",
       "8477380                   0                  0                 1   \n",
       "\n",
       "          ind_cder_fin_ult1  ind_cno_fin_ult1  ind_ctju_fin_ult1  \\\n",
       "7425152                   0                 0                  0   \n",
       "1365124                   0                 0                  0   \n",
       "12652831                  0                 0                  0   \n",
       "8641428                   0                 0                  0   \n",
       "3488603                   0                 0                  0   \n",
       "...                     ...               ...                ...   \n",
       "6419366                   0                 0                  0   \n",
       "10869495                  0                 0                  0   \n",
       "1586439                   0                 0                  0   \n",
       "2622409                   0                 0                  0   \n",
       "8477380                   0                 0                  0   \n",
       "\n",
       "          ind_ctma_fin_ult1  ind_ctop_fin_ult1  ind_ctpp_fin_ult1  \\\n",
       "7425152                   0                  0                  0   \n",
       "1365124                   0                  0                  1   \n",
       "12652831                  0                  0                  0   \n",
       "8641428                   0                  0                  0   \n",
       "3488603                   0                  0                  0   \n",
       "...                     ...                ...                ...   \n",
       "6419366                   0                  0                  0   \n",
       "10869495                  0                  0                  0   \n",
       "1586439                   0                  0                  0   \n",
       "2622409                   0                  0                  0   \n",
       "8477380                   0                  0                  0   \n",
       "\n",
       "          ind_deco_fin_ult1  ...  ind_hip_fin_ult1  ind_plan_fin_ult1  \\\n",
       "7425152                   0  ...                 0                  0   \n",
       "1365124                   0  ...                 0                  0   \n",
       "12652831                  0  ...                 0                  0   \n",
       "8641428                   0  ...                 0                  0   \n",
       "3488603                   0  ...                 0                  0   \n",
       "...                     ...  ...               ...                ...   \n",
       "6419366                   0  ...                 0                  0   \n",
       "10869495                  0  ...                 0                  0   \n",
       "1586439                   0  ...                 0                  0   \n",
       "2622409                   0  ...                 0                  0   \n",
       "8477380                   0  ...                 0                  0   \n",
       "\n",
       "          ind_pres_fin_ult1  ind_reca_fin_ult1  ind_tjcr_fin_ult1  \\\n",
       "7425152                   0                  0                  0   \n",
       "1365124                   0                  0                  0   \n",
       "12652831                  0                  0                  0   \n",
       "8641428                   0                  0                  0   \n",
       "3488603                   0                  0                  0   \n",
       "...                     ...                ...                ...   \n",
       "6419366                   0                  0                  0   \n",
       "10869495                  0                  0                  0   \n",
       "1586439                   0                  0                  0   \n",
       "2622409                   0                  0                  0   \n",
       "8477380                   0                  0                  0   \n",
       "\n",
       "          ind_valo_fin_ult1  ind_viv_fin_ult1  ind_nomina_ult1  \\\n",
       "7425152                   0                 0                0   \n",
       "1365124                   0                 0                0   \n",
       "12652831                  0                 0                0   \n",
       "8641428                   0                 0                0   \n",
       "3488603                   0                 0                0   \n",
       "...                     ...               ...              ...   \n",
       "6419366                   0                 0                0   \n",
       "10869495                  0                 0                0   \n",
       "1586439                   0                 0                0   \n",
       "2622409                   0                 0                0   \n",
       "8477380                   0                 0                0   \n",
       "\n",
       "          ind_nom_pens_ult1  ind_recibo_ult1  \n",
       "7425152                   0                0  \n",
       "1365124                   0                0  \n",
       "12652831                  0                0  \n",
       "8641428                   0                0  \n",
       "3488603                   0                0  \n",
       "...                     ...              ...  \n",
       "6419366                   0                0  \n",
       "10869495                  0                0  \n",
       "1586439                   0                0  \n",
       "2622409                   0                0  \n",
       "8477380                   0                1  \n",
       "\n",
       "[95347 rows x 24 columns]"
      ]
     },
     "execution_count": 76,
     "metadata": {},
     "output_type": "execute_result"
    }
   ],
   "source": [
    "Ytrain"
   ]
  },
  {
   "cell_type": "code",
   "execution_count": 77,
   "id": "ec089a7c",
   "metadata": {
    "collapsed": false
   },
   "outputs": [],
   "source": [
    "rfc = RandomForestClassifier(random_state=0, n_jobs=18)\n",
    "rfc = rfc.fit(Xtrain, Ytrain)\n",
    "y_pred = rfc.predict(Xvalidation)\n"
   ]
  },
  {
   "cell_type": "code",
   "execution_count": 78,
   "id": "69e4340a",
   "metadata": {
    "collapsed": false
   },
   "outputs": [],
   "source": [
    "# score_r = rfc.score(Xvalidation, Yvalidation)"
   ]
  },
  {
   "cell_type": "code",
   "execution_count": 79,
   "id": "78339963",
   "metadata": {
    "collapsed": false
   },
   "outputs": [
    {
     "data": {
      "text/html": [
       "<div>\n",
       "<style scoped>\n",
       "    .dataframe tbody tr th:only-of-type {\n",
       "        vertical-align: middle;\n",
       "    }\n",
       "\n",
       "    .dataframe tbody tr th {\n",
       "        vertical-align: top;\n",
       "    }\n",
       "\n",
       "    .dataframe thead th {\n",
       "        text-align: right;\n",
       "    }\n",
       "</style>\n",
       "<table border=\"1\" class=\"dataframe\">\n",
       "  <thead>\n",
       "    <tr style=\"text-align: right;\">\n",
       "      <th></th>\n",
       "      <th>ind_ahor_fin_ult1</th>\n",
       "      <th>ind_aval_fin_ult1</th>\n",
       "      <th>ind_cco_fin_ult1</th>\n",
       "      <th>ind_cder_fin_ult1</th>\n",
       "      <th>ind_cno_fin_ult1</th>\n",
       "      <th>ind_ctju_fin_ult1</th>\n",
       "      <th>ind_ctma_fin_ult1</th>\n",
       "      <th>ind_ctop_fin_ult1</th>\n",
       "      <th>ind_ctpp_fin_ult1</th>\n",
       "      <th>ind_deco_fin_ult1</th>\n",
       "      <th>...</th>\n",
       "      <th>ind_hip_fin_ult1</th>\n",
       "      <th>ind_plan_fin_ult1</th>\n",
       "      <th>ind_pres_fin_ult1</th>\n",
       "      <th>ind_reca_fin_ult1</th>\n",
       "      <th>ind_tjcr_fin_ult1</th>\n",
       "      <th>ind_valo_fin_ult1</th>\n",
       "      <th>ind_viv_fin_ult1</th>\n",
       "      <th>ind_nomina_ult1</th>\n",
       "      <th>ind_nom_pens_ult1</th>\n",
       "      <th>ind_recibo_ult1</th>\n",
       "    </tr>\n",
       "  </thead>\n",
       "  <tbody>\n",
       "    <tr>\n",
       "      <th>8720895</th>\n",
       "      <td>0</td>\n",
       "      <td>0</td>\n",
       "      <td>1</td>\n",
       "      <td>0</td>\n",
       "      <td>0</td>\n",
       "      <td>0</td>\n",
       "      <td>0</td>\n",
       "      <td>0</td>\n",
       "      <td>0</td>\n",
       "      <td>0</td>\n",
       "      <td>...</td>\n",
       "      <td>0</td>\n",
       "      <td>0</td>\n",
       "      <td>0</td>\n",
       "      <td>0</td>\n",
       "      <td>0</td>\n",
       "      <td>0</td>\n",
       "      <td>0</td>\n",
       "      <td>0</td>\n",
       "      <td>0</td>\n",
       "      <td>0</td>\n",
       "    </tr>\n",
       "    <tr>\n",
       "      <th>6901261</th>\n",
       "      <td>0</td>\n",
       "      <td>0</td>\n",
       "      <td>0</td>\n",
       "      <td>0</td>\n",
       "      <td>1</td>\n",
       "      <td>0</td>\n",
       "      <td>0</td>\n",
       "      <td>1</td>\n",
       "      <td>0</td>\n",
       "      <td>0</td>\n",
       "      <td>...</td>\n",
       "      <td>0</td>\n",
       "      <td>1</td>\n",
       "      <td>0</td>\n",
       "      <td>0</td>\n",
       "      <td>0</td>\n",
       "      <td>1</td>\n",
       "      <td>0</td>\n",
       "      <td>1</td>\n",
       "      <td>1</td>\n",
       "      <td>1</td>\n",
       "    </tr>\n",
       "    <tr>\n",
       "      <th>6730488</th>\n",
       "      <td>0</td>\n",
       "      <td>0</td>\n",
       "      <td>1</td>\n",
       "      <td>0</td>\n",
       "      <td>0</td>\n",
       "      <td>0</td>\n",
       "      <td>0</td>\n",
       "      <td>0</td>\n",
       "      <td>0</td>\n",
       "      <td>0</td>\n",
       "      <td>...</td>\n",
       "      <td>0</td>\n",
       "      <td>0</td>\n",
       "      <td>0</td>\n",
       "      <td>0</td>\n",
       "      <td>0</td>\n",
       "      <td>0</td>\n",
       "      <td>0</td>\n",
       "      <td>0</td>\n",
       "      <td>0</td>\n",
       "      <td>0</td>\n",
       "    </tr>\n",
       "    <tr>\n",
       "      <th>2031368</th>\n",
       "      <td>0</td>\n",
       "      <td>0</td>\n",
       "      <td>0</td>\n",
       "      <td>0</td>\n",
       "      <td>1</td>\n",
       "      <td>0</td>\n",
       "      <td>0</td>\n",
       "      <td>1</td>\n",
       "      <td>0</td>\n",
       "      <td>0</td>\n",
       "      <td>...</td>\n",
       "      <td>0</td>\n",
       "      <td>0</td>\n",
       "      <td>0</td>\n",
       "      <td>0</td>\n",
       "      <td>0</td>\n",
       "      <td>0</td>\n",
       "      <td>0</td>\n",
       "      <td>0</td>\n",
       "      <td>0</td>\n",
       "      <td>1</td>\n",
       "    </tr>\n",
       "    <tr>\n",
       "      <th>7611018</th>\n",
       "      <td>0</td>\n",
       "      <td>0</td>\n",
       "      <td>1</td>\n",
       "      <td>0</td>\n",
       "      <td>1</td>\n",
       "      <td>0</td>\n",
       "      <td>0</td>\n",
       "      <td>0</td>\n",
       "      <td>0</td>\n",
       "      <td>0</td>\n",
       "      <td>...</td>\n",
       "      <td>0</td>\n",
       "      <td>0</td>\n",
       "      <td>0</td>\n",
       "      <td>1</td>\n",
       "      <td>0</td>\n",
       "      <td>0</td>\n",
       "      <td>0</td>\n",
       "      <td>1</td>\n",
       "      <td>1</td>\n",
       "      <td>1</td>\n",
       "    </tr>\n",
       "    <tr>\n",
       "      <th>...</th>\n",
       "      <td>...</td>\n",
       "      <td>...</td>\n",
       "      <td>...</td>\n",
       "      <td>...</td>\n",
       "      <td>...</td>\n",
       "      <td>...</td>\n",
       "      <td>...</td>\n",
       "      <td>...</td>\n",
       "      <td>...</td>\n",
       "      <td>...</td>\n",
       "      <td>...</td>\n",
       "      <td>...</td>\n",
       "      <td>...</td>\n",
       "      <td>...</td>\n",
       "      <td>...</td>\n",
       "      <td>...</td>\n",
       "      <td>...</td>\n",
       "      <td>...</td>\n",
       "      <td>...</td>\n",
       "      <td>...</td>\n",
       "      <td>...</td>\n",
       "    </tr>\n",
       "    <tr>\n",
       "      <th>9137125</th>\n",
       "      <td>0</td>\n",
       "      <td>0</td>\n",
       "      <td>0</td>\n",
       "      <td>0</td>\n",
       "      <td>1</td>\n",
       "      <td>0</td>\n",
       "      <td>0</td>\n",
       "      <td>0</td>\n",
       "      <td>1</td>\n",
       "      <td>0</td>\n",
       "      <td>...</td>\n",
       "      <td>1</td>\n",
       "      <td>0</td>\n",
       "      <td>0</td>\n",
       "      <td>1</td>\n",
       "      <td>1</td>\n",
       "      <td>0</td>\n",
       "      <td>0</td>\n",
       "      <td>1</td>\n",
       "      <td>1</td>\n",
       "      <td>1</td>\n",
       "    </tr>\n",
       "    <tr>\n",
       "      <th>7039864</th>\n",
       "      <td>0</td>\n",
       "      <td>0</td>\n",
       "      <td>1</td>\n",
       "      <td>0</td>\n",
       "      <td>0</td>\n",
       "      <td>0</td>\n",
       "      <td>0</td>\n",
       "      <td>0</td>\n",
       "      <td>0</td>\n",
       "      <td>0</td>\n",
       "      <td>...</td>\n",
       "      <td>0</td>\n",
       "      <td>0</td>\n",
       "      <td>0</td>\n",
       "      <td>0</td>\n",
       "      <td>0</td>\n",
       "      <td>0</td>\n",
       "      <td>0</td>\n",
       "      <td>0</td>\n",
       "      <td>0</td>\n",
       "      <td>0</td>\n",
       "    </tr>\n",
       "    <tr>\n",
       "      <th>4433010</th>\n",
       "      <td>0</td>\n",
       "      <td>0</td>\n",
       "      <td>1</td>\n",
       "      <td>0</td>\n",
       "      <td>0</td>\n",
       "      <td>0</td>\n",
       "      <td>0</td>\n",
       "      <td>0</td>\n",
       "      <td>0</td>\n",
       "      <td>0</td>\n",
       "      <td>...</td>\n",
       "      <td>0</td>\n",
       "      <td>0</td>\n",
       "      <td>0</td>\n",
       "      <td>0</td>\n",
       "      <td>0</td>\n",
       "      <td>0</td>\n",
       "      <td>0</td>\n",
       "      <td>0</td>\n",
       "      <td>0</td>\n",
       "      <td>0</td>\n",
       "    </tr>\n",
       "    <tr>\n",
       "      <th>11808453</th>\n",
       "      <td>0</td>\n",
       "      <td>0</td>\n",
       "      <td>1</td>\n",
       "      <td>0</td>\n",
       "      <td>0</td>\n",
       "      <td>0</td>\n",
       "      <td>0</td>\n",
       "      <td>0</td>\n",
       "      <td>0</td>\n",
       "      <td>0</td>\n",
       "      <td>...</td>\n",
       "      <td>0</td>\n",
       "      <td>0</td>\n",
       "      <td>0</td>\n",
       "      <td>0</td>\n",
       "      <td>0</td>\n",
       "      <td>0</td>\n",
       "      <td>0</td>\n",
       "      <td>0</td>\n",
       "      <td>0</td>\n",
       "      <td>0</td>\n",
       "    </tr>\n",
       "    <tr>\n",
       "      <th>2366247</th>\n",
       "      <td>0</td>\n",
       "      <td>0</td>\n",
       "      <td>1</td>\n",
       "      <td>0</td>\n",
       "      <td>0</td>\n",
       "      <td>0</td>\n",
       "      <td>0</td>\n",
       "      <td>0</td>\n",
       "      <td>0</td>\n",
       "      <td>0</td>\n",
       "      <td>...</td>\n",
       "      <td>0</td>\n",
       "      <td>0</td>\n",
       "      <td>0</td>\n",
       "      <td>0</td>\n",
       "      <td>0</td>\n",
       "      <td>0</td>\n",
       "      <td>0</td>\n",
       "      <td>0</td>\n",
       "      <td>0</td>\n",
       "      <td>0</td>\n",
       "    </tr>\n",
       "  </tbody>\n",
       "</table>\n",
       "<p>40864 rows × 24 columns</p>\n",
       "</div>"
      ],
      "text/plain": [
       "          ind_ahor_fin_ult1  ind_aval_fin_ult1  ind_cco_fin_ult1  \\\n",
       "8720895                   0                  0                 1   \n",
       "6901261                   0                  0                 0   \n",
       "6730488                   0                  0                 1   \n",
       "2031368                   0                  0                 0   \n",
       "7611018                   0                  0                 1   \n",
       "...                     ...                ...               ...   \n",
       "9137125                   0                  0                 0   \n",
       "7039864                   0                  0                 1   \n",
       "4433010                   0                  0                 1   \n",
       "11808453                  0                  0                 1   \n",
       "2366247                   0                  0                 1   \n",
       "\n",
       "          ind_cder_fin_ult1  ind_cno_fin_ult1  ind_ctju_fin_ult1  \\\n",
       "8720895                   0                 0                  0   \n",
       "6901261                   0                 1                  0   \n",
       "6730488                   0                 0                  0   \n",
       "2031368                   0                 1                  0   \n",
       "7611018                   0                 1                  0   \n",
       "...                     ...               ...                ...   \n",
       "9137125                   0                 1                  0   \n",
       "7039864                   0                 0                  0   \n",
       "4433010                   0                 0                  0   \n",
       "11808453                  0                 0                  0   \n",
       "2366247                   0                 0                  0   \n",
       "\n",
       "          ind_ctma_fin_ult1  ind_ctop_fin_ult1  ind_ctpp_fin_ult1  \\\n",
       "8720895                   0                  0                  0   \n",
       "6901261                   0                  1                  0   \n",
       "6730488                   0                  0                  0   \n",
       "2031368                   0                  1                  0   \n",
       "7611018                   0                  0                  0   \n",
       "...                     ...                ...                ...   \n",
       "9137125                   0                  0                  1   \n",
       "7039864                   0                  0                  0   \n",
       "4433010                   0                  0                  0   \n",
       "11808453                  0                  0                  0   \n",
       "2366247                   0                  0                  0   \n",
       "\n",
       "          ind_deco_fin_ult1  ...  ind_hip_fin_ult1  ind_plan_fin_ult1  \\\n",
       "8720895                   0  ...                 0                  0   \n",
       "6901261                   0  ...                 0                  1   \n",
       "6730488                   0  ...                 0                  0   \n",
       "2031368                   0  ...                 0                  0   \n",
       "7611018                   0  ...                 0                  0   \n",
       "...                     ...  ...               ...                ...   \n",
       "9137125                   0  ...                 1                  0   \n",
       "7039864                   0  ...                 0                  0   \n",
       "4433010                   0  ...                 0                  0   \n",
       "11808453                  0  ...                 0                  0   \n",
       "2366247                   0  ...                 0                  0   \n",
       "\n",
       "          ind_pres_fin_ult1  ind_reca_fin_ult1  ind_tjcr_fin_ult1  \\\n",
       "8720895                   0                  0                  0   \n",
       "6901261                   0                  0                  0   \n",
       "6730488                   0                  0                  0   \n",
       "2031368                   0                  0                  0   \n",
       "7611018                   0                  1                  0   \n",
       "...                     ...                ...                ...   \n",
       "9137125                   0                  1                  1   \n",
       "7039864                   0                  0                  0   \n",
       "4433010                   0                  0                  0   \n",
       "11808453                  0                  0                  0   \n",
       "2366247                   0                  0                  0   \n",
       "\n",
       "          ind_valo_fin_ult1  ind_viv_fin_ult1  ind_nomina_ult1  \\\n",
       "8720895                   0                 0                0   \n",
       "6901261                   1                 0                1   \n",
       "6730488                   0                 0                0   \n",
       "2031368                   0                 0                0   \n",
       "7611018                   0                 0                1   \n",
       "...                     ...               ...              ...   \n",
       "9137125                   0                 0                1   \n",
       "7039864                   0                 0                0   \n",
       "4433010                   0                 0                0   \n",
       "11808453                  0                 0                0   \n",
       "2366247                   0                 0                0   \n",
       "\n",
       "          ind_nom_pens_ult1  ind_recibo_ult1  \n",
       "8720895                   0                0  \n",
       "6901261                   1                1  \n",
       "6730488                   0                0  \n",
       "2031368                   0                1  \n",
       "7611018                   1                1  \n",
       "...                     ...              ...  \n",
       "9137125                   1                1  \n",
       "7039864                   0                0  \n",
       "4433010                   0                0  \n",
       "11808453                  0                0  \n",
       "2366247                   0                0  \n",
       "\n",
       "[40864 rows x 24 columns]"
      ]
     },
     "execution_count": 79,
     "metadata": {},
     "output_type": "execute_result"
    }
   ],
   "source": [
    "Yvalidation"
   ]
  },
  {
   "cell_type": "code",
   "execution_count": 80,
   "id": "b5d2176f",
   "metadata": {
    "collapsed": false
   },
   "outputs": [
    {
     "data": {
      "text/plain": [
       "array([[0, 0, 1, ..., 0, 0, 0],\n",
       "       [0, 0, 1, ..., 0, 0, 0],\n",
       "       [0, 0, 1, ..., 0, 0, 0],\n",
       "       ...,\n",
       "       [0, 0, 1, ..., 0, 0, 0],\n",
       "       [0, 0, 1, ..., 0, 0, 0],\n",
       "       [0, 0, 1, ..., 0, 0, 0]], dtype=uint8)"
      ]
     },
     "execution_count": 80,
     "metadata": {},
     "output_type": "execute_result"
    }
   ],
   "source": [
    "y_pred"
   ]
  },
  {
   "cell_type": "code",
   "execution_count": 103,
   "id": "471f2575",
   "metadata": {
    "collapsed": false
   },
   "outputs": [
    {
     "name": "stderr",
     "output_type": "stream",
     "text": [
      "/home/lucas/anaconda3/envs/ML/lib/python3.10/site-packages/sklearn/metrics/_classification.py:1334: UndefinedMetricWarning: Precision and F-score are ill-defined and being set to 0.0 in labels with no predicted samples. Use `zero_division` parameter to control this behavior.\n",
      "  _warn_prf(average, modifier, msg_start, len(result))\n",
      "/home/lucas/anaconda3/envs/ML/lib/python3.10/site-packages/sklearn/metrics/_classification.py:1334: UndefinedMetricWarning: Recall and F-score are ill-defined and being set to 0.0 in labels with no true samples. Use `zero_division` parameter to control this behavior.\n",
      "  _warn_prf(average, modifier, msg_start, len(result))\n",
      "/home/lucas/anaconda3/envs/ML/lib/python3.10/site-packages/sklearn/metrics/_classification.py:1334: UndefinedMetricWarning: Precision and F-score are ill-defined and being set to 0.0 in samples with no predicted labels. Use `zero_division` parameter to control this behavior.\n",
      "  _warn_prf(average, modifier, msg_start, len(result))\n",
      "/home/lucas/anaconda3/envs/ML/lib/python3.10/site-packages/sklearn/metrics/_classification.py:1334: UndefinedMetricWarning: Recall and F-score are ill-defined and being set to 0.0 in samples with no true labels. Use `zero_division` parameter to control this behavior.\n",
      "  _warn_prf(average, modifier, msg_start, len(result))\n"
     ]
    },
    {
     "ename": "ValueError",
     "evalue": "multilabel-indicator is not supported",
     "output_type": "error",
     "traceback": [
      "\u001b[0;31m---------------------------------------------------------------------------\u001b[0m",
      "\u001b[0;31mValueError\u001b[0m                                Traceback (most recent call last)",
      "Cell \u001b[0;32mIn [103], line 38\u001b[0m\n\u001b[1;32m     34\u001b[0m     \u001b[38;5;66;03m# print(f'\\n{hamming}\\n')\u001b[39;00m\n\u001b[1;32m     35\u001b[0m     \u001b[38;5;66;03m# print(f'\\n{kappa}\\n')\u001b[39;00m\n\u001b[1;32m     36\u001b[0m     \u001b[38;5;28mprint\u001b[39m(report)\n\u001b[0;32m---> 38\u001b[0m \u001b[43mprint_evaluation\u001b[49m\u001b[43m(\u001b[49m\u001b[43mYvalidation\u001b[49m\u001b[43m,\u001b[49m\u001b[43m \u001b[49m\u001b[43my_pred\u001b[49m\u001b[43m)\u001b[49m\n",
      "Cell \u001b[0;32mIn [103], line 28\u001b[0m, in \u001b[0;36mprint_evaluation\u001b[0;34m(y_true, y_pred, target_names, average)\u001b[0m\n\u001b[1;32m     26\u001b[0m prf \u001b[38;5;241m=\u001b[39m metrics\u001b[38;5;241m.\u001b[39mprecision_recall_fscore_support(y_true, y_pred, average\u001b[38;5;241m=\u001b[39maverage)\n\u001b[1;32m     27\u001b[0m \u001b[38;5;66;03m# hamming = metrics.hamming_loss(y_true, y_pred)\u001b[39;00m\n\u001b[0;32m---> 28\u001b[0m kappa \u001b[38;5;241m=\u001b[39m \u001b[43mmetrics\u001b[49m\u001b[38;5;241;43m.\u001b[39;49m\u001b[43mcohen_kappa_score\u001b[49m\u001b[43m(\u001b[49m\u001b[43my_true\u001b[49m\u001b[43m,\u001b[49m\u001b[43m \u001b[49m\u001b[43my_pred\u001b[49m\u001b[43m)\u001b[49m\n\u001b[1;32m     30\u001b[0m \u001b[38;5;28mprint\u001b[39m()\n\u001b[1;32m     31\u001b[0m \u001b[38;5;28mprint\u001b[39m(\u001b[38;5;124mf\u001b[39m\u001b[38;5;124m\"\u001b[39m\u001b[38;5;124macc \u001b[39m\u001b[38;5;130;01m\\n\u001b[39;00m\u001b[38;5;132;01m{\u001b[39;00macc\u001b[38;5;132;01m}\u001b[39;00m\u001b[38;5;124m\"\u001b[39m)\n",
      "File \u001b[0;32m~/anaconda3/envs/ML/lib/python3.10/site-packages/sklearn/metrics/_classification.py:644\u001b[0m, in \u001b[0;36mcohen_kappa_score\u001b[0;34m(y1, y2, labels, weights, sample_weight)\u001b[0m\n\u001b[1;32m    588\u001b[0m \u001b[38;5;28;01mdef\u001b[39;00m \u001b[38;5;21mcohen_kappa_score\u001b[39m(y1, y2, \u001b[38;5;241m*\u001b[39m, labels\u001b[38;5;241m=\u001b[39m\u001b[38;5;28;01mNone\u001b[39;00m, weights\u001b[38;5;241m=\u001b[39m\u001b[38;5;28;01mNone\u001b[39;00m, sample_weight\u001b[38;5;241m=\u001b[39m\u001b[38;5;28;01mNone\u001b[39;00m):\n\u001b[1;32m    589\u001b[0m     \u001b[38;5;124mr\u001b[39m\u001b[38;5;124;03m\"\"\"Compute Cohen's kappa: a statistic that measures inter-annotator agreement.\u001b[39;00m\n\u001b[1;32m    590\u001b[0m \n\u001b[1;32m    591\u001b[0m \u001b[38;5;124;03m    This function computes Cohen's kappa [1]_, a score that expresses the level\u001b[39;00m\n\u001b[0;32m   (...)\u001b[0m\n\u001b[1;32m    642\u001b[0m \u001b[38;5;124;03m            <https://en.wikipedia.org/wiki/Cohen%27s_kappa>`_.\u001b[39;00m\n\u001b[1;32m    643\u001b[0m \u001b[38;5;124;03m    \"\"\"\u001b[39;00m\n\u001b[0;32m--> 644\u001b[0m     confusion \u001b[38;5;241m=\u001b[39m \u001b[43mconfusion_matrix\u001b[49m\u001b[43m(\u001b[49m\u001b[43my1\u001b[49m\u001b[43m,\u001b[49m\u001b[43m \u001b[49m\u001b[43my2\u001b[49m\u001b[43m,\u001b[49m\u001b[43m \u001b[49m\u001b[43mlabels\u001b[49m\u001b[38;5;241;43m=\u001b[39;49m\u001b[43mlabels\u001b[49m\u001b[43m,\u001b[49m\u001b[43m \u001b[49m\u001b[43msample_weight\u001b[49m\u001b[38;5;241;43m=\u001b[39;49m\u001b[43msample_weight\u001b[49m\u001b[43m)\u001b[49m\n\u001b[1;32m    645\u001b[0m     n_classes \u001b[38;5;241m=\u001b[39m confusion\u001b[38;5;241m.\u001b[39mshape[\u001b[38;5;241m0\u001b[39m]\n\u001b[1;32m    646\u001b[0m     sum0 \u001b[38;5;241m=\u001b[39m np\u001b[38;5;241m.\u001b[39msum(confusion, axis\u001b[38;5;241m=\u001b[39m\u001b[38;5;241m0\u001b[39m)\n",
      "File \u001b[0;32m~/anaconda3/envs/ML/lib/python3.10/site-packages/sklearn/metrics/_classification.py:309\u001b[0m, in \u001b[0;36mconfusion_matrix\u001b[0;34m(y_true, y_pred, labels, sample_weight, normalize)\u001b[0m\n\u001b[1;32m    307\u001b[0m y_type, y_true, y_pred \u001b[38;5;241m=\u001b[39m _check_targets(y_true, y_pred)\n\u001b[1;32m    308\u001b[0m \u001b[38;5;28;01mif\u001b[39;00m y_type \u001b[38;5;129;01mnot\u001b[39;00m \u001b[38;5;129;01min\u001b[39;00m (\u001b[38;5;124m\"\u001b[39m\u001b[38;5;124mbinary\u001b[39m\u001b[38;5;124m\"\u001b[39m, \u001b[38;5;124m\"\u001b[39m\u001b[38;5;124mmulticlass\u001b[39m\u001b[38;5;124m\"\u001b[39m):\n\u001b[0;32m--> 309\u001b[0m     \u001b[38;5;28;01mraise\u001b[39;00m \u001b[38;5;167;01mValueError\u001b[39;00m(\u001b[38;5;124m\"\u001b[39m\u001b[38;5;132;01m%s\u001b[39;00m\u001b[38;5;124m is not supported\u001b[39m\u001b[38;5;124m\"\u001b[39m \u001b[38;5;241m%\u001b[39m y_type)\n\u001b[1;32m    311\u001b[0m \u001b[38;5;28;01mif\u001b[39;00m labels \u001b[38;5;129;01mis\u001b[39;00m \u001b[38;5;28;01mNone\u001b[39;00m:\n\u001b[1;32m    312\u001b[0m     labels \u001b[38;5;241m=\u001b[39m unique_labels(y_true, y_pred)\n",
      "\u001b[0;31mValueError\u001b[0m: multilabel-indicator is not supported"
     ]
    }
   ],
   "source": [
    "from sklearn.metrics import plot_roc_curve\n",
    "\n",
    "from sklearn.metrics import ConfusionMatrixDisplay\n",
    "import sklearn.metrics as metrics\n",
    "\n",
    "\n",
    "def print_evaluation(y_true, y_pred, target_names=None, average='micro'):\n",
    "    report = classification_report(y_true, y_pred)\n",
    "\n",
    "    # ConfusionMatrixDisplay.from_predictions(\n",
    "    #     y_true, predicted_labels, labels=lp_model.classes_\n",
    "    # )\n",
    "    acc = metrics.accuracy_score(y_true, y_pred)\n",
    "\n",
    "    # auc_score = roc_auc_score(y_true, y_pred)  #验证集上的auc值\n",
    "    # svc_disp = plot_roc_curve(rfc, Xvalidation, y_pred)\n",
    "    # plt.show()\n",
    "\n",
    "    # confusion_matrix = metrics.multilabel_confusion_matrix(y_true, y_pred)\n",
    "    #\n",
    "    # precision = metrics.precision_score(y_true, y_pred, average=average)\n",
    "    # metrics.recall_score(y_true, y_pred, average=average)\n",
    "    # metrics.f1_score(y_true, y_pred, average=average)\n",
    "    #\n",
    "    # 统一precision+recall+f1\n",
    "    prf = metrics.precision_recall_fscore_support(y_true, y_pred, average=average)\n",
    "    # hamming = metrics.hamming_loss(y_true, y_pred)\n",
    "    # kappa = metrics.cohen_kappa_score(y_true, y_pred)\n",
    "\n",
    "    print()\n",
    "    print(f\"acc \\n{acc}\")\n",
    "    print(f\"report \\n{report}\")\n",
    "    print(f'precision_recall_fscore_support\\n{prf}\\n')\n",
    "    # print(f'\\n{hamming}\\n')\n",
    "    # print(f'\\n{kappa}\\n')\n",
    "    print(report)\n",
    "\n",
    "print_evaluation(Yvalidation, y_pred)\n"
   ]
  },
  {
   "cell_type": "code",
   "execution_count": null,
   "id": "d574ab95",
   "metadata": {
    "collapsed": false
   },
   "outputs": [],
   "source": [
    "set(Yvalidation) - set(y_pred)"
   ]
  },
  {
   "cell_type": "code",
   "execution_count": 83,
   "id": "d446bedb",
   "metadata": {
    "collapsed": false
   },
   "outputs": [
    {
     "ename": "ValueError",
     "evalue": "Only one class present in y_true. ROC AUC score is not defined in that case.",
     "output_type": "error",
     "traceback": [
      "\u001b[0;31m---------------------------------------------------------------------------\u001b[0m",
      "\u001b[0;31mValueError\u001b[0m                                Traceback (most recent call last)",
      "Cell \u001b[0;32mIn [83], line 1\u001b[0m\n\u001b[0;32m----> 1\u001b[0m auc_score \u001b[38;5;241m=\u001b[39m \u001b[43mmetrics\u001b[49m\u001b[38;5;241;43m.\u001b[39;49m\u001b[43mroc_auc_score\u001b[49m\u001b[43m(\u001b[49m\u001b[43mYvalidation\u001b[49m\u001b[43m,\u001b[49m\u001b[43m \u001b[49m\u001b[43my_pred\u001b[49m\u001b[43m)\u001b[49m\n",
      "File \u001b[0;32m~/anaconda3/envs/ML/lib/python3.10/site-packages/sklearn/metrics/_ranking.py:579\u001b[0m, in \u001b[0;36mroc_auc_score\u001b[0;34m(y_true, y_score, average, sample_weight, max_fpr, multi_class, labels)\u001b[0m\n\u001b[1;32m    571\u001b[0m     \u001b[38;5;28;01mreturn\u001b[39;00m _average_binary_score(\n\u001b[1;32m    572\u001b[0m         partial(_binary_roc_auc_score, max_fpr\u001b[38;5;241m=\u001b[39mmax_fpr),\n\u001b[1;32m    573\u001b[0m         y_true,\n\u001b[0;32m   (...)\u001b[0m\n\u001b[1;32m    576\u001b[0m         sample_weight\u001b[38;5;241m=\u001b[39msample_weight,\n\u001b[1;32m    577\u001b[0m     )\n\u001b[1;32m    578\u001b[0m \u001b[38;5;28;01melse\u001b[39;00m:  \u001b[38;5;66;03m# multilabel-indicator\u001b[39;00m\n\u001b[0;32m--> 579\u001b[0m     \u001b[38;5;28;01mreturn\u001b[39;00m \u001b[43m_average_binary_score\u001b[49m\u001b[43m(\u001b[49m\n\u001b[1;32m    580\u001b[0m \u001b[43m        \u001b[49m\u001b[43mpartial\u001b[49m\u001b[43m(\u001b[49m\u001b[43m_binary_roc_auc_score\u001b[49m\u001b[43m,\u001b[49m\u001b[43m \u001b[49m\u001b[43mmax_fpr\u001b[49m\u001b[38;5;241;43m=\u001b[39;49m\u001b[43mmax_fpr\u001b[49m\u001b[43m)\u001b[49m\u001b[43m,\u001b[49m\n\u001b[1;32m    581\u001b[0m \u001b[43m        \u001b[49m\u001b[43my_true\u001b[49m\u001b[43m,\u001b[49m\n\u001b[1;32m    582\u001b[0m \u001b[43m        \u001b[49m\u001b[43my_score\u001b[49m\u001b[43m,\u001b[49m\n\u001b[1;32m    583\u001b[0m \u001b[43m        \u001b[49m\u001b[43maverage\u001b[49m\u001b[43m,\u001b[49m\n\u001b[1;32m    584\u001b[0m \u001b[43m        \u001b[49m\u001b[43msample_weight\u001b[49m\u001b[38;5;241;43m=\u001b[39;49m\u001b[43msample_weight\u001b[49m\u001b[43m,\u001b[49m\n\u001b[1;32m    585\u001b[0m \u001b[43m    \u001b[49m\u001b[43m)\u001b[49m\n",
      "File \u001b[0;32m~/anaconda3/envs/ML/lib/python3.10/site-packages/sklearn/metrics/_base.py:118\u001b[0m, in \u001b[0;36m_average_binary_score\u001b[0;34m(binary_metric, y_true, y_score, average, sample_weight)\u001b[0m\n\u001b[1;32m    116\u001b[0m     y_true_c \u001b[38;5;241m=\u001b[39m y_true\u001b[38;5;241m.\u001b[39mtake([c], axis\u001b[38;5;241m=\u001b[39mnot_average_axis)\u001b[38;5;241m.\u001b[39mravel()\n\u001b[1;32m    117\u001b[0m     y_score_c \u001b[38;5;241m=\u001b[39m y_score\u001b[38;5;241m.\u001b[39mtake([c], axis\u001b[38;5;241m=\u001b[39mnot_average_axis)\u001b[38;5;241m.\u001b[39mravel()\n\u001b[0;32m--> 118\u001b[0m     score[c] \u001b[38;5;241m=\u001b[39m \u001b[43mbinary_metric\u001b[49m\u001b[43m(\u001b[49m\u001b[43my_true_c\u001b[49m\u001b[43m,\u001b[49m\u001b[43m \u001b[49m\u001b[43my_score_c\u001b[49m\u001b[43m,\u001b[49m\u001b[43m \u001b[49m\u001b[43msample_weight\u001b[49m\u001b[38;5;241;43m=\u001b[39;49m\u001b[43mscore_weight\u001b[49m\u001b[43m)\u001b[49m\n\u001b[1;32m    120\u001b[0m \u001b[38;5;66;03m# Average the results\u001b[39;00m\n\u001b[1;32m    121\u001b[0m \u001b[38;5;28;01mif\u001b[39;00m average \u001b[38;5;129;01mis\u001b[39;00m \u001b[38;5;129;01mnot\u001b[39;00m \u001b[38;5;28;01mNone\u001b[39;00m:\n",
      "File \u001b[0;32m~/anaconda3/envs/ML/lib/python3.10/site-packages/sklearn/metrics/_ranking.py:339\u001b[0m, in \u001b[0;36m_binary_roc_auc_score\u001b[0;34m(y_true, y_score, sample_weight, max_fpr)\u001b[0m\n\u001b[1;32m    337\u001b[0m \u001b[38;5;124;03m\"\"\"Binary roc auc score.\"\"\"\u001b[39;00m\n\u001b[1;32m    338\u001b[0m \u001b[38;5;28;01mif\u001b[39;00m \u001b[38;5;28mlen\u001b[39m(np\u001b[38;5;241m.\u001b[39munique(y_true)) \u001b[38;5;241m!=\u001b[39m \u001b[38;5;241m2\u001b[39m:\n\u001b[0;32m--> 339\u001b[0m     \u001b[38;5;28;01mraise\u001b[39;00m \u001b[38;5;167;01mValueError\u001b[39;00m(\n\u001b[1;32m    340\u001b[0m         \u001b[38;5;124m\"\u001b[39m\u001b[38;5;124mOnly one class present in y_true. ROC AUC score \u001b[39m\u001b[38;5;124m\"\u001b[39m\n\u001b[1;32m    341\u001b[0m         \u001b[38;5;124m\"\u001b[39m\u001b[38;5;124mis not defined in that case.\u001b[39m\u001b[38;5;124m\"\u001b[39m\n\u001b[1;32m    342\u001b[0m     )\n\u001b[1;32m    344\u001b[0m fpr, tpr, _ \u001b[38;5;241m=\u001b[39m roc_curve(y_true, y_score, sample_weight\u001b[38;5;241m=\u001b[39msample_weight)\n\u001b[1;32m    345\u001b[0m \u001b[38;5;28;01mif\u001b[39;00m max_fpr \u001b[38;5;129;01mis\u001b[39;00m \u001b[38;5;28;01mNone\u001b[39;00m \u001b[38;5;129;01mor\u001b[39;00m max_fpr \u001b[38;5;241m==\u001b[39m \u001b[38;5;241m1\u001b[39m:\n",
      "\u001b[0;31mValueError\u001b[0m: Only one class present in y_true. ROC AUC score is not defined in that case."
     ]
    }
   ],
   "source": [
    "auc_score = metrics.roc_auc_score(Yvalidation, y_pred)  #验证集上的auc值\n"
   ]
  },
  {
   "cell_type": "code",
   "execution_count": null,
   "id": "1929ec4d",
   "metadata": {
    "collapsed": false
   },
   "outputs": [],
   "source": [
    "# GBDT\n",
    "GradientBoostingClassifier(ccp_alpha=0.0, criterion='friedman_mse', init=None,\n",
    "                           learning_rate=0.1, loss='deviance', max_depth=3,\n",
    "                           max_features=None, max_leaf_nodes=None,\n",
    "                           min_impurity_decrease=0.0, min_impurity_split=None,\n",
    "                           min_samples_leaf=1, min_samples_split=2,\n",
    "                           min_weight_fraction_leaf=0.0, n_estimators=100,\n",
    "                           n_iter_no_change=None, presort='deprecated',\n",
    "                           random_state=None, subsample=1.0, tol=0.0001,\n",
    "                           validation_fraction=0.1, verbose=0,\n",
    "                           warm_start=False)"
   ]
  }
 ],
 "metadata": {
  "kernelspec": {
   "display_name": "Python 3 (ipykernel)",
   "language": "python",
   "name": "python3"
  },
  "language_info": {
   "codemirror_mode": {
    "name": "ipython",
    "version": 3
   },
   "file_extension": ".py",
   "mimetype": "text/x-python",
   "name": "python",
   "nbconvert_exporter": "python",
   "pygments_lexer": "ipython3",
   "version": "3.10.8"
  },
  "widgets": {
   "application/vnd.jupyter.widget-state+json": {
    "state": {},
    "version_major": 2,
    "version_minor": 0
   }
  }
 },
 "nbformat": 4,
 "nbformat_minor": 5
}
